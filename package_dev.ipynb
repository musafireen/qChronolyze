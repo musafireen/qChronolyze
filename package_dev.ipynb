{
 "cells": [
  {
   "cell_type": "code",
   "execution_count": 2,
   "metadata": {},
   "outputs": [],
   "source": [
    "from qChronolyze import rtTrns"
   ]
  },
  {
   "cell_type": "code",
   "execution_count": 1,
   "metadata": {},
   "outputs": [],
   "source": [
    "qL2 = [\n",
    "    \n",
    "]"
   ]
  },
  {
   "cell_type": "code",
   "execution_count": null,
   "metadata": {},
   "outputs": [
    {
     "data": {
      "text/html": [
       "<style type=\"text/css\">\n",
       "#T_ad34f_row0_col0, #T_ad34f_row0_col1, #T_ad34f_row0_col2, #T_ad34f_row0_col3, #T_ad34f_row0_col4, #T_ad34f_row0_col5, #T_ad34f_row0_col6, #T_ad34f_row1_col0, #T_ad34f_row1_col1, #T_ad34f_row1_col2, #T_ad34f_row1_col3, #T_ad34f_row1_col4, #T_ad34f_row1_col5, #T_ad34f_row1_col6, #T_ad34f_row2_col0, #T_ad34f_row2_col1, #T_ad34f_row2_col2, #T_ad34f_row2_col3, #T_ad34f_row2_col4, #T_ad34f_row2_col5, #T_ad34f_row2_col6, #T_ad34f_row3_col0, #T_ad34f_row3_col1, #T_ad34f_row3_col2, #T_ad34f_row3_col3, #T_ad34f_row3_col4, #T_ad34f_row3_col5, #T_ad34f_row3_col6, #T_ad34f_row4_col0, #T_ad34f_row4_col1, #T_ad34f_row4_col2, #T_ad34f_row4_col3, #T_ad34f_row4_col4, #T_ad34f_row4_col5, #T_ad34f_row4_col6 {\n",
       "  background-color: rgb(100,70,20);\n",
       "  foreground-color: black;\n",
       "  color: black;\n",
       "  opacity: 1;\n",
       "}\n",
       "</style>\n",
       "<table id=\"T_ad34f\">\n",
       "  <thead>\n",
       "    <tr>\n",
       "      <th class=\"blank level0\" >&nbsp;</th>\n",
       "      <th id=\"T_ad34f_level0_col0\" class=\"col_heading level0 col0\" >words_before</th>\n",
       "      <th id=\"T_ad34f_level0_col1\" class=\"col_heading level0 col1\" >surah_ayah</th>\n",
       "      <th id=\"T_ad34f_level0_col2\" class=\"col_heading level0 col2\" >positions</th>\n",
       "      <th id=\"T_ad34f_level0_col3\" class=\"col_heading level0 col3\" >strings</th>\n",
       "      <th id=\"T_ad34f_level0_col4\" class=\"col_heading level0 col4\" >meanings</th>\n",
       "      <th id=\"T_ad34f_level0_col5\" class=\"col_heading level0 col5\" >ayah_link</th>\n",
       "      <th id=\"T_ad34f_level0_col6\" class=\"col_heading level0 col6\" >query</th>\n",
       "    </tr>\n",
       "  </thead>\n",
       "  <tbody>\n",
       "    <tr>\n",
       "      <th id=\"T_ad34f_level0_row0\" class=\"row_heading level0 row0\" >0</th>\n",
       "      <td id=\"T_ad34f_row0_col0\" class=\"data row0 col0\" >19132</td>\n",
       "      <td id=\"T_ad34f_row0_col1\" class=\"data row0 col1\" >10:93</td>\n",
       "      <td id=\"T_ad34f_row0_col2\" class=\"data row0 col2\" >[10, 11]</td>\n",
       "      <td id=\"T_ad34f_row0_col3\" class=\"data row0 col3\" >['فَمَا', 'ٱخْتَلَفُوا۟']</td>\n",
       "      <td id=\"T_ad34f_row0_col4\" class=\"data row0 col4\" >['and not', 'they differ']</td>\n",
       "      <td id=\"T_ad34f_row0_col5\" class=\"data row0 col5\" ><a style='background-color:rgb(220,220,250);font-size:18px;color:rgb(0,0,150);' href='https://quran.com/10:93/tafsirs/en-tafisr-ibn-kathir'>وَرَزَقْنَـٰهُم مِّنَ ٱلطَّيِّبَـٰتِ <b><i>فَمَا</i></b> <b><i>ٱخْتَلَفُوا۟</i></b> حَتَّىٰ جَآءَهُمُ ٱلْعِلْمُ إِنَّ رَبَّكَ</a></td>\n",
       "      <td id=\"T_ad34f_row0_col6\" class=\"data row0 col6\" >مَا <1>Khlf viii</td>\n",
       "    </tr>\n",
       "    <tr>\n",
       "      <th id=\"T_ad34f_level0_row1\" class=\"row_heading level0 row1\" >1</th>\n",
       "      <td id=\"T_ad34f_row1_col0\" class=\"data row1 col0\" >31888</td>\n",
       "      <td id=\"T_ad34f_row1_col1\" class=\"data row1 col1\" >42:10</td>\n",
       "      <td id=\"T_ad34f_row1_col2\" class=\"data row1 col2\" >[1, 2]</td>\n",
       "      <td id=\"T_ad34f_row1_col3\" class=\"data row1 col3\" >['وَمَا', 'ٱخْتَلَفْتُمْ']</td>\n",
       "      <td id=\"T_ad34f_row1_col4\" class=\"data row1 col4\" >['And whatever', 'you differ']</td>\n",
       "      <td id=\"T_ad34f_row1_col5\" class=\"data row1 col5\" ><a style='background-color:rgb(220,220,250);font-size:18px;color:rgb(0,0,150);' href='https://quran.com/42:10/tafsirs/en-tafisr-ibn-kathir'><b><i>وَمَا</i></b> <b><i>ٱخْتَلَفْتُمْ</i></b> فِيهِ مِن شَىْءٍ فَحُكْمُهُۥٓ إِلَى</a></td>\n",
       "      <td id=\"T_ad34f_row1_col6\" class=\"data row1 col6\" >مَا <1>Khlf viii</td>\n",
       "    </tr>\n",
       "    <tr>\n",
       "      <th id=\"T_ad34f_level0_row2\" class=\"row_heading level0 row2\" >2</th>\n",
       "      <td id=\"T_ad34f_row2_col0\" class=\"data row2 col0\" >33898</td>\n",
       "      <td id=\"T_ad34f_row2_col1\" class=\"data row2 col1\" >45:17</td>\n",
       "      <td id=\"T_ad34f_row2_col2\" class=\"data row2 col2\" >[5, 6]</td>\n",
       "      <td id=\"T_ad34f_row2_col3\" class=\"data row2 col3\" >['فَمَا', 'ٱخْتَلَفُوٓا۟']</td>\n",
       "      <td id=\"T_ad34f_row2_col4\" class=\"data row2 col4\" >['And not', 'they differed']</td>\n",
       "      <td id=\"T_ad34f_row2_col5\" class=\"data row2 col5\" ><a style='background-color:rgb(220,220,250);font-size:18px;color:rgb(0,0,150);' href='https://quran.com/45:17/tafsirs/en-tafisr-ibn-kathir'>بَيِّنَـٰتٍ مِّنَ ٱلْأَمْرِ <b><i>فَمَا</i></b> <b><i>ٱخْتَلَفُوٓا۟</i></b> إِلَّا مِنۢ بَعْدِ مَا جَآءَهُمُ</a></td>\n",
       "      <td id=\"T_ad34f_row2_col6\" class=\"data row2 col6\" >مَا <1>Khlf viii</td>\n",
       "    </tr>\n",
       "    <tr>\n",
       "      <th id=\"T_ad34f_level0_row3\" class=\"row_heading level0 row3\" >3</th>\n",
       "      <td id=\"T_ad34f_row3_col0\" class=\"data row3 col0\" >51648</td>\n",
       "      <td id=\"T_ad34f_row3_col1\" class=\"data row3 col1\" >2:213</td>\n",
       "      <td id=\"T_ad34f_row3_col2\" class=\"data row3 col2\" >[20, 21, 37, 38]</td>\n",
       "      <td id=\"T_ad34f_row3_col3\" class=\"data row3 col3\" >['وَمَا', 'ٱخْتَلَفَ', 'لِمَا', 'ٱخْتَلَفُوا۟']</td>\n",
       "      <td id=\"T_ad34f_row3_col4\" class=\"data row3 col4\" >['And (did) not', 'differ[ed]', 'regarding what', 'they differed']</td>\n",
       "      <td id=\"T_ad34f_row3_col5\" class=\"data row3 col5\" ><a style='background-color:rgb(220,220,250);font-size:18px;color:rgb(0,0,150);' href='https://quran.com/2:213/tafsirs/en-tafisr-ibn-kathir'>فِيمَا ٱخْتَلَفُوا۟ فِيهِ <b><i>وَمَا</i></b> <b><i>ٱخْتَلَفَ</i></b> فِيهِ إِلَّا ٱلَّذِينَ أُوتُوهُ مِنۢ بَعْدِ مَا جَآءَتْهُمُ ٱلْبَيِّنَـٰتُ بَغْيًۢا بَيْنَهُمْ فَهَدَى ٱللَّهُ ٱلَّذِينَ ءَامَنُوا۟ <b><i>لِمَا</i></b> <b><i>ٱخْتَلَفُوا۟</i></b> فِيهِ مِنَ ٱلْحَقِّ بِإِذْنِهِۦ وَٱللَّهُ</a></td>\n",
       "      <td id=\"T_ad34f_row3_col6\" class=\"data row3 col6\" >مَا <1>Khlf viii</td>\n",
       "    </tr>\n",
       "    <tr>\n",
       "      <th id=\"T_ad34f_level0_row4\" class=\"row_heading level0 row4\" >4</th>\n",
       "      <td id=\"T_ad34f_row4_col0\" class=\"data row4 col0\" >55189</td>\n",
       "      <td id=\"T_ad34f_row4_col1\" class=\"data row4 col1\" >3:19</td>\n",
       "      <td id=\"T_ad34f_row4_col2\" class=\"data row4 col2\" >[6, 7]</td>\n",
       "      <td id=\"T_ad34f_row4_col3\" class=\"data row4 col3\" >['وَمَا', 'ٱخْتَلَفَ']</td>\n",
       "      <td id=\"T_ad34f_row4_col4\" class=\"data row4 col4\" >['And not', 'differed']</td>\n",
       "      <td id=\"T_ad34f_row4_col5\" class=\"data row4 col5\" ><a style='background-color:rgb(220,220,250);font-size:18px;color:rgb(0,0,150);' href='https://quran.com/3:19/tafsirs/en-tafisr-ibn-kathir'>عِندَ ٱللَّهِ ٱلْإِسْلَـٰمُ <b><i>وَمَا</i></b> <b><i>ٱخْتَلَفَ</i></b> ٱلَّذِينَ أُوتُوا۟ ٱلْكِتَـٰبَ إِلَّا مِنۢ</a></td>\n",
       "      <td id=\"T_ad34f_row4_col6\" class=\"data row4 col6\" >مَا <1>Khlf viii</td>\n",
       "    </tr>\n",
       "  </tbody>\n",
       "</table>\n"
      ],
      "text/plain": [
       "<IPython.core.display.HTML object>"
      ]
     },
     "metadata": {},
     "output_type": "display_data"
    }
   ],
   "source": [
    "from qChronolyze import querize\n",
    "\n",
    "querize(\n",
    "  qL2,\n",
    "  pres='table'\n",
    ")"
   ]
  }
 ],
 "metadata": {
  "language_info": {
   "name": "python"
  }
 },
 "nbformat": 4,
 "nbformat_minor": 2
}
