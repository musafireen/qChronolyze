{
 "cells": [
  {
   "cell_type": "markdown",
   "metadata": {},
   "source": [
    "# chrono"
   ]
  },
  {
   "cell_type": "code",
   "execution_count": null,
   "metadata": {},
   "outputs": [],
   "source": [
    "from qChronolyze import sortchron\n",
    "\n",
    "sortchron(\n",
    "    \n",
    "    ### enter pair of word/root and meaning filtering regex as key-value pair dictionary\n",
    "\n",
    "    [\n",
    "        # *shirk\n",
    "        # {'nEs Amn g$w Twf': '   '},\n",
    "        # {'nEs Amn g$w smw mwh vbt qdm': '      '},\n",
    "        # {'Amn rAy Hzb wEd': '   '},\n",
    "\n",
    "        # *salah,\n",
    "\n",
    "        {'': 'Isa'},\n",
    "        # {'qrb': ''},\n",
    "        \n",
    "        # {'zlf lyl Slw': '  '},\n",
    "\n",
    "        # {\n",
    "        #     'Aibon/wld maroyam': '/ ',\n",
    "        #     'EiysaY': '',\n",
    "        # },\n",
    "        # {\n",
    "        #     'Aibon maroyam': ' ',\n",
    "        #     'EiysaY': '',\n",
    "        # },\n",
    "        # {'rfE smk': ' '},\n",
    "        # {'0rfE smk': ' '},\n",
    "        # {'0smk rfE': ' '},\n",
    "        # {'smk': ''},\n",
    "        # {'rfE': ''},\n",
    "        # {'smw sbb': ' '},\n",
    "        # {'smw jnn': ' jinn'},\n",
    "        # {'smw nf*': ' '},\n",
    "        # {'smw $Tn': ' '},\n",
    "        # {'jnn $Tn': ' '},\n",
    "        # {'smw sbb qTE': '  '},\n",
    "        # {'smw qTE': ' '},\n",
    "    ],\n",
    "\n",
    "    ### tafsir reference language\n",
    "    # 'Arabic',\n",
    "    # /\n",
    "    '1',\n",
    "\n",
    "    ### presentation style\n",
    "    pres='table',\n",
    "\n",
    "    )"
   ]
  },
  {
   "cell_type": "code",
   "execution_count": null,
   "metadata": {},
   "outputs": [
    {
     "data": {
      "text/plain": [
       "2"
      ]
     },
     "metadata": {},
     "output_type": "display_data"
    }
   ],
   "source": [
    "lis1 = ['ab','cd','e']\n",
    "max([len(s) for s in lis1])"
   ]
  },
  {
   "cell_type": "code",
   "execution_count": null,
   "metadata": {},
   "outputs": [
    {
     "data": {
      "text/plain": [
       "'a'"
      ]
     },
     "metadata": {},
     "output_type": "display_data"
    }
   ],
   "source": [
    "strn = 'abc'\n",
    "strn[-len(strn)]"
   ]
  },
  {
   "cell_type": "code",
   "execution_count": null,
   "metadata": {},
   "outputs": [
    {
     "name": "stdout",
     "output_type": "stream",
     "text": [
      "fT?raY?\n"
     ]
    }
   ],
   "source": [
    "# import os\n",
    "# 'ftr.tsv' in os.listdir(\"data/roots\")\n",
    "import re\n",
    "flnm = re.sub('([A-Z])','\\\\1?', rt)\n",
    "print(flnm)"
   ]
  },
  {
   "cell_type": "code",
   "execution_count": null,
   "metadata": {},
   "outputs": [
    {
     "name": "stdout",
     "output_type": "stream",
     "text": [
      "surah:ayah\tposition\tword\tmeaning\tayah_link\n",
      "6:79\t5\tfaṭara\tcreated\t إِنِّي وَجَّهْتُ وَجْهِيَ لِلَّذِي فَطَرَ السَّمَاوَاتِ وَالْأَرْضَ حَنِيفًا\n",
      "11:51\t11\tfaṭaranī\tcreated me\t يَا قَوْمِ لَا أَسْأَلُكُمْ عَلَيْهِ أَجْرًا إِنْ أَجْرِيَ إِلَّا عَلَى الَّذِي فَطَرَنِي\n",
      "17:51\t12\tfaṭarakum\tcreated you\t فَسَيَقُولُونَ مَنْ يُعِيدُنَا قُلِ الَّذِي فَطَرَكُمْ أَوَّلَ مَرَّةٍ\n",
      "19:90\t3\tyatafaṭṭarna\tget torn\t تَكَادُ السَّمَاوَاتُ يَتَفَطَّرْنَ مِنْهُ وَتَنْشَقُّ الْأَرْضُ\n",
      "20:72\t10\tfaṭaranā\tcreated us\t قَالُوا لَنْ نُؤْثِرَكَ عَلَىٰ مَا جَاءَنَا مِنَ الْبَيِّنَاتِ وَالَّذِي فَطَرَنَا\n",
      "21:56\t8\tfaṭarahunna\tcreated them\t قَالَ بَلْ رَبُّكُمْ رَبُّ السَّمَاوَاتِ وَالْأَرْضِ الَّذِي فَطَرَهُنَّ\n",
      "30:30\t8\tfaṭara\tHe has created\t فِطْرَتَ اللَّهِ الَّتِي فَطَرَ النَّاسَ عَلَيْهَا لَا تَبْدِيلَ لِخَلْقِ اللَّهِ\n",
      "36:22\t6\tfaṭaranī\tcreated me\t وَمَا لِيَ لَا أَعْبُدُ الَّذِي فَطَرَنِي وَإِلَيْهِ تُرْجَعُونَ\n",
      "42:5\t3\tyatafaṭṭarna\tbreak up\t تَكَادُ السَّمَاوَاتُ يَتَفَطَّرْنَ مِنْ فَوْقِهِنَّ\n",
      "43:27\t3\tfaṭaranī\tcreated me\t إِلَّا الَّذِي فَطَرَنِي فَإِنَّهُ سَيَهْدِينِ\n",
      "82:1\t3\tinfaṭarat\t(is) cleft asunder\t إِذَا السَّمَاءُ انْفَطَرَتْ\n",
      "30:30\t5\tfiṭ'rata\tNature\t فِطْرَتَ اللَّهِ الَّتِي فَطَرَ النَّاسَ عَلَيْهَا لَا تَبْدِيلَ لِخَلْقِ اللَّهِ\n",
      "67:3\t18\tfuṭūrin\tflaw\t فَارْجِعِ الْبَصَرَ هَلْ تَرَىٰ مِنْ فُطُورٍ\n",
      "6:14\t6\tfāṭiri\tCreator\t قُلْ أَغَيْرَ اللَّهِ أَتَّخِذُ وَلِيًّا فَاطِرِ السَّمَاوَاتِ وَالْأَرْضِ\n",
      "12:101\t10\tfāṭira\tCreator\t فَاطِرَ السَّمَاوَاتِ وَالْأَرْضِ أَنْتَ وَلِيِّي فِي الدُّنْيَا وَالْآخِرَةِ\n",
      "14:10\t6\tfāṭiri\t(the) Creator\t قَالَتْ رُسُلُهُمْ أَفِي اللَّهِ شَكٌّ فَاطِرِ السَّمَاوَاتِ وَالْأَرْضِ\n",
      "35:1\t3\tfāṭiri\tOriginator\t الْحَمْدُ لِلَّهِ فَاطِرِ السَّمَاوَاتِ وَالْأَرْضِ جَاعِلِ الْمَلَائِكَةِ رُسُلًا\n",
      "39:46\t3\tfāṭira\tCreator\t قُلِ اللَّهُمَّ فَاطِرَ السَّمَاوَاتِ وَالْأَرْضِ عَالِمَ الْغَيْبِ وَالشَّهَادَةِ\n",
      "42:11\t1\tfāṭiru\t(The) Creator\t فَاطِرُ السَّمَاوَاتِ وَالْأَرْضِ جَعَلَ لَكُمْ مِنْ أَنْفُسِكُمْ أَزْوَاجًا\n",
      "73:18\t2\tmunfaṭirun\t(will) break apart\t السَّمَاءُ مُنْفَطِرٌ بِهِ كَانَ وَعْدُهُ مَفْعُولًا\n",
      "\n"
     ]
    }
   ],
   "source": [
    "with open('data/roots/fTr.tsv') as f:\n",
    "    strn = f.read()\n",
    "\n",
    "print(strn)"
   ]
  },
  {
   "cell_type": "code",
   "execution_count": null,
   "metadata": {},
   "outputs": [
    {
     "data": {
      "text/plain": [
       "{'b', 'c'}"
      ]
     },
     "metadata": {},
     "output_type": "display_data"
    }
   ],
   "source": [
    "set1 = {\"a\",\"b\",\"c\"}\n",
    "\n",
    "set1.remove(\"a\")\n",
    "\n",
    "set1"
   ]
  },
  {
   "cell_type": "code",
   "execution_count": null,
   "metadata": {},
   "outputs": [
    {
     "data": {
      "text/plain": [
       "['a (b)', 'c (d)']"
      ]
     },
     "metadata": {},
     "output_type": "display_data"
    }
   ],
   "source": [
    "[ f'{k} ({v})' for k, v in {\"a\":\"b\",\"c\":\"d\"}.items() ]\n",
    "# [ f'{k}' for k in {\"a\":\"b\",\"c\":\"d\"} ]"
   ]
  },
  {
   "cell_type": "code",
   "execution_count": null,
   "metadata": {},
   "outputs": [
    {
     "data": {
      "text/plain": [
       "[{'a': 'b', 'c': 'd'}, {'a': 'e', 'c': 'f'}]"
      ]
     },
     "metadata": {},
     "output_type": "display_data"
    }
   ],
   "source": [
    "import pandas as pd\n",
    "\n",
    "df = pd.DataFrame([\n",
    "    {\"a\":\"b\",\"c\":\"d\"},\n",
    "    {\"a\":\"e\",\"c\":\"f\"}\n",
    "])\n",
    "\n",
    "df.to_dict(orient='records')\n",
    "# df"
   ]
  },
  {
   "cell_type": "code",
   "execution_count": 1,
   "metadata": {},
   "outputs": [],
   "source": [
    "with open('data/ref/Qrsd.md') as f:\n",
    "    txt = f.read()"
   ]
  },
  {
   "cell_type": "code",
   "execution_count": 13,
   "metadata": {},
   "outputs": [
    {
     "data": {
      "text/plain": [
       "'ابن'"
      ]
     },
     "execution_count": 13,
     "metadata": {},
     "output_type": "execute_result"
    }
   ],
   "source": [
    "from qChronolyze import remVwls\n",
    "remVwls('اِبْن')"
   ]
  },
  {
   "cell_type": "code",
   "execution_count": 12,
   "metadata": {},
   "outputs": [
    {
     "data": {
      "text/plain": [
       "['### 26:204\\n\\nأفبعذابنا يستعجلون\\n\\n### ',\n",
       " '### 6:71\\n\\nقل أندعوا۟ من دون ٱلله ما لا ينفعنا ولا يضرنا ونرد على أعقابنا بعد إذ هدىنا ٱلله كٱلذى ٱستهوته ٱلشيـطين فى ٱلأرض حيران لهۥ أصحـب يدعونهۥ إلى ٱلهدى ٱئتنا ۗ قل إن هدى ٱلله هو ٱلهدى ۖ وأمرنا لنسلم لرب ٱلعـلمين\\n\\n### ',\n",
       " '### 37:176\\n\\nأفبعذابنا يستعجلون\\n\\n### ',\n",
       " '### 64:9\\n\\nيوم يجمعكم ليوم ٱلجمع ۖ ذلك يوم ٱلتغابن ۗ ومن يؤمنۢ بٱلله ويعمل صـلحا يكفر عنه سيـاتهۦ ويدخله جنـت تجرى من تحتها ٱلأنهـر خـلدين فيها أبدا ۚ ذلك ٱلفوز ٱلعظيم\\n\\n### ']"
      ]
     },
     "execution_count": 12,
     "metadata": {},
     "output_type": "execute_result"
    }
   ],
   "source": [
    "from qChronolyze import remVwls\n",
    "import re\n",
    "re.findall(\n",
    "    \"### \"\n",
    "    +\n",
    "    \"[^#]*?\"\n",
    "    +\n",
    "    remVwls(\"اِبْن\")\n",
    "    +\n",
    "    \"[^#]*?\"\n",
    "    +\n",
    "    \"### \"\n",
    "    ,\n",
    "    remVwls(txt),\n",
    "    re.DOTALL\n",
    ")"
   ]
  }
 ],
 "metadata": {
  "language_info": {
   "name": "python"
  }
 },
 "nbformat": 4,
 "nbformat_minor": 2
}
