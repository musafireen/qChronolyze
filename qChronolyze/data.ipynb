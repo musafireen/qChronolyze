{
 "cells": [
  {
   "cell_type": "markdown",
   "metadata": {},
   "source": [
    "# csv"
   ]
  },
  {
   "cell_type": "markdown",
   "metadata": {},
   "source": [
    "# regex"
   ]
  },
  {
   "cell_type": "code",
   "execution_count": null,
   "metadata": {},
   "outputs": [
    {
     "data": {
      "text/plain": [
       "['[', ']']"
      ]
     },
     "execution_count": 30,
     "metadata": {},
     "output_type": "execute_result"
    }
   ],
   "source": [
    "list('[]')"
   ]
  },
  {
   "cell_type": "code",
   "execution_count": null,
   "metadata": {},
   "outputs": [
    {
     "name": "stdout",
     "output_type": "stream",
     "text": [
      "{'surah': '96', 'exception': []}\n",
      "# 96\n",
      "1\n",
      "The Clot\n",
      "\n",
      "{'surah': '68', 'exception': [{'ayah_range': '17-33', 'before': '2:1'}, {'ayah_range': '48-50', 'before': '2:1'}]}\n",
      "{'ayah_range': '17-33', 'before': '2:1'}\n",
      "{'ayah_range': '48-50', 'before': '2:1'}\n",
      "# 68\n",
      "2\n",
      "The Pen\n",
      "exceptions: ayah_range: 17-33, before: 2:1, \n",
      "exceptions: ayah_range: 48-50, before: 2:1, \n",
      "\n",
      "{'surah': '73', 'exception': [{'ayah_range': '10-11', 'before': '2:1'}, {'ayah_range': '20', 'before': '2:1'}]}\n",
      "{'ayah_range': '10-11', 'before': '2:1'}\n",
      "{'ayah_range': '20', 'before': '2:1'}\n",
      "# 73\n",
      "3\n",
      "The Enshrouded One\n",
      "exceptions: ayah_range: 10-11, before: 2:1, \n",
      "exceptions: ayah_range: 20, before: 2:1, \n",
      "\n",
      "{'surah': '74', 'exception': []}\n",
      "# 74\n",
      "4\n",
      "The Cloaked One\n",
      "\n",
      "{'surah': '1', 'exception': []}\n",
      "# 1\n",
      "5\n",
      "The Opening\n",
      "\n",
      "{'surah': '111', 'exception': []}\n",
      "# 111\n",
      "6\n",
      "The Palm Fibre\n",
      "\n",
      "{'surah': '81', 'exception': []}\n",
      "# 81\n",
      "7\n",
      "The Overthrowing\n",
      "\n",
      "{'surah': '87', 'exception': []}\n",
      "# 87\n",
      "8\n",
      "The Most High\n",
      "\n",
      "{'surah': '92', 'exception': []}\n",
      "# 92\n",
      "9\n",
      "The Night\n",
      "\n",
      "{'surah': '89', 'exception': []}\n",
      "# 89\n",
      "10\n",
      "The Dawn\n",
      "\n",
      "{'surah': '93', 'exception': []}\n",
      "# 93\n",
      "11\n",
      "The Morning Hours\n",
      "\n",
      "{'surah': '94', 'exception': []}\n",
      "# 94\n",
      "12\n",
      "The Consolation\n",
      "\n",
      "{'surah': '103', 'exception': []}\n",
      "# 103\n",
      "13\n",
      "The Declining Day, Epoch\n",
      "\n",
      "{'surah': '100', 'exception': []}\n",
      "# 100\n",
      "14\n",
      "The Chargers\n",
      "\n",
      "{'surah': '108', 'exception': []}\n",
      "# 108\n",
      "15\n",
      "Abundance\n",
      "\n",
      "{'surah': '102', 'exception': []}\n",
      "# 102\n",
      "16\n",
      "Competition\n",
      "\n",
      "{'surah': '107', 'exception': [{'ayah_range': '4-7', 'before': '2:1'}]}\n",
      "{'ayah_range': '4-7', 'before': '2:1'}\n",
      "# 107\n",
      "17\n",
      "Almsgiving\n",
      "exceptions: ayah_range: 4-7, before: 2:1, \n",
      "\n",
      "{'surah': '109', 'exception': []}\n",
      "# 109\n",
      "18\n",
      "The Disbelievers\n",
      "\n",
      "{'surah': '105', 'exception': []}\n",
      "# 105\n",
      "19\n",
      "The Elephant\n",
      "\n",
      "{'surah': '113', 'exception': []}\n",
      "# 113\n",
      "20\n",
      "The Dawn\n",
      "\n",
      "{'surah': '114', 'exception': []}\n",
      "# 114\n",
      "21\n",
      "Mankind\n",
      "\n",
      "{'surah': '112', 'exception': []}\n",
      "# 112\n",
      "22\n",
      "Sincerity\n",
      "\n",
      "{'surah': '53', 'exception': [{'ayah_range': '32', 'before': '2:1'}]}\n",
      "{'ayah_range': '32', 'before': '2:1'}\n",
      "# 53\n",
      "23\n",
      "The Star\n",
      "exceptions: ayah_range: 32, before: 2:1, \n",
      "\n",
      "{'surah': '80', 'exception': []}\n",
      "# 80\n",
      "24\n",
      "He frowned\n",
      "\n",
      "{'surah': '97', 'exception': []}\n",
      "# 97\n",
      "25\n",
      "The Power, Fate\n",
      "\n",
      "{'surah': '91', 'exception': []}\n",
      "# 91\n",
      "26\n",
      "The Sun\n",
      "\n",
      "{'surah': '85', 'exception': []}\n",
      "# 85\n",
      "27\n",
      "The Constellations\n",
      "\n",
      "{'surah': '95', 'exception': []}\n",
      "# 95\n",
      "28\n",
      "The Fig\n",
      "\n",
      "{'surah': '106', 'exception': []}\n",
      "# 106\n",
      "29\n",
      "Quraysh\n",
      "\n",
      "{'surah': '101', 'exception': []}\n",
      "# 101\n",
      "30\n",
      "The Calamity\n",
      "\n",
      "{'surah': '75', 'exception': []}\n",
      "# 75\n",
      "31\n",
      "The Resurrection\n",
      "\n",
      "{'surah': '104', 'exception': []}\n",
      "# 104\n",
      "32\n",
      "The Traducer\n",
      "\n",
      "{'surah': '77', 'exception': [{'ayah_range': '48', 'before': '2:1'}]}\n",
      "{'ayah_range': '48', 'before': '2:1'}\n",
      "# 77\n",
      "33\n",
      "The Emissaries\n",
      "exceptions: ayah_range: 48, before: 2:1, \n",
      "\n",
      "{'surah': '50', 'exception': [{'ayah_range': '38', 'before': '2:1'}]}\n",
      "{'ayah_range': '38', 'before': '2:1'}\n",
      "# 50\n",
      "34\n",
      "The letter Qaaf\n",
      "exceptions: ayah_range: 38, before: 2:1, \n",
      "\n",
      "{'surah': '90', 'exception': []}\n",
      "# 90\n",
      "35\n",
      "The City\n",
      "\n",
      "{'surah': '86', 'exception': []}\n",
      "# 86\n",
      "36\n",
      "The Morning Star\n",
      "\n",
      "{'surah': '54', 'exception': [{'ayah_range': '44-46', 'before': '2:1'}]}\n",
      "{'ayah_range': '44-46', 'before': '2:1'}\n",
      "# 54\n",
      "37\n",
      "The Moon\n",
      "exceptions: ayah_range: 44-46, before: 2:1, \n",
      "\n",
      "{'surah': '38', 'exception': []}\n",
      "# 38\n",
      "38\n",
      "The letter Saad\n",
      "\n",
      "{'surah': '7', 'exception': [{'ayah_range': '163-170', 'before': '2:1'}]}\n",
      "{'ayah_range': '163-170', 'before': '2:1'}\n",
      "# 7\n",
      "39\n",
      "The Heights\n",
      "exceptions: ayah_range: 163-170, before: 2:1, \n",
      "\n",
      "{'surah': '72', 'exception': []}\n",
      "# 72\n",
      "40\n",
      "The Jinn\n",
      "\n",
      "{'surah': '36', 'exception': [{'ayah_range': '45', 'before': '2:1'}]}\n",
      "{'ayah_range': '45', 'before': '2:1'}\n",
      "# 36\n",
      "41\n",
      "Yaseen\n",
      "exceptions: ayah_range: 45, before: 2:1, \n",
      "\n",
      "{'surah': '25', 'exception': [{'ayah_range': '68-70', 'before': '2:1'}]}\n",
      "{'ayah_range': '68-70', 'before': '2:1'}\n",
      "# 25\n",
      "42\n",
      "The Criterion\n",
      "exceptions: ayah_range: 68-70, before: 2:1, \n",
      "\n",
      "{'surah': '35', 'exception': []}\n",
      "# 35\n",
      "43\n",
      "The Originator\n",
      "\n",
      "{'surah': '19', 'exception': [{'ayah_range': '58', 'before': '2:1'}, {'ayah_range': '71', 'before': '2:1'}]}\n",
      "{'ayah_range': '58', 'before': '2:1'}\n",
      "{'ayah_range': '71', 'before': '2:1'}\n",
      "# 19\n",
      "44\n",
      "Mary\n",
      "exceptions: ayah_range: 58, before: 2:1, \n",
      "exceptions: ayah_range: 71, before: 2:1, \n",
      "\n",
      "{'surah': '20', 'exception': [{'ayah_range': '130-131', 'before': '2:1'}]}\n",
      "{'ayah_range': '130-131', 'before': '2:1'}\n",
      "# 20\n",
      "45\n",
      "Taa-Haa\n",
      "exceptions: ayah_range: 130-131, before: 2:1, \n",
      "\n",
      "{'surah': '56', 'exception': [{'ayah_range': '81-82', 'before': '2:1'}]}\n",
      "{'ayah_range': '81-82', 'before': '2:1'}\n",
      "# 56\n",
      "46\n",
      "The Inevitable\n",
      "exceptions: ayah_range: 81-82, before: 2:1, \n",
      "\n",
      "{'surah': '26', 'exception': [{'ayah_range': '197', 'before': '2:1'}, {'ayah_range': '224-227', 'before': '2:1'}]}\n",
      "{'ayah_range': '197', 'before': '2:1'}\n",
      "{'ayah_range': '224-227', 'before': '2:1'}\n",
      "# 26\n",
      "47\n",
      "The Poets\n",
      "exceptions: ayah_range: 197, before: 2:1, \n",
      "exceptions: ayah_range: 224-227, before: 2:1, \n",
      "\n",
      "{'surah': '27', 'exception': []}\n",
      "# 27\n",
      "48\n",
      "The Ant\n",
      "\n",
      "{'surah': '28', 'exception': [{'ayah_range': '52-55', 'before': '2:1'}, {'ayah_range': '85', 'after': '83:36'}]}\n",
      "{'ayah_range': '52-55', 'before': '2:1'}\n",
      "{'ayah_range': '85', 'after': '83:36'}\n",
      "# 28\n",
      "49\n",
      "The Stories\n",
      "exceptions: ayah_range: 52-55, before: 2:1, \n",
      "exceptions: ayah_range: 85, after: 83:36, \n",
      "\n",
      "{'surah': '17', 'exception': [{'ayah_range': '26', 'before': '2:1'}, {'ayah_range': '32-33', 'before': '2:1'}, {'ayah_range': '57', 'before': '2:1'}, {'ayah_range': '73-80', 'before': '2:1'}]}\n",
      "{'ayah_range': '26', 'before': '2:1'}\n",
      "{'ayah_range': '32-33', 'before': '2:1'}\n",
      "{'ayah_range': '57', 'before': '2:1'}\n",
      "{'ayah_range': '73-80', 'before': '2:1'}\n",
      "# 17\n",
      "50\n",
      "The Night Journey\n",
      "exceptions: ayah_range: 26, before: 2:1, \n",
      "exceptions: ayah_range: 32-33, before: 2:1, \n",
      "exceptions: ayah_range: 57, before: 2:1, \n",
      "exceptions: ayah_range: 73-80, before: 2:1, \n",
      "\n",
      "{'surah': '10', 'exception': [{'ayah_range': '40', 'before': '2:1'}, {'ayah_range': '94-96', 'before': '2:1'}]}\n",
      "{'ayah_range': '40', 'before': '2:1'}\n",
      "{'ayah_range': '94-96', 'before': '2:1'}\n",
      "# 10\n",
      "51\n",
      "Jonas\n",
      "exceptions: ayah_range: 40, before: 2:1, \n",
      "exceptions: ayah_range: 94-96, before: 2:1, \n",
      "\n",
      "{'surah': '11', 'exception': [{'ayah_range': '12', 'before': '2:1'}, {'ayah_range': '17', 'before': '2:1'}, {'ayah_range': '114', 'before': '2:1'}]}\n",
      "{'ayah_range': '12', 'before': '2:1'}\n",
      "{'ayah_range': '17', 'before': '2:1'}\n",
      "{'ayah_range': '114', 'before': '2:1'}\n",
      "# 11\n",
      "52\n",
      "Hud\n",
      "exceptions: ayah_range: 12, before: 2:1, \n",
      "exceptions: ayah_range: 17, before: 2:1, \n",
      "exceptions: ayah_range: 114, before: 2:1, \n",
      "\n",
      "{'surah': '12', 'exception': [{'ayah_range': '1-3', 'before': '2:1'}, {'ayah_range': '7', 'before': '2:1'}]}\n",
      "{'ayah_range': '1-3', 'before': '2:1'}\n",
      "{'ayah_range': '7', 'before': '2:1'}\n",
      "# 12\n",
      "53\n",
      "Joseph\n",
      "exceptions: ayah_range: 1-3, before: 2:1, \n",
      "exceptions: ayah_range: 7, before: 2:1, \n",
      "\n",
      "{'surah': '15', 'exception': [{'ayah_range': '87', 'before': '2:1'}]}\n",
      "{'ayah_range': '87', 'before': '2:1'}\n",
      "# 15\n",
      "54\n",
      "The Rock\n",
      "exceptions: ayah_range: 87, before: 2:1, \n",
      "\n",
      "{'surah': '6', 'exception': [{'ayah_range': '20', 'before': '2:1'}, {'ayah_range': '23', 'before': '2:1'}, {'ayah_range': '91', 'before': '2:1'}, {'ayah_range': '93', 'before': '2:1'}, {'ayah_range': '114', 'before': '2:1'}, {'ayah_range': '151-153', 'before': '2:1'}]}\n",
      "{'ayah_range': '20', 'before': '2:1'}\n",
      "{'ayah_range': '23', 'before': '2:1'}\n",
      "{'ayah_range': '91', 'before': '2:1'}\n",
      "{'ayah_range': '93', 'before': '2:1'}\n",
      "{'ayah_range': '114', 'before': '2:1'}\n",
      "{'ayah_range': '151-153', 'before': '2:1'}\n",
      "# 6\n",
      "55\n",
      "The Cattle\n",
      "exceptions: ayah_range: 20, before: 2:1, \n",
      "exceptions: ayah_range: 23, before: 2:1, \n",
      "exceptions: ayah_range: 91, before: 2:1, \n",
      "exceptions: ayah_range: 93, before: 2:1, \n",
      "exceptions: ayah_range: 114, before: 2:1, \n",
      "exceptions: ayah_range: 151-153, before: 2:1, \n",
      "\n",
      "{'surah': '37', 'exception': []}\n",
      "# 37\n",
      "56\n",
      "Those drawn up in Ranks\n",
      "\n",
      "{'surah': '31', 'exception': [{'ayah_range': '27-29', 'before': '2:1'}]}\n",
      "{'ayah_range': '27-29', 'before': '2:1'}\n",
      "# 31\n",
      "57\n",
      "Luqman\n",
      "exceptions: ayah_range: 27-29, before: 2:1, \n",
      "\n",
      "{'surah': '34', 'exception': []}\n",
      "# 34\n",
      "58\n",
      "Sheba\n",
      "\n",
      "{'surah': '39', 'exception': []}\n",
      "# 39\n",
      "59\n",
      "The Groups\n",
      "\n",
      "{'surah': '40', 'exception': [{'ayah_range': '56-57', 'before': '2:1'}]}\n",
      "{'ayah_range': '56-57', 'before': '2:1'}\n",
      "# 40\n",
      "60\n",
      "The Forgiver\n",
      "exceptions: ayah_range: 56-57, before: 2:1, \n",
      "\n",
      "{'surah': '41', 'exception': []}\n",
      "# 41\n",
      "61\n",
      "Explained in detail\n",
      "\n",
      "{'surah': '42', 'exception': [{'ayah_range': '23-25', 'before': '2:1'}, {'ayah_range': '27', 'before': '2:1'}]}\n",
      "{'ayah_range': '23-25', 'before': '2:1'}\n",
      "{'ayah_range': '27', 'before': '2:1'}\n",
      "# 42\n",
      "62\n",
      "Consultation\n",
      "exceptions: ayah_range: 23-25, before: 2:1, \n",
      "exceptions: ayah_range: 27, before: 2:1, \n",
      "\n",
      "{'surah': '43', 'exception': [{'ayah_range': '54', 'before': '2:1'}]}\n",
      "{'ayah_range': '54', 'before': '2:1'}\n",
      "# 43\n",
      "63\n",
      "Ornaments of gold\n",
      "exceptions: ayah_range: 54, before: 2:1, \n",
      "\n",
      "{'surah': '44', 'exception': []}\n",
      "# 44\n",
      "64\n",
      "The Smoke\n",
      "\n",
      "{'surah': '45', 'exception': [{'ayah_range': '14', 'before': '2:1'}]}\n",
      "{'ayah_range': '14', 'before': '2:1'}\n",
      "# 45\n",
      "65\n",
      "Crouching\n",
      "exceptions: ayah_range: 14, before: 2:1, \n",
      "\n",
      "{'surah': '46', 'exception': [{'ayah_range': '10', 'before': '2:1'}, {'ayah_range': '15', 'before': '2:1'}, {'ayah_range': '35', 'before': '2:1'}]}\n",
      "{'ayah_range': '10', 'before': '2:1'}\n",
      "{'ayah_range': '15', 'before': '2:1'}\n",
      "{'ayah_range': '35', 'before': '2:1'}\n",
      "# 46\n",
      "66\n",
      "The Dunes\n",
      "exceptions: ayah_range: 10, before: 2:1, \n",
      "exceptions: ayah_range: 15, before: 2:1, \n",
      "exceptions: ayah_range: 35, before: 2:1, \n",
      "\n",
      "{'surah': '51', 'exception': []}\n",
      "# 51\n",
      "67\n",
      "The Winnowing Winds\n",
      "\n",
      "{'surah': '88', 'exception': []}\n",
      "# 88\n",
      "68\n",
      "The Overwhelming\n",
      "\n",
      "{'surah': '18', 'exception': [{'ayah_range': '28', 'before': '2:1'}, {'ayah_range': '83-101', 'before': '2:1'}]}\n",
      "{'ayah_range': '28', 'before': '2:1'}\n",
      "{'ayah_range': '83-101', 'before': '2:1'}\n",
      "# 18\n",
      "69\n",
      "The Cave\n",
      "exceptions: ayah_range: 28, before: 2:1, \n",
      "exceptions: ayah_range: 83-101, before: 2:1, \n",
      "\n",
      "{'surah': '16', 'exception': [{'ayah_range': '126-128', 'before': '2:1'}]}\n",
      "{'ayah_range': '126-128', 'before': '2:1'}\n",
      "# 16\n",
      "70\n",
      "The Bee\n",
      "exceptions: ayah_range: 126-128, before: 2:1, \n",
      "\n",
      "{'surah': '71', 'exception': []}\n",
      "# 71\n",
      "71\n",
      "Noah\n",
      "\n",
      "{'surah': '14', 'exception': [{'ayah_range': '28-29', 'before': '2:1'}]}\n",
      "{'ayah_range': '28-29', 'before': '2:1'}\n",
      "# 14\n",
      "72\n",
      "Abraham\n",
      "exceptions: ayah_range: 28-29, before: 2:1, \n",
      "\n",
      "{'surah': '21', 'exception': []}\n",
      "# 21\n",
      "73\n",
      "The Prophets\n",
      "\n",
      "{'surah': '23', 'exception': []}\n",
      "# 23\n",
      "74\n",
      "The Believers\n",
      "\n",
      "{'surah': '32', 'exception': [{'ayah_range': '16-20', 'before': '2:1'}]}\n",
      "{'ayah_range': '16-20', 'before': '2:1'}\n",
      "# 32\n",
      "75\n",
      "The Prostration\n",
      "exceptions: ayah_range: 16-20, before: 2:1, \n",
      "\n",
      "{'surah': '52', 'exception': []}\n",
      "# 52\n",
      "76\n",
      "The Mount\n",
      "\n",
      "{'surah': '67', 'exception': []}\n",
      "# 67\n",
      "77\n",
      "The Sovereignty\n",
      "\n",
      "{'surah': '69', 'exception': []}\n",
      "# 69\n",
      "78\n",
      "The Reality\n",
      "\n",
      "{'surah': '70', 'exception': []}\n",
      "# 70\n",
      "79\n",
      "The Ascending Stairways\n",
      "\n",
      "{'surah': '78', 'exception': []}\n",
      "# 78\n",
      "80\n",
      "The Announcement\n",
      "\n",
      "{'surah': '79', 'exception': []}\n",
      "# 79\n",
      "81\n",
      "Those who drag forth\n",
      "\n",
      "{'surah': '82', 'exception': []}\n",
      "# 82\n",
      "82\n",
      "The Cleaving\n",
      "\n",
      "{'surah': '84', 'exception': []}\n",
      "# 84\n",
      "83\n",
      "The Splitting Open\n",
      "\n",
      "{'surah': '30', 'exception': [{'ayah_range': '17', 'before': '2:1'}]}\n",
      "{'ayah_range': '17', 'before': '2:1'}\n",
      "# 30\n",
      "84\n",
      "The Romans\n",
      "exceptions: ayah_range: 17, before: 2:1, \n",
      "\n",
      "{'surah': '29', 'exception': [{'ayah_range': '1-11', 'before': '2:1'}]}\n",
      "{'ayah_range': '1-11', 'before': '2:1'}\n",
      "# 29\n",
      "85\n",
      "The Spider\n",
      "exceptions: ayah_range: 1-11, before: 2:1, \n",
      "\n",
      "{'surah': '83', 'exception': []}\n",
      "# 83\n",
      "86\n",
      "Defrauding\n",
      "\n",
      "{'surah': '2', 'exception': [{'ayah_range': '281', 'before': '110:1'}]}\n",
      "{'ayah_range': '281', 'before': '110:1'}\n",
      "# 2\n",
      "87\n",
      "The Cow\n",
      "exceptions: ayah_range: 281, before: 110:1, \n",
      "\n",
      "{'surah': '8', 'exception': [{'ayah_range': '30-36', 'after': '83:36'}]}\n",
      "{'ayah_range': '30-36', 'after': '83:36'}\n",
      "# 8\n",
      "88\n",
      "The Spoils of War\n",
      "exceptions: ayah_range: 30-36, after: 83:36, \n",
      "\n",
      "{'surah': '3', 'exception': []}\n",
      "# 3\n",
      "89\n",
      "The Family of Imraan\n",
      "\n",
      "{'surah': '33', 'exception': []}\n",
      "# 33\n",
      "90\n",
      "The Clans\n",
      "\n",
      "{'surah': '60', 'exception': []}\n",
      "# 60\n",
      "91\n",
      "She that is to be examined\n",
      "\n",
      "{'surah': '4', 'exception': []}\n",
      "# 4\n",
      "92\n",
      "The Women\n",
      "\n",
      "{'surah': '99', 'exception': []}\n",
      "# 99\n",
      "93\n",
      "The Earthquake\n",
      "\n",
      "{'surah': '57', 'exception': []}\n",
      "# 57\n",
      "94\n",
      "The Iron\n",
      "\n",
      "{'surah': '47', 'exception': [{'ayah_range': '13', 'after': '83:36'}]}\n",
      "{'ayah_range': '13', 'after': '83:36'}\n",
      "# 47\n",
      "95\n",
      "Muhammad\n",
      "exceptions: ayah_range: 13, after: 83:36, \n",
      "\n",
      "{'surah': '13', 'exception': []}\n",
      "# 13\n",
      "96\n",
      "The Thunder\n",
      "\n",
      "{'surah': '55', 'exception': []}\n",
      "# 55\n",
      "97\n",
      "The Beneficent\n",
      "\n",
      "{'surah': '76', 'exception': []}\n",
      "# 76\n",
      "98\n",
      "Man\n",
      "\n",
      "{'surah': '65', 'exception': []}\n",
      "# 65\n",
      "99\n",
      "Divorce\n",
      "\n",
      "{'surah': '98', 'exception': []}\n",
      "# 98\n",
      "100\n",
      "The Evidence\n",
      "\n",
      "{'surah': '59', 'exception': []}\n",
      "# 59\n",
      "101\n",
      "The Exile\n",
      "\n",
      "{'surah': '24', 'exception': []}\n",
      "# 24\n",
      "102\n",
      "The Light\n",
      "\n",
      "{'surah': '22', 'exception': [{'ayah_range': '52-55', 'before': '2:1'}]}\n",
      "{'ayah_range': '52-55', 'before': '2:1'}\n",
      "# 22\n",
      "103\n",
      "The Pilgrimage\n",
      "exceptions: ayah_range: 52-55, before: 2:1, \n",
      "\n",
      "{'surah': '63', 'exception': []}\n",
      "# 63\n",
      "104\n",
      "The Hypocrites\n",
      "\n",
      "{'surah': '58', 'exception': []}\n",
      "# 58\n",
      "105\n",
      "The Pleading Woman\n",
      "\n",
      "{'surah': '49', 'exception': []}\n",
      "# 49\n",
      "106\n",
      "The Inner Apartments\n",
      "\n",
      "{'surah': '66', 'exception': []}\n",
      "# 66\n",
      "107\n",
      "The Prohibition\n",
      "\n",
      "{'surah': '64', 'exception': []}\n",
      "# 64\n",
      "108\n",
      "Mutual Disillusion\n",
      "\n",
      "{'surah': '61', 'exception': []}\n",
      "# 61\n",
      "109\n",
      "The Ranks\n",
      "\n",
      "{'surah': '62', 'exception': []}\n",
      "# 62\n",
      "110\n",
      "Friday\n",
      "\n",
      "{'surah': '48', 'exception': []}\n",
      "# 48\n",
      "111\n",
      "The Victory\n",
      "\n",
      "{'surah': '5', 'exception': [{'ayah_range': '3', 'after': '9:129'}]}\n",
      "{'ayah_range': '3', 'after': '9:129'}\n",
      "# 5\n",
      "112\n",
      "The Table\n",
      "exceptions: ayah_range: 3, after: 9:129, \n",
      "\n",
      "{'surah': '9', 'exception': [{'ayah_range': '128-129', 'after': '83:36'}]}\n",
      "{'ayah_range': '128-129', 'after': '83:36'}\n",
      "# 9\n",
      "113\n",
      "The Repentance\n",
      "exceptions: ayah_range: 128-129, after: 83:36, \n",
      "\n",
      "{'surah': '110', 'exception': []}\n",
      "# 110\n",
      "114\n",
      "Divine Support\n",
      "\n"
     ]
    }
   ],
   "source": [
    "import json\n",
    "import csv\n",
    "with open('qdict.json') as f:\n",
    "    qJ = f.read()\n",
    "    qD = json.loads(qJ)\n",
    "with open('surOrd.tsv') as f2:\n",
    "    # qJ = f2.read()\n",
    "    # qD = json.loads(qJ)\n",
    "    surRws = [ {\"surah\": surRow[\"surah\"], \"exception\": json.loads(surRow[\"exception\"])} for surRow in csv.DictReader(f2, delimiter='\\t')]\n",
    "# print(surRws)\n",
    "ord = 0\n",
    "for surRow in surRws:\n",
    "    print(surRow)\n",
    "    ord += 1\n",
    "    with open('/mnt/f/Documents/notes/001_eskaton/001_chhatak/mejo_mama/Ghulat/surord.md', 'a+') as f3:\n",
    "        toAppend = f'# {surRow[\"surah\"]}\\n{ord}\\n{qD[surRow[\"surah\"]][\"surah_name\"]}\\n'\n",
    "        for exc in surRow[\"exception\"]:\n",
    "            print(exc)\n",
    "            # excD = json.loads(exc)\n",
    "            # for k,v in excD.items():\n",
    "            toAppend+= f'exceptions: '\n",
    "            for k,v in exc.items():\n",
    "                toAppend+= f'{k}: {v}, '\n",
    "                # toAppend+= f'{exc}\\n'\n",
    "            toAppend+= f'\\n'\n",
    "        print(toAppend)\n",
    "        f3.write(toAppend)"
   ]
  },
  {
   "cell_type": "code",
   "execution_count": null,
   "metadata": {},
   "outputs": [],
   "source": [
    "\n",
    "with open('data/ref/vars.py') as f:\n",
    "    txt = f.read()\n",
    "# txt\n",
    "import re\n",
    "# optSts = re.sub(\n",
    "optSts = re.findall(\n",
    "    # '\\{[\\n\\s]*[\\'\\\"]([^\\s]*\\s[^\\s]*)[\\'\\\"][\\n\\s]*\\:[\\n\\s]*[\\'\\\"][\\'\\\"]\\}'\n",
    "    # '\\{[\\n\\s\\t\\r]*[\\'\\\"]([^\\'\\\"]{0,}?)[\\'\\\"][\\n\\s\\t\\r]*\\:[\\n\\s\\t\\r]*[\\'\\\"]([^\\'\\\"]{0,}?)[\\'\\\"][\\n\\s\\t\\r]*\\}',\n",
    "    '(?<![\\w\\\"])\\{.*?(?<![\\w])\\}(?![\\w])',\n",
    "    # '\\{[\\n\\s]*[\\'\\\"]([^\\'\\\"\\n\\:]]*)[\\'\\\"][\\n\\s]*\\:[\\n\\s]*[\\'\\\"]([^\\'\\\"\\n\\:]]*)[\\'\\\"]\\}',\n",
    "    # '[\\n    \\\\1,\\n  ]',\n",
    "    # '[\\n    {\\n      \"strL\": [\\n        { \"\\\\1\" : \"\\\\2\", },\\n      ],\\n      \"vrsDis\" : 0,\\n    },\\n  ]',\n",
    "    txt,\n",
    "    re.DOTALL,\n",
    ")\n",
    "# print(optSts)\n",
    "for optSt in optSts:\n",
    "    repOpt = '[' \n",
    "    combs = re.findall(\n",
    "        '[\\'\\\"]([^\\'\\\"]*?)[\\'\\\"][\\n\\s]*\\:(?![\\w])[\\n\\s]*[\\'\\\"]([^\\'\\\"]*?)[\\'\\\"]',\n",
    "        optSt\n",
    "    )\n",
    "    # if len(combs)>1:\n",
    "    #     # print(len(combs))\n",
    "    #     print(combs)\n",
    "    isInteresting = False\n",
    "    for comb in combs:\n",
    "        isInteresting = False\n",
    "        repOpt += '\\n    {\\n      \\\"vrsDis\\\": 0,\\n      \\\"strL\\\": ['\n",
    "        if len(comb) != 2:\n",
    "            print('something wrong:', comb)\n",
    "        if len(comb) == 2:\n",
    "            strL = comb[0].split('  ')\n",
    "            fltL = comb[1].split('  ')\n",
    "            # isInteresting = len(strL) > 1\n",
    "            isInteresting = 'jnh' in comb[0]\n",
    "            if isInteresting:\n",
    "                # print(comb)\n",
    "                print(strL,fltL)\n",
    "            if len(strL) != len(fltL):\n",
    "                print('number of strings and filters not equal: ', strL, fltL)\n",
    "            for i in range(len(strL)):\n",
    "                strEx = strL[i]\n",
    "                forms = re.findall('\\(([ivx]*)\\)%20',strEx)\n",
    "                form = None if len(forms) == 0 else forms[0]\n",
    "                poSps = re.findall('pos%3A([A-Z]*?)%20',strEx)\n",
    "                poSp = None if len(poSps) == 0 else poSps[0]\n",
    "                strTyps = re.findall('(root|lem|stem)%3A',strEx)\n",
    "                strTyp = None if len(strTyps) == 0 else strTyps[0]\n",
    "                strDct = {\n",
    "                    \"strTyp\": {\n",
    "                        \"remov\": f\"{strTyp}%3A\",\n",
    "                        \"val\": strTyp,\n",
    "                    },\n",
    "                    \"frm\": {\n",
    "                        \"remov\": f\"\\({form}\\)%20\",\n",
    "                        \"val\": form,\n",
    "                    },\n",
    "                    \"poSp\": {\n",
    "                        \"remov\": f\"pos%3A{poSp}%20\",\n",
    "                        \"val\": poSp,\n",
    "                    },\n",
    "                }\n",
    "                str = strEx\n",
    "                repOpt+= '\\n        {'\n",
    "                repOptEx = ''\n",
    "                for k,v in strDct.items():\n",
    "                    if v[\"val\"] != None:\n",
    "                        str = re.sub(v[\"remov\"],'',str)\n",
    "                        repOptEx+= ' \\\"' + k + '\\\": \\\"'+ v[\"val\"] + '\\\", ' \n",
    "                repOpt+= ' \\\"stri\\\": \\\"'+ str + '\\\",'\n",
    "                repOpt+= ' \\\"flt\\\": \\\"'+ fltL[i] + '\\\",'\n",
    "                repOpt+= repOptEx\n",
    "                repOpt+= '},'\n",
    "            repOpt += '\\n      ],\\n    },'\n",
    "    repOpt += '\\n  ]'\n",
    "    if isInteresting:\n",
    "        print(optSt,repOpt)\n",
    "    txt = re.sub(\n",
    "        re.escape(optSt),\n",
    "        repOpt,\n",
    "        txt,\n",
    "        re.DOTALL\n",
    "    )\n",
    "\n",
    "\n",
    "# 'nfr' in txtr\n",
    "with open('data/ref/vars2.py', 'w+') as f:\n",
    "    f.write(txt)"
   ]
  },
  {
   "cell_type": "markdown",
   "metadata": {},
   "source": [
    "# qdict"
   ]
  },
  {
   "cell_type": "code",
   "execution_count": null,
   "metadata": {},
   "outputs": [],
   "source": [
    "surah_name_D = {\n",
    "    \"1\": \"1 Al-Fatiha (The opener)\",\n",
    "    \"2\": \"2 Al-Baqarah (The cow)\",\n",
    "    \"3\": \"3 Al-Imran (Family of Imran)\",\n",
    "    \"4\": \"4 An-Nisa (The Women)\",\n",
    "    \"5\": \"5 Al-Ma'idah (The Table Spread)\",\n",
    "    \"6\": \"6 Al-Anam (The Cattle)\",\n",
    "    \"7\": \"7 Al-A'raf (The Heights)\",\n",
    "    \"8\": \"8 Al-Anfal (The Spoils of War)\",\n",
    "    \"9\": \"9 At-Taubah (The Repentance)\",\n",
    "    \"10\": \"10 Yunus (Jonah)\",\n",
    "    \"11\": \"11 Hud (Hud)\",\n",
    "    \"12\": \"12 Yusuf (Joseph)\",\n",
    "    \"13\": \"13 Ar-Ra'd (Thunder)\",\n",
    "    \"14\": \"14 Ibrahim (Abraham)\",\n",
    "    \"15\": \"15 Al-Hijr (The Stoneland)\",\n",
    "    \"16\": \"16 An-Nahl (The Bee)\",\n",
    "    \"17\": \"17 Al-Isra (The Night Journey)\",\n",
    "    \"18\": \"18 Al-Kahf (The Cave)\",\n",
    "    \"19\": \"19 Maryam (Mary)\",\n",
    "    \"20\": \"20 Ta-Ha (Ta-Ha)\",\n",
    "    \"21\": \"21 Al-Anbiya (The Prophets)\",\n",
    "    \"22\": \"22 Al-Hajj (The Pilgrimage)\",\n",
    "    \"23\": \"23 Al-Mu'minun (The Believers)\",\n",
    "    \"24\": \"24 An-Nur (The Light)\",\n",
    "    \"25\": \"25 Al-Furqan (The Criterion)\",\n",
    "    \"26\": \"26 Ash-Shu'ara (The Poets)\",\n",
    "    \"27\": \"27 An-Naml (The Ants)\",\n",
    "    \"28\": \"28 Al-Qasas (The Story)\",\n",
    "    \"29\": \"29 Al-Ankabut (Spider)\",\n",
    "    \"30\": \"30 Ar-Rum (The Romans)\",\n",
    "    \"31\": \"31 Luqman (Luqman)\",\n",
    "    \"32\": \"32 As-Sajdah (Prostration)\",\n",
    "    \"33\": \"33 Al-Ahzab (The Confederates)\",\n",
    "    \"34\": \"34 Saba (Sheba)\",\n",
    "    \"35\": \"35 Fatir (The Originator)\",\n",
    "    \"36\": \"36 Ya-Sin (Ya Sin)\",\n",
    "    \"37\": \"37 As-Saffat (Those Who Set the Ranks)\",\n",
    "    \"38\": \"38 Sad (The letter Saad)\",\n",
    "    \"39\": \"39 Az-Zumar (The Troops)\",\n",
    "    \"40\": \"40 Ghafir (The Forgiver)\",\n",
    "    \"41\": \"41 Fussilat (Explained in Detail)\",\n",
    "    \"42\": \"42 Ash-Shura (The Consultation)\",\n",
    "    \"43\": \"43 Az-Zukhruf (The Ornaments of Gold)\",\n",
    "    \"44\": \"44 Ad-Dukhan (The Smoke)\",\n",
    "    \"45\": \"45 Al-Jathiyah (The Crouching)\",\n",
    "    \"46\": \"46 Al-Ahqaf (The Wind Curved Sandhill)\",\n",
    "    \"47\": \"47 Muhammad (Muhammad)\",\n",
    "    \"48\": \"48 Al-Fath (The Victory)\",\n",
    "    \"49\": \"49 Al-Hujurat (The Private Chambers)\",\n",
    "    \"50\": \"50 Qaf (Qaf)\",\n",
    "    \"51\": \"51 Adh-Dhariyat (The Scatterers)\",\n",
    "    \"52\": \"52 At-Tur (The Mountain)\",\n",
    "    \"53\": \"53 An-Najm (The Star)\",\n",
    "    \"54\": \"54 Al-Qamar (The Moon)\",\n",
    "    \"55\": \"55 Ar-Rahman (The Beneficent)\",\n",
    "    \"56\": \"56 Al-Waqi'ah (The Inevitable)\",\n",
    "    \"57\": \"57 Al-Hadid (The Iron)\",\n",
    "    \"58\": \"58 Al-Mujadila (The Pleading Women)\",\n",
    "    \"59\": \"59 Al-Hashr (The Exile)\",\n",
    "    \"60\": \"60 Al-Mumtahanah (She That is to be Examined)\",\n",
    "    \"61\": \"61 As-Saff (The Ranks)\",\n",
    "    \"62\": \"62 Al-Jumu'ah (Congregation Prayer)\",\n",
    "    \"63\": \"63 Al-Munafiqun (The Hypocrites)\",\n",
    "    \"64\": \"64 At-Taghabun (Mutual Disposession)\",\n",
    "    \"65\": \"65 At-Talaq (The Divorce)\",\n",
    "    \"66\": \"66 At-Tahrim (The Prohibition)\",\n",
    "    \"67\": \"67 Al-Mulk (The Sovereignty)\",\n",
    "    \"68\": \"68 Al-Qalam (The Pen)\",\n",
    "    \"69\": \"69 Al-Haqqah (The Reality)\",\n",
    "    \"70\": \"70 Al-Ma'arij (The Ascending Stairways)\",\n",
    "    \"71\": \"71 Nuh (Noah)\",\n",
    "    \"72\": \"72 Al-Jinn (The Jinn)\",\n",
    "    \"73\": \"73 Al-Muzzammil (The Enshrouded One)\",\n",
    "    \"74\": \"74 Al-Muddaththir (The Cloaked One)\",\n",
    "    \"75\": \"75 Al-Qiyamah (The Resurrection)\",\n",
    "    \"76\": \"76 Al-Insan (The Man)\",\n",
    "    \"77\": \"77 Al-Mursalat (The Emissaries)\",\n",
    "    \"78\": \"78 An-Naba (The Tidings)\",\n",
    "    \"79\": \"79 An-Nazi'at (Those who drag forth)\",\n",
    "    \"80\": \"80 Abasa (He Frowned)\",\n",
    "    \"81\": \"81 At-Takwir (The Overthrowing)\",\n",
    "    \"82\": \"82 Al-Infitar (The Cleaving)\",\n",
    "    \"83\": \"83 Al-Mutaffifin (The Defrauding)\",\n",
    "    \"84\": \"84 Al-Inshiqaq (The Sundering)\",\n",
    "    \"85\": \"85 Al-Buruj (The Mansions of the Stars)\",\n",
    "    \"86\": \"86 At-Tariq (The Nightcommer)\",\n",
    "    \"87\": \"87 Al-Ala (The Most High)\",\n",
    "    \"88\": \"88 Al-Ghashiyah (The Overwhelming)\",\n",
    "    \"89\": \"89 Al-Fajr (The Dawn)\",\n",
    "    \"90\": \"90 Al-Balad (The City)\",\n",
    "    \"91\": \"91 Ash-Shams (The Sun)\",\n",
    "    \"92\": \"92 Al-Lail (The Night)\",\n",
    "    \"93\": \"93 Ad-Duha (The Morning Brightness)\",\n",
    "    \"94\": \"94 Ash-Sharh (The Expansion)\",\n",
    "    \"95\": \"95 At-Tin (The Fig)\",\n",
    "    \"96\": \"96 Al-Alaq (The Blood Clot)\",\n",
    "    \"97\": \"97 Al-Qadr (The Power)\",\n",
    "    \"98\": \"98 Al-Bayyina (The Evidence)\",\n",
    "    \"99\": \"99 Az-Zalzalah (The Earthquake)\",\n",
    "    \"100\": \"100 Al-Adiyat (The Courser)\",\n",
    "    \"101\": \"101 Al-Qari'ah (The Calamity)\",\n",
    "    \"102\": \"102 At-Takathur (Vying for increase)\",\n",
    "    \"103\": \"103 Al-Asr (The Declining Day)\",\n",
    "    \"104\": \"104 Al-Humazah (The Slanderer)\",\n",
    "    \"105\": \"105 Al-Fil (The Elephant)\",\n",
    "    \"106\": \"106 Quraysh (Quraish)\",\n",
    "    \"107\": \"107 Al-Ma'un (The Small Kindness)\",\n",
    "    \"108\": \"108 Al-Kawthar (The Abundance)\",\n",
    "    \"109\": \"109 Al-Kafirun (The Disbelievers)\",\n",
    "    \"110\": \"110 An-Nasr (The Divine Support)\",\n",
    "    \"111\": \"111 Al-Masad (The Palm Fiber)\",\n",
    "    \"112\": \"112 Al-Ikhlas (The Sincerity)\",\n",
    "    \"113\": \"113 Al-Falaq (The Daybreak)\",\n",
    "    \"114\": \"114 An-Nas (The Mankind)\",\n",
    "}"
   ]
  },
  {
   "cell_type": "code",
   "execution_count": null,
   "metadata": {},
   "outputs": [],
   "source": [
    "import json\n",
    "with open(\"qdict.json\") as f:\n",
    "    qdict = json.loads(f.read()) "
   ]
  },
  {
   "cell_type": "code",
   "execution_count": null,
   "metadata": {},
   "outputs": [],
   "source": [
    "for sur, surDict in qdict.items():\n",
    "    qdict[sur][\"surah_name\"] = surah_name_D[sur]"
   ]
  },
  {
   "cell_type": "code",
   "execution_count": null,
   "metadata": {},
   "outputs": [
    {
     "data": {
      "text/plain": [
       "{'surah_name': '1 Al-Fatiha (The opener)',\n",
       " 'verse_count': 7,\n",
       " 'word_count': 74,\n",
       " 'char_count': 314,\n",
       " 'order': 5}"
      ]
     },
     "execution_count": 60,
     "metadata": {},
     "output_type": "execute_result"
    }
   ],
   "source": [
    "qdict[\"1\"]"
   ]
  },
  {
   "cell_type": "code",
   "execution_count": null,
   "metadata": {},
   "outputs": [],
   "source": [
    "import json\n",
    "with open(\"qdict.json\", \"w+\") as f:\n",
    "    f.write(json.dumps(qdict))"
   ]
  },
  {
   "cell_type": "markdown",
   "metadata": {},
   "source": [
    "# load old Qrsd.md as ayLs"
   ]
  },
  {
   "cell_type": "code",
   "execution_count": 19,
   "metadata": {},
   "outputs": [],
   "source": [
    "with open(\"data/ref/Qrsd.md\") as f:\n",
    "    qTxt = f.read()\n",
    "\n",
    "import re\n",
    "ayLs = re.findall(\n",
    "    \"### (\\d*):(\\d*)\\n([^#]*)\",\n",
    "    qTxt,\n",
    "    re.DOTALL\n",
    ")"
   ]
  },
  {
   "cell_type": "code",
   "execution_count": 20,
   "metadata": {},
   "outputs": [
    {
     "data": {
      "text/plain": [
       "6236"
      ]
     },
     "execution_count": 20,
     "metadata": {},
     "output_type": "execute_result"
    }
   ],
   "source": [
    "len(ayLs)"
   ]
  },
  {
   "cell_type": "markdown",
   "metadata": {},
   "source": [
    "# ayDict"
   ]
  },
  {
   "cell_type": "code",
   "execution_count": 21,
   "metadata": {},
   "outputs": [],
   "source": [
    "ayDict = {f\"{r[0]}:{r[1]}\": r[2].strip('\\n').strip('\\s') for r in ayLs}"
   ]
  },
  {
   "cell_type": "markdown",
   "metadata": {},
   "source": [
    "# ayDictSpStrp ayDict character replacement"
   ]
  },
  {
   "cell_type": "code",
   "execution_count": 22,
   "metadata": {},
   "outputs": [],
   "source": [
    "# arbVwlsDict = {\n",
    "#         \"a\": \"َ\",\n",
    "#         \"u\": \"ُ\",\n",
    "#         \"i\": \"ِ\",\n",
    "#         \"~\": \"ّ\",\n",
    "#         \"o\": \"ْ\",\n",
    "#         \"^\": \"ٓ\",\n",
    "#         \"#\": \"ٔ\",\n",
    "#         \"`\": \"ٰ\",\n",
    "#         \"F\": \"ً\",\n",
    "#         \"N\": \"ٌ\",\n",
    "#         \"K\": \"ٍ\",\n",
    "# }\n",
    "\n",
    "# arbConsD = {\n",
    "#         \"'\": \"ء\",\n",
    "#         \">\": \"أ\",\n",
    "#         \"&\": \"ؤ\",\n",
    "#         \"<\": \"إ\",\n",
    "#         \"}\": \"ئ\",\n",
    "#         \"A\": \"ا\",\n",
    "#         \"b\": \"ب\",\n",
    "#         \"p\": \"ة\",\n",
    "#         \"t\": \"ت\",\n",
    "#         \"v\": \"ث\",\n",
    "#         \"j\": \"ج\",\n",
    "#         \"H\": \"ح\",\n",
    "#         \"x\": \"خ\",\n",
    "#         \"d\": \"د\",\n",
    "#         \"*\": \"ذ\",\n",
    "#         \"r\": \"ر\",\n",
    "#         \"z\": \"ز\",\n",
    "#         \"s\": \"س\",\n",
    "#         \"$\": \"ش\",\n",
    "#         \"S\": \"ص\",\n",
    "#         \"D\": \"ض\",\n",
    "#         \"T\": \"ط\",\n",
    "#         \"Z\": \"ظ\",\n",
    "#         \"E\": \"ع\",\n",
    "#         \"g\": \"غ\",\n",
    "#         \"_\": \"ـ\",\n",
    "#         \"f\": \"ف\",\n",
    "#         \"q\": \"ق\",\n",
    "#         \"k\": \"ك\",\n",
    "#         \"l\": \"ل\",\n",
    "#         \"m\": \"م\",\n",
    "#         \"n\": \"ن\",\n",
    "#         \"h\": \"ه\",\n",
    "#         \"w\": \"و\",\n",
    "#         \"Y\": \"ى\",\n",
    "#         \"y\": \"ي\",\n",
    "#         \"{\": \"ٱ\",\n",
    "#         # \":\": \"ۜ\",\n",
    "#         \"@\": \"۟\",\n",
    "#         '\"': \"۠\",\n",
    "#         \"[\": \"ۢ\",\n",
    "#         \";\": \"ۣ\",\n",
    "#         \",\": \"ۥ\",\n",
    "#         \".\": \"ۦ\",\n",
    "#         \"!\": \"ۨ\",\n",
    "#         \"-\": \"۪\",\n",
    "#         \"+\": \"۫\",\n",
    "#         \"%\": \"۬\",\n",
    "#         \"]\": \"ۭ\",\n",
    "#     }\n",
    "\n",
    "# arbCharD = {\n",
    "#     **arbVwlsDict,\n",
    "#     **arbConsD,\n",
    "# }\n",
    "\n",
    "from qChronolyze import arbVwlsDict, arbConsD\n",
    "from qChronolyze import bkwSch2arbSch as arbCharD\n",
    "arbChars = arbCharD.values()"
   ]
  },
  {
   "cell_type": "code",
   "execution_count": 11,
   "metadata": {},
   "outputs": [
    {
     "data": {
      "text/plain": [
       "(True, False, 'ٓ')"
      ]
     },
     "execution_count": 11,
     "metadata": {},
     "output_type": "execute_result"
    }
   ],
   "source": [
    "\"آ\" == \"آ\", \"آ\" == \"آ\", \"آ\"[1]"
   ]
  },
  {
   "cell_type": "code",
   "execution_count": 23,
   "metadata": {},
   "outputs": [
    {
     "data": {
      "text/plain": [
       "(11, 48, 59)"
      ]
     },
     "execution_count": 23,
     "metadata": {},
     "output_type": "execute_result"
    }
   ],
   "source": [
    "len(arbVwlsDict), len(arbConsD), len(arbCharD)"
   ]
  },
  {
   "cell_type": "code",
   "execution_count": 24,
   "metadata": {},
   "outputs": [],
   "source": [
    "allowedChars = ['آ', '~', ' ', 'ً', 'ۧ', *arbChars, ]"
   ]
  },
  {
   "cell_type": "code",
   "execution_count": null,
   "metadata": {},
   "outputs": [
    {
     "data": {
      "text/plain": [
       "'ٍ'"
      ]
     },
     "execution_count": 454,
     "metadata": {},
     "output_type": "execute_result"
    }
   ],
   "source": [
    "\"ٍ\""
   ]
  },
  {
   "cell_type": "code",
   "execution_count": 25,
   "metadata": {},
   "outputs": [],
   "source": [
    "char1 = \"'ۜ\".replace('\\\"','').replace('\\'','')\n",
    "char2 = 'ۧ'.replace('\\\"','').replace('\\'','')"
   ]
  },
  {
   "cell_type": "code",
   "execution_count": 13,
   "metadata": {},
   "outputs": [
    {
     "data": {
      "text/plain": [
       "('ۜ', 'ۧ')"
      ]
     },
     "execution_count": 13,
     "metadata": {},
     "output_type": "execute_result"
    }
   ],
   "source": [
    "char1 == char2\n",
    "char1, char2"
   ]
  },
  {
   "cell_type": "code",
   "execution_count": 26,
   "metadata": {},
   "outputs": [
    {
     "data": {
      "text/plain": [
       "('96', '1', '\\nٱقْرَأْ بِٱسْمِ رَبِّكَ ٱلَّذِى خَلَقَ\\n\\n')"
      ]
     },
     "execution_count": 26,
     "metadata": {},
     "output_type": "execute_result"
    }
   ],
   "source": [
    "ayLs[0]"
   ]
  },
  {
   "cell_type": "code",
   "execution_count": null,
   "metadata": {},
   "outputs": [],
   "source": [
    "for ayHd, ayTxt in ayDict.items():\n",
    "    # if ay[0] == '75' and ay[1] == '40':\n",
    "        # if char1 in ay[2] and char2 in ay[2]:\n",
    "        if char1 in ayTxt:\n",
    "            wrds = ay[2].strip('\\n').strip(' ').split(' ')\n",
    "            for wrd in wrds:\n",
    "                 if wrd == char1:\n",
    "                    print(ay[0],ay[1], 'char1:', char1)\n",
    "                    print(wrds)\n",
    "                    print()\n",
    "\n",
    "            print()\n",
    "        if char2 in ayTxt:\n",
    "            for wrd in wrds:\n",
    "                 if wrd == char2:\n",
    "                    print(ay[0],ay[1], 'char2:', char2)\n",
    "                    print(wrds)\n",
    "                    print()"
   ]
  },
  {
   "cell_type": "code",
   "execution_count": 27,
   "metadata": {},
   "outputs": [],
   "source": [
    "# char1 in allowedChars\n",
    "for i in range(len(allowedChars)):\n",
    "    if allowedChars[i] == char1:\n",
    "        print(i, char1)"
   ]
  },
  {
   "cell_type": "code",
   "execution_count": 28,
   "metadata": {},
   "outputs": [],
   "source": [
    "othChars = []"
   ]
  },
  {
   "cell_type": "code",
   "execution_count": 29,
   "metadata": {},
   "outputs": [],
   "source": [
    "for char in \"\".join(ayDict.values()):\n",
    "    if char not in allowedChars and char not in othChars:\n",
    "        othChars.append(char)"
   ]
  },
  {
   "cell_type": "code",
   "execution_count": 30,
   "metadata": {},
   "outputs": [],
   "source": [
    "othCharsSet = set(othChars)"
   ]
  },
  {
   "cell_type": "code",
   "execution_count": 31,
   "metadata": {},
   "outputs": [
    {
     "data": {
      "text/plain": [
       "{'ۖ', 'ۗ', 'ۘ', 'ۙ', 'ۚ', 'ۛ', 'ۜ', '۞', '۩'}"
      ]
     },
     "execution_count": 31,
     "metadata": {},
     "output_type": "execute_result"
    }
   ],
   "source": [
    "othCharsSet"
   ]
  },
  {
   "cell_type": "code",
   "execution_count": 32,
   "metadata": {},
   "outputs": [],
   "source": [
    "import re\n",
    "ayDictSpStrp = {k:re.sub(f\"[^{''.join(allowedChars)} ]\",\"\",v) for k,v in ayDict.items()}"
   ]
  },
  {
   "cell_type": "code",
   "execution_count": 33,
   "metadata": {},
   "outputs": [
    {
     "data": {
      "text/plain": [
       "'ً'"
      ]
     },
     "execution_count": 33,
     "metadata": {},
     "output_type": "execute_result"
    }
   ],
   "source": [
    "# list(ayDictSpStrp.values())[0]\n",
    "ayDictSpStrp[\"18:50\"][-2]"
   ]
  },
  {
   "cell_type": "markdown",
   "metadata": {},
   "source": [
    "# posDict, posSerDict, posOrd"
   ]
  },
  {
   "cell_type": "code",
   "execution_count": 34,
   "metadata": {},
   "outputs": [],
   "source": [
    "from qChronolyze import rtTrns\n",
    "posDic = {}\n",
    "wrdLs = []\n",
    "for ayNo, ay in ayDictSpStrp.items():\n",
    "    pos = 0\n",
    "    for wrd in ay.split(' '):\n",
    "        if wrd not in ['','\\n']:\n",
    "            pos += 1\n",
    "            posDic[f\"{ayNo}:{pos}\"] = wrd\n",
    "            # posDic[f\"{ayNo}:{pos}\"] = rtTrns(wrd,'arb','arbSch','bkwSch')\n",
    "            # print(wrd)\n",
    "            # wrdLs.append(wrd)"
   ]
  },
  {
   "cell_type": "code",
   "execution_count": 35,
   "metadata": {},
   "outputs": [
    {
     "data": {
      "text/plain": [
       "(77430, 'ٱقْرَأْ')"
      ]
     },
     "execution_count": 35,
     "metadata": {},
     "output_type": "execute_result"
    }
   ],
   "source": [
    "len(posDic), posDic[\"96:1:1\"]\n",
    "# len(wrdLs)\n",
    "# wrdLs[0:100]"
   ]
  },
  {
   "cell_type": "code",
   "execution_count": null,
   "metadata": {},
   "outputs": [],
   "source": [
    "# stri = \"وَإِذْ قُلْنَا لِلْمَلَـٰٓئِكَةِ ٱسْجُدُوا۟ لِـَٔادَمَ فَسَجَدُوٓا۟ إِلَّآ إِبْلِيسَ كَانَ مِنَ ٱلْجِنِّ فَفَسَقَ عَنْ أَمْرِ رَبِّهِۦٓ ۗ أَفَتَتَّخِذُونَهُۥ وَذُرِّيَّتَهُۥٓ أَوْلِيَآءَ مِن دُونِى وَهُمْ لَكُمْ عَدُوٌّۢ ۚ بِئْسَ لِلظَّـٰلِمِينَ بَدَلًا\"\n",
    "# stri[-1]"
   ]
  },
  {
   "cell_type": "code",
   "execution_count": 36,
   "metadata": {},
   "outputs": [],
   "source": [
    "import json\n",
    "with open(\"posDict.json\",\"w+\") as f:\n",
    "    f.write(json.dumps(posDic))"
   ]
  },
  {
   "cell_type": "code",
   "execution_count": 26,
   "metadata": {},
   "outputs": [],
   "source": [
    "import json\n",
    "with open(\"posDict.json\") as f:\n",
    "    posDic2 = json.loads(f.read())"
   ]
  },
  {
   "cell_type": "code",
   "execution_count": 27,
   "metadata": {},
   "outputs": [
    {
     "data": {
      "text/plain": [
       "77430"
      ]
     },
     "execution_count": 27,
     "metadata": {},
     "output_type": "execute_result"
    }
   ],
   "source": [
    "len(posDic2)"
   ]
  },
  {
   "cell_type": "code",
   "execution_count": null,
   "metadata": {},
   "outputs": [],
   "source": [
    "posSerDict = {list(posDic.keys())[i] : i for i in range(len(posDic))}"
   ]
  },
  {
   "cell_type": "code",
   "execution_count": 42,
   "metadata": {},
   "outputs": [],
   "source": [
    "import json\n",
    "with open(\"posSerDict.json\",\"w+\") as f:\n",
    "    f.write(json.dumps(posSerDict))"
   ]
  },
  {
   "cell_type": "code",
   "execution_count": 1,
   "metadata": {},
   "outputs": [],
   "source": [
    "import json\n",
    "with open(\"posSerDict.json\") as f:\n",
    "    posSerDict = json.loads(f.read())"
   ]
  },
  {
   "cell_type": "code",
   "execution_count": 2,
   "metadata": {},
   "outputs": [
    {
     "data": {
      "text/plain": [
       "(2, 125)"
      ]
     },
     "execution_count": 2,
     "metadata": {},
     "output_type": "execute_result"
    }
   ],
   "source": [
    "posSerDict[\"20:24:5\"] - posSerDict[\"20:24:3\"], posSerDict[\"20:43:5\"] - posSerDict[\"20:24:3\"]"
   ]
  },
  {
   "cell_type": "code",
   "execution_count": 211,
   "metadata": {},
   "outputs": [
    {
     "data": {
      "text/plain": [
       "77433"
      ]
     },
     "execution_count": 211,
     "metadata": {},
     "output_type": "execute_result"
    }
   ],
   "source": [
    "type(posSerDict)\n",
    "len(posSerDict)"
   ]
  },
  {
   "cell_type": "code",
   "execution_count": 212,
   "metadata": {},
   "outputs": [
    {
     "data": {
      "text/plain": [
       "699"
      ]
     },
     "execution_count": 212,
     "metadata": {},
     "output_type": "execute_result"
    }
   ],
   "source": [
    "posSerDict[\"69:42:1\"] - posSerDict[\"52:29:1\"]"
   ]
  },
  {
   "cell_type": "code",
   "execution_count": null,
   "metadata": {},
   "outputs": [],
   "source": [
    "posOrd = [\n",
    "    # None\n",
    "]\n",
    "\n",
    "for k,v in posSerDict.items():\n",
    "    posOrd.insert(v,k)"
   ]
  },
  {
   "cell_type": "code",
   "execution_count": null,
   "metadata": {},
   "outputs": [],
   "source": [
    "import json\n",
    "with open(\"posOrd.json\",\"w+\") as f:\n",
    "    f.write(json.dumps(posOrd))"
   ]
  },
  {
   "cell_type": "markdown",
   "metadata": {},
   "source": [
    "# lemma verb conc"
   ]
  },
  {
   "cell_type": "code",
   "execution_count": null,
   "metadata": {},
   "outputs": [],
   "source": [
    "import requests\n",
    "from bs4 import BeautifulSoup\n",
    "import re\n",
    "# tbls = []\n",
    "vrbsAll = []\n",
    "for i in range(1,31):\n",
    "    lnk = f\"https://corpus.quran.com/verbs.jsp?page={i}\"\n",
    "    grabhtml = requests.get(lnk).text\n",
    "    soup = BeautifulSoup(\n",
    "            grabhtml,\n",
    "            'lxml' \n",
    "        )\n",
    "    tbl = soup.find_all(\n",
    "        \"table\",\n",
    "        {\"class\": \"verbTable\"}\n",
    "    )[0]\n",
    "    vrbs = tbl.find_all(\n",
    "        \"tr\",\n",
    "        {\"class\": None}\n",
    "    )\n",
    "\n",
    "    vrbsDctss = [\n",
    "        {\n",
    "            \"Verb\": vrbLs[0].text,\n",
    "            \"Root\": vrbLs[1].text.replace(\" \",\"\"),\n",
    "            \"Form\": vrbLs[2].text,\n",
    "            \"Frequency\": vrbLs[3].text,\n",
    "            \"Translation\": vrbLs[4].text,\n",
    "        } for vrbRw in vrbs \n",
    "        if (vrbLs := vrbRw.find_all(\"td\")) \n",
    "    ]\n",
    "    # tbls += tbl\n",
    "    vrbsAll += vrbsDctss"
   ]
  },
  {
   "cell_type": "code",
   "execution_count": null,
   "metadata": {},
   "outputs": [
    {
     "data": {
      "text/plain": [
       "1475"
      ]
     },
     "execution_count": 24,
     "metadata": {},
     "output_type": "execute_result"
    }
   ],
   "source": [
    "# type(tbls)\n",
    "# tbls[3]\n",
    "# vrbsAll\n",
    "len(vrbsAll)"
   ]
  },
  {
   "cell_type": "code",
   "execution_count": null,
   "metadata": {},
   "outputs": [],
   "source": [
    "import json\n",
    "with open('data/verbs.json', 'w+') as f:\n",
    "    f.write(json.dumps(vrbsAll))"
   ]
  },
  {
   "cell_type": "code",
   "execution_count": null,
   "metadata": {},
   "outputs": [],
   "source": [
    "import json\n",
    "with open('data/verbs.json') as f:\n",
    "    vrbsAll = json.loads(f.read())"
   ]
  },
  {
   "cell_type": "code",
   "execution_count": null,
   "metadata": {},
   "outputs": [
    {
     "data": {
      "text/plain": [
       "1475"
      ]
     },
     "execution_count": 27,
     "metadata": {},
     "output_type": "execute_result"
    }
   ],
   "source": [
    "# type(tbls)\n",
    "# tbls[3]\n",
    "# vrbsAll\n",
    "len(vrbsAll)"
   ]
  },
  {
   "cell_type": "code",
   "execution_count": null,
   "metadata": {},
   "outputs": [],
   "source": [
    "rootDcts = {}\n",
    "for vrbDct in vrbsAll:\n",
    "    rt = vrbDct[\"Root\"]\n",
    "    if rt not in rootDcts.keys():\n",
    "        rootDcts[rt] = {\n",
    "            vrbDct[\"Form\"]: {\n",
    "                \"Verb\": vrbLs[0].text,\n",
    "                \"Frequency\": vrbLs[3].text,\n",
    "                \"Translation\": vrbLs[4].text,\n",
    "            }\n",
    "        }\n",
    "    else:\n",
    "        rootDcts[rt][vrbDct[\"Form\"]] = {\n",
    "                \"Verb\": vrbLs[0].text,\n",
    "                \"Frequency\": vrbLs[3].text,\n",
    "                \"Translation\": vrbLs[4].text,\n",
    "            }"
   ]
  },
  {
   "cell_type": "code",
   "execution_count": null,
   "metadata": {},
   "outputs": [],
   "source": [
    "import json\n",
    "with open('data/roots.json', 'w+') as f:\n",
    "    f.write(json.dumps(rootDcts))"
   ]
  },
  {
   "cell_type": "code",
   "execution_count": null,
   "metadata": {},
   "outputs": [],
   "source": [
    "import json\n",
    "with open('data/roots.json') as f:\n",
    "    rootDcts = json.loads(f.read())"
   ]
  },
  {
   "cell_type": "code",
   "execution_count": null,
   "metadata": {},
   "outputs": [],
   "source": [
    "rootDcts"
   ]
  },
  {
   "cell_type": "code",
   "execution_count": null,
   "metadata": {},
   "outputs": [],
   "source": [
    "from qChronolyze import webGet"
   ]
  },
  {
   "cell_type": "code",
   "execution_count": null,
   "metadata": {},
   "outputs": [],
   "source": [
    "import json\n",
    "with open('data/test.json') as f:\n",
    "    isWorking = json.loads(f.read())"
   ]
  },
  {
   "cell_type": "code",
   "execution_count": 14,
   "metadata": {},
   "outputs": [
    {
     "name": "stdout",
     "output_type": "stream",
     "text": [
      "1 2\n",
      "3 4\n"
     ]
    }
   ],
   "source": [
    "for i, j in [(1,2),(3,4)]:\n",
    "# for i, j in [[1,2],[3,4]]:\n",
    "    print(i,j)"
   ]
  },
  {
   "cell_type": "markdown",
   "metadata": {},
   "source": [
    "# download lems, roots"
   ]
  },
  {
   "cell_type": "code",
   "execution_count": null,
   "metadata": {},
   "outputs": [],
   "source": [
    "# class strPthLnkCl():\n",
    "#     def __init__(\n",
    "#         self,\n",
    "#         stri='',\n",
    "#         strTyp='stem',\n",
    "#         poSp='All',\n",
    "#         frm='All',\n",
    "#         pthLnks=[]\n",
    "#         # ayah_link='',\n",
    "#         # query=''\n",
    "#     ):\n",
    "#         self.stri = stri\n",
    "#         self.strTyp = strTyp\n",
    "#         self.poSp = poSp\n",
    "#         self.frm = frm\n",
    "#         self.pthLnks = pthLnks\n",
    "#         # self.ayah_link = ayah_link\n",
    "#         # self.query = query\n",
    "    "
   ]
  },
  {
   "cell_type": "code",
   "execution_count": null,
   "metadata": {},
   "outputs": [
    {
     "name": "stdout",
     "output_type": "stream",
     "text": [
      "loading posPthLnksOld\n",
      "Successfully loaded data from 'data/posPthLnks.tsv': lenght 0'\n"
     ]
    }
   ],
   "source": [
    "# import csv\n",
    "# posPthLnksOld = {}\n",
    "# with open('data/posPthLnks.tsv') as f:\n",
    "#     print(f\"loading posPthLnksOld\")\n",
    "#     posPthLnksOldTbl = csv.DictReader(f, delimiter='\\t')\n",
    "#     posPthLnksOld = { \n",
    "#         posPthLnks[\"surah_ayah_position\"] : {\n",
    "#             # \"meaning\": posPthLnks[\"meaning\"],\n",
    "#             \"string_paths_links\": [ strPthLnkCl(**posPthLnks[\"string_paths_links\"]) ]\n",
    "#         } for posPthLnks in posPthLnksOldTbl \n",
    "#     }\n",
    "#     # posPthLnksOld = { posPthLnks[\"surah_ayah_position\"] : list(posPthLnks.values())[1:] for posPthLnks in posPthLnksOldTbl }\n",
    "#     # for row in posPthLnksOldTbl:\n",
    "#     #     surAyPos = f'{row[\"surah_ayah\"]}:{row[\"position\"]}'\n",
    "#     #     # print('for ', surAyPos)\n",
    "#     #     # surAyPos = f'{row[\"surah_ayah\"]}:{row[\"position\"]}'\n",
    "\n",
    "#     #     # instDct[surAyPos] = row\n",
    "#     #     instDct[surAyPos] = row2DictCl(**row)\n",
    "#     #     # print(instDct[surAyPos].__dict__)\n",
    "\n",
    "#     print(f\"Successfully loaded data from 'data/posPthLnks.tsv': lenght {len(posPthLnksOld)}'\")\n",
    "# posPthLnksOldKeys = list(posPthLnksOld.keys())"
   ]
  },
  {
   "cell_type": "code",
   "execution_count": null,
   "metadata": {},
   "outputs": [
    {
     "data": {
      "text/plain": [
       "{}"
      ]
     },
     "execution_count": 91,
     "metadata": {},
     "output_type": "execute_result"
    }
   ],
   "source": [
    "posPthLnksOld"
   ]
  },
  {
   "cell_type": "code",
   "execution_count": null,
   "metadata": {},
   "outputs": [],
   "source": [
    "# import json\n",
    "# with open('posSerDict.json') as f:\n",
    "#     posOrd = json.loads(f.read())\n",
    "# poss = list(posOrd.keys())"
   ]
  },
  {
   "cell_type": "code",
   "execution_count": null,
   "metadata": {},
   "outputs": [
    {
     "data": {
      "text/plain": [
       "77438"
      ]
     },
     "execution_count": 495,
     "metadata": {},
     "output_type": "execute_result"
    }
   ],
   "source": [
    "# len(poss)"
   ]
  },
  {
   "cell_type": "code",
   "execution_count": null,
   "metadata": {},
   "outputs": [],
   "source": [
    "# import time"
   ]
  },
  {
   "cell_type": "code",
   "execution_count": null,
   "metadata": {},
   "outputs": [],
   "source": [
    "# list_header = [\"surah_ayah_position\"]\n",
    "# import csv\n",
    "# start_time=time.time()\n",
    "# for pos in poss:\n",
    "#     # with open('data/posPthLnks.tsv', 'w+') as f:\n",
    "#     with open('data/posPthLnks.tsv', 'a') as f:\n",
    "#         # print(f\"writing {stri} to '{filepath}'\")\n",
    "#         writer = csv.DictWriter(f, delimiter='\\t', fieldnames=list_header)\n",
    "#         # writer.writeheader()\n",
    "#         # for datum in instLst:\n",
    "#         # for k, datum in instDct.items():\n",
    "#         # for pos, datum in posPthLnksNew.items():\n",
    "#         if pos not in posPthLnksOld.keys():\n",
    "#             writer.writerow({\n",
    "#                 list_header[0] : pos,\n",
    "#                 # list_header[1] : datum.stri,\n",
    "#                 # list_header[2] : datum.flt,\n",
    "#                 # list_header[3] : datum.strTyp,\n",
    "#                 # list_header[4] : datum.poSp,\n",
    "#                 # list_header[5] : datum.frm,\n",
    "#                 # list_header[6] : datum.lnkPths,\n",
    "#             })\n",
    "# end_time=time.time()"
   ]
  },
  {
   "cell_type": "markdown",
   "metadata": {},
   "source": [
    "# html try"
   ]
  },
  {
   "cell_type": "code",
   "execution_count": 47,
   "metadata": {},
   "outputs": [],
   "source": [
    "strlnks = [f\"https://corpus.quran.com/qurandictionary.jsp?q=mdn\"]\n",
    "for strlnk in strlnks:\n",
    "    # strlnk = f\"https://corpus.quran.com/qurandictionary.jsp?q={lnkQry}#({pos})\"\n",
    "    grabhtml = requests.get(strlnk).text\n",
    "    soup = BeautifulSoup(\n",
    "        grabhtml,\n",
    "        'lxml',\n",
    "        # 'html.parser',\n",
    "    )\n",
    "    tbls = soup.select(\n",
    "        \"table.taf\"\n",
    "        # \"ul\",\n",
    "        # {\"class\":\"also\"}\n",
    "    )\n",
    "\n",
    "    # print('table length', len(tbls))\n",
    "\n",
    "    if len(tbls)>0:\n",
    "        firstTbl= tbls[0]\n",
    "        firstRow = list(list(list(firstTbl.children)[0].children)[0])[2].text\n",
    "\n",
    "        if firstRow == 'ādama' and lnkQry != 'A^dam':\n",
    "            pass\n",
    "        else:\n",
    "        # if firstRow != 'ādama' and lnkQry != 'A^dam':\n",
    "            contnt = soup.select(\n",
    "                \"h4.dxe, p.dxt, table.taf\"\n",
    "                # \"ul.also>li, h4.dxe, table.taf\"\n",
    "                # \"ul\",\n",
    "                # {\"class\":\"also\"}\n",
    "            )\n"
   ]
  },
  {
   "cell_type": "code",
   "execution_count": 48,
   "metadata": {},
   "outputs": [
    {
     "data": {
      "text/plain": [
       "[<h4 class=\"dxe\">Noun</h4>,\n",
       " <table border=\"0\" cellpadding=\"0\" cellspacing=\"0\" class=\"taf\"><tr><td class=\"c1\"><span class=\"l\">(7:111:6)</span> <i class=\"ab\">l-madāini</i></td><td class=\"c2\"><a href=\"wordmorphology.jsp?location=(7:111:6)\" name=\"(7:111:6)\">the cities</a></td><td class=\"c3\"> قَالُوا أَرْجِهْ وَأَخَاهُ وَأَرْسِلْ فِي <span class=\"auu\">الْمَدَائِنِ</span> حَاشِرِينَ</td></tr><tr><td class=\"c1\"><span class=\"l\">(26:36:6)</span> <i class=\"ab\">l-madāini</i></td><td class=\"c2\"><a href=\"wordmorphology.jsp?location=(26:36:6)\" name=\"(26:36:6)\">the cities</a></td><td class=\"c3\"> قَالُوا أَرْجِهْ وَأَخَاهُ وَابْعَثْ فِي <span class=\"auu\">الْمَدَائِنِ</span> حَاشِرِينَ</td></tr><tr><td class=\"c1\"><span class=\"l\">(26:53:4)</span> <i class=\"ab\">l-madāini</i></td><td class=\"c2\"><a href=\"wordmorphology.jsp?location=(26:53:4)\" name=\"(26:53:4)\">the cities</a></td><td class=\"c3\"> فَأَرْسَلَ فِرْعَوْنُ فِي <span class=\"auu\">الْمَدَائِنِ</span> حَاشِرِينَ</td></tr></table>,\n",
       " <h4 class=\"dxe\">Nominal</h4>,\n",
       " <p class=\"dxt\" style=\"margin-top:0\">(1) Noun</p>,\n",
       " <table border=\"0\" cellpadding=\"0\" cellspacing=\"0\" class=\"taf\"><tr><td class=\"c1\"><span class=\"l\">(7:123:14)</span> <i class=\"ab\">l-madīnati</i></td><td class=\"c2\"><a href=\"wordmorphology.jsp?location=(7:123:14)\" name=\"(7:123:14)\">the city</a></td><td class=\"c3\"> إِنَّ هَٰذَا لَمَكْرٌ مَكَرْتُمُوهُ فِي <span class=\"auu\">الْمَدِينَةِ</span> لِتُخْرِجُوا مِنْهَا أَهْلَهَا</td></tr><tr><td class=\"c1\"><span class=\"l\">(12:30:4)</span> <i class=\"ab\">l-madīnati</i></td><td class=\"c2\"><a href=\"wordmorphology.jsp?location=(12:30:4)\" name=\"(12:30:4)\">the city</a></td><td class=\"c3\"> وَقَالَ نِسْوَةٌ فِي <span class=\"auu\">الْمَدِينَةِ</span> امْرَأَتُ الْعَزِيزِ تُرَاوِدُ فَتَاهَا عَنْ نَفْسِهِ</td></tr><tr><td class=\"c1\"><span class=\"l\">(15:67:3)</span> <i class=\"ab\">l-madīnati</i></td><td class=\"c2\"><a href=\"wordmorphology.jsp?location=(15:67:3)\" name=\"(15:67:3)\">(of) the city</a></td><td class=\"c3\"> وَجَاءَ أَهْلُ <span class=\"auu\">الْمَدِينَةِ</span> يَسْتَبْشِرُونَ</td></tr><tr><td class=\"c1\"><span class=\"l\">(18:19:26)</span> <i class=\"ab\">l-madīnati</i></td><td class=\"c2\"><a href=\"wordmorphology.jsp?location=(18:19:26)\" name=\"(18:19:26)\">the city</a></td><td class=\"c3\"> فَابْعَثُوا أَحَدَكُمْ بِوَرِقِكُمْ هَٰذِهِ إِلَى <span class=\"auu\">الْمَدِينَةِ</span></td></tr><tr><td class=\"c1\"><span class=\"l\">(18:82:7)</span> <i class=\"ab\">l-madīnati</i></td><td class=\"c2\"><a href=\"wordmorphology.jsp?location=(18:82:7)\" name=\"(18:82:7)\">the town</a></td><td class=\"c3\"> وَأَمَّا الْجِدَارُ فَكَانَ لِغُلَامَيْنِ يَتِيمَيْنِ فِي <span class=\"auu\">الْمَدِينَةِ</span></td></tr><tr><td class=\"c1\"><span class=\"l\">(27:48:3)</span> <i class=\"ab\">l-madīnati</i></td><td class=\"c2\"><a href=\"wordmorphology.jsp?location=(27:48:3)\" name=\"(27:48:3)\">the city</a></td><td class=\"c3\"> وَكَانَ فِي <span class=\"auu\">الْمَدِينَةِ</span> تِسْعَةُ رَهْطٍ يُفْسِدُونَ فِي الْأَرْضِ</td></tr><tr><td class=\"c1\"><span class=\"l\">(28:15:2)</span> <i class=\"ab\">l-madīnata</i></td><td class=\"c2\"><a href=\"wordmorphology.jsp?location=(28:15:2)\" name=\"(28:15:2)\">the city</a></td><td class=\"c3\"> وَدَخَلَ <span class=\"auu\">الْمَدِينَةَ</span> عَلَىٰ حِينِ غَفْلَةٍ مِنْ أَهْلِهَا</td></tr><tr><td class=\"c1\"><span class=\"l\">(28:18:3)</span> <i class=\"ab\">l-madīnati</i></td><td class=\"c2\"><a href=\"wordmorphology.jsp?location=(28:18:3)\" name=\"(28:18:3)\">the city</a></td><td class=\"c3\"> فَأَصْبَحَ فِي <span class=\"auu\">الْمَدِينَةِ</span> خَائِفًا يَتَرَقَّبُ</td></tr><tr><td class=\"c1\"><span class=\"l\">(28:20:5)</span> <i class=\"ab\">l-madīnati</i></td><td class=\"c2\"><a href=\"wordmorphology.jsp?location=(28:20:5)\" name=\"(28:20:5)\">(of) the city</a></td><td class=\"c3\"> وَجَاءَ رَجُلٌ مِنْ أَقْصَى <span class=\"auu\">الْمَدِينَةِ</span> يَسْعَىٰ</td></tr><tr><td class=\"c1\"><span class=\"l\">(36:20:4)</span> <i class=\"ab\">l-madīnati</i></td><td class=\"c2\"><a href=\"wordmorphology.jsp?location=(36:20:4)\" name=\"(36:20:4)\">(of) the city</a></td><td class=\"c3\"> وَجَاءَ مِنْ أَقْصَى <span class=\"auu\">الْمَدِينَةِ</span> رَجُلٌ يَسْعَىٰ قَالَ يَا قَوْمِ اتَّبِعُوا الْمُرْسَلِينَ</td></tr></table>,\n",
       " <p class=\"dxt\">(2) Proper noun</p>,\n",
       " <table border=\"0\" cellpadding=\"0\" cellspacing=\"0\" class=\"taf\"><tr><td class=\"c1\"><span class=\"l\">(9:101:8)</span> <i class=\"ab\">l-madīnati</i></td><td class=\"c2\"><a href=\"wordmorphology.jsp?location=(9:101:8)\" name=\"(9:101:8)\">(of) the Madinah</a></td><td class=\"c3\"> وَمِمَّنْ حَوْلَكُمْ مِنَ الْأَعْرَابِ مُنَافِقُونَ وَمِنْ أَهْلِ <span class=\"auu\">الْمَدِينَةِ</span></td></tr><tr><td class=\"c1\"><span class=\"l\">(9:120:4)</span> <i class=\"ab\">l-madīnati</i></td><td class=\"c2\"><a href=\"wordmorphology.jsp?location=(9:120:4)\" name=\"(9:120:4)\">of the Madinah</a></td><td class=\"c3\"> مَا كَانَ لِأَهْلِ <span class=\"auu\">الْمَدِينَةِ</span> وَمَنْ حَوْلَهُمْ مِنَ الْأَعْرَابِ أَنْ يَتَخَلَّفُوا عَنْ رَسُولِ اللَّهِ</td></tr><tr><td class=\"c1\"><span class=\"l\">(33:60:11)</span> <i class=\"ab\">l-madīnati</i></td><td class=\"c2\"><a href=\"wordmorphology.jsp?location=(33:60:11)\" name=\"(33:60:11)\">the city</a></td><td class=\"c3\"> لَئِنْ لَمْ يَنْتَهِ الْمُنَافِقُونَ وَالَّذِينَ فِي قُلُوبِهِمْ مَرَضٌ وَالْمُرْجِفُونَ فِي <span class=\"auu\">الْمَدِينَةِ</span> لَنُغْرِيَنَّكَ بِهِمْ</td></tr><tr><td class=\"c1\"><span class=\"l\">(63:8:5)</span> <i class=\"ab\">l-madīnati</i></td><td class=\"c2\"><a href=\"wordmorphology.jsp?location=(63:8:5)\" name=\"(63:8:5)\">Al-Madinah</a></td><td class=\"c3\"> يَقُولُونَ لَئِنْ رَجَعْنَا إِلَى <span class=\"auu\">الْمَدِينَةِ</span> لَيُخْرِجَنَّ الْأَعَزُّ مِنْهَا الْأَذَلَّ</td></tr></table>]"
      ]
     },
     "execution_count": 48,
     "metadata": {},
     "output_type": "execute_result"
    }
   ],
   "source": [
    "contnt"
   ]
  },
  {
   "cell_type": "code",
   "execution_count": 267,
   "metadata": {},
   "outputs": [],
   "source": [
    "from urllib.parse import quote\n",
    "from bs4 import BeautifulSoup\n",
    "import requests\n",
    "lnkQry='min'\n",
    "# pos='1:1:3'\n",
    "# lnk = f\"https://corpus.quran.com/qurandictionary.jsp?q={lnkQry}#({pos})\"\n",
    "lnk = f\"https://corpus.quran.com/search.jsp?q=lem:{quote(lnkQry)}\"\n",
    "grabhtml = requests.get(lnk).text\n",
    "soup = BeautifulSoup(\n",
    "    grabhtml,\n",
    "    'lxml',\n",
    "    # 'html.parser',\n",
    ")\n",
    "\n",
    "contnt = soup.select(\n",
    "    \"table.taf\"\n",
    "    # \"ul\",\n",
    "    # {\"class\":\"also\"}\n",
    ")\n",
    "# contnt = soup.find(\n",
    "#     \"div\",\n",
    "#     {\"class\": \"content\"}\n",
    "# )"
   ]
  },
  {
   "cell_type": "code",
   "execution_count": null,
   "metadata": {},
   "outputs": [],
   "source": [
    "import re\n",
    "if 'Results' in grabhtml:\n",
    "    matches = re.findall(\">[\\n\\s]*Results[\\s\\n]*<b>\\d*</b>[\\s\\n]*to[\\s\\n]*<b>\\d*</b>[\\s\\n]*of[\\s\\n]*<b>(\\d*)</b>\", grabhtml, re.DOTALL)\n",
    "    # print('\\nmatches: ', matches)\n",
    "    if len(matches) > 0:\n",
    "        pgFlt = int(matches[0])/50\n",
    "        pgCount = int(pgFlt) + 1 if int(matches[0]) % 50 != 0 else int(pgFlt)\n",
    "        # print(f\"page count in {lnk} is: {pgCount}\")\n",
    "        # print(type(pgCount), pgCount)\n",
    "        pgs = list(map(lambda x : f'&page={x}', list(range(2,pgCount+1))))\n",
    "\n",
    "for pg in pgs:\n",
    "    print(f'\\nin pg {pg}')\n",
    "    # grabhtml = requests.get(f\"{lnk}{pg}\").text"
   ]
  },
  {
   "cell_type": "code",
   "execution_count": null,
   "metadata": {},
   "outputs": [
    {
     "data": {
      "text/plain": [
       "\"\\n\\n\\nThe Quranic Arabic Corpus - Quran Dictionary\\n\\n\\n\\n\\n\\n\\n\\n\\n\\n\\xa0\\nQur'an\\r\\n\\t\\t| Word by Word | Audio\\r\\n\\t\\t| Prayer Times\\n\\n\\n\\n\\n\\n__\\n Sign In\\nSearch \\n\\n\\n\\n\\xa0\\n\\n\\n\\n\\n__\\n\\nQuran Dictionary - ر ح م\\n\\n\\n\\n\\nWord by WordQuran DictionaryVerb ConcordanceLemma FrequencyMorphological SearchEnglish TranslationSyntactic TreebankOntology of ConceptsDocumentationQuranic GrammarMessage BoardResourcesFeedbackJava API\\n\\n__\\n\\n\\n\\nأ ب ت ث ج ح خ د ذ ر ز س ش ص ض ط ظ ع غ ف ق ك ل م ن ه و ي\\n\\n\\nر أ سر أ فر أ ير ب بر ب حر ب صر ب طر ب عر ب ور ت عر ت قر ت لر ج جر ج زر ج سر ج عر ج فر ج لر ج مر ج ور ح بر ح قر ح لر ح مر خ ور د أر د در د فر د مر د ير ذ لر ز قر س خر س سر س لر س ور ش در ص در ص صر ض عر ض ور ط بر ع بر ع در ع ير غ بر غ در غ مر ف تر ف ثر ف در ف ر فر ف عر ف قر ق بر ق در ق قر ق مر ق ير ك بر ك در ك زر ك سر ك ضر ك عر ك مر ك نر م حر م در م زر م مر م نر م ير ه بر ه طر ه قر ه نر ه ور و حر و در و ضر و عر و غر ي بر ي شر ي عر ي ن\\xa0Go\\n\\nThe triliteral root rā ḥā mīm (ر ح م) occurs 339 times in the Quran, in nine derived forms:28 times as the form I verb raḥima (رَّحِمَ)12 times as the noun arḥām (أَرْحَام)four times as the noun arḥam (أَرْحَم)once as the noun ruḥ'm (رُحْم)57 times as the nominal raḥmān (رَّحْمَٰن)114 times as the noun raḥmat (رَحْمَة)116 times as the nominal raḥīm (رَّحِيم)once as the noun marḥamat (مَرْحَمَة)six times as the active participle rāḥimīn (رَّٰحِمِين)The translations below are brief glosses intended as a guide to meaning. An Arabic word may have a range of meanings depending on context. Click on a word for more linguistic information, or to suggestion a correction.\\nVerb (form I) - to have mercy(2:286:43) wa-ir'ḥamnāand have mercy on us وَاعْفُ عَنَّا وَاغْفِرْ لَنَا وَارْحَمْنَا(3:132:5) tur'ḥamūnareceive mercy وَأَطِيعُوا اللَّهَ وَالرَّسُولَ لَعَلَّكُمْ تُرْحَمُونَ(6:16:6) raḥimahuHe had Mercy on him مَنْ يُصْرَفْ عَنْهُ يَوْمَئِذٍ فَقَدْ رَحِمَهُ وَذَٰلِكَ الْفَوْزُ الْمُبِينُ(6:155:8) tur'ḥamūnareceive mercy وَهَٰذَا كِتَابٌ أَنْزَلْنَاهُ مُبَارَكٌ فَاتَّبِعُوهُ وَاتَّقُوا لَعَلَّكُمْ تُرْحَمُونَ(7:23:9) watarḥamnāand have mercy (on) us وَإِنْ لَمْ تَغْفِرْ لَنَا وَتَرْحَمْنَا لَنَكُونَنَّ مِنَ الْخَاسِرِينَ(7:63:13) tur'ḥamūnareceive mercy أَوَعَجِبْتُمْ أَنْ جَاءَكُمْ ذِكْرٌ مِنْ رَبِّكُمْ عَلَىٰ رَجُلٍ مِنْكُمْ لِيُنْذِرَكُمْ وَلِتَتَّقُوا وَلَعَلَّكُمْ تُرْحَمُونَ(7:149:12) yarḥamnāhas Mercy on us قَالُوا لَئِنْ لَمْ يَرْحَمْنَا رَبُّنَا وَيَغْفِرْ لَنَا لَنَكُونَنَّ مِنَ الْخَاسِرِينَ(7:155:38) wa-ir'ḥamnāand have mercy upon us أَنْتَ وَلِيُّنَا فَاغْفِرْ لَنَا وَارْحَمْنَا وَأَنْتَ خَيْرُ الْغَافِرِينَ(7:204:8) tur'ḥamūnareceive mercy وَإِذَا قُرِئَ الْقُرْآنُ فَاسْتَمِعُوا لَهُ وَأَنْصِتُوا لَعَلَّكُمْ تُرْحَمُونَ(9:71:19) sayarḥamuhumuAllah will have mercy on them أُولَٰئِكَ سَيَرْحَمُهُمُ اللَّهُ إِنَّ اللَّهَ عَزِيزٌ حَكِيمٌ(11:43:17) raḥimaHe has mercy قَالَ لَا عَاصِمَ الْيَوْمَ مِنْ أَمْرِ اللَّهِ إِلَّا مَنْ رَحِمَ(11:47:16) watarḥamnīand You have mercy on me وَإِلَّا تَغْفِرْ لِي وَتَرْحَمْنِي أَكُنْ مِنَ الْخَاسِرِينَ(11:119:3) raḥimayour Lord has bestowed Mercy إِلَّا مَنْ رَحِمَ رَبُّكَ وَلِذَٰلِكَ خَلَقَهُمْ(12:53:10) raḥimabestows Mercy إِنَّ النَّفْسَ لَأَمَّارَةٌ بِالسُّوءِ إِلَّا مَا رَحِمَ رَبِّي(17:8:4) yarḥamakum(may) have mercy upon you عَسَىٰ رَبُّكُمْ أَنْ يَرْحَمَكُمْ وَإِنْ عُدْتُمْ عُدْنَا(17:24:9) ir'ḥamhumāHave mercy on both of them وَقُلْ رَبِّ ارْحَمْهُمَا كَمَا رَبَّيَانِي صَغِيرًا(17:54:6) yarḥamkumHe will have mercy on you رَبُّكُمْ أَعْلَمُ بِكُمْ إِنْ يَشَأْ يَرْحَمْكُمْ أَوْ إِنْ يَشَأْ يُعَذِّبْكُمْ(23:75:2) raḥim'nāhumWe had mercy on them وَلَوْ رَحِمْنَاهُمْ وَكَشَفْنَا مَا بِهِمْ مِنْ ضُرٍّ لَلَجُّوا فِي طُغْيَانِهِمْ(23:109:11) wa-ir'ḥamnāand have mercy on us يَقُولُونَ رَبَّنَا آمَنَّا فَاغْفِرْ لَنَا وَارْحَمْنَا وَأَنْتَ خَيْرُ الرَّاحِمِينَ(23:118:4) wa-ir'ḥamand have mercy وَقُلْ رَبِّ اغْفِرْ وَارْحَمْ وَأَنْتَ خَيْرُ الرَّاحِمِينَ(24:56:8) tur'ḥamūnareceive mercy وَأَقِيمُوا الصَّلَاةَ وَآتُوا الزَّكَاةَ وَأَطِيعُوا الرَّسُولَ لَعَلَّكُمْ تُرْحَمُونَ(27:46:12) tur'ḥamūnareceive mercy لَوْلَا تَسْتَغْفِرُونَ اللَّهَ لَعَلَّكُمْ تُرْحَمُونَ(29:21:4) wayarḥamuand has mercy يُعَذِّبُ مَنْ يَشَاءُ وَيَرْحَمُ مَنْ يَشَاءُ وَإِلَيْهِ تُقْلَبُونَ(36:45:11) tur'ḥamūnareceive mercy وَإِذَا قِيلَ لَهُمُ اتَّقُوا مَا بَيْنَ أَيْدِيكُمْ وَمَا خَلْفَكُمْ لَعَلَّكُمْ تُرْحَمُونَ(40:9:8) raḥim'tahuYou have bestowed mercy on him وَقِهِمُ السَّيِّئَاتِ وَمَنْ تَقِ السَّيِّئَاتِ يَوْمَئِذٍ فَقَدْ رَحِمْتَهُ(44:42:3) raḥimaAllah has mercy إِلَّا مَنْ رَحِمَ اللَّهُ إِنَّهُ هُوَ الْعَزِيزُ الرَّحِيمُ(49:10:10) tur'ḥamūnareceive mercy فَأَصْلِحُوا بَيْنَ أَخَوَيْكُمْ وَاتَّقُوا اللَّهَ لَعَلَّكُمْ تُرْحَمُونَ(67:28:9) raḥimanāhas mercy upon us قُلْ أَرَأَيْتُمْ إِنْ أَهْلَكَنِيَ اللَّهُ وَمَنْ مَعِيَ أَوْ رَحِمَنَا فَمَنْ يُجِيرُ الْكَافِرِينَ مِنْ عَذَابٍ أَلِيمٍNoun(2:228:15) arḥāmihinnatheir wombs وَلَا يَحِلُّ لَهُنَّ أَنْ يَكْتُمْنَ مَا خَلَقَ اللَّهُ فِي أَرْحَامِهِنَّ(3:6:5) l-arḥāmithe wombs هُوَ الَّذِي يُصَوِّرُكُمْ فِي الْأَرْحَامِ كَيْفَ يَشَاءُ(4:1:23) wal-arḥāmaand the wombs وَاتَّقُوا اللَّهَ الَّذِي تَسَاءَلُونَ بِهِ وَالْأَرْحَامَ(6:143:17) arḥāmu(the) wombs أَمَّا اشْتَمَلَتْ عَلَيْهِ أَرْحَامُ الْأُنْثَيَيْنِ نَبِّئُونِي بِعِلْمٍ إِنْ كُنْتُمْ صَادِقِينَ(6:144:15) arḥāmu(the) wombs أَمَّا اشْتَمَلَتْ عَلَيْهِ أَرْحَامُ الْأُنْثَيَيْنِ أَمْ كُنْتُمْ شُهَدَاءَ إِذْ وَصَّاكُمُ اللَّهُ بِهَٰذَا(8:75:11) l-arḥāmi(of) blood relationship وَأُولُو الْأَرْحَامِ بَعْضُهُمْ أَوْلَىٰ بِبَعْضٍ فِي كِتَابِ اللَّهِ(13:8:9) l-arḥāmuthe womb اللَّهُ يَعْلَمُ مَا تَحْمِلُ كُلُّ أُنْثَىٰ وَمَا تَغِيضُ الْأَرْحَامُ وَمَا تَزْدَادُ(22:5:29) l-arḥāmithe wombs وَنُقِرُّ فِي الْأَرْحَامِ مَا نَشَاءُ إِلَىٰ أَجَلٍ مُسَمًّى(31:34:11) l-arḥāmithe wombs إِنَّ اللَّهَ عِنْدَهُ عِلْمُ السَّاعَةِ وَيُنَزِّلُ الْغَيْثَ وَيَعْلَمُ مَا فِي الْأَرْحَامِ(33:6:9) l-arḥāmi(of) relationships وَأُولُو الْأَرْحَامِ بَعْضُهُمْ أَوْلَىٰ بِبَعْضٍ فِي كِتَابِ اللَّهِ مِنَ الْمُؤْمِنِينَ وَالْمُهَاجِرِينَ(47:22:10) arḥāmakumyour ties of kinship فَهَلْ عَسَيْتُمْ إِنْ تَوَلَّيْتُمْ أَنْ تُفْسِدُوا فِي الْأَرْضِ وَتُقَطِّعُوا أَرْحَامَكُمْ(60:3:3) arḥāmukumyour relatives لَنْ تَنْفَعَكُمْ أَرْحَامُكُمْ وَلَا أَوْلَادُكُمْ يَوْمَ الْقِيَامَةِ يَفْصِلُ بَيْنَكُمْNoun(7:151:10) arḥamu(are) the Most Merciful وَأَدْخِلْنَا فِي رَحْمَتِكَ وَأَنْتَ أَرْحَمُ الرَّاحِمِينَ(12:64:16) arḥamu(is the) Most Merciful فَاللَّهُ خَيْرٌ حَافِظًا وَهُوَ أَرْحَمُ الرَّاحِمِينَ(12:92:10) arḥamu(is) the Most Merciful قَالَ لَا تَثْرِيبَ عَلَيْكُمُ الْيَوْمَ يَغْفِرُ اللَّهُ لَكُمْ وَهُوَ أَرْحَمُ الرَّاحِمِينَ(21:83:9) arḥamu(are) Most Merciful وَأَيُّوبَ إِذْ نَادَىٰ رَبَّهُ أَنِّي مَسَّنِيَ الضُّرُّ وَأَنْتَ أَرْحَمُ الرَّاحِمِينَNoun(18:81:9) ruḥ'man(in) affection فَأَرَدْنَا أَنْ يُبْدِلَهُمَا رَبُّهُمَا خَيْرًا مِنْهُ زَكَاةً وَأَقْرَبَ رُحْمًاNominal(1) Noun(2:163:8) l-raḥmānuthe Most Gracious وَإِلَٰهُكُمْ إِلَٰهٌ وَاحِدٌ لَا إِلَٰهَ إِلَّا هُوَ الرَّحْمَٰنُ الرَّحِيمُ(13:30:17) bil-raḥmāniin the Most Gracious لِتَتْلُوَ عَلَيْهِمُ الَّذِي أَوْحَيْنَا إِلَيْكَ وَهُمْ يَكْفُرُونَ بِالرَّحْمَٰنِ(17:110:6) l-raḥmānathe Most Gracious قُلِ ادْعُوا اللَّهَ أَوِ ادْعُوا الرَّحْمَٰنَ(19:18:4) bil-raḥmāniwith the Most Gracious قَالَتْ إِنِّي أَعُوذُ بِالرَّحْمَٰنِ مِنْكَ إِنْ كُنْتَ تَقِيًّا(19:26:13) lilrraḥmānito the Most Gracious إِنِّي نَذَرْتُ لِلرَّحْمَٰنِ صَوْمًا فَلَنْ أُكَلِّمَ الْيَوْمَ إِنْسِيًّا(19:44:8) lilrraḥmānito the Most Gracious يَا أَبَتِ لَا تَعْبُدِ الشَّيْطَانَ إِنَّ الشَّيْطَانَ كَانَ لِلرَّحْمَٰنِ عَصِيًّا(19:45:8) l-raḥmānithe Most Gracious يَا أَبَتِ إِنِّي أَخَافُ أَنْ يَمَسَّكَ عَذَابٌ مِنَ الرَّحْمَٰنِ فَتَكُونَ لِلشَّيْطَانِ وَلِيًّا(19:61:5) l-raḥmānuthe Most Gracious جَنَّاتِ عَدْنٍ الَّتِي وَعَدَ الرَّحْمَٰنُ عِبَادَهُ بِالْغَيْبِ(19:69:9) l-raḥmānithe Most Gracious ثُمَّ لَنَنْزِعَنَّ مِنْ كُلِّ شِيعَةٍ أَيُّهُمْ أَشَدُّ عَلَى الرَّحْمَٰنِ عِتِيًّا(19:75:8) l-raḥmānuthe Most Gracious قُلْ مَنْ كَانَ فِي الضَّلَالَةِ فَلْيَمْدُدْ لَهُ الرَّحْمَٰنُ مَدًّا(19:78:6) l-raḥmānithe Most Gracious أَطَّلَعَ الْغَيْبَ أَمِ اتَّخَذَ عِنْدَ الرَّحْمَٰنِ عَهْدًا(19:85:5) l-raḥmānithe Most Gracious يَوْمَ نَحْشُرُ الْمُتَّقِينَ إِلَى الرَّحْمَٰنِ وَفْدًا(19:87:8) l-raḥmānithe Most Gracious لَا يَمْلِكُونَ الشَّفَاعَةَ إِلَّا مَنِ اتَّخَذَ عِنْدَ الرَّحْمَٰنِ عَهْدًا(19:88:3) l-raḥmānuthe Most Gracious وَقَالُوا اتَّخَذَ الرَّحْمَٰنُ وَلَدًا(19:91:3) lilrraḥmānito the Most Gracious أَنْ دَعَوْا لِلرَّحْمَٰنِ وَلَدًا(19:92:3) lilrraḥmānifor the Most Gracious وَمَا يَنْبَغِي لِلرَّحْمَٰنِ أَنْ يَتَّخِذَ وَلَدًا(19:93:9) l-raḥmāni(to) the Most Gracious إِنْ كُلُّ مَنْ فِي السَّمَاوَاتِ وَالْأَرْضِ إِلَّا آتِي الرَّحْمَٰنِ عَبْدًا(19:96:8) l-raḥmānuthe Most Gracious إِنَّ الَّذِينَ آمَنُوا وَعَمِلُوا الصَّالِحَاتِ سَيَجْعَلُ لَهُمُ الرَّحْمَٰنُ وُدًّا(20:108:9) lilrraḥmānifor the Most Gracious وَخَشَعَتِ الْأَصْوَاتُ لِلرَّحْمَٰنِ فَلَا تَسْمَعُ إِلَّا هَمْسًا(20:109:9) l-raḥmānuthe Most Gracious يَوْمَئِذٍ لَا تَنْفَعُ الشَّفَاعَةُ إِلَّا مَنْ أَذِنَ لَهُ الرَّحْمَٰنُ وَرَضِيَ لَهُ قَوْلًا(21:26:3) l-raḥmānuthe Most Gracious وَقَالُوا اتَّخَذَ الرَّحْمَٰنُ وَلَدًا سُبْحَانَهُ بَلْ عِبَادٌ مُكْرَمُونَ(21:36:15) l-raḥmāni(of) the Most Gracious أَهَٰذَا الَّذِي يَذْكُرُ آلِهَتَكُمْ وَهُمْ بِذِكْرِ الرَّحْمَٰنِ هُمْ كَافِرُونَ(21:42:7) l-raḥmānithe Most Gracious قُلْ مَنْ يَكْلَؤُكُمْ بِاللَّيْلِ وَالنَّهَارِ مِنَ الرَّحْمَٰنِ(25:26:4) lilrraḥmānifor the Most Gracious الْمُلْكُ يَوْمَئِذٍ الْحَقُّ لِلرَّحْمَٰنِ وَكَانَ يَوْمًا عَلَى الْكَافِرِينَ عَسِيرًا(25:60:5) lilrraḥmānito the Most Gracious وَإِذَا قِيلَ لَهُمُ اسْجُدُوا لِلرَّحْمَٰنِ(25:60:8) l-raḥmānu(is) the Most Gracious قَالُوا وَمَا الرَّحْمَٰنُ أَنَسْجُدُ لِمَا تَأْمُرُنَا وَزَادَهُمْ نُفُورًا(26:5:6) l-raḥmānithe Most Gracious وَمَا يَأْتِيهِمْ مِنْ ذِكْرٍ مِنَ الرَّحْمَٰنِ مُحْدَثٍ إِلَّا كَانُوا عَنْهُ مُعْرِضِينَ(36:11:7) l-raḥmānathe Most Gracious إِنَّمَا تُنْذِرُ مَنِ اتَّبَعَ الذِّكْرَ وَخَشِيَ الرَّحْمَٰنَ بِالْغَيْبِ(36:15:9) l-raḥmānuthe Most Gracious قَالُوا مَا أَنْتُمْ إِلَّا بَشَرٌ مِثْلُنَا وَمَا أَنْزَلَ الرَّحْمَٰنُ مِنْ شَيْءٍ(36:23:7) l-raḥmānuthe Most Gracious إِنْ يُرِدْنِ الرَّحْمَٰنُ بِضُرٍّ لَا تُغْنِ عَنِّي شَفَاعَتُهُمْ شَيْئًا(36:52:10) l-raḥmānuthe Most Gracious هَٰذَا مَا وَعَدَ الرَّحْمَٰنُ وَصَدَقَ الْمُرْسَلُونَ(41:2:3) l-raḥmānithe Most Gracious تَنْزِيلٌ مِنَ الرَّحْمَٰنِ الرَّحِيمِ(43:17:6) lilrraḥmānifor the Most Gracious وَإِذَا بُشِّرَ أَحَدُهُمْ بِمَا ضَرَبَ لِلرَّحْمَٰنِ مَثَلًا ظَلَّ وَجْهُهُ مُسْوَدًّا(43:20:4) l-raḥmānuthe Most Gracious وَقَالُوا لَوْ شَاءَ الرَّحْمَٰنُ مَا عَبَدْنَاهُمْ(43:33:10) bil-raḥmāniin the Most Gracious لَجَعَلْنَا لِمَنْ يَكْفُرُ بِالرَّحْمَٰنِ لِبُيُوتِهِمْ سُقُفًا مِنْ فِضَّةٍ(43:45:11) l-raḥmānithe Most Gracious أَجَعَلْنَا مِنْ دُونِ الرَّحْمَٰنِ آلِهَةً يُعْبَدُونَ(43:81:4) lilrraḥmānithe Most Gracious قُلْ إِنْ كَانَ لِلرَّحْمَٰنِ وَلَدٌ فَأَنَا أَوَّلُ الْعَابِدِينَ(50:33:3) l-raḥmānathe Most Gracious مَنْ خَشِيَ الرَّحْمَٰنَ بِالْغَيْبِ وَجَاءَ بِقَلْبٍ مُنِيبٍ(59:22:12) l-raḥmānu(is) the Most Gracious عَالِمُ الْغَيْبِ وَالشَّهَادَةِ هُوَ الرَّحْمَٰنُ الرَّحِيمُ(67:3:10) l-raḥmāni(of) the Most Gracious مَا تَرَىٰ فِي خَلْقِ الرَّحْمَٰنِ مِنْ تَفَاوُتٍ(67:19:11) l-raḥmānuthe Most Gracious مَا يُمْسِكُهُنَّ إِلَّا الرَّحْمَٰنُ إِنَّهُ بِكُلِّ شَيْءٍ بَصِيرٌ(67:20:10) l-raḥmānithe Most Gracious أَمَّنْ هَٰذَا الَّذِي هُوَ جُنْدٌ لَكُمْ يَنْصُرُكُمْ مِنْ دُونِ الرَّحْمَٰنِ(67:29:3) l-raḥmānu(is) the Most Gracious قُلْ هُوَ الرَّحْمَٰنُ آمَنَّا بِهِ وَعَلَيْهِ تَوَكَّلْنَا(78:37:6) l-raḥmānithe Most Gracious رَبِّ السَّمَاوَاتِ وَالْأَرْضِ وَمَا بَيْنَهُمَا الرَّحْمَٰنِ(78:38:12) l-raḥmānuthe Most Gracious لَا يَتَكَلَّمُونَ إِلَّا مَنْ أَذِنَ لَهُ الرَّحْمَٰنُ وَقَالَ صَوَابًا(2) Adjective(1:1:3) l-raḥmānithe Most Gracious بِسْمِ اللَّهِ الرَّحْمَٰنِ الرَّحِيمِ(1:3:1) al-raḥmāniThe Most Gracious الرَّحْمَٰنِ الرَّحِيمِ(19:58:26) l-raḥmāni(of) the Most Gracious إِذَا تُتْلَىٰ عَلَيْهِمْ آيَاتُ الرَّحْمَٰنِ خَرُّوا سُجَّدًا وَبُكِيًّا(20:5:1) al-raḥmānuThe Most Gracious الرَّحْمَٰنُ عَلَى الْعَرْشِ اسْتَوَىٰ(20:90:13) l-raḥmānu(is) the Most Gracious وَإِنَّ رَبَّكُمُ الرَّحْمَٰنُ فَاتَّبِعُونِي وَأَطِيعُوا أَمْرِي(21:112:6) l-raḥmānu(is) the Most Gracious قَالَ رَبِّ احْكُمْ بِالْحَقِّ وَرَبُّنَا الرَّحْمَٰنُ الْمُسْتَعَانُ عَلَىٰ مَا تَصِفُونَ(25:59:14) l-raḥmānuthe Most Gracious ثُمَّ اسْتَوَىٰ عَلَى الْعَرْشِ الرَّحْمَٰنُ فَاسْأَلْ بِهِ خَبِيرًا(25:63:2) l-raḥmāni(of) the Most Gracious وَعِبَادُ الرَّحْمَٰنِ الَّذِينَ يَمْشُونَ عَلَى الْأَرْضِ هَوْنًا(27:30:7) l-raḥmānithe Most Gracious إِنَّهُ مِنْ سُلَيْمَانَ وَإِنَّهُ بِسْمِ اللَّهِ الرَّحْمَٰنِ الرَّحِيمِ(43:19:6) l-raḥmāni(of) the Most Gracious وَجَعَلُوا الْمَلَائِكَةَ الَّذِينَ هُمْ عِبَادُ الرَّحْمَٰنِ إِنَاثًا(43:36:5) l-raḥmāni(of) the Most Gracious وَمَنْ يَعْشُ عَنْ ذِكْرِ الرَّحْمَٰنِ نُقَيِّضْ لَهُ شَيْطَانًا فَهُوَ لَهُ قَرِينٌ(55:1:1) al-raḥmānuThe Most Gracious الرَّحْمَٰنُNoun(2:64:10) waraḥmatuhuand His Mercy فَلَوْلَا فَضْلُ اللَّهِ عَلَيْكُمْ وَرَحْمَتُهُ لَكُنْتُمْ مِنَ الْخَاسِرِينَ(2:105:19) biraḥmatihifor His Mercy وَاللَّهُ يَخْتَصُّ بِرَحْمَتِهِ مَنْ يَشَاءُ وَاللَّهُ ذُو الْفَضْلِ الْعَظِيمِ(2:157:6) waraḥmatunand Mercy أُولَٰئِكَ عَلَيْهِمْ صَلَوَاتٌ مِنْ رَبِّهِمْ وَرَحْمَةٌ(2:178:30) waraḥmatunand mercy ذَٰلِكَ تَخْفِيفٌ مِنْ رَبِّكُمْ وَرَحْمَةٌ(2:218:12) raḥmata(for) Mercy أُولَٰئِكَ يَرْجُونَ رَحْمَتَ اللَّهِ وَاللَّهُ غَفُورٌ رَحِيمٌ(3:8:12) raḥmatanmercy رَبَّنَا لَا تُزِغْ قُلُوبَنَا بَعْدَ إِذْ هَدَيْتَنَا وَهَبْ لَنَا مِنْ لَدُنْكَ رَحْمَةً(3:74:2) biraḥmatihifor His Mercy يَخْتَصُّ بِرَحْمَتِهِ مَنْ يَشَاءُ وَاللَّهُ ذُو الْفَضْلِ الْعَظِيمِ(3:107:6) raḥmati(the) Mercy وَأَمَّا الَّذِينَ ابْيَضَّتْ وُجُوهُهُمْ فَفِي رَحْمَةِ اللَّهِ(3:157:11) waraḥmatunand Mercy لَمَغْفِرَةٌ مِنَ اللَّهِ وَرَحْمَةٌ خَيْرٌ مِمَّا يَجْمَعُونَ(3:159:2) raḥmatin(of) Mercy فَبِمَا رَحْمَةٍ مِنَ اللَّهِ لِنْتَ لَهُمْ(4:83:26) waraḥmatuhuand His Mercy وَلَوْلَا فَضْلُ اللَّهِ عَلَيْكُمْ وَرَحْمَتُهُ لَاتَّبَعْتُمُ الشَّيْطَانَ إِلَّا قَلِيلًا(4:96:4) waraḥmatanand mercy دَرَجَاتٍ مِنْهُ وَمَغْفِرَةً وَرَحْمَةً وَكَانَ اللَّهُ غَفُورًا رَحِيمًا(4:113:5) waraḥmatuhuand His Mercy  وَلَوْلَا فَضْلُ اللَّهِ عَلَيْكَ وَرَحْمَتُهُ لَهَمَّتْ طَائِفَةٌ مِنْهُمْ أَنْ يُضِلُّوكَ(4:175:9) raḥmatinMercy فَأَمَّا الَّذِينَ آمَنُوا بِاللَّهِ وَاعْتَصَمُوا بِهِ فَسَيُدْخِلُهُمْ فِي رَحْمَةٍ مِنْهُ(6:12:12) l-raḥmatathe Mercy كَتَبَ عَلَىٰ نَفْسِهِ الرَّحْمَةَ لَيَجْمَعَنَّكُمْ إِلَىٰ يَوْمِ الْقِيَامَةِ لَا رَيْبَ فِيهِ(6:54:13) l-raḥmatathe Mercy فَقُلْ سَلَامٌ عَلَيْكُمْ كَتَبَ رَبُّكُمْ عَلَىٰ نَفْسِهِ الرَّحْمَةَ(6:133:4) l-raḥmati(of) mercy وَرَبُّكَ الْغَنِيُّ ذُو الرَّحْمَةِ(6:147:6) raḥmatin(of) Mercy فَإِنْ كَذَّبُوكَ فَقُلْ رَبُّكُمْ ذُو رَحْمَةٍ وَاسِعَةٍ(6:154:13) waraḥmatanand mercy وَهُدًى وَرَحْمَةً لَعَلَّهُمْ بِلِقَاءِ رَبِّهِمْ يُؤْمِنُونَ(6:157:17) waraḥmatunand a Mercy فَقَدْ جَاءَكُمْ بَيِّنَةٌ مِنْ رَبِّكُمْ وَهُدًى وَرَحْمَةٌ(7:49:7) biraḥmatinMercy أَهَٰؤُلَاءِ الَّذِينَ أَقْسَمْتُمْ لَا يَنَالُهُمُ اللَّهُ بِرَحْمَةٍ(7:52:8) waraḥmatanand mercy وَلَقَدْ جِئْنَاهُمْ بِكِتَابٍ فَصَّلْنَاهُ عَلَىٰ عِلْمٍ هُدًى وَرَحْمَةً لِقَوْمٍ يُؤْمِنُونَ(7:56:11) raḥmata(the) Mercy إِنَّ رَحْمَتَ اللَّهِ قَرِيبٌ مِنَ الْمُحْسِنِينَ(7:57:8) raḥmatihiHis Mercy وَهُوَ الَّذِي يُرْسِلُ الرِّيَاحَ بُشْرًا بَيْنَ يَدَيْ رَحْمَتِهِ(7:72:4) biraḥmatinby Mercy فَأَنْجَيْنَاهُ وَالَّذِينَ مَعَهُ بِرَحْمَةٍ مِنَّا(7:151:8) raḥmatikaYour Mercy قَالَ رَبِّ اغْفِرْ لِي وَلِأَخِي وَأَدْخِلْنَا فِي رَحْمَتِكَ(7:154:11) waraḥmatunand mercy وَفِي نُسْخَتِهَا هُدًى وَرَحْمَةٌ لِلَّذِينَ هُمْ لِرَبِّهِمْ يَرْهَبُونَ(7:156:18) waraḥmatībut My Mercy قَالَ عَذَابِي أُصِيبُ بِهِ مَنْ أَشَاءُ وَرَحْمَتِي وَسِعَتْ كُلَّ شَيْءٍ(7:203:21) waraḥmatunand mercy هَٰذَا بَصَائِرُ مِنْ رَبِّكُمْ وَهُدًى وَرَحْمَةٌ لِقَوْمٍ يُؤْمِنُونَ(9:21:3) biraḥmatinof Mercy يُبَشِّرُهُمْ رَبُّهُمْ بِرَحْمَةٍ مِنْهُ وَرِضْوَانٍ وَجَنَّاتٍ لَهُمْ فِيهَا نَعِيمٌ مُقِيمٌ(9:61:16) waraḥmatunand (is) a mercy يُؤْمِنُ بِاللَّهِ وَيُؤْمِنُ لِلْمُؤْمِنِينَ وَرَحْمَةٌ لِلَّذِينَ آمَنُوا مِنْكُمْ(9:99:23) raḥmatihiHis Mercy سَيُدْخِلُهُمُ اللَّهُ فِي رَحْمَتِهِ إِنَّ اللَّهَ غَفُورٌ رَحِيمٌ(10:21:4) raḥmatanmercy وَإِذَا أَذَقْنَا النَّاسَ رَحْمَةً مِنْ بَعْدِ ضَرَّاءَ مَسَّتْهُمْ إِذَا لَهُمْ مَكْرٌ فِي آيَاتِنَا(10:57:13) waraḥmatunand mercy وَشِفَاءٌ لِمَا فِي الصُّدُورِ وَهُدًى وَرَحْمَةٌ لِلْمُؤْمِنِينَ(10:58:4) wabiraḥmatihiand in His Mercy قُلْ بِفَضْلِ اللَّهِ وَبِرَحْمَتِهِ فَبِذَٰلِكَ فَلْيَفْرَحُوا(10:86:2) biraḥmatikaby Your Mercy وَنَجِّنَا بِرَحْمَتِكَ مِنَ الْقَوْمِ الْكَافِرِينَ(11:9:5) raḥmatan(of) Mercy from Us وَلَئِنْ أَذَقْنَا الْإِنْسَانَ مِنَّا رَحْمَةً ثُمَّ نَزَعْنَاهَا مِنْهُ إِنَّهُ لَيَئُوسٌ كَفُورٌ(11:17:15) waraḥmatanand (as) mercy وَمِنْ قَبْلِهِ كِتَابُ مُوسَىٰ إِمَامًا وَرَحْمَةً(11:28:11) raḥmatanmercy قَالَ يَا قَوْمِ أَرَأَيْتُمْ إِنْ كُنْتُ عَلَىٰ بَيِّنَةٍ مِنْ رَبِّي وَآتَانِي رَحْمَةً مِنْ عِنْدِهِ(11:58:9) biraḥmatinby a Mercy وَلَمَّا جَاءَ أَمْرُنَا نَجَّيْنَا هُودًا وَالَّذِينَ آمَنُوا مَعَهُ بِرَحْمَةٍ مِنَّا(11:63:12) raḥmatana Mercy قَالَ يَا قَوْمِ أَرَأَيْتُمْ إِنْ كُنْتُ عَلَىٰ بَيِّنَةٍ مِنْ رَبِّي وَآتَانِي مِنْهُ رَحْمَةً(11:66:9) biraḥmatinby a Mercy فَلَمَّا جَاءَ أَمْرُنَا نَجَّيْنَا صَالِحًا وَالَّذِينَ آمَنُوا مَعَهُ بِرَحْمَةٍ مِنَّا(11:73:6) raḥmatuThe Mercy of Allah رَحْمَتُ اللَّهِ وَبَرَكَاتُهُ عَلَيْكُمْ أَهْلَ الْبَيْتِ إِنَّهُ حَمِيدٌ مَجِيدٌ(11:94:9) biraḥmatinby a Mercy وَلَمَّا جَاءَ أَمْرُنَا نَجَّيْنَا شُعَيْبًا وَالَّذِينَ آمَنُوا مَعَهُ بِرَحْمَةٍ مِنَّا(12:56:11) biraḥmatināOur Mercy نُصِيبُ بِرَحْمَتِنَا مَنْ نَشَاءُ وَلَا نُضِيعُ أَجْرَ الْمُحْسِنِينَ(12:111:21) waraḥmatanand mercy وَلَٰكِنْ تَصْدِيقَ الَّذِي بَيْنَ يَدَيْهِ وَتَفْصِيلَ كُلِّ شَيْءٍ وَهُدًى وَرَحْمَةً لِقَوْمٍ يُؤْمِنُونَ(15:56:5) raḥmati(the) Mercy قَالَ وَمَنْ يَقْنَطُ مِنْ رَحْمَةِ رَبِّهِ إِلَّا الضَّالُّونَ(16:64:12) waraḥmatanand mercy إِلَّا لِتُبَيِّنَ لَهُمُ الَّذِي اخْتَلَفُوا فِيهِ وَهُدًى وَرَحْمَةً لِقَوْمٍ يُؤْمِنُونَ(16:89:22) waraḥmatanand mercy وَنَزَّلْنَا عَلَيْكَ الْكِتَابَ تِبْيَانًا لِكُلِّ شَيْءٍ وَهُدًى وَرَحْمَةً وَبُشْرَىٰ لِلْمُسْلِمِينَ(17:24:6) l-raḥmati[the] mercy وَاخْفِضْ لَهُمَا جَنَاحَ الذُّلِّ مِنَ الرَّحْمَةِ(17:28:5) raḥmatinmercy وَإِمَّا تُعْرِضَنَّ عَنْهُمُ ابْتِغَاءَ رَحْمَةٍ مِنْ رَبِّكَ تَرْجُوهَا فَقُلْ لَهُمْ قَوْلًا مَيْسُورًا(17:57:11) raḥmatahu(for) His mercy يَبْتَغُونَ إِلَىٰ رَبِّهِمُ الْوَسِيلَةَ أَيُّهُمْ أَقْرَبُ وَيَرْجُونَ رَحْمَتَهُ(17:82:7) waraḥmatunand a mercy وَنُنَزِّلُ مِنَ الْقُرْآنِ مَا هُوَ شِفَاءٌ وَرَحْمَةٌ لِلْمُؤْمِنِينَ(17:87:2) raḥmatana mercy إِلَّا رَحْمَةً مِنْ رَبِّكَ إِنَّ فَضْلَهُ كَانَ عَلَيْكَ كَبِيرًا(17:100:6) raḥmati(of) the Mercy قُلْ لَوْ أَنْتُمْ تَمْلِكُونَ خَزَائِنَ رَحْمَةِ رَبِّي إِذًا لَأَمْسَكْتُمْ خَشْيَةَ الْإِنْفَاقِ(18:10:11) raḥmatanMercy رَبَّنَا آتِنَا مِنْ لَدُنْكَ رَحْمَةً وَهَيِّئْ لَنَا مِنْ أَمْرِنَا رَشَدًا(18:16:14) raḥmatihiHis Mercy فَأْوُوا إِلَى الْكَهْفِ يَنْشُرْ لَكُمْ رَبُّكُمْ مِنْ رَحْمَتِهِ(18:58:4) l-raḥmati(of) the Mercy وَرَبُّكَ الْغَفُورُ ذُو الرَّحْمَةِ(18:65:6) raḥmatanmercy فَوَجَدَا عَبْدًا مِنْ عِبَادِنَا آتَيْنَاهُ رَحْمَةً مِنْ عِنْدِنَا(18:82:22) raḥmatan(as) a mercy فَأَرَادَ رَبُّكَ أَنْ يَبْلُغَا أَشُدَّهُمَا وَيَسْتَخْرِجَا كَنْزَهُمَا رَحْمَةً مِنْ رَبِّكَ(18:98:3) raḥmatun(is) a mercy قَالَ هَٰذَا رَحْمَةٌ مِنْ رَبِّي فَإِذَا جَاءَ وَعْدُ رَبِّي جَعَلَهُ دَكَّاءَ(19:2:2) raḥmati(of the) Mercy ذِكْرُ رَحْمَتِ رَبِّكَ عَبْدَهُ زَكَرِيَّا(19:21:11) waraḥmatanand a Mercy وَلِنَجْعَلَهُ آيَةً لِلنَّاسِ وَرَحْمَةً مِنَّا وَكَانَ أَمْرًا مَقْضِيًّا(19:50:4) raḥmatināOur Mercy وَوَهَبْنَا لَهُمْ مِنْ رَحْمَتِنَا وَجَعَلْنَا لَهُمْ لِسَانَ صِدْقٍ عَلِيًّا(19:53:4) raḥmatināOur Mercy وَوَهَبْنَا لَهُ مِنْ رَحْمَتِنَا أَخَاهُ هَارُونَ نَبِيًّا(21:75:3) raḥmatināOur Mercy وَأَدْخَلْنَاهُ فِي رَحْمَتِنَا إِنَّهُ مِنَ الصَّالِحِينَ(21:84:12) raḥmatan(as) Mercy وَآتَيْنَاهُ أَهْلَهُ وَمِثْلَهُمْ مَعَهُمْ رَحْمَةً مِنْ عِنْدِنَا وَذِكْرَىٰ لِلْعَابِدِينَ(21:86:3) raḥmatināOur Mercy وَأَدْخَلْنَاهُمْ فِي رَحْمَتِنَا إِنَّهُمْ مِنَ الصَّالِحِينَ(21:107:4) raḥmatan(as) a mercy وَمَا أَرْسَلْنَاكَ إِلَّا رَحْمَةً لِلْعَالَمِينَ(24:10:5) waraḥmatuhuand His Mercy  وَلَوْلَا فَضْلُ اللَّهِ عَلَيْكُمْ وَرَحْمَتُهُ وَأَنَّ اللَّهَ تَوَّابٌ حَكِيمٌ(24:14:5) waraḥmatuhuand His Mercy وَلَوْلَا فَضْلُ اللَّهِ عَلَيْكُمْ وَرَحْمَتُهُ فِي الدُّنْيَا وَالْآخِرَةِ لَمَسَّكُمْ فِي مَا أَفَضْتُمْ فِيهِ عَذَابٌ عَظِيمٌ(24:20:5) waraḥmatuhuand His Mercy وَلَوْلَا فَضْلُ اللَّهِ عَلَيْكُمْ وَرَحْمَتُهُ وَأَنَّ اللَّهَ رَءُوفٌ رَحِيمٌ(24:21:20) waraḥmatuhuand His Mercy وَلَوْلَا فَضْلُ اللَّهِ عَلَيْكُمْ وَرَحْمَتُهُ مَا زَكَىٰ مِنْكُمْ مِنْ أَحَدٍ أَبَدًا(25:48:8) raḥmatihiHis Mercy وَهُوَ الَّذِي أَرْسَلَ الرِّيَاحَ بُشْرًا بَيْنَ يَدَيْ رَحْمَتِهِ(27:19:21) biraḥmatikaby Your Mercy وَأَدْخِلْنِي بِرَحْمَتِكَ فِي عِبَادِكَ الصَّالِحِينَ(27:63:13) raḥmatihiHis Mercy وَمَنْ يُرْسِلُ الرِّيَاحَ بُشْرًا بَيْنَ يَدَيْ رَحْمَتِهِ(27:77:3) waraḥmatunand a mercy وَإِنَّهُ لَهُدًى وَرَحْمَةٌ لِلْمُؤْمِنِينَ(28:43:14) waraḥmatanand mercy بَصَائِرَ لِلنَّاسِ وَهُدًى وَرَحْمَةً لَعَلَّهُمْ يَتَذَكَّرُونَ(28:46:8) raḥmatan(as) a mercy وَمَا كُنْتَ بِجَانِبِ الطُّورِ إِذْ نَادَيْنَا وَلَٰكِنْ رَحْمَةً مِنْ رَبِّكَ(28:73:2) raḥmatihiHis Mercy وَمِنْ رَحْمَتِهِ جَعَلَ لَكُمُ اللَّيْلَ وَالنَّهَارَ لِتَسْكُنُوا فِيهِ وَلِتَبْتَغُوا مِنْ فَضْلِهِ(28:86:9) raḥmatan(as) a mercy وَمَا كُنْتَ تَرْجُو أَنْ يُلْقَىٰ إِلَيْكَ الْكِتَابُ إِلَّا رَحْمَةً مِنْ رَبِّكَ(29:23:9) raḥmatīMy Mercy وَالَّذِينَ كَفَرُوا بِآيَاتِ اللَّهِ وَلِقَائِهِ أُولَٰئِكَ يَئِسُوا مِنْ رَحْمَتِي(29:51:12) laraḥmatansurely is a mercy إِنَّ فِي ذَٰلِكَ لَرَحْمَةً وَذِكْرَىٰ لِقَوْمٍ يُؤْمِنُونَ(30:21:14) waraḥmatanand mercy وَمِنْ آيَاتِهِ أَنْ خَلَقَ لَكُمْ مِنْ أَنْفُسِكُمْ أَزْوَاجًا لِتَسْكُنُوا إِلَيْهَا وَجَعَلَ بَيْنَكُمْ مَوَدَّةً وَرَحْمَةً(30:33:13) raḥmatanMercy ثُمَّ إِذَا أَذَاقَهُمْ مِنْهُ رَحْمَةً إِذَا فَرِيقٌ مِنْهُمْ بِرَبِّهِمْ يُشْرِكُونَ(30:36:4) raḥmatanmercy وَإِذَا أَذَقْنَا النَّاسَ رَحْمَةً فَرِحُوا بِهَا(30:46:9) raḥmatihiHis Mercy وَمِنْ آيَاتِهِ أَنْ يُرْسِلَ الرِّيَاحَ مُبَشِّرَاتٍ وَلِيُذِيقَكُمْ مِنْ رَحْمَتِهِ(30:50:4) raḥmati(of the) Mercy فَانْظُرْ إِلَىٰ آثَارِ رَحْمَتِ اللَّهِ كَيْفَ يُحْيِي الْأَرْضَ بَعْدَ مَوْتِهَا(31:3:2) waraḥmatanand a mercy هُدًى وَرَحْمَةً لِلْمُحْسِنِينَ(33:17:15) raḥmatana mercy قُلْ مَنْ ذَا الَّذِي يَعْصِمُكُمْ مِنَ اللَّهِ إِنْ أَرَادَ بِكُمْ سُوءًا أَوْ أَرَادَ بِكُمْ رَحْمَةً(35:2:6) raḥmatinMercy مَا يَفْتَحِ اللَّهُ لِلنَّاسِ مِنْ رَحْمَةٍ فَلَا مُمْسِكَ لَهَا(36:44:2) raḥmatan(by) Mercy إِلَّا رَحْمَةً مِنَّا وَمَتَاعًا إِلَىٰ حِينٍ(38:9:4) raḥmati(of the) Mercy أَمْ عِنْدَهُمْ خَزَائِنُ رَحْمَةِ رَبِّكَ الْعَزِيزِ الْوَهَّابِ(38:43:6) raḥmatana Mercy وَوَهَبْنَا لَهُ أَهْلَهُ وَمِثْلَهُمْ مَعَهُمْ رَحْمَةً مِنَّا(39:9:11) raḥmata(for the) Mercy يَحْذَرُ الْآخِرَةَ وَيَرْجُو رَحْمَةَ رَبِّهِ(39:38:26) biraḥmatinmercy أَوْ أَرَادَنِي بِرَحْمَةٍ هَلْ هُنَّ مُمْسِكَاتُ رَحْمَتِهِ(39:38:30) raḥmatihi(of) His mercy أَوْ أَرَادَنِي بِرَحْمَةٍ هَلْ هُنَّ مُمْسِكَاتُ رَحْمَتِهِ(39:53:10) raḥmati(the) Mercy قُلْ يَا عِبَادِيَ الَّذِينَ أَسْرَفُوا عَلَىٰ أَنْفُسِهِمْ لَا تَقْنَطُوا مِنْ رَحْمَةِ اللَّهِ(40:7:18) raḥmatan(by Your) Mercy رَبَّنَا وَسِعْتَ كُلَّ شَيْءٍ رَحْمَةً وَعِلْمًا(41:50:3) raḥmatanmercy وَلَئِنْ أَذَقْنَاهُ رَحْمَةً مِنَّا مِنْ بَعْدِ ضَرَّاءَ مَسَّتْهُ لَيَقُولَنَّ هَٰذَا لِي(42:8:12) raḥmatihiHis Mercy وَلَٰكِنْ يُدْخِلُ مَنْ يَشَاءُ فِي رَحْمَتِهِ(42:28:10) raḥmatahuHis mercy وَهُوَ الَّذِي يُنَزِّلُ الْغَيْثَ مِنْ بَعْدِ مَا قَنَطُوا وَيَنْشُرُ رَحْمَتَهُ(42:48:16) raḥmatanMercy وَإِنَّا إِذَا أَذَقْنَا الْإِنْسَانَ مِنَّا رَحْمَةً فَرِحَ بِهَا(43:32:3) raḥmata(the) Mercy أَهُمْ يَقْسِمُونَ رَحْمَتَ رَبِّكَ(43:32:21) waraḥmatuBut (the) Mercy وَرَحْمَتُ رَبِّكَ خَيْرٌ مِمَّا يَجْمَعُونَ(44:6:1) raḥmatanAs Mercy رَحْمَةً مِنْ رَبِّكَ إِنَّهُ هُوَ السَّمِيعُ الْعَلِيمُ(45:20:5) waraḥmatunand mercy هَٰذَا بَصَائِرُ لِلنَّاسِ وَهُدًى وَرَحْمَةٌ لِقَوْمٍ يُوقِنُونَ(45:30:9) raḥmatihiHis mercy فَأَمَّا الَّذِينَ آمَنُوا وَعَمِلُوا الصَّالِحَاتِ فَيُدْخِلُهُمْ رَبُّهُمْ فِي رَحْمَتِهِ(46:12:6) waraḥmatanand a mercy وَمِنْ قَبْلِهِ كِتَابُ مُوسَىٰ إِمَامًا وَرَحْمَةً(48:25:30) raḥmatihiHis Mercy لِيُدْخِلَ اللَّهُ فِي رَحْمَتِهِ مَنْ يَشَاءُ(57:13:23) l-raḥmatu(is) mercy بَاطِنُهُ فِيهِ الرَّحْمَةُ وَظَاهِرُهُ مِنْ قِبَلِهِ الْعَذَابُ(57:27:18) waraḥmatanand mercy وَجَعَلْنَا فِي قُلُوبِ الَّذِينَ اتَّبَعُوهُ رَأْفَةً وَرَحْمَةً(57:28:11) raḥmatihiHis Mercy اتَّقُوا اللَّهَ وَآمِنُوا بِرَسُولِهِ يُؤْتِكُمْ كِفْلَيْنِ مِنْ رَحْمَتِهِ(76:31:5) raḥmatihiHis mercy يُدْخِلُ مَنْ يَشَاءُ فِي رَحْمَتِهِ وَالظَّالِمِينَ أَعَدَّ لَهُمْ عَذَابًا أَلِيمًاNominal(1) Adjective(1:1:4) l-raḥīmithe Most Merciful بِسْمِ اللَّهِ الرَّحْمَٰنِ الرَّحِيمِ(1:3:2) l-raḥīmithe Most Merciful الرَّحْمَٰنِ الرَّحِيمِ(2:37:11) l-raḥīmuthe Most Merciful فَتَلَقَّىٰ آدَمُ مِنْ رَبِّهِ كَلِمَاتٍ فَتَابَ عَلَيْهِ إِنَّهُ هُوَ التَّوَّابُ الرَّحِيمُ(2:54:26) l-raḥīmuthe Most Merciful ذَٰلِكُمْ خَيْرٌ لَكُمْ عِنْدَ بَارِئِكُمْ فَتَابَ عَلَيْكُمْ إِنَّهُ هُوَ التَّوَّابُ الرَّحِيمُ(2:128:17) l-raḥīmuthe Most Merciful وَأَرِنَا مَنَاسِكَنَا وَتُبْ عَلَيْنَا إِنَّكَ أَنْتَ التَّوَّابُ الرَّحِيمُ(2:143:45) raḥīmunMost Merciful وَمَا كَانَ اللَّهُ لِيُضِيعَ إِيمَانَكُمْ إِنَّ اللَّهَ بِالنَّاسِ لَرَءُوفٌ رَحِيمٌ(2:160:11) l-raḥīmuthe Most Merciful فَأُولَٰئِكَ أَتُوبُ عَلَيْهِمْ وَأَنَا التَّوَّابُ الرَّحِيمُ(2:163:9) l-raḥīmuthe Most Merciful وَإِلَٰهُكُمْ إِلَٰهٌ وَاحِدٌ لَا إِلَٰهَ إِلَّا هُوَ الرَّحْمَٰنُ الرَّحِيمُ(2:173:25) raḥīmunMost Merciful فَمَنِ اضْطُرَّ غَيْرَ بَاغٍ وَلَا عَادٍ فَلَا إِثْمَ عَلَيْهِ إِنَّ اللَّهَ غَفُورٌ رَحِيمٌ(2:182:16) raḥīmunAll-Merciful فَلَا إِثْمَ عَلَيْهِ إِنَّ اللَّهَ غَفُورٌ رَحِيمٌ(2:192:6) raḥīmunMost Merciful فَإِنِ انْتَهَوْا فَإِنَّ اللَّهَ غَفُورٌ رَحِيمٌ(2:199:12) raḥīmunMost Merciful وَاسْتَغْفِرُوا اللَّهَ إِنَّ اللَّهَ غَفُورٌ رَحِيمٌ(2:218:16) raḥīmunMost Merciful أُولَٰئِكَ يَرْجُونَ رَحْمَتَ اللَّهِ وَاللَّهُ غَفُورٌ رَحِيمٌ(2:226:13) raḥīmunMost Merciful فَإِنْ فَاءُوا فَإِنَّ اللَّهَ غَفُورٌ رَحِيمٌ(3:31:14) raḥīmunMost Merciful يُحْبِبْكُمُ اللَّهُ وَيَغْفِرْ لَكُمْ ذُنُوبَكُمْ وَاللَّهُ غَفُورٌ رَحِيمٌ(3:89:11) raḥīmunMost Merciful إِلَّا الَّذِينَ تَابُوا مِنْ بَعْدِ ذَٰلِكَ وَأَصْلَحُوا فَإِنَّ اللَّهَ غَفُورٌ رَحِيمٌ(3:129:16) raḥīmunMost Merciful يَغْفِرُ لِمَنْ يَشَاءُ وَيُعَذِّبُ مَنْ يَشَاءُ وَاللَّهُ غَفُورٌ رَحِيمٌ(4:16:14) raḥīmanMost-Merciful إِنَّ اللَّهَ كَانَ تَوَّابًا رَحِيمًا(4:23:54) raḥīmanMost-Merciful إِلَّا مَا قَدْ سَلَفَ إِنَّ اللَّهَ كَانَ غَفُورًا رَحِيمًا(4:25:58) raḥīmunMost Merciful وَأَنْ تَصْبِرُوا خَيْرٌ لَكُمْ وَاللَّهُ غَفُورٌ رَحِيمٌ(4:64:23) raḥīmanMost Merciful لَوَجَدُوا اللَّهَ تَوَّابًا رَحِيمًا(4:96:8) raḥīmanMost Merciful دَرَجَاتٍ مِنْهُ وَمَغْفِرَةً وَرَحْمَةً وَكَانَ اللَّهُ غَفُورًا رَحِيمًا(4:100:31) raḥīmanMost Merciful ثُمَّ يُدْرِكْهُ الْمَوْتُ فَقَدْ وَقَعَ أَجْرُهُ عَلَى اللَّهِ وَكَانَ اللَّهُ غَفُورًا رَحِيمًا(4:106:7) raḥīmanMost Merciful وَاسْتَغْفِرِ اللَّهَ إِنَّ اللَّهَ كَانَ غَفُورًا رَحِيمًا(4:110:13) raḥīmanMost Merciful وَمَنْ يَعْمَلْ سُوءًا أَوْ يَظْلِمْ نَفْسَهُ ثُمَّ يَسْتَغْفِرِ اللَّهَ يَجِدِ اللَّهَ غَفُورًا رَحِيمًا(4:129:22) raḥīmanMost Merciful وَإِنْ تُصْلِحُوا وَتَتَّقُوا فَإِنَّ اللَّهَ كَانَ غَفُورًا رَحِيمًا(4:152:17) raḥīmanMost Merciful أُولَٰئِكَ سَوْفَ يُؤْتِيهِمْ أُجُورَهُمْ وَكَانَ اللَّهُ غَفُورًا رَحِيمًا(5:3:61) raḥīmunMost Merciful فَمَنِ اضْطُرَّ فِي مَخْمَصَةٍ غَيْرَ مُتَجَانِفٍ لِإِثْمٍ فَإِنَّ اللَّهَ غَفُورٌ رَحِيمٌ(5:34:13) raḥīmunMost Merciful إِلَّا الَّذِينَ تَابُوا مِنْ قَبْلِ أَنْ تَقْدِرُوا عَلَيْهِمْ فَاعْلَمُوا أَنَّ اللَّهَ غَفُورٌ رَحِيمٌ(5:39:14) raḥīmunMost Merciful فَمَنْ تَابَ مِنْ بَعْدِ ظُلْمِهِ وَأَصْلَحَ فَإِنَّ اللَّهَ يَتُوبُ عَلَيْهِ إِنَّ اللَّهَ غَفُورٌ رَحِيمٌ(5:74:8) raḥīmunMost Merciful أَفَلَا يَتُوبُونَ إِلَى اللَّهِ وَيَسْتَغْفِرُونَهُ وَاللَّهُ غَفُورٌ رَحِيمٌ(5:98:9) raḥīmunMost Merciful اعْلَمُوا أَنَّ اللَّهَ شَدِيدُ الْعِقَابِ وَأَنَّ اللَّهَ غَفُورٌ رَحِيمٌ(6:54:27) raḥīmunMost Merciful أَنَّهُ مَنْ عَمِلَ مِنْكُمْ سُوءًا بِجَهَالَةٍ ثُمَّ تَابَ مِنْ بَعْدِهِ وَأَصْلَحَ فَأَنَّهُ غَفُورٌ رَحِيمٌ(6:145:39) raḥīmunMost Merciful فَمَنِ اضْطُرَّ غَيْرَ بَاغٍ وَلَا عَادٍ فَإِنَّ رَبَّكَ غَفُورٌ رَحِيمٌ(6:165:21) raḥīmunMost Merciful إِنَّ رَبَّكَ سَرِيعُ الْعِقَابِ وَإِنَّهُ لَغَفُورٌ رَحِيمٌ(7:153:14) raḥīmunMost Merciful وَالَّذِينَ عَمِلُوا السَّيِّئَاتِ ثُمَّ تَابُوا مِنْ بَعْدِهَا وَآمَنُوا إِنَّ رَبَّكَ مِنْ بَعْدِهَا لَغَفُورٌ رَحِيمٌ(7:167:19) raḥīmunMost Merciful إِنَّ رَبَّكَ لَسَرِيعُ الْعِقَابِ وَإِنَّهُ لَغَفُورٌ رَحِيمٌ(8:69:11) raḥīmunMost Merciful فَكُلُوا مِمَّا غَنِمْتُمْ حَلَالًا طَيِّبًا وَاتَّقُوا اللَّهَ إِنَّ اللَّهَ غَفُورٌ رَحِيمٌ(8:70:24) raḥīmunMost Merciful يُؤْتِكُمْ خَيْرًا مِمَّا أُخِذَ مِنْكُمْ وَيَغْفِرْ لَكُمْ وَاللَّهُ غَفُورٌ رَحِيمٌ(9:5:26) raḥīmunMost Merciful فَإِنْ تَابُوا وَأَقَامُوا الصَّلَاةَ وَآتَوُا الزَّكَاةَ فَخَلُّوا سَبِيلَهُمْ إِنَّ اللَّهَ غَفُورٌ رَحِيمٌ(9:27:12) raḥīmunMost Merciful ثُمَّ يَتُوبُ اللَّهُ مِنْ بَعْدِ ذَٰلِكَ عَلَىٰ مَنْ يَشَاءُ وَاللَّهُ غَفُورٌ رَحِيمٌ(9:91:26) raḥīmunMost Merciful مَا عَلَى الْمُحْسِنِينَ مِنْ سَبِيلٍ وَاللَّهُ غَفُورٌ رَحِيمٌ(9:99:27) raḥīmunMost Merciful سَيُدْخِلُهُمُ اللَّهُ فِي رَحْمَتِهِ إِنَّ اللَّهَ غَفُورٌ رَحِيمٌ(9:102:17) raḥīmunMost Merciful عَسَى اللَّهُ أَنْ يَتُوبَ عَلَيْهِمْ إِنَّ اللَّهَ غَفُورٌ رَحِيمٌ(9:104:16) l-raḥīmuthe Most Merciful أَلَمْ يَعْلَمُوا أَنَّ اللَّهَ هُوَ يَقْبَلُ التَّوْبَةَ عَنْ عِبَادِهِ وَيَأْخُذُ الصَّدَقَاتِ وَأَنَّ اللَّهَ هُوَ التَّوَّابُ الرَّحِيمُ(9:117:27) raḥīmunMost Merciful ثُمَّ تَابَ عَلَيْهِمْ إِنَّهُ بِهِمْ رَءُوفٌ رَحِيمٌ(9:118:31) l-raḥīmuthe Most Merciful ثُمَّ تَابَ عَلَيْهِمْ لِيَتُوبُوا إِنَّ اللَّهَ هُوَ التَّوَّابُ الرَّحِيمُ(9:128:14) raḥīmun(and) merciful حَرِيصٌ عَلَيْكُمْ بِالْمُؤْمِنِينَ رَءُوفٌ رَحِيمٌ(10:107:24) l-raḥīmuthe Most Merciful يُصِيبُ بِهِ مَنْ يَشَاءُ مِنْ عِبَادِهِ وَهُوَ الْغَفُورُ الرَّحِيمُ(11:41:11) raḥīmunMost Merciful بِسْمِ اللَّهِ مَجْرَاهَا وَمُرْسَاهَا إِنَّ رَبِّي لَغَفُورٌ رَحِيمٌ(11:90:8) raḥīmun(is) Most Merciful وَاسْتَغْفِرُوا رَبَّكُمْ ثُمَّ تُوبُوا إِلَيْهِ إِنَّ رَبِّي رَحِيمٌ وَدُودٌ(12:53:15) raḥīmunMost Merciful إِنَّ النَّفْسَ لَأَمَّارَةٌ بِالسُّوءِ إِلَّا مَا رَحِمَ رَبِّي إِنَّ رَبِّي غَفُورٌ رَحِيمٌ(12:98:9) l-raḥīmuthe Most Merciful قَالَ سَوْفَ أَسْتَغْفِرُ لَكُمْ رَبِّي إِنَّهُ هُوَ الْغَفُورُ الرَّحِيمُ(14:36:15) raḥīmunMost Merciful فَمَنْ تَبِعَنِي فَإِنَّهُ مِنِّي وَمَنْ عَصَانِي فَإِنَّكَ غَفُورٌ رَحِيمٌ(15:49:6) l-raḥīmuthe Most Merciful نَبِّئْ عِبَادِي أَنِّي أَنَا الْغَفُورُ الرَّحِيمُ(16:7:14) raḥīmunMost Merciful لَمْ تَكُونُوا بَالِغِيهِ إِلَّا بِشِقِّ الْأَنْفُسِ إِنَّ رَبَّكُمْ لَرَءُوفٌ رَحِيمٌ(16:18:10) raḥīmunMost Merciful وَإِنْ تَعُدُّوا نِعْمَةَ اللَّهِ لَا تُحْصُوهَا إِنَّ اللَّهَ لَغَفُورٌ رَحِيمٌ(16:47:8) raḥīmunMost Merciful أَوْ يَأْخُذَهُمْ عَلَىٰ تَخَوُّفٍ فَإِنَّ رَبَّكُمْ لَرَءُوفٌ رَحِيمٌ(16:110:18) raḥīmunMost Merciful ثُمَّ جَاهَدُوا وَصَبَرُوا إِنَّ رَبَّكَ مِنْ بَعْدِهَا لَغَفُورٌ رَحِيمٌ(16:115:22) raḥīmunMost Merciful فَمَنِ اضْطُرَّ غَيْرَ بَاغٍ وَلَا عَادٍ فَإِنَّ اللَّهَ غَفُورٌ رَحِيمٌ(16:119:19) raḥīmunMost Merciful إِنَّ رَبَّكَ مِنْ بَعْدِهَا لَغَفُورٌ رَحِيمٌ(22:65:27) raḥīmunMost Merciful إِنَّ اللَّهَ بِالنَّاسِ لَرَءُوفٌ رَحِيمٌ(24:5:11) raḥīmunMost Merciful إِلَّا الَّذِينَ تَابُوا مِنْ بَعْدِ ذَٰلِكَ وَأَصْلَحُوا فَإِنَّ اللَّهَ غَفُورٌ رَحِيمٌ(24:20:9) raḥīmunMost Merciful وَلَوْلَا فَضْلُ اللَّهِ عَلَيْكُمْ وَرَحْمَتُهُ وَأَنَّ اللَّهَ رَءُوفٌ رَحِيمٌ(24:22:26) raḥīmunMost Merciful أَلَا تُحِبُّونَ أَنْ يَغْفِرَ اللَّهُ لَكُمْ وَاللَّهُ غَفُورٌ رَحِيمٌ(24:33:48) raḥīmunMost Merciful وَمَنْ يُكْرِهْهُنَّ فَإِنَّ اللَّهَ مِنْ بَعْدِ إِكْرَاهِهِنَّ غَفُورٌ رَحِيمٌ(24:62:39) raḥīmunMost Merciful فَأْذَنْ لِمَنْ شِئْتَ مِنْهُمْ وَاسْتَغْفِرْ لَهُمُ اللَّهَ إِنَّ اللَّهَ غَفُورٌ رَحِيمٌ(25:6:12) raḥīmanMost Merciful قُلْ أَنْزَلَهُ الَّذِي يَعْلَمُ السِّرَّ فِي السَّمَاوَاتِ وَالْأَرْضِ إِنَّهُ كَانَ غَفُورًا رَحِيمًا(25:70:16) raḥīmanMost Merciful فَأُولَٰئِكَ يُبَدِّلُ اللَّهُ سَيِّئَاتِهِمْ حَسَنَاتٍ وَكَانَ اللَّهُ غَفُورًا رَحِيمًا(26:9:5) l-raḥīmuthe Most Merciful وَإِنَّ رَبَّكَ لَهُوَ الْعَزِيزُ الرَّحِيمُ(26:68:5) l-raḥīmuthe Most Merciful وَإِنَّ رَبَّكَ لَهُوَ الْعَزِيزُ الرَّحِيمُ(26:104:5) l-raḥīmuthe Most Merciful وَإِنَّ رَبَّكَ لَهُوَ الْعَزِيزُ الرَّحِيمُ(26:122:5) l-raḥīmuthe Most Merciful وَإِنَّ رَبَّكَ لَهُوَ الْعَزِيزُ الرَّحِيمُ(26:140:5) l-raḥīmuthe Most Merciful وَإِنَّ رَبَّكَ لَهُوَ الْعَزِيزُ الرَّحِيمُ(26:159:5) l-raḥīmuthe Most Merciful وَإِنَّ رَبَّكَ لَهُوَ الْعَزِيزُ الرَّحِيمُ(26:175:5) l-raḥīmuthe Most Merciful وَإِنَّ رَبَّكَ لَهُوَ الْعَزِيزُ الرَّحِيمُ(26:191:5) l-raḥīmuthe Most Merciful وَإِنَّ رَبَّكَ لَهُوَ الْعَزِيزُ الرَّحِيمُ(26:217:4) l-raḥīmithe Most Merciful وَتَوَكَّلْ عَلَى الْعَزِيزِ الرَّحِيمِ(27:11:11) raḥīmunMost Merciful إِلَّا مَنْ ظَلَمَ ثُمَّ بَدَّلَ حُسْنًا بَعْدَ سُوءٍ فَإِنِّي غَفُورٌ رَحِيمٌ(27:30:8) l-raḥīmithe Most Merciful إِنَّهُ مِنْ سُلَيْمَانَ وَإِنَّهُ بِسْمِ اللَّهِ الرَّحْمَٰنِ الرَّحِيمِ(28:16:13) l-raḥīmuthe Most Merciful قَالَ رَبِّ إِنِّي ظَلَمْتُ نَفْسِي فَاغْفِرْ لِي فَغَفَرَ لَهُ إِنَّهُ هُوَ الْغَفُورُ الرَّحِيمُ(30:5:8) l-raḥīmuthe Most Merciful بِنَصْرِ اللَّهِ يَنْصُرُ مَنْ يَشَاءُ وَهُوَ الْعَزِيزُ الرَّحِيمُ(32:6:6) l-raḥīmuthe Most Merciful ذَٰلِكَ عَالِمُ الْغَيْبِ وَالشَّهَادَةِ الْعَزِيزُ الرَّحِيمُ(33:5:28) raḥīmanMost Merciful وَلَٰكِنْ مَا تَعَمَّدَتْ قُلُوبُكُمْ وَكَانَ اللَّهُ غَفُورًا رَحِيمًا(33:24:16) raḥīmanMost Merciful وَيُعَذِّبَ الْمُنَافِقِينَ إِنْ شَاءَ أَوْ يَتُوبَ عَلَيْهِمْ إِنَّ اللَّهَ كَانَ غَفُورًا رَحِيمًا(33:43:13) raḥīmanMerciful لِيُخْرِجَكُمْ مِنَ الظُّلُمَاتِ إِلَى النُّورِ وَكَانَ بِالْمُؤْمِنِينَ رَحِيمًا(33:50:61) raḥīmanMost Merciful لِكَيْلَا يَكُونَ عَلَيْكَ حَرَجٌ وَكَانَ اللَّهُ غَفُورًا رَحِيمًا(33:59:21) raḥīmanMost Merciful ذَٰلِكَ أَدْنَىٰ أَنْ يُعْرَفْنَ فَلَا يُؤْذَيْنَ وَكَانَ اللَّهُ غَفُورًا رَحِيمًا(33:73:15) raḥīmanMost Merciful وَيَتُوبَ اللَّهُ عَلَى الْمُؤْمِنِينَ وَالْمُؤْمِنَاتِ وَكَانَ اللَّهُ غَفُورًا رَحِيمًا(36:5:3) l-raḥīmithe Most Merciful تَنْزِيلَ الْعَزِيزِ الرَّحِيمِ(36:58:5) raḥīminMost Merciful سَلَامٌ قَوْلًا مِنْ رَبٍّ رَحِيمٍ(39:53:20) l-raḥīmuthe Most Merciful إِنَّ اللَّهَ يَغْفِرُ الذُّنُوبَ جَمِيعًا إِنَّهُ هُوَ الْغَفُورُ الرَّحِيمُ(41:2:4) l-raḥīmithe Most Merciful تَنْزِيلٌ مِنَ الرَّحْمَٰنِ الرَّحِيمِ(41:32:4) raḥīmin(the) Most Merciful نُزُلًا مِنْ غَفُورٍ رَحِيمٍ(42:5:19) l-raḥīmuthe Most Merciful أَلَا إِنَّ اللَّهَ هُوَ الْغَفُورُ الرَّحِيمُ(44:42:8) l-raḥīmuthe Most Merciful إِلَّا مَنْ رَحِمَ اللَّهُ إِنَّهُ هُوَ الْعَزِيزُ الرَّحِيمُ(46:8:25) l-raḥīmuthe Most Merciful كَفَىٰ بِهِ شَهِيدًا بَيْنِي وَبَيْنَكُمْ وَهُوَ الْغَفُورُ الرَّحِيمُ(48:14:14) raḥīmanMost Merciful يَغْفِرُ لِمَنْ يَشَاءُ وَيُعَذِّبُ مَنْ يَشَاءُ وَكَانَ اللَّهُ غَفُورًا رَحِيمًا(48:29:9) ruḥamāuand merciful مُحَمَّدٌ رَسُولُ اللَّهِ وَالَّذِينَ مَعَهُ أَشِدَّاءُ عَلَى الْكُفَّارِ رُحَمَاءُ بَيْنَهُمْ(49:5:12) raḥīmunMost Merciful وَلَوْ أَنَّهُمْ صَبَرُوا حَتَّىٰ تَخْرُجَ إِلَيْهِمْ لَكَانَ خَيْرًا لَهُمْ وَاللَّهُ غَفُورٌ رَحِيمٌ(49:12:31) raḥīmunMost Merciful وَاتَّقُوا اللَّهَ إِنَّ اللَّهَ تَوَّابٌ رَحِيمٌ(49:14:27) raḥīmunMost Merciful لَا يَلِتْكُمْ مِنْ أَعْمَالِكُمْ شَيْئًا إِنَّ اللَّهَ غَفُورٌ رَحِيمٌ(52:28:9) l-raḥīmuthe Most Merciful إِنَّا كُنَّا مِنْ قَبْلُ نَدْعُوهُ إِنَّهُ هُوَ الْبَرُّ الرَّحِيمُ(57:9:17) raḥīmun(the) Most Merciful لِيُخْرِجَكُمْ مِنَ الظُّلُمَاتِ إِلَى النُّورِ وَإِنَّ اللَّهَ بِكُمْ لَرَءُوفٌ رَحِيمٌ(57:28:21) raḥīmunMost Merciful وَيَجْعَلْ لَكُمْ نُورًا تَمْشُونَ بِهِ وَيَغْفِرْ لَكُمْ وَاللَّهُ غَفُورٌ رَحِيمٌ(58:12:22) raḥīmunMost Merciful ذَٰلِكَ خَيْرٌ لَكُمْ وَأَطْهَرُ فَإِنْ لَمْ تَجِدُوا فَإِنَّ اللَّهَ غَفُورٌ رَحِيمٌ(59:10:23) raḥīmunMost Merciful وَلَا تَجْعَلْ فِي قُلُوبِنَا غِلًّا لِلَّذِينَ آمَنُوا رَبَّنَا إِنَّكَ رَءُوفٌ رَحِيمٌ(59:22:13) l-raḥīmuthe Most Merciful عَالِمُ الْغَيْبِ وَالشَّهَادَةِ هُوَ الرَّحْمَٰنُ الرَّحِيمُ(60:7:15) raḥīmunMost Merciful وَاللَّهُ قَدِيرٌ وَاللَّهُ غَفُورٌ رَحِيمٌ(60:12:38) raḥīmunMost Merciful فَبَايِعْهُنَّ وَاسْتَغْفِرْ لَهُنَّ اللَّهَ إِنَّ اللَّهَ غَفُورٌ رَحِيمٌ(64:14:18) raḥīmunMost Merciful وَإِنْ تَعْفُوا وَتَصْفَحُوا وَتَغْفِرُوا فَإِنَّ اللَّهَ غَفُورٌ رَحِيمٌ(66:1:14) raḥīmunMost Merciful تَبْتَغِي مَرْضَاتَ أَزْوَاجِكَ وَاللَّهُ غَفُورٌ رَحِيمٌ(2) Noun(4:29:23) raḥīmanMost Merciful وَلَا تَقْتُلُوا أَنْفُسَكُمْ إِنَّ اللَّهَ كَانَ بِكُمْ رَحِيمًا(17:66:14) raḥīmanEver Merciful رَبُّكُمُ الَّذِي يُزْجِي لَكُمُ الْفُلْكَ فِي الْبَحْرِ لِتَبْتَغُوا مِنْ فَضْلِهِ إِنَّهُ كَانَ بِكُمْ رَحِيمًا(34:2:17) l-raḥīmu(is) the Most Merciful وَمَا يَنْزِلُ مِنَ السَّمَاءِ وَمَا يَعْرُجُ فِيهَا وَهُوَ الرَّحِيمُ الْغَفُورُ(73:20:78) raḥīmunMost Merciful وَاسْتَغْفِرُوا اللَّهَ إِنَّ اللَّهَ غَفُورٌ رَحِيمٌNoun(90:17:9) bil-marḥamatito compassion وَتَوَاصَوْا بِالصَّبْرِ وَتَوَاصَوْا بِالْمَرْحَمَةِActive participle(7:151:11) l-rāḥimīna(of) the merciful وَأَدْخِلْنَا فِي رَحْمَتِكَ وَأَنْتَ أَرْحَمُ الرَّاحِمِينَ(12:64:17) l-rāḥimīna(of) the merciful فَاللَّهُ خَيْرٌ حَافِظًا وَهُوَ أَرْحَمُ الرَّاحِمِينَ(12:92:11) l-rāḥimīna(of) those who show mercy قَالَ لَا تَثْرِيبَ عَلَيْكُمُ الْيَوْمَ يَغْفِرُ اللَّهُ لَكُمْ وَهُوَ أَرْحَمُ الرَّاحِمِينَ(21:83:10) l-rāḥimīna(of) the Merciful وَأَيُّوبَ إِذْ نَادَىٰ رَبَّهُ أَنِّي مَسَّنِيَ الضُّرُّ وَأَنْتَ أَرْحَمُ الرَّاحِمِينَ(23:109:14) l-rāḥimīna(of) those who show mercy رَبَّنَا آمَنَّا فَاغْفِرْ لَنَا وَارْحَمْنَا وَأَنْتَ خَيْرُ الرَّاحِمِينَ(23:118:7) l-rāḥimīna(of) those who show mercy وَقُلْ رَبِّ اغْفِرْ وَارْحَمْ وَأَنْتَ خَيْرُ الرَّاحِمِينَ\\nSee AlsoLane's Lexicon  - Classical Arabic dictionary\\n ر ج م | ر ج و | ر ح ب | ر ح ق | ر ح ل | ر ح م | ر خ و | ر د أ | ر د د | ر د ف | ر د م \\n\\n\\n\\n\\n\\nLanguage Research Group\\nUniversity of Leeds\\n\\n__\\n\\nCopyright © Kais Dukes, 2009-2017. Maintained by the quran.com team. This is an open source project.\\nThe Quranic Arabic Corpus is available under the GNU public license with terms of use.\\n\\n\\n\\n\\n\\n\\n\\n\""
      ]
     },
     "execution_count": 456,
     "metadata": {},
     "output_type": "execute_result"
    }
   ],
   "source": [
    "soup.text"
   ]
  },
  {
   "cell_type": "code",
   "execution_count": null,
   "metadata": {},
   "outputs": [],
   "source": [
    "import re\n",
    "lnkQrys = re.findall(\n",
    "    # 'href=\"qurandictionary.jsp?q=([^#]*(?=#))',\n",
    "    'qurandictionary.jsp\\?q=([^#]*(?=#))',\n",
    "    # 'qurandictionary.jsp\\?q=([^#]*?(?=#))',\n",
    "    # grabhtml\n",
    "    soup.text\n",
    ")"
   ]
  },
  {
   "cell_type": "code",
   "execution_count": null,
   "metadata": {},
   "outputs": [
    {
     "data": {
      "text/plain": [
       "[]"
      ]
     },
     "execution_count": 347,
     "metadata": {},
     "output_type": "execute_result"
    }
   ],
   "source": [
    "lnkQrys"
   ]
  },
  {
   "cell_type": "code",
   "execution_count": null,
   "metadata": {},
   "outputs": [
    {
     "data": {
      "text/plain": [
       "'ādama'"
      ]
     },
     "execution_count": 479,
     "metadata": {},
     "output_type": "execute_result"
    }
   ],
   "source": [
    "# type(grabhtml)\n",
    "list(list(list(contnt[0].children)[0].children)[0])[2].text"
   ]
  },
  {
   "cell_type": "code",
   "execution_count": null,
   "metadata": {},
   "outputs": [],
   "source": [
    "posRow = soup.find(\n",
    "    # \"a\",\n",
    "    string=f\"({pos})\"\n",
    "    # id=f\"({pos})\"\n",
    ")\n",
    "posRows = soup.find_all(\n",
    "    # \"h4\",\n",
    "    {\"id\":\"(1:1:1)\"}\n",
    ")\n",
    "\n",
    "if len(posRows) > 0:\n",
    "    posRow = posRows[0]"
   ]
  },
  {
   "cell_type": "code",
   "execution_count": null,
   "metadata": {},
   "outputs": [
    {
     "data": {
      "text/plain": [
       "'(1:1:3)'"
      ]
     },
     "execution_count": 232,
     "metadata": {},
     "output_type": "execute_result"
    }
   ],
   "source": [
    "posRow"
   ]
  },
  {
   "cell_type": "code",
   "execution_count": null,
   "metadata": {},
   "outputs": [],
   "source": [
    "# stemLs = soup.find(\n",
    "stemLs = soup.select(\n",
    "    \"ul.also>li, h4.dxe, table.taf\"\n",
    "    # \"ul\",\n",
    "    # {\"class\":\"also\"}\n",
    ")"
   ]
  },
  {
   "cell_type": "code",
   "execution_count": null,
   "metadata": {},
   "outputs": [
    {
     "data": {
      "text/plain": [
       "'<li>28 times as the form I verb <i class=\"ab\">raḥima</i> (<span class=\"at\">رَّحِمَ</span>)</li>'"
      ]
     },
     "execution_count": 489,
     "metadata": {},
     "output_type": "execute_result"
    }
   ],
   "source": [
    "str(stemLs[0])"
   ]
  },
  {
   "cell_type": "code",
   "execution_count": null,
   "metadata": {},
   "outputs": [
    {
     "data": {
      "text/plain": [
       "2"
      ]
     },
     "execution_count": 461,
     "metadata": {},
     "output_type": "execute_result"
    }
   ],
   "source": [
    "len(stemLs)"
   ]
  },
  {
   "cell_type": "code",
   "execution_count": null,
   "metadata": {},
   "outputs": [],
   "source": [
    "tblReq = posRow.parent.parent.parent.parent.parent.parent"
   ]
  },
  {
   "cell_type": "code",
   "execution_count": null,
   "metadata": {},
   "outputs": [
    {
     "data": {
      "text/plain": [
       "<td class=\"contentCell\" colspan=\"2\">\n",
       "<div class=\"content\">\n",
       "<div class=\"sectionArea\">\n",
       "<a href=\"?q=A\">أ</a> <a href=\"?q=b\">ب</a> <a href=\"?q=t\">ت</a> <a href=\"?q=v\">ث</a> <a href=\"?q=j\">ج</a> <a href=\"?q=H\">ح</a> <a href=\"?q=x\">خ</a> <a href=\"?q=d\">د</a> <a href=\"?q=*\">ذ</a> <a class=\"selected\" href=\"?q=r\">ر</a> <a href=\"?q=z\">ز</a> <a href=\"?q=s\">س</a> <a href=\"?q=$\">ش</a> <a href=\"?q=S\">ص</a> <a href=\"?q=D\">ض</a> <a href=\"?q=T\">ط</a> <a href=\"?q=Z\">ظ</a> <a href=\"?q=E\">ع</a> <a href=\"?q=g\">غ</a> <a href=\"?q=f\">ف</a> <a href=\"?q=q\">ق</a> <a href=\"?q=k\">ك</a> <a href=\"?q=l\">ل</a> <a href=\"?q=m\">م</a> <a href=\"?q=n\">ن</a> <a href=\"?q=h\">ه</a> <a href=\"?q=w\">و</a> <a href=\"?q=y\">ي</a>\n",
       "</div>\n",
       "<div class=\"entryArea\">\n",
       "<select id=\"entryList\" name=\"entryList\"><option value=\"rAs\">ر أ س</option><option value=\"rAf\">ر أ ف</option><option value=\"rAy\">ر أ ي</option><option value=\"rbb\">ر ب ب</option><option value=\"rbH\">ر ب ح</option><option value=\"rbS\">ر ب ص</option><option value=\"rbT\">ر ب ط</option><option value=\"rbE\">ر ب ع</option><option value=\"rbw\">ر ب و</option><option value=\"rtE\">ر ت ع</option><option value=\"rtq\">ر ت ق</option><option value=\"rtl\">ر ت ل</option><option value=\"rjj\">ر ج ج</option><option value=\"rjz\">ر ج ز</option><option value=\"rjs\">ر ج س</option><option value=\"rjE\">ر ج ع</option><option value=\"rjf\">ر ج ف</option><option value=\"rjl\">ر ج ل</option><option value=\"rjm\">ر ج م</option><option value=\"rjw\">ر ج و</option><option value=\"rHb\">ر ح ب</option><option value=\"rHq\">ر ح ق</option><option value=\"rHl\">ر ح ل</option><option selected=\"selected\" value=\"rHm\">ر ح م</option><option value=\"rxw\">ر خ و</option><option value=\"rdA\">ر د أ</option><option value=\"rdd\">ر د د</option><option value=\"rdf\">ر د ف</option><option value=\"rdm\">ر د م</option><option value=\"rdy\">ر د ي</option><option value=\"r*l\">ر ذ ل</option><option value=\"rzq\">ر ز ق</option><option value=\"rsx\">ر س خ</option><option value=\"rss\">ر س س</option><option value=\"rsl\">ر س ل</option><option value=\"rsw\">ر س و</option><option value=\"r%24d\">ر ش د</option><option value=\"rSd\">ر ص د</option><option value=\"rSS\">ر ص ص</option><option value=\"rDE\">ر ض ع</option><option value=\"rDw\">ر ض و</option><option value=\"rTb\">ر ط ب</option><option value=\"rEb\">ر ع ب</option><option value=\"rEd\">ر ع د</option><option value=\"rEy\">ر ع ي</option><option value=\"rgb\">ر غ ب</option><option value=\"rgd\">ر غ د</option><option value=\"rgm\">ر غ م</option><option value=\"rft\">ر ف ت</option><option value=\"rfv\">ر ف ث</option><option value=\"rfd\">ر ف د</option><option value=\"rfrf\">ر ف ر ف</option><option value=\"rfE\">ر ف ع</option><option value=\"rfq\">ر ف ق</option><option value=\"rqb\">ر ق ب</option><option value=\"rqd\">ر ق د</option><option value=\"rqq\">ر ق ق</option><option value=\"rqm\">ر ق م</option><option value=\"rqy\">ر ق ي</option><option value=\"rkb\">ر ك ب</option><option value=\"rkd\">ر ك د</option><option value=\"rkz\">ر ك ز</option><option value=\"rks\">ر ك س</option><option value=\"rkD\">ر ك ض</option><option value=\"rkE\">ر ك ع</option><option value=\"rkm\">ر ك م</option><option value=\"rkn\">ر ك ن</option><option value=\"rmH\">ر م ح</option><option value=\"rmd\">ر م د</option><option value=\"rmz\">ر م ز</option><option value=\"rmm\">ر م م</option><option value=\"rmn\">ر م ن</option><option value=\"rmy\">ر م ي</option><option value=\"rhb\">ر ه ب</option><option value=\"rhT\">ر ه ط</option><option value=\"rhq\">ر ه ق</option><option value=\"rhn\">ر ه ن</option><option value=\"rhw\">ر ه و</option><option value=\"rwH\">ر و ح</option><option value=\"rwd\">ر و د</option><option value=\"rwD\">ر و ض</option><option value=\"rwE\">ر و ع</option><option value=\"rwg\">ر و غ</option><option value=\"ryb\">ر ي ب</option><option value=\"ry%24\">ر ي ش</option><option value=\"ryE\">ر ي ع</option><option value=\"ryn\">ر ي ن</option></select> <button class=\"navEntry\" onclick=\"navigateDictionary();\" type=\"button\">Go</button>\n",
       "</div>\n",
       "<p class=\"dsm\">The triliteral root <i class=\"ab\">rā ḥā mīm</i> (<span class=\"at\">ر ح م</span>) occurs 339 times in the Quran, in nine derived forms:</p><ul class=\"also\"><li>28 times as the form I verb <i class=\"ab\">raḥima</i> (<span class=\"at\">رَّحِمَ</span>)</li><li>12 times as the noun <i class=\"ab\">arḥām</i> (<span class=\"at\">أَرْحَام</span>)</li><li>four times as the noun <i class=\"ab\">arḥam</i> (<span class=\"at\">أَرْحَم</span>)</li><li>once as the noun <i class=\"ab\">ruḥ'm</i> (<span class=\"at\">رُحْم</span>)</li><li>57 times as the nominal <i class=\"ab\">raḥmān</i> (<span class=\"at\">رَّحْمَٰن</span>)</li><li>114 times as the noun <i class=\"ab\">raḥmat</i> (<span class=\"at\">رَحْمَة</span>)</li><li>116 times as the nominal <i class=\"ab\">raḥīm</i> (<span class=\"at\">رَّحِيم</span>)</li><li>once as the noun <i class=\"ab\">marḥamat</i> (<span class=\"at\">مَرْحَمَة</span>)</li><li>six times as the active participle <i class=\"ab\">rāḥimīn</i> (<span class=\"at\">رَّٰحِمِين</span>)</li></ul><p>The translations below are brief glosses intended as a guide to meaning. An Arabic word may have a <a href=\"/faq.jsp#translation\">range of meanings</a> depending on context. Click on a word for more linguistic information, or to suggestion a correction.</p>\n",
       "<h4 class=\"dxe\">Verb (form I) - to have mercy</h4><table border=\"0\" cellpadding=\"0\" cellspacing=\"0\" class=\"taf\"><tr><td class=\"c1\"><span class=\"l\">(2:286:43)</span> <i class=\"ab\">wa-ir'ḥamnā</i></td><td class=\"c2\"><a href=\"wordmorphology.jsp?location=(2:286:43)\" name=\"(2:286:43)\">and have mercy on us</a></td><td class=\"c3\"> وَاعْفُ عَنَّا وَاغْفِرْ لَنَا <span class=\"auu\">وَارْحَمْنَا</span></td></tr><tr><td class=\"c1\"><span class=\"l\">(3:132:5)</span> <i class=\"ab\">tur'ḥamūna</i></td><td class=\"c2\"><a href=\"wordmorphology.jsp?location=(3:132:5)\" name=\"(3:132:5)\">receive mercy</a></td><td class=\"c3\"> وَأَطِيعُوا اللَّهَ وَالرَّسُولَ لَعَلَّكُمْ <span class=\"auu\">تُرْحَمُونَ</span></td></tr><tr><td class=\"c1\"><span class=\"l\">(6:16:6)</span> <i class=\"ab\">raḥimahu</i></td><td class=\"c2\"><a href=\"wordmorphology.jsp?location=(6:16:6)\" name=\"(6:16:6)\">He had Mercy on him</a></td><td class=\"c3\"> مَنْ يُصْرَفْ عَنْهُ يَوْمَئِذٍ فَقَدْ <span class=\"auu\">رَحِمَهُ</span> وَذَٰلِكَ الْفَوْزُ الْمُبِينُ</td></tr><tr><td class=\"c1\"><span class=\"l\">(6:155:8)</span> <i class=\"ab\">tur'ḥamūna</i></td><td class=\"c2\"><a href=\"wordmorphology.jsp?location=(6:155:8)\" name=\"(6:155:8)\">receive mercy</a></td><td class=\"c3\"> وَهَٰذَا كِتَابٌ أَنْزَلْنَاهُ مُبَارَكٌ فَاتَّبِعُوهُ وَاتَّقُوا لَعَلَّكُمْ <span class=\"auu\">تُرْحَمُونَ</span></td></tr><tr><td class=\"c1\"><span class=\"l\">(7:23:9)</span> <i class=\"ab\">watarḥamnā</i></td><td class=\"c2\"><a href=\"wordmorphology.jsp?location=(7:23:9)\" name=\"(7:23:9)\">and have mercy (on) us</a></td><td class=\"c3\"> وَإِنْ لَمْ تَغْفِرْ لَنَا <span class=\"auu\">وَتَرْحَمْنَا</span> لَنَكُونَنَّ مِنَ الْخَاسِرِينَ</td></tr><tr><td class=\"c1\"><span class=\"l\">(7:63:13)</span> <i class=\"ab\">tur'ḥamūna</i></td><td class=\"c2\"><a href=\"wordmorphology.jsp?location=(7:63:13)\" name=\"(7:63:13)\">receive mercy</a></td><td class=\"c3\"> أَوَعَجِبْتُمْ أَنْ جَاءَكُمْ ذِكْرٌ مِنْ رَبِّكُمْ عَلَىٰ رَجُلٍ مِنْكُمْ لِيُنْذِرَكُمْ وَلِتَتَّقُوا وَلَعَلَّكُمْ <span class=\"auu\">تُرْحَمُونَ</span></td></tr><tr><td class=\"c1\"><span class=\"l\">(7:149:12)</span> <i class=\"ab\">yarḥamnā</i></td><td class=\"c2\"><a href=\"wordmorphology.jsp?location=(7:149:12)\" name=\"(7:149:12)\">has Mercy on us</a></td><td class=\"c3\"> قَالُوا لَئِنْ لَمْ <span class=\"auu\">يَرْحَمْنَا</span> رَبُّنَا وَيَغْفِرْ لَنَا لَنَكُونَنَّ مِنَ الْخَاسِرِينَ</td></tr><tr><td class=\"c1\"><span class=\"l\">(7:155:38)</span> <i class=\"ab\">wa-ir'ḥamnā</i></td><td class=\"c2\"><a href=\"wordmorphology.jsp?location=(7:155:38)\" name=\"(7:155:38)\">and have mercy upon us</a></td><td class=\"c3\"> أَنْتَ وَلِيُّنَا فَاغْفِرْ لَنَا <span class=\"auu\">وَارْحَمْنَا</span> وَأَنْتَ خَيْرُ الْغَافِرِينَ</td></tr><tr><td class=\"c1\"><span class=\"l\">(7:204:8)</span> <i class=\"ab\">tur'ḥamūna</i></td><td class=\"c2\"><a href=\"wordmorphology.jsp?location=(7:204:8)\" name=\"(7:204:8)\">receive mercy</a></td><td class=\"c3\"> وَإِذَا قُرِئَ الْقُرْآنُ فَاسْتَمِعُوا لَهُ وَأَنْصِتُوا لَعَلَّكُمْ <span class=\"auu\">تُرْحَمُونَ</span></td></tr><tr><td class=\"c1\"><span class=\"l\">(9:71:19)</span> <i class=\"ab\">sayarḥamuhumu</i></td><td class=\"c2\"><a href=\"wordmorphology.jsp?location=(9:71:19)\" name=\"(9:71:19)\">Allah will have mercy on them</a></td><td class=\"c3\"> أُولَٰئِكَ <span class=\"auu\">سَيَرْحَمُهُمُ</span> اللَّهُ إِنَّ اللَّهَ عَزِيزٌ حَكِيمٌ</td></tr><tr><td class=\"c1\"><span class=\"l\">(11:43:17)</span> <i class=\"ab\">raḥima</i></td><td class=\"c2\"><a href=\"wordmorphology.jsp?location=(11:43:17)\" name=\"(11:43:17)\">He has mercy</a></td><td class=\"c3\"> قَالَ لَا عَاصِمَ الْيَوْمَ مِنْ أَمْرِ اللَّهِ إِلَّا مَنْ <span class=\"auu\">رَحِمَ</span></td></tr><tr><td class=\"c1\"><span class=\"l\">(11:47:16)</span> <i class=\"ab\">watarḥamnī</i></td><td class=\"c2\"><a href=\"wordmorphology.jsp?location=(11:47:16)\" name=\"(11:47:16)\">and You have mercy on me</a></td><td class=\"c3\"> وَإِلَّا تَغْفِرْ لِي <span class=\"auu\">وَتَرْحَمْنِي</span> أَكُنْ مِنَ الْخَاسِرِينَ</td></tr><tr><td class=\"c1\"><span class=\"l\">(11:119:3)</span> <i class=\"ab\">raḥima</i></td><td class=\"c2\"><a href=\"wordmorphology.jsp?location=(11:119:3)\" name=\"(11:119:3)\">your Lord has bestowed Mercy</a></td><td class=\"c3\"> إِلَّا مَنْ <span class=\"auu\">رَحِمَ</span> رَبُّكَ وَلِذَٰلِكَ خَلَقَهُمْ</td></tr><tr><td class=\"c1\"><span class=\"l\">(12:53:10)</span> <i class=\"ab\">raḥima</i></td><td class=\"c2\"><a href=\"wordmorphology.jsp?location=(12:53:10)\" name=\"(12:53:10)\">bestows Mercy</a></td><td class=\"c3\"> إِنَّ النَّفْسَ لَأَمَّارَةٌ بِالسُّوءِ إِلَّا مَا <span class=\"auu\">رَحِمَ</span> رَبِّي</td></tr><tr><td class=\"c1\"><span class=\"l\">(17:8:4)</span> <i class=\"ab\">yarḥamakum</i></td><td class=\"c2\"><a href=\"wordmorphology.jsp?location=(17:8:4)\" name=\"(17:8:4)\">(may) have mercy upon you</a></td><td class=\"c3\"> عَسَىٰ رَبُّكُمْ أَنْ <span class=\"auu\">يَرْحَمَكُمْ</span> وَإِنْ عُدْتُمْ عُدْنَا</td></tr><tr><td class=\"c1\"><span class=\"l\">(17:24:9)</span> <i class=\"ab\">ir'ḥamhumā</i></td><td class=\"c2\"><a href=\"wordmorphology.jsp?location=(17:24:9)\" name=\"(17:24:9)\">Have mercy on both of them</a></td><td class=\"c3\"> وَقُلْ رَبِّ <span class=\"auu\">ارْحَمْهُمَا</span> كَمَا رَبَّيَانِي صَغِيرًا</td></tr><tr><td class=\"c1\"><span class=\"l\">(17:54:6)</span> <i class=\"ab\">yarḥamkum</i></td><td class=\"c2\"><a href=\"wordmorphology.jsp?location=(17:54:6)\" name=\"(17:54:6)\">He will have mercy on you</a></td><td class=\"c3\"> رَبُّكُمْ أَعْلَمُ بِكُمْ إِنْ يَشَأْ <span class=\"auu\">يَرْحَمْكُمْ</span> أَوْ إِنْ يَشَأْ يُعَذِّبْكُمْ</td></tr><tr><td class=\"c1\"><span class=\"l\">(23:75:2)</span> <i class=\"ab\">raḥim'nāhum</i></td><td class=\"c2\"><a href=\"wordmorphology.jsp?location=(23:75:2)\" name=\"(23:75:2)\">We had mercy on them</a></td><td class=\"c3\"> وَلَوْ <span class=\"auu\">رَحِمْنَاهُمْ</span> وَكَشَفْنَا مَا بِهِمْ مِنْ ضُرٍّ لَلَجُّوا فِي طُغْيَانِهِمْ</td></tr><tr><td class=\"c1\"><span class=\"l\">(23:109:11)</span> <i class=\"ab\">wa-ir'ḥamnā</i></td><td class=\"c2\"><a href=\"wordmorphology.jsp?location=(23:109:11)\" name=\"(23:109:11)\">and have mercy on us</a></td><td class=\"c3\"> يَقُولُونَ رَبَّنَا آمَنَّا فَاغْفِرْ لَنَا <span class=\"auu\">وَارْحَمْنَا</span> وَأَنْتَ خَيْرُ الرَّاحِمِينَ</td></tr><tr><td class=\"c1\"><span class=\"l\">(23:118:4)</span> <i class=\"ab\">wa-ir'ḥam</i></td><td class=\"c2\"><a href=\"wordmorphology.jsp?location=(23:118:4)\" name=\"(23:118:4)\">and have mercy</a></td><td class=\"c3\"> وَقُلْ رَبِّ اغْفِرْ <span class=\"auu\">وَارْحَمْ</span> وَأَنْتَ خَيْرُ الرَّاحِمِينَ</td></tr><tr><td class=\"c1\"><span class=\"l\">(24:56:8)</span> <i class=\"ab\">tur'ḥamūna</i></td><td class=\"c2\"><a href=\"wordmorphology.jsp?location=(24:56:8)\" name=\"(24:56:8)\">receive mercy</a></td><td class=\"c3\"> وَأَقِيمُوا الصَّلَاةَ وَآتُوا الزَّكَاةَ وَأَطِيعُوا الرَّسُولَ لَعَلَّكُمْ <span class=\"auu\">تُرْحَمُونَ</span></td></tr><tr><td class=\"c1\"><span class=\"l\">(27:46:12)</span> <i class=\"ab\">tur'ḥamūna</i></td><td class=\"c2\"><a href=\"wordmorphology.jsp?location=(27:46:12)\" name=\"(27:46:12)\">receive mercy</a></td><td class=\"c3\"> لَوْلَا تَسْتَغْفِرُونَ اللَّهَ لَعَلَّكُمْ <span class=\"auu\">تُرْحَمُونَ</span></td></tr><tr><td class=\"c1\"><span class=\"l\">(29:21:4)</span> <i class=\"ab\">wayarḥamu</i></td><td class=\"c2\"><a href=\"wordmorphology.jsp?location=(29:21:4)\" name=\"(29:21:4)\">and has mercy</a></td><td class=\"c3\"> يُعَذِّبُ مَنْ يَشَاءُ <span class=\"auu\">وَيَرْحَمُ</span> مَنْ يَشَاءُ وَإِلَيْهِ تُقْلَبُونَ</td></tr><tr><td class=\"c1\"><span class=\"l\">(36:45:11)</span> <i class=\"ab\">tur'ḥamūna</i></td><td class=\"c2\"><a href=\"wordmorphology.jsp?location=(36:45:11)\" name=\"(36:45:11)\">receive mercy</a></td><td class=\"c3\"> وَإِذَا قِيلَ لَهُمُ اتَّقُوا مَا بَيْنَ أَيْدِيكُمْ وَمَا خَلْفَكُمْ لَعَلَّكُمْ <span class=\"auu\">تُرْحَمُونَ</span></td></tr><tr><td class=\"c1\"><span class=\"l\">(40:9:8)</span> <i class=\"ab\">raḥim'tahu</i></td><td class=\"c2\"><a href=\"wordmorphology.jsp?location=(40:9:8)\" name=\"(40:9:8)\">You have bestowed mercy on him</a></td><td class=\"c3\"> وَقِهِمُ السَّيِّئَاتِ وَمَنْ تَقِ السَّيِّئَاتِ يَوْمَئِذٍ فَقَدْ <span class=\"auu\">رَحِمْتَهُ</span></td></tr><tr><td class=\"c1\"><span class=\"l\">(44:42:3)</span> <i class=\"ab\">raḥima</i></td><td class=\"c2\"><a href=\"wordmorphology.jsp?location=(44:42:3)\" name=\"(44:42:3)\">Allah has mercy</a></td><td class=\"c3\"> إِلَّا مَنْ <span class=\"auu\">رَحِمَ</span> اللَّهُ إِنَّهُ هُوَ الْعَزِيزُ الرَّحِيمُ</td></tr><tr><td class=\"c1\"><span class=\"l\">(49:10:10)</span> <i class=\"ab\">tur'ḥamūna</i></td><td class=\"c2\"><a href=\"wordmorphology.jsp?location=(49:10:10)\" name=\"(49:10:10)\">receive mercy</a></td><td class=\"c3\"> فَأَصْلِحُوا بَيْنَ أَخَوَيْكُمْ وَاتَّقُوا اللَّهَ لَعَلَّكُمْ <span class=\"auu\">تُرْحَمُونَ</span></td></tr><tr><td class=\"c1\"><span class=\"l\">(67:28:9)</span> <i class=\"ab\">raḥimanā</i></td><td class=\"c2\"><a href=\"wordmorphology.jsp?location=(67:28:9)\" name=\"(67:28:9)\">has mercy upon us</a></td><td class=\"c3\"> قُلْ أَرَأَيْتُمْ إِنْ أَهْلَكَنِيَ اللَّهُ وَمَنْ مَعِيَ أَوْ <span class=\"auu\">رَحِمَنَا</span> فَمَنْ يُجِيرُ الْكَافِرِينَ مِنْ عَذَابٍ أَلِيمٍ</td></tr></table><h4 class=\"dxe\">Noun</h4><table border=\"0\" cellpadding=\"0\" cellspacing=\"0\" class=\"taf\"><tr><td class=\"c1\"><span class=\"l\">(2:228:15)</span> <i class=\"ab\">arḥāmihinna</i></td><td class=\"c2\"><a href=\"wordmorphology.jsp?location=(2:228:15)\" name=\"(2:228:15)\">their wombs</a></td><td class=\"c3\"> وَلَا يَحِلُّ لَهُنَّ أَنْ يَكْتُمْنَ مَا خَلَقَ اللَّهُ فِي <span class=\"auu\">أَرْحَامِهِنَّ</span></td></tr><tr><td class=\"c1\"><span class=\"l\">(3:6:5)</span> <i class=\"ab\">l-arḥāmi</i></td><td class=\"c2\"><a href=\"wordmorphology.jsp?location=(3:6:5)\" name=\"(3:6:5)\">the wombs</a></td><td class=\"c3\"> هُوَ الَّذِي يُصَوِّرُكُمْ فِي <span class=\"auu\">الْأَرْحَامِ</span> كَيْفَ يَشَاءُ</td></tr><tr><td class=\"c1\"><span class=\"l\">(4:1:23)</span> <i class=\"ab\">wal-arḥāma</i></td><td class=\"c2\"><a href=\"wordmorphology.jsp?location=(4:1:23)\" name=\"(4:1:23)\">and the wombs</a></td><td class=\"c3\"> وَاتَّقُوا اللَّهَ الَّذِي تَسَاءَلُونَ بِهِ <span class=\"auu\">وَالْأَرْحَامَ</span></td></tr><tr><td class=\"c1\"><span class=\"l\">(6:143:17)</span> <i class=\"ab\">arḥāmu</i></td><td class=\"c2\"><a href=\"wordmorphology.jsp?location=(6:143:17)\" name=\"(6:143:17)\">(the) wombs</a></td><td class=\"c3\"> أَمَّا اشْتَمَلَتْ عَلَيْهِ <span class=\"auu\">أَرْحَامُ</span> الْأُنْثَيَيْنِ نَبِّئُونِي بِعِلْمٍ إِنْ كُنْتُمْ صَادِقِينَ</td></tr><tr><td class=\"c1\"><span class=\"l\">(6:144:15)</span> <i class=\"ab\">arḥāmu</i></td><td class=\"c2\"><a href=\"wordmorphology.jsp?location=(6:144:15)\" name=\"(6:144:15)\">(the) wombs</a></td><td class=\"c3\"> أَمَّا اشْتَمَلَتْ عَلَيْهِ <span class=\"auu\">أَرْحَامُ</span> الْأُنْثَيَيْنِ أَمْ كُنْتُمْ شُهَدَاءَ إِذْ وَصَّاكُمُ اللَّهُ بِهَٰذَا</td></tr><tr><td class=\"c1\"><span class=\"l\">(8:75:11)</span> <i class=\"ab\">l-arḥāmi</i></td><td class=\"c2\"><a href=\"wordmorphology.jsp?location=(8:75:11)\" name=\"(8:75:11)\">(of) blood relationship</a></td><td class=\"c3\"> وَأُولُو <span class=\"auu\">الْأَرْحَامِ</span> بَعْضُهُمْ أَوْلَىٰ بِبَعْضٍ فِي كِتَابِ اللَّهِ</td></tr><tr><td class=\"c1\"><span class=\"l\">(13:8:9)</span> <i class=\"ab\">l-arḥāmu</i></td><td class=\"c2\"><a href=\"wordmorphology.jsp?location=(13:8:9)\" name=\"(13:8:9)\">the womb</a></td><td class=\"c3\"> اللَّهُ يَعْلَمُ مَا تَحْمِلُ كُلُّ أُنْثَىٰ وَمَا تَغِيضُ <span class=\"auu\">الْأَرْحَامُ</span> وَمَا تَزْدَادُ</td></tr><tr><td class=\"c1\"><span class=\"l\">(22:5:29)</span> <i class=\"ab\">l-arḥāmi</i></td><td class=\"c2\"><a href=\"wordmorphology.jsp?location=(22:5:29)\" name=\"(22:5:29)\">the wombs</a></td><td class=\"c3\"> وَنُقِرُّ فِي <span class=\"auu\">الْأَرْحَامِ</span> مَا نَشَاءُ إِلَىٰ أَجَلٍ مُسَمًّى</td></tr><tr><td class=\"c1\"><span class=\"l\">(31:34:11)</span> <i class=\"ab\">l-arḥāmi</i></td><td class=\"c2\"><a href=\"wordmorphology.jsp?location=(31:34:11)\" name=\"(31:34:11)\">the wombs</a></td><td class=\"c3\"> إِنَّ اللَّهَ عِنْدَهُ عِلْمُ السَّاعَةِ وَيُنَزِّلُ الْغَيْثَ وَيَعْلَمُ مَا فِي <span class=\"auu\">الْأَرْحَامِ</span></td></tr><tr><td class=\"c1\"><span class=\"l\">(33:6:9)</span> <i class=\"ab\">l-arḥāmi</i></td><td class=\"c2\"><a href=\"wordmorphology.jsp?location=(33:6:9)\" name=\"(33:6:9)\">(of) relationships</a></td><td class=\"c3\"> وَأُولُو <span class=\"auu\">الْأَرْحَامِ</span> بَعْضُهُمْ أَوْلَىٰ بِبَعْضٍ فِي كِتَابِ اللَّهِ مِنَ الْمُؤْمِنِينَ وَالْمُهَاجِرِينَ</td></tr><tr><td class=\"c1\"><span class=\"l\">(47:22:10)</span> <i class=\"ab\">arḥāmakum</i></td><td class=\"c2\"><a href=\"wordmorphology.jsp?location=(47:22:10)\" name=\"(47:22:10)\">your ties of kinship</a></td><td class=\"c3\"> فَهَلْ عَسَيْتُمْ إِنْ تَوَلَّيْتُمْ أَنْ تُفْسِدُوا فِي الْأَرْضِ وَتُقَطِّعُوا <span class=\"auu\">أَرْحَامَكُمْ</span></td></tr><tr><td class=\"c1\"><span class=\"l\">(60:3:3)</span> <i class=\"ab\">arḥāmukum</i></td><td class=\"c2\"><a href=\"wordmorphology.jsp?location=(60:3:3)\" name=\"(60:3:3)\">your relatives</a></td><td class=\"c3\"> لَنْ تَنْفَعَكُمْ <span class=\"auu\">أَرْحَامُكُمْ</span> وَلَا أَوْلَادُكُمْ يَوْمَ الْقِيَامَةِ يَفْصِلُ بَيْنَكُمْ</td></tr></table><h4 class=\"dxe\">Noun</h4><table border=\"0\" cellpadding=\"0\" cellspacing=\"0\" class=\"taf\"><tr><td class=\"c1\"><span class=\"l\">(7:151:10)</span> <i class=\"ab\">arḥamu</i></td><td class=\"c2\"><a href=\"wordmorphology.jsp?location=(7:151:10)\" name=\"(7:151:10)\">(are) the Most Merciful</a></td><td class=\"c3\"> وَأَدْخِلْنَا فِي رَحْمَتِكَ وَأَنْتَ <span class=\"auu\">أَرْحَمُ</span> الرَّاحِمِينَ</td></tr><tr><td class=\"c1\"><span class=\"l\">(12:64:16)</span> <i class=\"ab\">arḥamu</i></td><td class=\"c2\"><a href=\"wordmorphology.jsp?location=(12:64:16)\" name=\"(12:64:16)\">(is the) Most Merciful</a></td><td class=\"c3\"> فَاللَّهُ خَيْرٌ حَافِظًا وَهُوَ <span class=\"auu\">أَرْحَمُ</span> الرَّاحِمِينَ</td></tr><tr><td class=\"c1\"><span class=\"l\">(12:92:10)</span> <i class=\"ab\">arḥamu</i></td><td class=\"c2\"><a href=\"wordmorphology.jsp?location=(12:92:10)\" name=\"(12:92:10)\">(is) the Most Merciful</a></td><td class=\"c3\"> قَالَ لَا تَثْرِيبَ عَلَيْكُمُ الْيَوْمَ يَغْفِرُ اللَّهُ لَكُمْ وَهُوَ <span class=\"auu\">أَرْحَمُ</span> الرَّاحِمِينَ</td></tr><tr><td class=\"c1\"><span class=\"l\">(21:83:9)</span> <i class=\"ab\">arḥamu</i></td><td class=\"c2\"><a href=\"wordmorphology.jsp?location=(21:83:9)\" name=\"(21:83:9)\">(are) Most Merciful</a></td><td class=\"c3\"> وَأَيُّوبَ إِذْ نَادَىٰ رَبَّهُ أَنِّي مَسَّنِيَ الضُّرُّ وَأَنْتَ <span class=\"auu\">أَرْحَمُ</span> الرَّاحِمِينَ</td></tr></table><h4 class=\"dxe\">Noun</h4><table border=\"0\" cellpadding=\"0\" cellspacing=\"0\" class=\"taf\"><tr><td class=\"c1\"><span class=\"l\">(18:81:9)</span> <i class=\"ab\">ruḥ'man</i></td><td class=\"c2\"><a href=\"wordmorphology.jsp?location=(18:81:9)\" name=\"(18:81:9)\">(in) affection</a></td><td class=\"c3\"> فَأَرَدْنَا أَنْ يُبْدِلَهُمَا رَبُّهُمَا خَيْرًا مِنْهُ زَكَاةً وَأَقْرَبَ <span class=\"auu\">رُحْمًا</span></td></tr></table><h4 class=\"dxe\">Nominal</h4><p class=\"dxt\" style=\"margin-top:0\">(1) Noun</p><table border=\"0\" cellpadding=\"0\" cellspacing=\"0\" class=\"taf\"><tr><td class=\"c1\"><span class=\"l\">(2:163:8)</span> <i class=\"ab\">l-raḥmānu</i></td><td class=\"c2\"><a href=\"wordmorphology.jsp?location=(2:163:8)\" name=\"(2:163:8)\">the Most Gracious</a></td><td class=\"c3\"> وَإِلَٰهُكُمْ إِلَٰهٌ وَاحِدٌ لَا إِلَٰهَ إِلَّا هُوَ <span class=\"auu\">الرَّحْمَٰنُ</span> الرَّحِيمُ</td></tr><tr><td class=\"c1\"><span class=\"l\">(13:30:17)</span> <i class=\"ab\">bil-raḥmāni</i></td><td class=\"c2\"><a href=\"wordmorphology.jsp?location=(13:30:17)\" name=\"(13:30:17)\">in the Most Gracious</a></td><td class=\"c3\"> لِتَتْلُوَ عَلَيْهِمُ الَّذِي أَوْحَيْنَا إِلَيْكَ وَهُمْ يَكْفُرُونَ <span class=\"auu\">بِالرَّحْمَٰنِ</span></td></tr><tr><td class=\"c1\"><span class=\"l\">(17:110:6)</span> <i class=\"ab\">l-raḥmāna</i></td><td class=\"c2\"><a href=\"wordmorphology.jsp?location=(17:110:6)\" name=\"(17:110:6)\">the Most Gracious</a></td><td class=\"c3\"> قُلِ ادْعُوا اللَّهَ أَوِ ادْعُوا <span class=\"auu\">الرَّحْمَٰنَ</span></td></tr><tr><td class=\"c1\"><span class=\"l\">(19:18:4)</span> <i class=\"ab\">bil-raḥmāni</i></td><td class=\"c2\"><a href=\"wordmorphology.jsp?location=(19:18:4)\" name=\"(19:18:4)\">with the Most Gracious</a></td><td class=\"c3\"> قَالَتْ إِنِّي أَعُوذُ <span class=\"auu\">بِالرَّحْمَٰنِ</span> مِنْكَ إِنْ كُنْتَ تَقِيًّا</td></tr><tr><td class=\"c1\"><span class=\"l\">(19:26:13)</span> <i class=\"ab\">lilrraḥmāni</i></td><td class=\"c2\"><a href=\"wordmorphology.jsp?location=(19:26:13)\" name=\"(19:26:13)\">to the Most Gracious</a></td><td class=\"c3\"> إِنِّي نَذَرْتُ <span class=\"auu\">لِلرَّحْمَٰنِ</span> صَوْمًا فَلَنْ أُكَلِّمَ الْيَوْمَ إِنْسِيًّا</td></tr><tr><td class=\"c1\"><span class=\"l\">(19:44:8)</span> <i class=\"ab\">lilrraḥmāni</i></td><td class=\"c2\"><a href=\"wordmorphology.jsp?location=(19:44:8)\" name=\"(19:44:8)\">to the Most Gracious</a></td><td class=\"c3\"> يَا أَبَتِ لَا تَعْبُدِ الشَّيْطَانَ إِنَّ الشَّيْطَانَ كَانَ <span class=\"auu\">لِلرَّحْمَٰنِ</span> عَصِيًّا</td></tr><tr><td class=\"c1\"><span class=\"l\">(19:45:8)</span> <i class=\"ab\">l-raḥmāni</i></td><td class=\"c2\"><a href=\"wordmorphology.jsp?location=(19:45:8)\" name=\"(19:45:8)\">the Most Gracious</a></td><td class=\"c3\"> يَا أَبَتِ إِنِّي أَخَافُ أَنْ يَمَسَّكَ عَذَابٌ مِنَ <span class=\"auu\">الرَّحْمَٰنِ</span> فَتَكُونَ لِلشَّيْطَانِ وَلِيًّا</td></tr><tr><td class=\"c1\"><span class=\"l\">(19:61:5)</span> <i class=\"ab\">l-raḥmānu</i></td><td class=\"c2\"><a href=\"wordmorphology.jsp?location=(19:61:5)\" name=\"(19:61:5)\">the Most Gracious</a></td><td class=\"c3\"> جَنَّاتِ عَدْنٍ الَّتِي وَعَدَ <span class=\"auu\">الرَّحْمَٰنُ</span> عِبَادَهُ بِالْغَيْبِ</td></tr><tr><td class=\"c1\"><span class=\"l\">(19:69:9)</span> <i class=\"ab\">l-raḥmāni</i></td><td class=\"c2\"><a href=\"wordmorphology.jsp?location=(19:69:9)\" name=\"(19:69:9)\">the Most Gracious</a></td><td class=\"c3\"> ثُمَّ لَنَنْزِعَنَّ مِنْ كُلِّ شِيعَةٍ أَيُّهُمْ أَشَدُّ عَلَى <span class=\"auu\">الرَّحْمَٰنِ</span> عِتِيًّا</td></tr><tr><td class=\"c1\"><span class=\"l\">(19:75:8)</span> <i class=\"ab\">l-raḥmānu</i></td><td class=\"c2\"><a href=\"wordmorphology.jsp?location=(19:75:8)\" name=\"(19:75:8)\">the Most Gracious</a></td><td class=\"c3\"> قُلْ مَنْ كَانَ فِي الضَّلَالَةِ فَلْيَمْدُدْ لَهُ <span class=\"auu\">الرَّحْمَٰنُ</span> مَدًّا</td></tr><tr><td class=\"c1\"><span class=\"l\">(19:78:6)</span> <i class=\"ab\">l-raḥmāni</i></td><td class=\"c2\"><a href=\"wordmorphology.jsp?location=(19:78:6)\" name=\"(19:78:6)\">the Most Gracious</a></td><td class=\"c3\"> أَطَّلَعَ الْغَيْبَ أَمِ اتَّخَذَ عِنْدَ <span class=\"auu\">الرَّحْمَٰنِ</span> عَهْدًا</td></tr><tr><td class=\"c1\"><span class=\"l\">(19:85:5)</span> <i class=\"ab\">l-raḥmāni</i></td><td class=\"c2\"><a href=\"wordmorphology.jsp?location=(19:85:5)\" name=\"(19:85:5)\">the Most Gracious</a></td><td class=\"c3\"> يَوْمَ نَحْشُرُ الْمُتَّقِينَ إِلَى <span class=\"auu\">الرَّحْمَٰنِ</span> وَفْدًا</td></tr><tr><td class=\"c1\"><span class=\"l\">(19:87:8)</span> <i class=\"ab\">l-raḥmāni</i></td><td class=\"c2\"><a href=\"wordmorphology.jsp?location=(19:87:8)\" name=\"(19:87:8)\">the Most Gracious</a></td><td class=\"c3\"> لَا يَمْلِكُونَ الشَّفَاعَةَ إِلَّا مَنِ اتَّخَذَ عِنْدَ <span class=\"auu\">الرَّحْمَٰنِ</span> عَهْدًا</td></tr><tr><td class=\"c1\"><span class=\"l\">(19:88:3)</span> <i class=\"ab\">l-raḥmānu</i></td><td class=\"c2\"><a href=\"wordmorphology.jsp?location=(19:88:3)\" name=\"(19:88:3)\">the Most Gracious</a></td><td class=\"c3\"> وَقَالُوا اتَّخَذَ <span class=\"auu\">الرَّحْمَٰنُ</span> وَلَدًا</td></tr><tr><td class=\"c1\"><span class=\"l\">(19:91:3)</span> <i class=\"ab\">lilrraḥmāni</i></td><td class=\"c2\"><a href=\"wordmorphology.jsp?location=(19:91:3)\" name=\"(19:91:3)\">to the Most Gracious</a></td><td class=\"c3\"> أَنْ دَعَوْا <span class=\"auu\">لِلرَّحْمَٰنِ</span> وَلَدًا</td></tr><tr><td class=\"c1\"><span class=\"l\">(19:92:3)</span> <i class=\"ab\">lilrraḥmāni</i></td><td class=\"c2\"><a href=\"wordmorphology.jsp?location=(19:92:3)\" name=\"(19:92:3)\">for the Most Gracious</a></td><td class=\"c3\"> وَمَا يَنْبَغِي <span class=\"auu\">لِلرَّحْمَٰنِ</span> أَنْ يَتَّخِذَ وَلَدًا</td></tr><tr><td class=\"c1\"><span class=\"l\">(19:93:9)</span> <i class=\"ab\">l-raḥmāni</i></td><td class=\"c2\"><a href=\"wordmorphology.jsp?location=(19:93:9)\" name=\"(19:93:9)\">(to) the Most Gracious</a></td><td class=\"c3\"> إِنْ كُلُّ مَنْ فِي السَّمَاوَاتِ وَالْأَرْضِ إِلَّا آتِي <span class=\"auu\">الرَّحْمَٰنِ</span> عَبْدًا</td></tr><tr><td class=\"c1\"><span class=\"l\">(19:96:8)</span> <i class=\"ab\">l-raḥmānu</i></td><td class=\"c2\"><a href=\"wordmorphology.jsp?location=(19:96:8)\" name=\"(19:96:8)\">the Most Gracious</a></td><td class=\"c3\"> إِنَّ الَّذِينَ آمَنُوا وَعَمِلُوا الصَّالِحَاتِ سَيَجْعَلُ لَهُمُ <span class=\"auu\">الرَّحْمَٰنُ</span> وُدًّا</td></tr><tr><td class=\"c1\"><span class=\"l\">(20:108:9)</span> <i class=\"ab\">lilrraḥmāni</i></td><td class=\"c2\"><a href=\"wordmorphology.jsp?location=(20:108:9)\" name=\"(20:108:9)\">for the Most Gracious</a></td><td class=\"c3\"> وَخَشَعَتِ الْأَصْوَاتُ <span class=\"auu\">لِلرَّحْمَٰنِ</span> فَلَا تَسْمَعُ إِلَّا هَمْسًا</td></tr><tr><td class=\"c1\"><span class=\"l\">(20:109:9)</span> <i class=\"ab\">l-raḥmānu</i></td><td class=\"c2\"><a href=\"wordmorphology.jsp?location=(20:109:9)\" name=\"(20:109:9)\">the Most Gracious</a></td><td class=\"c3\"> يَوْمَئِذٍ لَا تَنْفَعُ الشَّفَاعَةُ إِلَّا مَنْ أَذِنَ لَهُ <span class=\"auu\">الرَّحْمَٰنُ</span> وَرَضِيَ لَهُ قَوْلًا</td></tr><tr><td class=\"c1\"><span class=\"l\">(21:26:3)</span> <i class=\"ab\">l-raḥmānu</i></td><td class=\"c2\"><a href=\"wordmorphology.jsp?location=(21:26:3)\" name=\"(21:26:3)\">the Most Gracious</a></td><td class=\"c3\"> وَقَالُوا اتَّخَذَ <span class=\"auu\">الرَّحْمَٰنُ</span> وَلَدًا سُبْحَانَهُ بَلْ عِبَادٌ مُكْرَمُونَ</td></tr><tr><td class=\"c1\"><span class=\"l\">(21:36:15)</span> <i class=\"ab\">l-raḥmāni</i></td><td class=\"c2\"><a href=\"wordmorphology.jsp?location=(21:36:15)\" name=\"(21:36:15)\">(of) the Most Gracious</a></td><td class=\"c3\"> أَهَٰذَا الَّذِي يَذْكُرُ آلِهَتَكُمْ وَهُمْ بِذِكْرِ <span class=\"auu\">الرَّحْمَٰنِ</span> هُمْ كَافِرُونَ</td></tr><tr><td class=\"c1\"><span class=\"l\">(21:42:7)</span> <i class=\"ab\">l-raḥmāni</i></td><td class=\"c2\"><a href=\"wordmorphology.jsp?location=(21:42:7)\" name=\"(21:42:7)\">the Most Gracious</a></td><td class=\"c3\"> قُلْ مَنْ يَكْلَؤُكُمْ بِاللَّيْلِ وَالنَّهَارِ مِنَ <span class=\"auu\">الرَّحْمَٰنِ</span></td></tr><tr><td class=\"c1\"><span class=\"l\">(25:26:4)</span> <i class=\"ab\">lilrraḥmāni</i></td><td class=\"c2\"><a href=\"wordmorphology.jsp?location=(25:26:4)\" name=\"(25:26:4)\">for the Most Gracious</a></td><td class=\"c3\"> الْمُلْكُ يَوْمَئِذٍ الْحَقُّ <span class=\"auu\">لِلرَّحْمَٰنِ</span> وَكَانَ يَوْمًا عَلَى الْكَافِرِينَ عَسِيرًا</td></tr><tr><td class=\"c1\"><span class=\"l\">(25:60:5)</span> <i class=\"ab\">lilrraḥmāni</i></td><td class=\"c2\"><a href=\"wordmorphology.jsp?location=(25:60:5)\" name=\"(25:60:5)\">to the Most Gracious</a></td><td class=\"c3\"> وَإِذَا قِيلَ لَهُمُ اسْجُدُوا <span class=\"auu\">لِلرَّحْمَٰنِ</span></td></tr><tr><td class=\"c1\"><span class=\"l\">(25:60:8)</span> <i class=\"ab\">l-raḥmānu</i></td><td class=\"c2\"><a href=\"wordmorphology.jsp?location=(25:60:8)\" name=\"(25:60:8)\">(is) the Most Gracious</a></td><td class=\"c3\"> قَالُوا وَمَا <span class=\"auu\">الرَّحْمَٰنُ</span> أَنَسْجُدُ لِمَا تَأْمُرُنَا وَزَادَهُمْ نُفُورًا</td></tr><tr><td class=\"c1\"><span class=\"l\">(26:5:6)</span> <i class=\"ab\">l-raḥmāni</i></td><td class=\"c2\"><a href=\"wordmorphology.jsp?location=(26:5:6)\" name=\"(26:5:6)\">the Most Gracious</a></td><td class=\"c3\"> وَمَا يَأْتِيهِمْ مِنْ ذِكْرٍ مِنَ <span class=\"auu\">الرَّحْمَٰنِ</span> مُحْدَثٍ إِلَّا كَانُوا عَنْهُ مُعْرِضِينَ</td></tr><tr><td class=\"c1\"><span class=\"l\">(36:11:7)</span> <i class=\"ab\">l-raḥmāna</i></td><td class=\"c2\"><a href=\"wordmorphology.jsp?location=(36:11:7)\" name=\"(36:11:7)\">the Most Gracious</a></td><td class=\"c3\"> إِنَّمَا تُنْذِرُ مَنِ اتَّبَعَ الذِّكْرَ وَخَشِيَ <span class=\"auu\">الرَّحْمَٰنَ</span> بِالْغَيْبِ</td></tr><tr><td class=\"c1\"><span class=\"l\">(36:15:9)</span> <i class=\"ab\">l-raḥmānu</i></td><td class=\"c2\"><a href=\"wordmorphology.jsp?location=(36:15:9)\" name=\"(36:15:9)\">the Most Gracious</a></td><td class=\"c3\"> قَالُوا مَا أَنْتُمْ إِلَّا بَشَرٌ مِثْلُنَا وَمَا أَنْزَلَ <span class=\"auu\">الرَّحْمَٰنُ</span> مِنْ شَيْءٍ</td></tr><tr><td class=\"c1\"><span class=\"l\">(36:23:7)</span> <i class=\"ab\">l-raḥmānu</i></td><td class=\"c2\"><a href=\"wordmorphology.jsp?location=(36:23:7)\" name=\"(36:23:7)\">the Most Gracious</a></td><td class=\"c3\"> إِنْ يُرِدْنِ <span class=\"auu\">الرَّحْمَٰنُ</span> بِضُرٍّ لَا تُغْنِ عَنِّي شَفَاعَتُهُمْ شَيْئًا</td></tr><tr><td class=\"c1\"><span class=\"l\">(36:52:10)</span> <i class=\"ab\">l-raḥmānu</i></td><td class=\"c2\"><a href=\"wordmorphology.jsp?location=(36:52:10)\" name=\"(36:52:10)\">the Most Gracious</a></td><td class=\"c3\"> هَٰذَا مَا وَعَدَ <span class=\"auu\">الرَّحْمَٰنُ</span> وَصَدَقَ الْمُرْسَلُونَ</td></tr><tr><td class=\"c1\"><span class=\"l\">(41:2:3)</span> <i class=\"ab\">l-raḥmāni</i></td><td class=\"c2\"><a href=\"wordmorphology.jsp?location=(41:2:3)\" name=\"(41:2:3)\">the Most Gracious</a></td><td class=\"c3\"> تَنْزِيلٌ مِنَ <span class=\"auu\">الرَّحْمَٰنِ</span> الرَّحِيمِ</td></tr><tr><td class=\"c1\"><span class=\"l\">(43:17:6)</span> <i class=\"ab\">lilrraḥmāni</i></td><td class=\"c2\"><a href=\"wordmorphology.jsp?location=(43:17:6)\" name=\"(43:17:6)\">for the Most Gracious</a></td><td class=\"c3\"> وَإِذَا بُشِّرَ أَحَدُهُمْ بِمَا ضَرَبَ <span class=\"auu\">لِلرَّحْمَٰنِ</span> مَثَلًا ظَلَّ وَجْهُهُ مُسْوَدًّا</td></tr><tr><td class=\"c1\"><span class=\"l\">(43:20:4)</span> <i class=\"ab\">l-raḥmānu</i></td><td class=\"c2\"><a href=\"wordmorphology.jsp?location=(43:20:4)\" name=\"(43:20:4)\">the Most Gracious</a></td><td class=\"c3\"> وَقَالُوا لَوْ شَاءَ <span class=\"auu\">الرَّحْمَٰنُ</span> مَا عَبَدْنَاهُمْ</td></tr><tr><td class=\"c1\"><span class=\"l\">(43:33:10)</span> <i class=\"ab\">bil-raḥmāni</i></td><td class=\"c2\"><a href=\"wordmorphology.jsp?location=(43:33:10)\" name=\"(43:33:10)\">in the Most Gracious</a></td><td class=\"c3\"> لَجَعَلْنَا لِمَنْ يَكْفُرُ <span class=\"auu\">بِالرَّحْمَٰنِ</span> لِبُيُوتِهِمْ سُقُفًا مِنْ فِضَّةٍ</td></tr><tr><td class=\"c1\"><span class=\"l\">(43:45:11)</span> <i class=\"ab\">l-raḥmāni</i></td><td class=\"c2\"><a href=\"wordmorphology.jsp?location=(43:45:11)\" name=\"(43:45:11)\">the Most Gracious</a></td><td class=\"c3\"> أَجَعَلْنَا مِنْ دُونِ <span class=\"auu\">الرَّحْمَٰنِ</span> آلِهَةً يُعْبَدُونَ</td></tr><tr><td class=\"c1\"><span class=\"l\">(43:81:4)</span> <i class=\"ab\">lilrraḥmāni</i></td><td class=\"c2\"><a href=\"wordmorphology.jsp?location=(43:81:4)\" name=\"(43:81:4)\">the Most Gracious</a></td><td class=\"c3\"> قُلْ إِنْ كَانَ <span class=\"auu\">لِلرَّحْمَٰنِ</span> وَلَدٌ فَأَنَا أَوَّلُ الْعَابِدِينَ</td></tr><tr><td class=\"c1\"><span class=\"l\">(50:33:3)</span> <i class=\"ab\">l-raḥmāna</i></td><td class=\"c2\"><a href=\"wordmorphology.jsp?location=(50:33:3)\" name=\"(50:33:3)\">the Most Gracious</a></td><td class=\"c3\"> مَنْ خَشِيَ <span class=\"auu\">الرَّحْمَٰنَ</span> بِالْغَيْبِ وَجَاءَ بِقَلْبٍ مُنِيبٍ</td></tr><tr><td class=\"c1\"><span class=\"l\">(59:22:12)</span> <i class=\"ab\">l-raḥmānu</i></td><td class=\"c2\"><a href=\"wordmorphology.jsp?location=(59:22:12)\" name=\"(59:22:12)\">(is) the Most Gracious</a></td><td class=\"c3\"> عَالِمُ الْغَيْبِ وَالشَّهَادَةِ هُوَ <span class=\"auu\">الرَّحْمَٰنُ</span> الرَّحِيمُ</td></tr><tr><td class=\"c1\"><span class=\"l\">(67:3:10)</span> <i class=\"ab\">l-raḥmāni</i></td><td class=\"c2\"><a href=\"wordmorphology.jsp?location=(67:3:10)\" name=\"(67:3:10)\">(of) the Most Gracious</a></td><td class=\"c3\"> مَا تَرَىٰ فِي خَلْقِ <span class=\"auu\">الرَّحْمَٰنِ</span> مِنْ تَفَاوُتٍ</td></tr><tr><td class=\"c1\"><span class=\"l\">(67:19:11)</span> <i class=\"ab\">l-raḥmānu</i></td><td class=\"c2\"><a href=\"wordmorphology.jsp?location=(67:19:11)\" name=\"(67:19:11)\">the Most Gracious</a></td><td class=\"c3\"> مَا يُمْسِكُهُنَّ إِلَّا <span class=\"auu\">الرَّحْمَٰنُ</span> إِنَّهُ بِكُلِّ شَيْءٍ بَصِيرٌ</td></tr><tr><td class=\"c1\"><span class=\"l\">(67:20:10)</span> <i class=\"ab\">l-raḥmāni</i></td><td class=\"c2\"><a href=\"wordmorphology.jsp?location=(67:20:10)\" name=\"(67:20:10)\">the Most Gracious</a></td><td class=\"c3\"> أَمَّنْ هَٰذَا الَّذِي هُوَ جُنْدٌ لَكُمْ يَنْصُرُكُمْ مِنْ دُونِ <span class=\"auu\">الرَّحْمَٰنِ</span></td></tr><tr><td class=\"c1\"><span class=\"l\">(67:29:3)</span> <i class=\"ab\">l-raḥmānu</i></td><td class=\"c2\"><a href=\"wordmorphology.jsp?location=(67:29:3)\" name=\"(67:29:3)\">(is) the Most Gracious</a></td><td class=\"c3\"> قُلْ هُوَ <span class=\"auu\">الرَّحْمَٰنُ</span> آمَنَّا بِهِ وَعَلَيْهِ تَوَكَّلْنَا</td></tr><tr><td class=\"c1\"><span class=\"l\">(78:37:6)</span> <i class=\"ab\">l-raḥmāni</i></td><td class=\"c2\"><a href=\"wordmorphology.jsp?location=(78:37:6)\" name=\"(78:37:6)\">the Most Gracious</a></td><td class=\"c3\"> رَبِّ السَّمَاوَاتِ وَالْأَرْضِ وَمَا بَيْنَهُمَا <span class=\"auu\">الرَّحْمَٰنِ</span></td></tr><tr><td class=\"c1\"><span class=\"l\">(78:38:12)</span> <i class=\"ab\">l-raḥmānu</i></td><td class=\"c2\"><a href=\"wordmorphology.jsp?location=(78:38:12)\" name=\"(78:38:12)\">the Most Gracious</a></td><td class=\"c3\"> لَا يَتَكَلَّمُونَ إِلَّا مَنْ أَذِنَ لَهُ <span class=\"auu\">الرَّحْمَٰنُ</span> وَقَالَ صَوَابًا</td></tr></table><p class=\"dxt\">(2) Adjective</p><table border=\"0\" cellpadding=\"0\" cellspacing=\"0\" class=\"taf\"><tr><td class=\"c1\"><span class=\"l\">(1:1:3)</span> <i class=\"ab\">l-raḥmāni</i></td><td class=\"c2\"><a href=\"wordmorphology.jsp?location=(1:1:3)\" name=\"(1:1:3)\">the Most Gracious</a></td><td class=\"c3\"> بِسْمِ اللَّهِ <span class=\"auu\">الرَّحْمَٰنِ</span> الرَّحِيمِ</td></tr><tr><td class=\"c1\"><span class=\"l\">(1:3:1)</span> <i class=\"ab\">al-raḥmāni</i></td><td class=\"c2\"><a href=\"wordmorphology.jsp?location=(1:3:1)\" name=\"(1:3:1)\">The Most Gracious</a></td><td class=\"c3\"> <span class=\"auu\">الرَّحْمَٰنِ</span> الرَّحِيمِ</td></tr><tr><td class=\"c1\"><span class=\"l\">(19:58:26)</span> <i class=\"ab\">l-raḥmāni</i></td><td class=\"c2\"><a href=\"wordmorphology.jsp?location=(19:58:26)\" name=\"(19:58:26)\">(of) the Most Gracious</a></td><td class=\"c3\"> إِذَا تُتْلَىٰ عَلَيْهِمْ آيَاتُ <span class=\"auu\">الرَّحْمَٰنِ</span> خَرُّوا سُجَّدًا وَبُكِيًّا</td></tr><tr><td class=\"c1\"><span class=\"l\">(20:5:1)</span> <i class=\"ab\">al-raḥmānu</i></td><td class=\"c2\"><a href=\"wordmorphology.jsp?location=(20:5:1)\" name=\"(20:5:1)\">The Most Gracious</a></td><td class=\"c3\"> <span class=\"auu\">الرَّحْمَٰنُ</span> عَلَى الْعَرْشِ اسْتَوَىٰ</td></tr><tr><td class=\"c1\"><span class=\"l\">(20:90:13)</span> <i class=\"ab\">l-raḥmānu</i></td><td class=\"c2\"><a href=\"wordmorphology.jsp?location=(20:90:13)\" name=\"(20:90:13)\">(is) the Most Gracious</a></td><td class=\"c3\"> وَإِنَّ رَبَّكُمُ <span class=\"auu\">الرَّحْمَٰنُ</span> فَاتَّبِعُونِي وَأَطِيعُوا أَمْرِي</td></tr><tr><td class=\"c1\"><span class=\"l\">(21:112:6)</span> <i class=\"ab\">l-raḥmānu</i></td><td class=\"c2\"><a href=\"wordmorphology.jsp?location=(21:112:6)\" name=\"(21:112:6)\">(is) the Most Gracious</a></td><td class=\"c3\"> قَالَ رَبِّ احْكُمْ بِالْحَقِّ وَرَبُّنَا <span class=\"auu\">الرَّحْمَٰنُ</span> الْمُسْتَعَانُ عَلَىٰ مَا تَصِفُونَ</td></tr><tr><td class=\"c1\"><span class=\"l\">(25:59:14)</span> <i class=\"ab\">l-raḥmānu</i></td><td class=\"c2\"><a href=\"wordmorphology.jsp?location=(25:59:14)\" name=\"(25:59:14)\">the Most Gracious</a></td><td class=\"c3\"> ثُمَّ اسْتَوَىٰ عَلَى الْعَرْشِ <span class=\"auu\">الرَّحْمَٰنُ</span> فَاسْأَلْ بِهِ خَبِيرًا</td></tr><tr><td class=\"c1\"><span class=\"l\">(25:63:2)</span> <i class=\"ab\">l-raḥmāni</i></td><td class=\"c2\"><a href=\"wordmorphology.jsp?location=(25:63:2)\" name=\"(25:63:2)\">(of) the Most Gracious</a></td><td class=\"c3\"> وَعِبَادُ <span class=\"auu\">الرَّحْمَٰنِ</span> الَّذِينَ يَمْشُونَ عَلَى الْأَرْضِ هَوْنًا</td></tr><tr><td class=\"c1\"><span class=\"l\">(27:30:7)</span> <i class=\"ab\">l-raḥmāni</i></td><td class=\"c2\"><a href=\"wordmorphology.jsp?location=(27:30:7)\" name=\"(27:30:7)\">the Most Gracious</a></td><td class=\"c3\"> إِنَّهُ مِنْ سُلَيْمَانَ وَإِنَّهُ بِسْمِ اللَّهِ <span class=\"auu\">الرَّحْمَٰنِ</span> الرَّحِيمِ</td></tr><tr><td class=\"c1\"><span class=\"l\">(43:19:6)</span> <i class=\"ab\">l-raḥmāni</i></td><td class=\"c2\"><a href=\"wordmorphology.jsp?location=(43:19:6)\" name=\"(43:19:6)\">(of) the Most Gracious</a></td><td class=\"c3\"> وَجَعَلُوا الْمَلَائِكَةَ الَّذِينَ هُمْ عِبَادُ <span class=\"auu\">الرَّحْمَٰنِ</span> إِنَاثًا</td></tr><tr><td class=\"c1\"><span class=\"l\">(43:36:5)</span> <i class=\"ab\">l-raḥmāni</i></td><td class=\"c2\"><a href=\"wordmorphology.jsp?location=(43:36:5)\" name=\"(43:36:5)\">(of) the Most Gracious</a></td><td class=\"c3\"> وَمَنْ يَعْشُ عَنْ ذِكْرِ <span class=\"auu\">الرَّحْمَٰنِ</span> نُقَيِّضْ لَهُ شَيْطَانًا فَهُوَ لَهُ قَرِينٌ</td></tr><tr><td class=\"c1\"><span class=\"l\">(55:1:1)</span> <i class=\"ab\">al-raḥmānu</i></td><td class=\"c2\"><a href=\"wordmorphology.jsp?location=(55:1:1)\" name=\"(55:1:1)\">The Most Gracious</a></td><td class=\"c3\"> <span class=\"auu\">الرَّحْمَٰنُ</span></td></tr></table><h4 class=\"dxe\">Noun</h4><table border=\"0\" cellpadding=\"0\" cellspacing=\"0\" class=\"taf\"><tr><td class=\"c1\"><span class=\"l\">(2:64:10)</span> <i class=\"ab\">waraḥmatuhu</i></td><td class=\"c2\"><a href=\"wordmorphology.jsp?location=(2:64:10)\" name=\"(2:64:10)\">and His Mercy</a></td><td class=\"c3\"> فَلَوْلَا فَضْلُ اللَّهِ عَلَيْكُمْ <span class=\"auu\">وَرَحْمَتُهُ</span> لَكُنْتُمْ مِنَ الْخَاسِرِينَ</td></tr><tr><td class=\"c1\"><span class=\"l\">(2:105:19)</span> <i class=\"ab\">biraḥmatihi</i></td><td class=\"c2\"><a href=\"wordmorphology.jsp?location=(2:105:19)\" name=\"(2:105:19)\">for His Mercy</a></td><td class=\"c3\"> وَاللَّهُ يَخْتَصُّ <span class=\"auu\">بِرَحْمَتِهِ</span> مَنْ يَشَاءُ وَاللَّهُ ذُو الْفَضْلِ الْعَظِيمِ</td></tr><tr><td class=\"c1\"><span class=\"l\">(2:157:6)</span> <i class=\"ab\">waraḥmatun</i></td><td class=\"c2\"><a href=\"wordmorphology.jsp?location=(2:157:6)\" name=\"(2:157:6)\">and Mercy</a></td><td class=\"c3\"> أُولَٰئِكَ عَلَيْهِمْ صَلَوَاتٌ مِنْ رَبِّهِمْ <span class=\"auu\">وَرَحْمَةٌ</span></td></tr><tr><td class=\"c1\"><span class=\"l\">(2:178:30)</span> <i class=\"ab\">waraḥmatun</i></td><td class=\"c2\"><a href=\"wordmorphology.jsp?location=(2:178:30)\" name=\"(2:178:30)\">and mercy</a></td><td class=\"c3\"> ذَٰلِكَ تَخْفِيفٌ مِنْ رَبِّكُمْ <span class=\"auu\">وَرَحْمَةٌ</span></td></tr><tr><td class=\"c1\"><span class=\"l\">(2:218:12)</span> <i class=\"ab\">raḥmata</i></td><td class=\"c2\"><a href=\"wordmorphology.jsp?location=(2:218:12)\" name=\"(2:218:12)\">(for) Mercy</a></td><td class=\"c3\"> أُولَٰئِكَ يَرْجُونَ <span class=\"auu\">رَحْمَتَ</span> اللَّهِ وَاللَّهُ غَفُورٌ رَحِيمٌ</td></tr><tr><td class=\"c1\"><span class=\"l\">(3:8:12)</span> <i class=\"ab\">raḥmatan</i></td><td class=\"c2\"><a href=\"wordmorphology.jsp?location=(3:8:12)\" name=\"(3:8:12)\">mercy</a></td><td class=\"c3\"> رَبَّنَا لَا تُزِغْ قُلُوبَنَا بَعْدَ إِذْ هَدَيْتَنَا وَهَبْ لَنَا مِنْ لَدُنْكَ <span class=\"auu\">رَحْمَةً</span></td></tr><tr><td class=\"c1\"><span class=\"l\">(3:74:2)</span> <i class=\"ab\">biraḥmatihi</i></td><td class=\"c2\"><a href=\"wordmorphology.jsp?location=(3:74:2)\" name=\"(3:74:2)\">for His Mercy</a></td><td class=\"c3\"> يَخْتَصُّ <span class=\"auu\">بِرَحْمَتِهِ</span> مَنْ يَشَاءُ وَاللَّهُ ذُو الْفَضْلِ الْعَظِيمِ</td></tr><tr><td class=\"c1\"><span class=\"l\">(3:107:6)</span> <i class=\"ab\">raḥmati</i></td><td class=\"c2\"><a href=\"wordmorphology.jsp?location=(3:107:6)\" name=\"(3:107:6)\">(the) Mercy</a></td><td class=\"c3\"> وَأَمَّا الَّذِينَ ابْيَضَّتْ وُجُوهُهُمْ فَفِي <span class=\"auu\">رَحْمَةِ</span> اللَّهِ</td></tr><tr><td class=\"c1\"><span class=\"l\">(3:157:11)</span> <i class=\"ab\">waraḥmatun</i></td><td class=\"c2\"><a href=\"wordmorphology.jsp?location=(3:157:11)\" name=\"(3:157:11)\">and Mercy</a></td><td class=\"c3\"> لَمَغْفِرَةٌ مِنَ اللَّهِ <span class=\"auu\">وَرَحْمَةٌ</span> خَيْرٌ مِمَّا يَجْمَعُونَ</td></tr><tr><td class=\"c1\"><span class=\"l\">(3:159:2)</span> <i class=\"ab\">raḥmatin</i></td><td class=\"c2\"><a href=\"wordmorphology.jsp?location=(3:159:2)\" name=\"(3:159:2)\">(of) Mercy</a></td><td class=\"c3\"> فَبِمَا <span class=\"auu\">رَحْمَةٍ</span> مِنَ اللَّهِ لِنْتَ لَهُمْ</td></tr><tr><td class=\"c1\"><span class=\"l\">(4:83:26)</span> <i class=\"ab\">waraḥmatuhu</i></td><td class=\"c2\"><a href=\"wordmorphology.jsp?location=(4:83:26)\" name=\"(4:83:26)\">and His Mercy</a></td><td class=\"c3\"> وَلَوْلَا فَضْلُ اللَّهِ عَلَيْكُمْ <span class=\"auu\">وَرَحْمَتُهُ</span> لَاتَّبَعْتُمُ الشَّيْطَانَ إِلَّا قَلِيلًا</td></tr><tr><td class=\"c1\"><span class=\"l\">(4:96:4)</span> <i class=\"ab\">waraḥmatan</i></td><td class=\"c2\"><a href=\"wordmorphology.jsp?location=(4:96:4)\" name=\"(4:96:4)\">and mercy</a></td><td class=\"c3\"> دَرَجَاتٍ مِنْهُ وَمَغْفِرَةً <span class=\"auu\">وَرَحْمَةً</span> وَكَانَ اللَّهُ غَفُورًا رَحِيمًا</td></tr><tr><td class=\"c1\"><span class=\"l\">(4:113:5)</span> <i class=\"ab\">waraḥmatuhu</i></td><td class=\"c2\"><a href=\"wordmorphology.jsp?location=(4:113:5)\" name=\"(4:113:5)\">and His Mercy </a></td><td class=\"c3\"> وَلَوْلَا فَضْلُ اللَّهِ عَلَيْكَ <span class=\"auu\">وَرَحْمَتُهُ</span> لَهَمَّتْ طَائِفَةٌ مِنْهُمْ أَنْ يُضِلُّوكَ</td></tr><tr><td class=\"c1\"><span class=\"l\">(4:175:9)</span> <i class=\"ab\">raḥmatin</i></td><td class=\"c2\"><a href=\"wordmorphology.jsp?location=(4:175:9)\" name=\"(4:175:9)\">Mercy</a></td><td class=\"c3\"> فَأَمَّا الَّذِينَ آمَنُوا بِاللَّهِ وَاعْتَصَمُوا بِهِ فَسَيُدْخِلُهُمْ فِي <span class=\"auu\">رَحْمَةٍ</span> مِنْهُ</td></tr><tr><td class=\"c1\"><span class=\"l\">(6:12:12)</span> <i class=\"ab\">l-raḥmata</i></td><td class=\"c2\"><a href=\"wordmorphology.jsp?location=(6:12:12)\" name=\"(6:12:12)\">the Mercy</a></td><td class=\"c3\"> كَتَبَ عَلَىٰ نَفْسِهِ <span class=\"auu\">الرَّحْمَةَ</span> لَيَجْمَعَنَّكُمْ إِلَىٰ يَوْمِ الْقِيَامَةِ لَا رَيْبَ فِيهِ</td></tr><tr><td class=\"c1\"><span class=\"l\">(6:54:13)</span> <i class=\"ab\">l-raḥmata</i></td><td class=\"c2\"><a href=\"wordmorphology.jsp?location=(6:54:13)\" name=\"(6:54:13)\">the Mercy</a></td><td class=\"c3\"> فَقُلْ سَلَامٌ عَلَيْكُمْ كَتَبَ رَبُّكُمْ عَلَىٰ نَفْسِهِ <span class=\"auu\">الرَّحْمَةَ</span></td></tr><tr><td class=\"c1\"><span class=\"l\">(6:133:4)</span> <i class=\"ab\">l-raḥmati</i></td><td class=\"c2\"><a href=\"wordmorphology.jsp?location=(6:133:4)\" name=\"(6:133:4)\">(of) mercy</a></td><td class=\"c3\"> وَرَبُّكَ الْغَنِيُّ ذُو <span class=\"auu\">الرَّحْمَةِ</span></td></tr><tr><td class=\"c1\"><span class=\"l\">(6:147:6)</span> <i class=\"ab\">raḥmatin</i></td><td class=\"c2\"><a href=\"wordmorphology.jsp?location=(6:147:6)\" name=\"(6:147:6)\">(of) Mercy</a></td><td class=\"c3\"> فَإِنْ كَذَّبُوكَ فَقُلْ رَبُّكُمْ ذُو <span class=\"auu\">رَحْمَةٍ</span> وَاسِعَةٍ</td></tr><tr><td class=\"c1\"><span class=\"l\">(6:154:13)</span> <i class=\"ab\">waraḥmatan</i></td><td class=\"c2\"><a href=\"wordmorphology.jsp?location=(6:154:13)\" name=\"(6:154:13)\">and mercy</a></td><td class=\"c3\"> وَهُدًى <span class=\"auu\">وَرَحْمَةً</span> لَعَلَّهُمْ بِلِقَاءِ رَبِّهِمْ يُؤْمِنُونَ</td></tr><tr><td class=\"c1\"><span class=\"l\">(6:157:17)</span> <i class=\"ab\">waraḥmatun</i></td><td class=\"c2\"><a href=\"wordmorphology.jsp?location=(6:157:17)\" name=\"(6:157:17)\">and a Mercy</a></td><td class=\"c3\"> فَقَدْ جَاءَكُمْ بَيِّنَةٌ مِنْ رَبِّكُمْ وَهُدًى <span class=\"auu\">وَرَحْمَةٌ</span></td></tr><tr><td class=\"c1\"><span class=\"l\">(7:49:7)</span> <i class=\"ab\">biraḥmatin</i></td><td class=\"c2\"><a href=\"wordmorphology.jsp?location=(7:49:7)\" name=\"(7:49:7)\">Mercy</a></td><td class=\"c3\"> أَهَٰؤُلَاءِ الَّذِينَ أَقْسَمْتُمْ لَا يَنَالُهُمُ اللَّهُ <span class=\"auu\">بِرَحْمَةٍ</span></td></tr><tr><td class=\"c1\"><span class=\"l\">(7:52:8)</span> <i class=\"ab\">waraḥmatan</i></td><td class=\"c2\"><a href=\"wordmorphology.jsp?location=(7:52:8)\" name=\"(7:52:8)\">and mercy</a></td><td class=\"c3\"> وَلَقَدْ جِئْنَاهُمْ بِكِتَابٍ فَصَّلْنَاهُ عَلَىٰ عِلْمٍ هُدًى <span class=\"auu\">وَرَحْمَةً</span> لِقَوْمٍ يُؤْمِنُونَ</td></tr><tr><td class=\"c1\"><span class=\"l\">(7:56:11)</span> <i class=\"ab\">raḥmata</i></td><td class=\"c2\"><a href=\"wordmorphology.jsp?location=(7:56:11)\" name=\"(7:56:11)\">(the) Mercy</a></td><td class=\"c3\"> إِنَّ <span class=\"auu\">رَحْمَتَ</span> اللَّهِ قَرِيبٌ مِنَ الْمُحْسِنِينَ</td></tr><tr><td class=\"c1\"><span class=\"l\">(7:57:8)</span> <i class=\"ab\">raḥmatihi</i></td><td class=\"c2\"><a href=\"wordmorphology.jsp?location=(7:57:8)\" name=\"(7:57:8)\">His Mercy</a></td><td class=\"c3\"> وَهُوَ الَّذِي يُرْسِلُ الرِّيَاحَ بُشْرًا بَيْنَ يَدَيْ <span class=\"auu\">رَحْمَتِهِ</span></td></tr><tr><td class=\"c1\"><span class=\"l\">(7:72:4)</span> <i class=\"ab\">biraḥmatin</i></td><td class=\"c2\"><a href=\"wordmorphology.jsp?location=(7:72:4)\" name=\"(7:72:4)\">by Mercy</a></td><td class=\"c3\"> فَأَنْجَيْنَاهُ وَالَّذِينَ مَعَهُ <span class=\"auu\">بِرَحْمَةٍ</span> مِنَّا</td></tr><tr><td class=\"c1\"><span class=\"l\">(7:151:8)</span> <i class=\"ab\">raḥmatika</i></td><td class=\"c2\"><a href=\"wordmorphology.jsp?location=(7:151:8)\" name=\"(7:151:8)\">Your Mercy</a></td><td class=\"c3\"> قَالَ رَبِّ اغْفِرْ لِي وَلِأَخِي وَأَدْخِلْنَا فِي <span class=\"auu\">رَحْمَتِكَ</span></td></tr><tr><td class=\"c1\"><span class=\"l\">(7:154:11)</span> <i class=\"ab\">waraḥmatun</i></td><td class=\"c2\"><a href=\"wordmorphology.jsp?location=(7:154:11)\" name=\"(7:154:11)\">and mercy</a></td><td class=\"c3\"> وَفِي نُسْخَتِهَا هُدًى <span class=\"auu\">وَرَحْمَةٌ</span> لِلَّذِينَ هُمْ لِرَبِّهِمْ يَرْهَبُونَ</td></tr><tr><td class=\"c1\"><span class=\"l\">(7:156:18)</span> <i class=\"ab\">waraḥmatī</i></td><td class=\"c2\"><a href=\"wordmorphology.jsp?location=(7:156:18)\" name=\"(7:156:18)\">but My Mercy</a></td><td class=\"c3\"> قَالَ عَذَابِي أُصِيبُ بِهِ مَنْ أَشَاءُ <span class=\"auu\">وَرَحْمَتِي</span> وَسِعَتْ كُلَّ شَيْءٍ</td></tr><tr><td class=\"c1\"><span class=\"l\">(7:203:21)</span> <i class=\"ab\">waraḥmatun</i></td><td class=\"c2\"><a href=\"wordmorphology.jsp?location=(7:203:21)\" name=\"(7:203:21)\">and mercy</a></td><td class=\"c3\"> هَٰذَا بَصَائِرُ مِنْ رَبِّكُمْ وَهُدًى <span class=\"auu\">وَرَحْمَةٌ</span> لِقَوْمٍ يُؤْمِنُونَ</td></tr><tr><td class=\"c1\"><span class=\"l\">(9:21:3)</span> <i class=\"ab\">biraḥmatin</i></td><td class=\"c2\"><a href=\"wordmorphology.jsp?location=(9:21:3)\" name=\"(9:21:3)\">of Mercy</a></td><td class=\"c3\"> يُبَشِّرُهُمْ رَبُّهُمْ <span class=\"auu\">بِرَحْمَةٍ</span> مِنْهُ وَرِضْوَانٍ وَجَنَّاتٍ لَهُمْ فِيهَا نَعِيمٌ مُقِيمٌ</td></tr><tr><td class=\"c1\"><span class=\"l\">(9:61:16)</span> <i class=\"ab\">waraḥmatun</i></td><td class=\"c2\"><a href=\"wordmorphology.jsp?location=(9:61:16)\" name=\"(9:61:16)\">and (is) a mercy</a></td><td class=\"c3\"> يُؤْمِنُ بِاللَّهِ وَيُؤْمِنُ لِلْمُؤْمِنِينَ <span class=\"auu\">وَرَحْمَةٌ</span> لِلَّذِينَ آمَنُوا مِنْكُمْ</td></tr><tr><td class=\"c1\"><span class=\"l\">(9:99:23)</span> <i class=\"ab\">raḥmatihi</i></td><td class=\"c2\"><a href=\"wordmorphology.jsp?location=(9:99:23)\" name=\"(9:99:23)\">His Mercy</a></td><td class=\"c3\"> سَيُدْخِلُهُمُ اللَّهُ فِي <span class=\"auu\">رَحْمَتِهِ</span> إِنَّ اللَّهَ غَفُورٌ رَحِيمٌ</td></tr><tr><td class=\"c1\"><span class=\"l\">(10:21:4)</span> <i class=\"ab\">raḥmatan</i></td><td class=\"c2\"><a href=\"wordmorphology.jsp?location=(10:21:4)\" name=\"(10:21:4)\">mercy</a></td><td class=\"c3\"> وَإِذَا أَذَقْنَا النَّاسَ <span class=\"auu\">رَحْمَةً</span> مِنْ بَعْدِ ضَرَّاءَ مَسَّتْهُمْ إِذَا لَهُمْ مَكْرٌ فِي آيَاتِنَا</td></tr><tr><td class=\"c1\"><span class=\"l\">(10:57:13)</span> <i class=\"ab\">waraḥmatun</i></td><td class=\"c2\"><a href=\"wordmorphology.jsp?location=(10:57:13)\" name=\"(10:57:13)\">and mercy</a></td><td class=\"c3\"> وَشِفَاءٌ لِمَا فِي الصُّدُورِ وَهُدًى <span class=\"auu\">وَرَحْمَةٌ</span> لِلْمُؤْمِنِينَ</td></tr><tr><td class=\"c1\"><span class=\"l\">(10:58:4)</span> <i class=\"ab\">wabiraḥmatihi</i></td><td class=\"c2\"><a href=\"wordmorphology.jsp?location=(10:58:4)\" name=\"(10:58:4)\">and in His Mercy</a></td><td class=\"c3\"> قُلْ بِفَضْلِ اللَّهِ <span class=\"auu\">وَبِرَحْمَتِهِ</span> فَبِذَٰلِكَ فَلْيَفْرَحُوا</td></tr><tr><td class=\"c1\"><span class=\"l\">(10:86:2)</span> <i class=\"ab\">biraḥmatika</i></td><td class=\"c2\"><a href=\"wordmorphology.jsp?location=(10:86:2)\" name=\"(10:86:2)\">by Your Mercy</a></td><td class=\"c3\"> وَنَجِّنَا <span class=\"auu\">بِرَحْمَتِكَ</span> مِنَ الْقَوْمِ الْكَافِرِينَ</td></tr><tr><td class=\"c1\"><span class=\"l\">(11:9:5)</span> <i class=\"ab\">raḥmatan</i></td><td class=\"c2\"><a href=\"wordmorphology.jsp?location=(11:9:5)\" name=\"(11:9:5)\">(of) Mercy from Us</a></td><td class=\"c3\"> وَلَئِنْ أَذَقْنَا الْإِنْسَانَ مِنَّا <span class=\"auu\">رَحْمَةً</span> ثُمَّ نَزَعْنَاهَا مِنْهُ إِنَّهُ لَيَئُوسٌ كَفُورٌ</td></tr><tr><td class=\"c1\"><span class=\"l\">(11:17:15)</span> <i class=\"ab\">waraḥmatan</i></td><td class=\"c2\"><a href=\"wordmorphology.jsp?location=(11:17:15)\" name=\"(11:17:15)\">and (as) mercy</a></td><td class=\"c3\"> وَمِنْ قَبْلِهِ كِتَابُ مُوسَىٰ إِمَامًا <span class=\"auu\">وَرَحْمَةً</span></td></tr><tr><td class=\"c1\"><span class=\"l\">(11:28:11)</span> <i class=\"ab\">raḥmatan</i></td><td class=\"c2\"><a href=\"wordmorphology.jsp?location=(11:28:11)\" name=\"(11:28:11)\">mercy</a></td><td class=\"c3\"> قَالَ يَا قَوْمِ أَرَأَيْتُمْ إِنْ كُنْتُ عَلَىٰ بَيِّنَةٍ مِنْ رَبِّي وَآتَانِي <span class=\"auu\">رَحْمَةً</span> مِنْ عِنْدِهِ</td></tr><tr><td class=\"c1\"><span class=\"l\">(11:58:9)</span> <i class=\"ab\">biraḥmatin</i></td><td class=\"c2\"><a href=\"wordmorphology.jsp?location=(11:58:9)\" name=\"(11:58:9)\">by a Mercy</a></td><td class=\"c3\"> وَلَمَّا جَاءَ أَمْرُنَا نَجَّيْنَا هُودًا وَالَّذِينَ آمَنُوا مَعَهُ <span class=\"auu\">بِرَحْمَةٍ</span> مِنَّا</td></tr><tr><td class=\"c1\"><span class=\"l\">(11:63:12)</span> <i class=\"ab\">raḥmatan</i></td><td class=\"c2\"><a href=\"wordmorphology.jsp?location=(11:63:12)\" name=\"(11:63:12)\">a Mercy</a></td><td class=\"c3\"> قَالَ يَا قَوْمِ أَرَأَيْتُمْ إِنْ كُنْتُ عَلَىٰ بَيِّنَةٍ مِنْ رَبِّي وَآتَانِي مِنْهُ <span class=\"auu\">رَحْمَةً</span></td></tr><tr><td class=\"c1\"><span class=\"l\">(11:66:9)</span> <i class=\"ab\">biraḥmatin</i></td><td class=\"c2\"><a href=\"wordmorphology.jsp?location=(11:66:9)\" name=\"(11:66:9)\">by a Mercy</a></td><td class=\"c3\"> فَلَمَّا جَاءَ أَمْرُنَا نَجَّيْنَا صَالِحًا وَالَّذِينَ آمَنُوا مَعَهُ <span class=\"auu\">بِرَحْمَةٍ</span> مِنَّا</td></tr><tr><td class=\"c1\"><span class=\"l\">(11:73:6)</span> <i class=\"ab\">raḥmatu</i></td><td class=\"c2\"><a href=\"wordmorphology.jsp?location=(11:73:6)\" name=\"(11:73:6)\">The Mercy of Allah</a></td><td class=\"c3\"> <span class=\"auu\">رَحْمَتُ</span> اللَّهِ وَبَرَكَاتُهُ عَلَيْكُمْ أَهْلَ الْبَيْتِ إِنَّهُ حَمِيدٌ مَجِيدٌ</td></tr><tr><td class=\"c1\"><span class=\"l\">(11:94:9)</span> <i class=\"ab\">biraḥmatin</i></td><td class=\"c2\"><a href=\"wordmorphology.jsp?location=(11:94:9)\" name=\"(11:94:9)\">by a Mercy</a></td><td class=\"c3\"> وَلَمَّا جَاءَ أَمْرُنَا نَجَّيْنَا شُعَيْبًا وَالَّذِينَ آمَنُوا مَعَهُ <span class=\"auu\">بِرَحْمَةٍ</span> مِنَّا</td></tr><tr><td class=\"c1\"><span class=\"l\">(12:56:11)</span> <i class=\"ab\">biraḥmatinā</i></td><td class=\"c2\"><a href=\"wordmorphology.jsp?location=(12:56:11)\" name=\"(12:56:11)\">Our Mercy</a></td><td class=\"c3\"> نُصِيبُ <span class=\"auu\">بِرَحْمَتِنَا</span> مَنْ نَشَاءُ وَلَا نُضِيعُ أَجْرَ الْمُحْسِنِينَ</td></tr><tr><td class=\"c1\"><span class=\"l\">(12:111:21)</span> <i class=\"ab\">waraḥmatan</i></td><td class=\"c2\"><a href=\"wordmorphology.jsp?location=(12:111:21)\" name=\"(12:111:21)\">and mercy</a></td><td class=\"c3\"> وَلَٰكِنْ تَصْدِيقَ الَّذِي بَيْنَ يَدَيْهِ وَتَفْصِيلَ كُلِّ شَيْءٍ وَهُدًى <span class=\"auu\">وَرَحْمَةً</span> لِقَوْمٍ يُؤْمِنُونَ</td></tr><tr><td class=\"c1\"><span class=\"l\">(15:56:5)</span> <i class=\"ab\">raḥmati</i></td><td class=\"c2\"><a href=\"wordmorphology.jsp?location=(15:56:5)\" name=\"(15:56:5)\">(the) Mercy</a></td><td class=\"c3\"> قَالَ وَمَنْ يَقْنَطُ مِنْ <span class=\"auu\">رَحْمَةِ</span> رَبِّهِ إِلَّا الضَّالُّونَ</td></tr><tr><td class=\"c1\"><span class=\"l\">(16:64:12)</span> <i class=\"ab\">waraḥmatan</i></td><td class=\"c2\"><a href=\"wordmorphology.jsp?location=(16:64:12)\" name=\"(16:64:12)\">and mercy</a></td><td class=\"c3\"> إِلَّا لِتُبَيِّنَ لَهُمُ الَّذِي اخْتَلَفُوا فِيهِ وَهُدًى <span class=\"auu\">وَرَحْمَةً</span> لِقَوْمٍ يُؤْمِنُونَ</td></tr><tr><td class=\"c1\"><span class=\"l\">(16:89:22)</span> <i class=\"ab\">waraḥmatan</i></td><td class=\"c2\"><a href=\"wordmorphology.jsp?location=(16:89:22)\" name=\"(16:89:22)\">and mercy</a></td><td class=\"c3\"> وَنَزَّلْنَا عَلَيْكَ الْكِتَابَ تِبْيَانًا لِكُلِّ شَيْءٍ وَهُدًى <span class=\"auu\">وَرَحْمَةً</span> وَبُشْرَىٰ لِلْمُسْلِمِينَ</td></tr><tr><td class=\"c1\"><span class=\"l\">(17:24:6)</span> <i class=\"ab\">l-raḥmati</i></td><td class=\"c2\"><a href=\"wordmorphology.jsp?location=(17:24:6)\" name=\"(17:24:6)\">[the] mercy</a></td><td class=\"c3\"> وَاخْفِضْ لَهُمَا جَنَاحَ الذُّلِّ مِنَ <span class=\"auu\">الرَّحْمَةِ</span></td></tr><tr><td class=\"c1\"><span class=\"l\">(17:28:5)</span> <i class=\"ab\">raḥmatin</i></td><td class=\"c2\"><a href=\"wordmorphology.jsp?location=(17:28:5)\" name=\"(17:28:5)\">mercy</a></td><td class=\"c3\"> وَإِمَّا تُعْرِضَنَّ عَنْهُمُ ابْتِغَاءَ <span class=\"auu\">رَحْمَةٍ</span> مِنْ رَبِّكَ تَرْجُوهَا فَقُلْ لَهُمْ قَوْلًا مَيْسُورًا</td></tr><tr><td class=\"c1\"><span class=\"l\">(17:57:11)</span> <i class=\"ab\">raḥmatahu</i></td><td class=\"c2\"><a href=\"wordmorphology.jsp?location=(17:57:11)\" name=\"(17:57:11)\">(for) His mercy</a></td><td class=\"c3\"> يَبْتَغُونَ إِلَىٰ رَبِّهِمُ الْوَسِيلَةَ أَيُّهُمْ أَقْرَبُ وَيَرْجُونَ <span class=\"auu\">رَحْمَتَهُ</span></td></tr><tr><td class=\"c1\"><span class=\"l\">(17:82:7)</span> <i class=\"ab\">waraḥmatun</i></td><td class=\"c2\"><a href=\"wordmorphology.jsp?location=(17:82:7)\" name=\"(17:82:7)\">and a mercy</a></td><td class=\"c3\"> وَنُنَزِّلُ مِنَ الْقُرْآنِ مَا هُوَ شِفَاءٌ <span class=\"auu\">وَرَحْمَةٌ</span> لِلْمُؤْمِنِينَ</td></tr><tr><td class=\"c1\"><span class=\"l\">(17:87:2)</span> <i class=\"ab\">raḥmatan</i></td><td class=\"c2\"><a href=\"wordmorphology.jsp?location=(17:87:2)\" name=\"(17:87:2)\">a mercy</a></td><td class=\"c3\"> إِلَّا <span class=\"auu\">رَحْمَةً</span> مِنْ رَبِّكَ إِنَّ فَضْلَهُ كَانَ عَلَيْكَ كَبِيرًا</td></tr><tr><td class=\"c1\"><span class=\"l\">(17:100:6)</span> <i class=\"ab\">raḥmati</i></td><td class=\"c2\"><a href=\"wordmorphology.jsp?location=(17:100:6)\" name=\"(17:100:6)\">(of) the Mercy</a></td><td class=\"c3\"> قُلْ لَوْ أَنْتُمْ تَمْلِكُونَ خَزَائِنَ <span class=\"auu\">رَحْمَةِ</span> رَبِّي إِذًا لَأَمْسَكْتُمْ خَشْيَةَ الْإِنْفَاقِ</td></tr><tr><td class=\"c1\"><span class=\"l\">(18:10:11)</span> <i class=\"ab\">raḥmatan</i></td><td class=\"c2\"><a href=\"wordmorphology.jsp?location=(18:10:11)\" name=\"(18:10:11)\">Mercy</a></td><td class=\"c3\"> رَبَّنَا آتِنَا مِنْ لَدُنْكَ <span class=\"auu\">رَحْمَةً</span> وَهَيِّئْ لَنَا مِنْ أَمْرِنَا رَشَدًا</td></tr><tr><td class=\"c1\"><span class=\"l\">(18:16:14)</span> <i class=\"ab\">raḥmatihi</i></td><td class=\"c2\"><a href=\"wordmorphology.jsp?location=(18:16:14)\" name=\"(18:16:14)\">His Mercy</a></td><td class=\"c3\"> فَأْوُوا إِلَى الْكَهْفِ يَنْشُرْ لَكُمْ رَبُّكُمْ مِنْ <span class=\"auu\">رَحْمَتِهِ</span></td></tr><tr><td class=\"c1\"><span class=\"l\">(18:58:4)</span> <i class=\"ab\">l-raḥmati</i></td><td class=\"c2\"><a href=\"wordmorphology.jsp?location=(18:58:4)\" name=\"(18:58:4)\">(of) the Mercy</a></td><td class=\"c3\"> وَرَبُّكَ الْغَفُورُ ذُو <span class=\"auu\">الرَّحْمَةِ</span></td></tr><tr><td class=\"c1\"><span class=\"l\">(18:65:6)</span> <i class=\"ab\">raḥmatan</i></td><td class=\"c2\"><a href=\"wordmorphology.jsp?location=(18:65:6)\" name=\"(18:65:6)\">mercy</a></td><td class=\"c3\"> فَوَجَدَا عَبْدًا مِنْ عِبَادِنَا آتَيْنَاهُ <span class=\"auu\">رَحْمَةً</span> مِنْ عِنْدِنَا</td></tr><tr><td class=\"c1\"><span class=\"l\">(18:82:22)</span> <i class=\"ab\">raḥmatan</i></td><td class=\"c2\"><a href=\"wordmorphology.jsp?location=(18:82:22)\" name=\"(18:82:22)\">(as) a mercy</a></td><td class=\"c3\"> فَأَرَادَ رَبُّكَ أَنْ يَبْلُغَا أَشُدَّهُمَا وَيَسْتَخْرِجَا كَنْزَهُمَا <span class=\"auu\">رَحْمَةً</span> مِنْ رَبِّكَ</td></tr><tr><td class=\"c1\"><span class=\"l\">(18:98:3)</span> <i class=\"ab\">raḥmatun</i></td><td class=\"c2\"><a href=\"wordmorphology.jsp?location=(18:98:3)\" name=\"(18:98:3)\">(is) a mercy</a></td><td class=\"c3\"> قَالَ هَٰذَا <span class=\"auu\">رَحْمَةٌ</span> مِنْ رَبِّي فَإِذَا جَاءَ وَعْدُ رَبِّي جَعَلَهُ دَكَّاءَ</td></tr><tr><td class=\"c1\"><span class=\"l\">(19:2:2)</span> <i class=\"ab\">raḥmati</i></td><td class=\"c2\"><a href=\"wordmorphology.jsp?location=(19:2:2)\" name=\"(19:2:2)\">(of the) Mercy</a></td><td class=\"c3\"> ذِكْرُ <span class=\"auu\">رَحْمَتِ</span> رَبِّكَ عَبْدَهُ زَكَرِيَّا</td></tr><tr><td class=\"c1\"><span class=\"l\">(19:21:11)</span> <i class=\"ab\">waraḥmatan</i></td><td class=\"c2\"><a href=\"wordmorphology.jsp?location=(19:21:11)\" name=\"(19:21:11)\">and a Mercy</a></td><td class=\"c3\"> وَلِنَجْعَلَهُ آيَةً لِلنَّاسِ <span class=\"auu\">وَرَحْمَةً</span> مِنَّا وَكَانَ أَمْرًا مَقْضِيًّا</td></tr><tr><td class=\"c1\"><span class=\"l\">(19:50:4)</span> <i class=\"ab\">raḥmatinā</i></td><td class=\"c2\"><a href=\"wordmorphology.jsp?location=(19:50:4)\" name=\"(19:50:4)\">Our Mercy</a></td><td class=\"c3\"> وَوَهَبْنَا لَهُمْ مِنْ <span class=\"auu\">رَحْمَتِنَا</span> وَجَعَلْنَا لَهُمْ لِسَانَ صِدْقٍ عَلِيًّا</td></tr><tr><td class=\"c1\"><span class=\"l\">(19:53:4)</span> <i class=\"ab\">raḥmatinā</i></td><td class=\"c2\"><a href=\"wordmorphology.jsp?location=(19:53:4)\" name=\"(19:53:4)\">Our Mercy</a></td><td class=\"c3\"> وَوَهَبْنَا لَهُ مِنْ <span class=\"auu\">رَحْمَتِنَا</span> أَخَاهُ هَارُونَ نَبِيًّا</td></tr><tr><td class=\"c1\"><span class=\"l\">(21:75:3)</span> <i class=\"ab\">raḥmatinā</i></td><td class=\"c2\"><a href=\"wordmorphology.jsp?location=(21:75:3)\" name=\"(21:75:3)\">Our Mercy</a></td><td class=\"c3\"> وَأَدْخَلْنَاهُ فِي <span class=\"auu\">رَحْمَتِنَا</span> إِنَّهُ مِنَ الصَّالِحِينَ</td></tr><tr><td class=\"c1\"><span class=\"l\">(21:84:12)</span> <i class=\"ab\">raḥmatan</i></td><td class=\"c2\"><a href=\"wordmorphology.jsp?location=(21:84:12)\" name=\"(21:84:12)\">(as) Mercy</a></td><td class=\"c3\"> وَآتَيْنَاهُ أَهْلَهُ وَمِثْلَهُمْ مَعَهُمْ <span class=\"auu\">رَحْمَةً</span> مِنْ عِنْدِنَا وَذِكْرَىٰ لِلْعَابِدِينَ</td></tr><tr><td class=\"c1\"><span class=\"l\">(21:86:3)</span> <i class=\"ab\">raḥmatinā</i></td><td class=\"c2\"><a href=\"wordmorphology.jsp?location=(21:86:3)\" name=\"(21:86:3)\">Our Mercy</a></td><td class=\"c3\"> وَأَدْخَلْنَاهُمْ فِي <span class=\"auu\">رَحْمَتِنَا</span> إِنَّهُمْ مِنَ الصَّالِحِينَ</td></tr><tr><td class=\"c1\"><span class=\"l\">(21:107:4)</span> <i class=\"ab\">raḥmatan</i></td><td class=\"c2\"><a href=\"wordmorphology.jsp?location=(21:107:4)\" name=\"(21:107:4)\">(as) a mercy</a></td><td class=\"c3\"> وَمَا أَرْسَلْنَاكَ إِلَّا <span class=\"auu\">رَحْمَةً</span> لِلْعَالَمِينَ</td></tr><tr><td class=\"c1\"><span class=\"l\">(24:10:5)</span> <i class=\"ab\">waraḥmatuhu</i></td><td class=\"c2\"><a href=\"wordmorphology.jsp?location=(24:10:5)\" name=\"(24:10:5)\">and His Mercy </a></td><td class=\"c3\"> وَلَوْلَا فَضْلُ اللَّهِ عَلَيْكُمْ <span class=\"auu\">وَرَحْمَتُهُ</span> وَأَنَّ اللَّهَ تَوَّابٌ حَكِيمٌ</td></tr><tr><td class=\"c1\"><span class=\"l\">(24:14:5)</span> <i class=\"ab\">waraḥmatuhu</i></td><td class=\"c2\"><a href=\"wordmorphology.jsp?location=(24:14:5)\" name=\"(24:14:5)\">and His Mercy</a></td><td class=\"c3\"> وَلَوْلَا فَضْلُ اللَّهِ عَلَيْكُمْ <span class=\"auu\">وَرَحْمَتُهُ</span> فِي الدُّنْيَا وَالْآخِرَةِ لَمَسَّكُمْ فِي مَا أَفَضْتُمْ فِيهِ عَذَابٌ عَظِيمٌ</td></tr><tr><td class=\"c1\"><span class=\"l\">(24:20:5)</span> <i class=\"ab\">waraḥmatuhu</i></td><td class=\"c2\"><a href=\"wordmorphology.jsp?location=(24:20:5)\" name=\"(24:20:5)\">and His Mercy</a></td><td class=\"c3\"> وَلَوْلَا فَضْلُ اللَّهِ عَلَيْكُمْ <span class=\"auu\">وَرَحْمَتُهُ</span> وَأَنَّ اللَّهَ رَءُوفٌ رَحِيمٌ</td></tr><tr><td class=\"c1\"><span class=\"l\">(24:21:20)</span> <i class=\"ab\">waraḥmatuhu</i></td><td class=\"c2\"><a href=\"wordmorphology.jsp?location=(24:21:20)\" name=\"(24:21:20)\">and His Mercy</a></td><td class=\"c3\"> وَلَوْلَا فَضْلُ اللَّهِ عَلَيْكُمْ <span class=\"auu\">وَرَحْمَتُهُ</span> مَا زَكَىٰ مِنْكُمْ مِنْ أَحَدٍ أَبَدًا</td></tr><tr><td class=\"c1\"><span class=\"l\">(25:48:8)</span> <i class=\"ab\">raḥmatihi</i></td><td class=\"c2\"><a href=\"wordmorphology.jsp?location=(25:48:8)\" name=\"(25:48:8)\">His Mercy</a></td><td class=\"c3\"> وَهُوَ الَّذِي أَرْسَلَ الرِّيَاحَ بُشْرًا بَيْنَ يَدَيْ <span class=\"auu\">رَحْمَتِهِ</span></td></tr><tr><td class=\"c1\"><span class=\"l\">(27:19:21)</span> <i class=\"ab\">biraḥmatika</i></td><td class=\"c2\"><a href=\"wordmorphology.jsp?location=(27:19:21)\" name=\"(27:19:21)\">by Your Mercy</a></td><td class=\"c3\"> وَأَدْخِلْنِي <span class=\"auu\">بِرَحْمَتِكَ</span> فِي عِبَادِكَ الصَّالِحِينَ</td></tr><tr><td class=\"c1\"><span class=\"l\">(27:63:13)</span> <i class=\"ab\">raḥmatihi</i></td><td class=\"c2\"><a href=\"wordmorphology.jsp?location=(27:63:13)\" name=\"(27:63:13)\">His Mercy</a></td><td class=\"c3\"> وَمَنْ يُرْسِلُ الرِّيَاحَ بُشْرًا بَيْنَ يَدَيْ <span class=\"auu\">رَحْمَتِهِ</span></td></tr><tr><td class=\"c1\"><span class=\"l\">(27:77:3)</span> <i class=\"ab\">waraḥmatun</i></td><td class=\"c2\"><a href=\"wordmorphology.jsp?location=(27:77:3)\" name=\"(27:77:3)\">and a mercy</a></td><td class=\"c3\"> وَإِنَّهُ لَهُدًى <span class=\"auu\">وَرَحْمَةٌ</span> لِلْمُؤْمِنِينَ</td></tr><tr><td class=\"c1\"><span class=\"l\">(28:43:14)</span> <i class=\"ab\">waraḥmatan</i></td><td class=\"c2\"><a href=\"wordmorphology.jsp?location=(28:43:14)\" name=\"(28:43:14)\">and mercy</a></td><td class=\"c3\"> بَصَائِرَ لِلنَّاسِ وَهُدًى <span class=\"auu\">وَرَحْمَةً</span> لَعَلَّهُمْ يَتَذَكَّرُونَ</td></tr><tr><td class=\"c1\"><span class=\"l\">(28:46:8)</span> <i class=\"ab\">raḥmatan</i></td><td class=\"c2\"><a href=\"wordmorphology.jsp?location=(28:46:8)\" name=\"(28:46:8)\">(as) a mercy</a></td><td class=\"c3\"> وَمَا كُنْتَ بِجَانِبِ الطُّورِ إِذْ نَادَيْنَا وَلَٰكِنْ <span class=\"auu\">رَحْمَةً</span> مِنْ رَبِّكَ</td></tr><tr><td class=\"c1\"><span class=\"l\">(28:73:2)</span> <i class=\"ab\">raḥmatihi</i></td><td class=\"c2\"><a href=\"wordmorphology.jsp?location=(28:73:2)\" name=\"(28:73:2)\">His Mercy</a></td><td class=\"c3\"> وَمِنْ <span class=\"auu\">رَحْمَتِهِ</span> جَعَلَ لَكُمُ اللَّيْلَ وَالنَّهَارَ لِتَسْكُنُوا فِيهِ وَلِتَبْتَغُوا مِنْ فَضْلِهِ</td></tr><tr><td class=\"c1\"><span class=\"l\">(28:86:9)</span> <i class=\"ab\">raḥmatan</i></td><td class=\"c2\"><a href=\"wordmorphology.jsp?location=(28:86:9)\" name=\"(28:86:9)\">(as) a mercy</a></td><td class=\"c3\"> وَمَا كُنْتَ تَرْجُو أَنْ يُلْقَىٰ إِلَيْكَ الْكِتَابُ إِلَّا <span class=\"auu\">رَحْمَةً</span> مِنْ رَبِّكَ</td></tr><tr><td class=\"c1\"><span class=\"l\">(29:23:9)</span> <i class=\"ab\">raḥmatī</i></td><td class=\"c2\"><a href=\"wordmorphology.jsp?location=(29:23:9)\" name=\"(29:23:9)\">My Mercy</a></td><td class=\"c3\"> وَالَّذِينَ كَفَرُوا بِآيَاتِ اللَّهِ وَلِقَائِهِ أُولَٰئِكَ يَئِسُوا مِنْ <span class=\"auu\">رَحْمَتِي</span></td></tr><tr><td class=\"c1\"><span class=\"l\">(29:51:12)</span> <i class=\"ab\">laraḥmatan</i></td><td class=\"c2\"><a href=\"wordmorphology.jsp?location=(29:51:12)\" name=\"(29:51:12)\">surely is a mercy</a></td><td class=\"c3\"> إِنَّ فِي ذَٰلِكَ <span class=\"auu\">لَرَحْمَةً</span> وَذِكْرَىٰ لِقَوْمٍ يُؤْمِنُونَ</td></tr><tr><td class=\"c1\"><span class=\"l\">(30:21:14)</span> <i class=\"ab\">waraḥmatan</i></td><td class=\"c2\"><a href=\"wordmorphology.jsp?location=(30:21:14)\" name=\"(30:21:14)\">and mercy</a></td><td class=\"c3\"> وَمِنْ آيَاتِهِ أَنْ خَلَقَ لَكُمْ مِنْ أَنْفُسِكُمْ أَزْوَاجًا لِتَسْكُنُوا إِلَيْهَا وَجَعَلَ بَيْنَكُمْ مَوَدَّةً <span class=\"auu\">وَرَحْمَةً</span></td></tr><tr><td class=\"c1\"><span class=\"l\">(30:33:13)</span> <i class=\"ab\">raḥmatan</i></td><td class=\"c2\"><a href=\"wordmorphology.jsp?location=(30:33:13)\" name=\"(30:33:13)\">Mercy</a></td><td class=\"c3\"> ثُمَّ إِذَا أَذَاقَهُمْ مِنْهُ <span class=\"auu\">رَحْمَةً</span> إِذَا فَرِيقٌ مِنْهُمْ بِرَبِّهِمْ يُشْرِكُونَ</td></tr><tr><td class=\"c1\"><span class=\"l\">(30:36:4)</span> <i class=\"ab\">raḥmatan</i></td><td class=\"c2\"><a href=\"wordmorphology.jsp?location=(30:36:4)\" name=\"(30:36:4)\">mercy</a></td><td class=\"c3\"> وَإِذَا أَذَقْنَا النَّاسَ <span class=\"auu\">رَحْمَةً</span> فَرِحُوا بِهَا</td></tr><tr><td class=\"c1\"><span class=\"l\">(30:46:9)</span> <i class=\"ab\">raḥmatihi</i></td><td class=\"c2\"><a href=\"wordmorphology.jsp?location=(30:46:9)\" name=\"(30:46:9)\">His Mercy</a></td><td class=\"c3\"> وَمِنْ آيَاتِهِ أَنْ يُرْسِلَ الرِّيَاحَ مُبَشِّرَاتٍ وَلِيُذِيقَكُمْ مِنْ <span class=\"auu\">رَحْمَتِهِ</span></td></tr><tr><td class=\"c1\"><span class=\"l\">(30:50:4)</span> <i class=\"ab\">raḥmati</i></td><td class=\"c2\"><a href=\"wordmorphology.jsp?location=(30:50:4)\" name=\"(30:50:4)\">(of the) Mercy</a></td><td class=\"c3\"> فَانْظُرْ إِلَىٰ آثَارِ <span class=\"auu\">رَحْمَتِ</span> اللَّهِ كَيْفَ يُحْيِي الْأَرْضَ بَعْدَ مَوْتِهَا</td></tr><tr><td class=\"c1\"><span class=\"l\">(31:3:2)</span> <i class=\"ab\">waraḥmatan</i></td><td class=\"c2\"><a href=\"wordmorphology.jsp?location=(31:3:2)\" name=\"(31:3:2)\">and a mercy</a></td><td class=\"c3\"> هُدًى <span class=\"auu\">وَرَحْمَةً</span> لِلْمُحْسِنِينَ</td></tr><tr><td class=\"c1\"><span class=\"l\">(33:17:15)</span> <i class=\"ab\">raḥmatan</i></td><td class=\"c2\"><a href=\"wordmorphology.jsp?location=(33:17:15)\" name=\"(33:17:15)\">a mercy</a></td><td class=\"c3\"> قُلْ مَنْ ذَا الَّذِي يَعْصِمُكُمْ مِنَ اللَّهِ إِنْ أَرَادَ بِكُمْ سُوءًا أَوْ أَرَادَ بِكُمْ <span class=\"auu\">رَحْمَةً</span></td></tr><tr><td class=\"c1\"><span class=\"l\">(35:2:6)</span> <i class=\"ab\">raḥmatin</i></td><td class=\"c2\"><a href=\"wordmorphology.jsp?location=(35:2:6)\" name=\"(35:2:6)\">Mercy</a></td><td class=\"c3\"> مَا يَفْتَحِ اللَّهُ لِلنَّاسِ مِنْ <span class=\"auu\">رَحْمَةٍ</span> فَلَا مُمْسِكَ لَهَا</td></tr><tr><td class=\"c1\"><span class=\"l\">(36:44:2)</span> <i class=\"ab\">raḥmatan</i></td><td class=\"c2\"><a href=\"wordmorphology.jsp?location=(36:44:2)\" name=\"(36:44:2)\">(by) Mercy</a></td><td class=\"c3\"> إِلَّا <span class=\"auu\">رَحْمَةً</span> مِنَّا وَمَتَاعًا إِلَىٰ حِينٍ</td></tr><tr><td class=\"c1\"><span class=\"l\">(38:9:4)</span> <i class=\"ab\">raḥmati</i></td><td class=\"c2\"><a href=\"wordmorphology.jsp?location=(38:9:4)\" name=\"(38:9:4)\">(of the) Mercy</a></td><td class=\"c3\"> أَمْ عِنْدَهُمْ خَزَائِنُ <span class=\"auu\">رَحْمَةِ</span> رَبِّكَ الْعَزِيزِ الْوَهَّابِ</td></tr><tr><td class=\"c1\"><span class=\"l\">(38:43:6)</span> <i class=\"ab\">raḥmatan</i></td><td class=\"c2\"><a href=\"wordmorphology.jsp?location=(38:43:6)\" name=\"(38:43:6)\">a Mercy</a></td><td class=\"c3\"> وَوَهَبْنَا لَهُ أَهْلَهُ وَمِثْلَهُمْ مَعَهُمْ <span class=\"auu\">رَحْمَةً</span> مِنَّا</td></tr><tr><td class=\"c1\"><span class=\"l\">(39:9:11)</span> <i class=\"ab\">raḥmata</i></td><td class=\"c2\"><a href=\"wordmorphology.jsp?location=(39:9:11)\" name=\"(39:9:11)\">(for the) Mercy</a></td><td class=\"c3\"> يَحْذَرُ الْآخِرَةَ وَيَرْجُو <span class=\"auu\">رَحْمَةَ</span> رَبِّهِ</td></tr><tr><td class=\"c1\"><span class=\"l\">(39:38:26)</span> <i class=\"ab\">biraḥmatin</i></td><td class=\"c2\"><a href=\"wordmorphology.jsp?location=(39:38:26)\" name=\"(39:38:26)\">mercy</a></td><td class=\"c3\"> أَوْ أَرَادَنِي <span class=\"auu\">بِرَحْمَةٍ</span> هَلْ هُنَّ مُمْسِكَاتُ رَحْمَتِهِ</td></tr><tr><td class=\"c1\"><span class=\"l\">(39:38:30)</span> <i class=\"ab\">raḥmatihi</i></td><td class=\"c2\"><a href=\"wordmorphology.jsp?location=(39:38:30)\" name=\"(39:38:30)\">(of) His mercy</a></td><td class=\"c3\"> أَوْ أَرَادَنِي بِرَحْمَةٍ هَلْ هُنَّ مُمْسِكَاتُ <span class=\"auu\">رَحْمَتِهِ</span></td></tr><tr><td class=\"c1\"><span class=\"l\">(39:53:10)</span> <i class=\"ab\">raḥmati</i></td><td class=\"c2\"><a href=\"wordmorphology.jsp?location=(39:53:10)\" name=\"(39:53:10)\">(the) Mercy</a></td><td class=\"c3\"> قُلْ يَا عِبَادِيَ الَّذِينَ أَسْرَفُوا عَلَىٰ أَنْفُسِهِمْ لَا تَقْنَطُوا مِنْ <span class=\"auu\">رَحْمَةِ</span> اللَّهِ</td></tr><tr><td class=\"c1\"><span class=\"l\">(40:7:18)</span> <i class=\"ab\">raḥmatan</i></td><td class=\"c2\"><a href=\"wordmorphology.jsp?location=(40:7:18)\" name=\"(40:7:18)\">(by Your) Mercy</a></td><td class=\"c3\"> رَبَّنَا وَسِعْتَ كُلَّ شَيْءٍ <span class=\"auu\">رَحْمَةً</span> وَعِلْمًا</td></tr><tr><td class=\"c1\"><span class=\"l\">(41:50:3)</span> <i class=\"ab\">raḥmatan</i></td><td class=\"c2\"><a href=\"wordmorphology.jsp?location=(41:50:3)\" name=\"(41:50:3)\">mercy</a></td><td class=\"c3\"> وَلَئِنْ أَذَقْنَاهُ <span class=\"auu\">رَحْمَةً</span> مِنَّا مِنْ بَعْدِ ضَرَّاءَ مَسَّتْهُ لَيَقُولَنَّ هَٰذَا لِي</td></tr><tr><td class=\"c1\"><span class=\"l\">(42:8:12)</span> <i class=\"ab\">raḥmatihi</i></td><td class=\"c2\"><a href=\"wordmorphology.jsp?location=(42:8:12)\" name=\"(42:8:12)\">His Mercy</a></td><td class=\"c3\"> وَلَٰكِنْ يُدْخِلُ مَنْ يَشَاءُ فِي <span class=\"auu\">رَحْمَتِهِ</span></td></tr><tr><td class=\"c1\"><span class=\"l\">(42:28:10)</span> <i class=\"ab\">raḥmatahu</i></td><td class=\"c2\"><a href=\"wordmorphology.jsp?location=(42:28:10)\" name=\"(42:28:10)\">His mercy</a></td><td class=\"c3\"> وَهُوَ الَّذِي يُنَزِّلُ الْغَيْثَ مِنْ بَعْدِ مَا قَنَطُوا وَيَنْشُرُ <span class=\"auu\">رَحْمَتَهُ</span></td></tr><tr><td class=\"c1\"><span class=\"l\">(42:48:16)</span> <i class=\"ab\">raḥmatan</i></td><td class=\"c2\"><a href=\"wordmorphology.jsp?location=(42:48:16)\" name=\"(42:48:16)\">Mercy</a></td><td class=\"c3\"> وَإِنَّا إِذَا أَذَقْنَا الْإِنْسَانَ مِنَّا <span class=\"auu\">رَحْمَةً</span> فَرِحَ بِهَا</td></tr><tr><td class=\"c1\"><span class=\"l\">(43:32:3)</span> <i class=\"ab\">raḥmata</i></td><td class=\"c2\"><a href=\"wordmorphology.jsp?location=(43:32:3)\" name=\"(43:32:3)\">(the) Mercy</a></td><td class=\"c3\"> أَهُمْ يَقْسِمُونَ <span class=\"auu\">رَحْمَتَ</span> رَبِّكَ</td></tr><tr><td class=\"c1\"><span class=\"l\">(43:32:21)</span> <i class=\"ab\">waraḥmatu</i></td><td class=\"c2\"><a href=\"wordmorphology.jsp?location=(43:32:21)\" name=\"(43:32:21)\">But (the) Mercy</a></td><td class=\"c3\"> <span class=\"auu\">وَرَحْمَتُ</span> رَبِّكَ خَيْرٌ مِمَّا يَجْمَعُونَ</td></tr><tr><td class=\"c1\"><span class=\"l\">(44:6:1)</span> <i class=\"ab\">raḥmatan</i></td><td class=\"c2\"><a href=\"wordmorphology.jsp?location=(44:6:1)\" name=\"(44:6:1)\">As Mercy</a></td><td class=\"c3\"> <span class=\"auu\">رَحْمَةً</span> مِنْ رَبِّكَ إِنَّهُ هُوَ السَّمِيعُ الْعَلِيمُ</td></tr><tr><td class=\"c1\"><span class=\"l\">(45:20:5)</span> <i class=\"ab\">waraḥmatun</i></td><td class=\"c2\"><a href=\"wordmorphology.jsp?location=(45:20:5)\" name=\"(45:20:5)\">and mercy</a></td><td class=\"c3\"> هَٰذَا بَصَائِرُ لِلنَّاسِ وَهُدًى <span class=\"auu\">وَرَحْمَةٌ</span> لِقَوْمٍ يُوقِنُونَ</td></tr><tr><td class=\"c1\"><span class=\"l\">(45:30:9)</span> <i class=\"ab\">raḥmatihi</i></td><td class=\"c2\"><a href=\"wordmorphology.jsp?location=(45:30:9)\" name=\"(45:30:9)\">His mercy</a></td><td class=\"c3\"> فَأَمَّا الَّذِينَ آمَنُوا وَعَمِلُوا الصَّالِحَاتِ فَيُدْخِلُهُمْ رَبُّهُمْ فِي <span class=\"auu\">رَحْمَتِهِ</span></td></tr><tr><td class=\"c1\"><span class=\"l\">(46:12:6)</span> <i class=\"ab\">waraḥmatan</i></td><td class=\"c2\"><a href=\"wordmorphology.jsp?location=(46:12:6)\" name=\"(46:12:6)\">and a mercy</a></td><td class=\"c3\"> وَمِنْ قَبْلِهِ كِتَابُ مُوسَىٰ إِمَامًا <span class=\"auu\">وَرَحْمَةً</span></td></tr><tr><td class=\"c1\"><span class=\"l\">(48:25:30)</span> <i class=\"ab\">raḥmatihi</i></td><td class=\"c2\"><a href=\"wordmorphology.jsp?location=(48:25:30)\" name=\"(48:25:30)\">His Mercy</a></td><td class=\"c3\"> لِيُدْخِلَ اللَّهُ فِي <span class=\"auu\">رَحْمَتِهِ</span> مَنْ يَشَاءُ</td></tr><tr><td class=\"c1\"><span class=\"l\">(57:13:23)</span> <i class=\"ab\">l-raḥmatu</i></td><td class=\"c2\"><a href=\"wordmorphology.jsp?location=(57:13:23)\" name=\"(57:13:23)\">(is) mercy</a></td><td class=\"c3\"> بَاطِنُهُ فِيهِ <span class=\"auu\">الرَّحْمَةُ</span> وَظَاهِرُهُ مِنْ قِبَلِهِ الْعَذَابُ</td></tr><tr><td class=\"c1\"><span class=\"l\">(57:27:18)</span> <i class=\"ab\">waraḥmatan</i></td><td class=\"c2\"><a href=\"wordmorphology.jsp?location=(57:27:18)\" name=\"(57:27:18)\">and mercy</a></td><td class=\"c3\"> وَجَعَلْنَا فِي قُلُوبِ الَّذِينَ اتَّبَعُوهُ رَأْفَةً <span class=\"auu\">وَرَحْمَةً</span></td></tr><tr><td class=\"c1\"><span class=\"l\">(57:28:11)</span> <i class=\"ab\">raḥmatihi</i></td><td class=\"c2\"><a href=\"wordmorphology.jsp?location=(57:28:11)\" name=\"(57:28:11)\">His Mercy</a></td><td class=\"c3\"> اتَّقُوا اللَّهَ وَآمِنُوا بِرَسُولِهِ يُؤْتِكُمْ كِفْلَيْنِ مِنْ <span class=\"auu\">رَحْمَتِهِ</span></td></tr><tr><td class=\"c1\"><span class=\"l\">(76:31:5)</span> <i class=\"ab\">raḥmatihi</i></td><td class=\"c2\"><a href=\"wordmorphology.jsp?location=(76:31:5)\" name=\"(76:31:5)\">His mercy</a></td><td class=\"c3\"> يُدْخِلُ مَنْ يَشَاءُ فِي <span class=\"auu\">رَحْمَتِهِ</span> وَالظَّالِمِينَ أَعَدَّ لَهُمْ عَذَابًا أَلِيمًا</td></tr></table><h4 class=\"dxe\">Nominal</h4><p class=\"dxt\" style=\"margin-top:0\">(1) Adjective</p><table border=\"0\" cellpadding=\"0\" cellspacing=\"0\" class=\"taf\"><tr><td class=\"c1\"><span class=\"l\">(1:1:4)</span> <i class=\"ab\">l-raḥīmi</i></td><td class=\"c2\"><a href=\"wordmorphology.jsp?location=(1:1:4)\" name=\"(1:1:4)\">the Most Merciful</a></td><td class=\"c3\"> بِسْمِ اللَّهِ الرَّحْمَٰنِ <span class=\"auu\">الرَّحِيمِ</span></td></tr><tr><td class=\"c1\"><span class=\"l\">(1:3:2)</span> <i class=\"ab\">l-raḥīmi</i></td><td class=\"c2\"><a href=\"wordmorphology.jsp?location=(1:3:2)\" name=\"(1:3:2)\">the Most Merciful</a></td><td class=\"c3\"> الرَّحْمَٰنِ <span class=\"auu\">الرَّحِيمِ</span></td></tr><tr><td class=\"c1\"><span class=\"l\">(2:37:11)</span> <i class=\"ab\">l-raḥīmu</i></td><td class=\"c2\"><a href=\"wordmorphology.jsp?location=(2:37:11)\" name=\"(2:37:11)\">the Most Merciful</a></td><td class=\"c3\"> فَتَلَقَّىٰ آدَمُ مِنْ رَبِّهِ كَلِمَاتٍ فَتَابَ عَلَيْهِ إِنَّهُ هُوَ التَّوَّابُ <span class=\"auu\">الرَّحِيمُ</span></td></tr><tr><td class=\"c1\"><span class=\"l\">(2:54:26)</span> <i class=\"ab\">l-raḥīmu</i></td><td class=\"c2\"><a href=\"wordmorphology.jsp?location=(2:54:26)\" name=\"(2:54:26)\">the Most Merciful</a></td><td class=\"c3\"> ذَٰلِكُمْ خَيْرٌ لَكُمْ عِنْدَ بَارِئِكُمْ فَتَابَ عَلَيْكُمْ إِنَّهُ هُوَ التَّوَّابُ <span class=\"auu\">الرَّحِيمُ</span></td></tr><tr><td class=\"c1\"><span class=\"l\">(2:128:17)</span> <i class=\"ab\">l-raḥīmu</i></td><td class=\"c2\"><a href=\"wordmorphology.jsp?location=(2:128:17)\" name=\"(2:128:17)\">the Most Merciful</a></td><td class=\"c3\"> وَأَرِنَا مَنَاسِكَنَا وَتُبْ عَلَيْنَا إِنَّكَ أَنْتَ التَّوَّابُ <span class=\"auu\">الرَّحِيمُ</span></td></tr><tr><td class=\"c1\"><span class=\"l\">(2:143:45)</span> <i class=\"ab\">raḥīmun</i></td><td class=\"c2\"><a href=\"wordmorphology.jsp?location=(2:143:45)\" name=\"(2:143:45)\">Most Merciful</a></td><td class=\"c3\"> وَمَا كَانَ اللَّهُ لِيُضِيعَ إِيمَانَكُمْ إِنَّ اللَّهَ بِالنَّاسِ لَرَءُوفٌ <span class=\"auu\">رَحِيمٌ</span></td></tr><tr><td class=\"c1\"><span class=\"l\">(2:160:11)</span> <i class=\"ab\">l-raḥīmu</i></td><td class=\"c2\"><a href=\"wordmorphology.jsp?location=(2:160:11)\" name=\"(2:160:11)\">the Most Merciful</a></td><td class=\"c3\"> فَأُولَٰئِكَ أَتُوبُ عَلَيْهِمْ وَأَنَا التَّوَّابُ <span class=\"auu\">الرَّحِيمُ</span></td></tr><tr><td class=\"c1\"><span class=\"l\">(2:163:9)</span> <i class=\"ab\">l-raḥīmu</i></td><td class=\"c2\"><a href=\"wordmorphology.jsp?location=(2:163:9)\" name=\"(2:163:9)\">the Most Merciful</a></td><td class=\"c3\"> وَإِلَٰهُكُمْ إِلَٰهٌ وَاحِدٌ لَا إِلَٰهَ إِلَّا هُوَ الرَّحْمَٰنُ <span class=\"auu\">الرَّحِيمُ</span></td></tr><tr><td class=\"c1\"><span class=\"l\">(2:173:25)</span> <i class=\"ab\">raḥīmun</i></td><td class=\"c2\"><a href=\"wordmorphology.jsp?location=(2:173:25)\" name=\"(2:173:25)\">Most Merciful</a></td><td class=\"c3\"> فَمَنِ اضْطُرَّ غَيْرَ بَاغٍ وَلَا عَادٍ فَلَا إِثْمَ عَلَيْهِ إِنَّ اللَّهَ غَفُورٌ <span class=\"auu\">رَحِيمٌ</span></td></tr><tr><td class=\"c1\"><span class=\"l\">(2:182:16)</span> <i class=\"ab\">raḥīmun</i></td><td class=\"c2\"><a href=\"wordmorphology.jsp?location=(2:182:16)\" name=\"(2:182:16)\">All-Merciful</a></td><td class=\"c3\"> فَلَا إِثْمَ عَلَيْهِ إِنَّ اللَّهَ غَفُورٌ <span class=\"auu\">رَحِيمٌ</span></td></tr><tr><td class=\"c1\"><span class=\"l\">(2:192:6)</span> <i class=\"ab\">raḥīmun</i></td><td class=\"c2\"><a href=\"wordmorphology.jsp?location=(2:192:6)\" name=\"(2:192:6)\">Most Merciful</a></td><td class=\"c3\"> فَإِنِ انْتَهَوْا فَإِنَّ اللَّهَ غَفُورٌ <span class=\"auu\">رَحِيمٌ</span></td></tr><tr><td class=\"c1\"><span class=\"l\">(2:199:12)</span> <i class=\"ab\">raḥīmun</i></td><td class=\"c2\"><a href=\"wordmorphology.jsp?location=(2:199:12)\" name=\"(2:199:12)\">Most Merciful</a></td><td class=\"c3\"> وَاسْتَغْفِرُوا اللَّهَ إِنَّ اللَّهَ غَفُورٌ <span class=\"auu\">رَحِيمٌ</span></td></tr><tr><td class=\"c1\"><span class=\"l\">(2:218:16)</span> <i class=\"ab\">raḥīmun</i></td><td class=\"c2\"><a href=\"wordmorphology.jsp?location=(2:218:16)\" name=\"(2:218:16)\">Most Merciful</a></td><td class=\"c3\"> أُولَٰئِكَ يَرْجُونَ رَحْمَتَ اللَّهِ وَاللَّهُ غَفُورٌ <span class=\"auu\">رَحِيمٌ</span></td></tr><tr><td class=\"c1\"><span class=\"l\">(2:226:13)</span> <i class=\"ab\">raḥīmun</i></td><td class=\"c2\"><a href=\"wordmorphology.jsp?location=(2:226:13)\" name=\"(2:226:13)\">Most Merciful</a></td><td class=\"c3\"> فَإِنْ فَاءُوا فَإِنَّ اللَّهَ غَفُورٌ <span class=\"auu\">رَحِيمٌ</span></td></tr><tr><td class=\"c1\"><span class=\"l\">(3:31:14)</span> <i class=\"ab\">raḥīmun</i></td><td class=\"c2\"><a href=\"wordmorphology.jsp?location=(3:31:14)\" name=\"(3:31:14)\">Most Merciful</a></td><td class=\"c3\"> يُحْبِبْكُمُ اللَّهُ وَيَغْفِرْ لَكُمْ ذُنُوبَكُمْ وَاللَّهُ غَفُورٌ <span class=\"auu\">رَحِيمٌ</span></td></tr><tr><td class=\"c1\"><span class=\"l\">(3:89:11)</span> <i class=\"ab\">raḥīmun</i></td><td class=\"c2\"><a href=\"wordmorphology.jsp?location=(3:89:11)\" name=\"(3:89:11)\">Most Merciful</a></td><td class=\"c3\"> إِلَّا الَّذِينَ تَابُوا مِنْ بَعْدِ ذَٰلِكَ وَأَصْلَحُوا فَإِنَّ اللَّهَ غَفُورٌ <span class=\"auu\">رَحِيمٌ</span></td></tr><tr><td class=\"c1\"><span class=\"l\">(3:129:16)</span> <i class=\"ab\">raḥīmun</i></td><td class=\"c2\"><a href=\"wordmorphology.jsp?location=(3:129:16)\" name=\"(3:129:16)\">Most Merciful</a></td><td class=\"c3\"> يَغْفِرُ لِمَنْ يَشَاءُ وَيُعَذِّبُ مَنْ يَشَاءُ وَاللَّهُ غَفُورٌ <span class=\"auu\">رَحِيمٌ</span></td></tr><tr><td class=\"c1\"><span class=\"l\">(4:16:14)</span> <i class=\"ab\">raḥīman</i></td><td class=\"c2\"><a href=\"wordmorphology.jsp?location=(4:16:14)\" name=\"(4:16:14)\">Most-Merciful</a></td><td class=\"c3\"> إِنَّ اللَّهَ كَانَ تَوَّابًا <span class=\"auu\">رَحِيمًا</span></td></tr><tr><td class=\"c1\"><span class=\"l\">(4:23:54)</span> <i class=\"ab\">raḥīman</i></td><td class=\"c2\"><a href=\"wordmorphology.jsp?location=(4:23:54)\" name=\"(4:23:54)\">Most-Merciful</a></td><td class=\"c3\"> إِلَّا مَا قَدْ سَلَفَ إِنَّ اللَّهَ كَانَ غَفُورًا <span class=\"auu\">رَحِيمًا</span></td></tr><tr><td class=\"c1\"><span class=\"l\">(4:25:58)</span> <i class=\"ab\">raḥīmun</i></td><td class=\"c2\"><a href=\"wordmorphology.jsp?location=(4:25:58)\" name=\"(4:25:58)\">Most Merciful</a></td><td class=\"c3\"> وَأَنْ تَصْبِرُوا خَيْرٌ لَكُمْ وَاللَّهُ غَفُورٌ <span class=\"auu\">رَحِيمٌ</span></td></tr><tr><td class=\"c1\"><span class=\"l\">(4:64:23)</span> <i class=\"ab\">raḥīman</i></td><td class=\"c2\"><a href=\"wordmorphology.jsp?location=(4:64:23)\" name=\"(4:64:23)\">Most Merciful</a></td><td class=\"c3\"> لَوَجَدُوا اللَّهَ تَوَّابًا <span class=\"auu\">رَحِيمًا</span></td></tr><tr><td class=\"c1\"><span class=\"l\">(4:96:8)</span> <i class=\"ab\">raḥīman</i></td><td class=\"c2\"><a href=\"wordmorphology.jsp?location=(4:96:8)\" name=\"(4:96:8)\">Most Merciful</a></td><td class=\"c3\"> دَرَجَاتٍ مِنْهُ وَمَغْفِرَةً وَرَحْمَةً وَكَانَ اللَّهُ غَفُورًا <span class=\"auu\">رَحِيمًا</span></td></tr><tr><td class=\"c1\"><span class=\"l\">(4:100:31)</span> <i class=\"ab\">raḥīman</i></td><td class=\"c2\"><a href=\"wordmorphology.jsp?location=(4:100:31)\" name=\"(4:100:31)\">Most Merciful</a></td><td class=\"c3\"> ثُمَّ يُدْرِكْهُ الْمَوْتُ فَقَدْ وَقَعَ أَجْرُهُ عَلَى اللَّهِ وَكَانَ اللَّهُ غَفُورًا <span class=\"auu\">رَحِيمًا</span></td></tr><tr><td class=\"c1\"><span class=\"l\">(4:106:7)</span> <i class=\"ab\">raḥīman</i></td><td class=\"c2\"><a href=\"wordmorphology.jsp?location=(4:106:7)\" name=\"(4:106:7)\">Most Merciful</a></td><td class=\"c3\"> وَاسْتَغْفِرِ اللَّهَ إِنَّ اللَّهَ كَانَ غَفُورًا <span class=\"auu\">رَحِيمًا</span></td></tr><tr><td class=\"c1\"><span class=\"l\">(4:110:13)</span> <i class=\"ab\">raḥīman</i></td><td class=\"c2\"><a href=\"wordmorphology.jsp?location=(4:110:13)\" name=\"(4:110:13)\">Most Merciful</a></td><td class=\"c3\"> وَمَنْ يَعْمَلْ سُوءًا أَوْ يَظْلِمْ نَفْسَهُ ثُمَّ يَسْتَغْفِرِ اللَّهَ يَجِدِ اللَّهَ غَفُورًا <span class=\"auu\">رَحِيمًا</span></td></tr><tr><td class=\"c1\"><span class=\"l\">(4:129:22)</span> <i class=\"ab\">raḥīman</i></td><td class=\"c2\"><a href=\"wordmorphology.jsp?location=(4:129:22)\" name=\"(4:129:22)\">Most Merciful</a></td><td class=\"c3\"> وَإِنْ تُصْلِحُوا وَتَتَّقُوا فَإِنَّ اللَّهَ كَانَ غَفُورًا <span class=\"auu\">رَحِيمًا</span></td></tr><tr><td class=\"c1\"><span class=\"l\">(4:152:17)</span> <i class=\"ab\">raḥīman</i></td><td class=\"c2\"><a href=\"wordmorphology.jsp?location=(4:152:17)\" name=\"(4:152:17)\">Most Merciful</a></td><td class=\"c3\"> أُولَٰئِكَ سَوْفَ يُؤْتِيهِمْ أُجُورَهُمْ وَكَانَ اللَّهُ غَفُورًا <span class=\"auu\">رَحِيمًا</span></td></tr><tr><td class=\"c1\"><span class=\"l\">(5:3:61)</span> <i class=\"ab\">raḥīmun</i></td><td class=\"c2\"><a href=\"wordmorphology.jsp?location=(5:3:61)\" name=\"(5:3:61)\">Most Merciful</a></td><td class=\"c3\"> فَمَنِ اضْطُرَّ فِي مَخْمَصَةٍ غَيْرَ مُتَجَانِفٍ لِإِثْمٍ فَإِنَّ اللَّهَ غَفُورٌ <span class=\"auu\">رَحِيمٌ</span></td></tr><tr><td class=\"c1\"><span class=\"l\">(5:34:13)</span> <i class=\"ab\">raḥīmun</i></td><td class=\"c2\"><a href=\"wordmorphology.jsp?location=(5:34:13)\" name=\"(5:34:13)\">Most Merciful</a></td><td class=\"c3\"> إِلَّا الَّذِينَ تَابُوا مِنْ قَبْلِ أَنْ تَقْدِرُوا عَلَيْهِمْ فَاعْلَمُوا أَنَّ اللَّهَ غَفُورٌ <span class=\"auu\">رَحِيمٌ</span></td></tr><tr><td class=\"c1\"><span class=\"l\">(5:39:14)</span> <i class=\"ab\">raḥīmun</i></td><td class=\"c2\"><a href=\"wordmorphology.jsp?location=(5:39:14)\" name=\"(5:39:14)\">Most Merciful</a></td><td class=\"c3\"> فَمَنْ تَابَ مِنْ بَعْدِ ظُلْمِهِ وَأَصْلَحَ فَإِنَّ اللَّهَ يَتُوبُ عَلَيْهِ إِنَّ اللَّهَ غَفُورٌ <span class=\"auu\">رَحِيمٌ</span></td></tr><tr><td class=\"c1\"><span class=\"l\">(5:74:8)</span> <i class=\"ab\">raḥīmun</i></td><td class=\"c2\"><a href=\"wordmorphology.jsp?location=(5:74:8)\" name=\"(5:74:8)\">Most Merciful</a></td><td class=\"c3\"> أَفَلَا يَتُوبُونَ إِلَى اللَّهِ وَيَسْتَغْفِرُونَهُ وَاللَّهُ غَفُورٌ <span class=\"auu\">رَحِيمٌ</span></td></tr><tr><td class=\"c1\"><span class=\"l\">(5:98:9)</span> <i class=\"ab\">raḥīmun</i></td><td class=\"c2\"><a href=\"wordmorphology.jsp?location=(5:98:9)\" name=\"(5:98:9)\">Most Merciful</a></td><td class=\"c3\"> اعْلَمُوا أَنَّ اللَّهَ شَدِيدُ الْعِقَابِ وَأَنَّ اللَّهَ غَفُورٌ <span class=\"auu\">رَحِيمٌ</span></td></tr><tr><td class=\"c1\"><span class=\"l\">(6:54:27)</span> <i class=\"ab\">raḥīmun</i></td><td class=\"c2\"><a href=\"wordmorphology.jsp?location=(6:54:27)\" name=\"(6:54:27)\">Most Merciful</a></td><td class=\"c3\"> أَنَّهُ مَنْ عَمِلَ مِنْكُمْ سُوءًا بِجَهَالَةٍ ثُمَّ تَابَ مِنْ بَعْدِهِ وَأَصْلَحَ فَأَنَّهُ غَفُورٌ <span class=\"auu\">رَحِيمٌ</span></td></tr><tr><td class=\"c1\"><span class=\"l\">(6:145:39)</span> <i class=\"ab\">raḥīmun</i></td><td class=\"c2\"><a href=\"wordmorphology.jsp?location=(6:145:39)\" name=\"(6:145:39)\">Most Merciful</a></td><td class=\"c3\"> فَمَنِ اضْطُرَّ غَيْرَ بَاغٍ وَلَا عَادٍ فَإِنَّ رَبَّكَ غَفُورٌ <span class=\"auu\">رَحِيمٌ</span></td></tr><tr><td class=\"c1\"><span class=\"l\">(6:165:21)</span> <i class=\"ab\">raḥīmun</i></td><td class=\"c2\"><a href=\"wordmorphology.jsp?location=(6:165:21)\" name=\"(6:165:21)\">Most Merciful</a></td><td class=\"c3\"> إِنَّ رَبَّكَ سَرِيعُ الْعِقَابِ وَإِنَّهُ لَغَفُورٌ <span class=\"auu\">رَحِيمٌ</span></td></tr><tr><td class=\"c1\"><span class=\"l\">(7:153:14)</span> <i class=\"ab\">raḥīmun</i></td><td class=\"c2\"><a href=\"wordmorphology.jsp?location=(7:153:14)\" name=\"(7:153:14)\">Most Merciful</a></td><td class=\"c3\"> وَالَّذِينَ عَمِلُوا السَّيِّئَاتِ ثُمَّ تَابُوا مِنْ بَعْدِهَا وَآمَنُوا إِنَّ رَبَّكَ مِنْ بَعْدِهَا لَغَفُورٌ <span class=\"auu\">رَحِيمٌ</span></td></tr><tr><td class=\"c1\"><span class=\"l\">(7:167:19)</span> <i class=\"ab\">raḥīmun</i></td><td class=\"c2\"><a href=\"wordmorphology.jsp?location=(7:167:19)\" name=\"(7:167:19)\">Most Merciful</a></td><td class=\"c3\"> إِنَّ رَبَّكَ لَسَرِيعُ الْعِقَابِ وَإِنَّهُ لَغَفُورٌ <span class=\"auu\">رَحِيمٌ</span></td></tr><tr><td class=\"c1\"><span class=\"l\">(8:69:11)</span> <i class=\"ab\">raḥīmun</i></td><td class=\"c2\"><a href=\"wordmorphology.jsp?location=(8:69:11)\" name=\"(8:69:11)\">Most Merciful</a></td><td class=\"c3\"> فَكُلُوا مِمَّا غَنِمْتُمْ حَلَالًا طَيِّبًا وَاتَّقُوا اللَّهَ إِنَّ اللَّهَ غَفُورٌ <span class=\"auu\">رَحِيمٌ</span></td></tr><tr><td class=\"c1\"><span class=\"l\">(8:70:24)</span> <i class=\"ab\">raḥīmun</i></td><td class=\"c2\"><a href=\"wordmorphology.jsp?location=(8:70:24)\" name=\"(8:70:24)\">Most Merciful</a></td><td class=\"c3\"> يُؤْتِكُمْ خَيْرًا مِمَّا أُخِذَ مِنْكُمْ وَيَغْفِرْ لَكُمْ وَاللَّهُ غَفُورٌ <span class=\"auu\">رَحِيمٌ</span></td></tr><tr><td class=\"c1\"><span class=\"l\">(9:5:26)</span> <i class=\"ab\">raḥīmun</i></td><td class=\"c2\"><a href=\"wordmorphology.jsp?location=(9:5:26)\" name=\"(9:5:26)\">Most Merciful</a></td><td class=\"c3\"> فَإِنْ تَابُوا وَأَقَامُوا الصَّلَاةَ وَآتَوُا الزَّكَاةَ فَخَلُّوا سَبِيلَهُمْ إِنَّ اللَّهَ غَفُورٌ <span class=\"auu\">رَحِيمٌ</span></td></tr><tr><td class=\"c1\"><span class=\"l\">(9:27:12)</span> <i class=\"ab\">raḥīmun</i></td><td class=\"c2\"><a href=\"wordmorphology.jsp?location=(9:27:12)\" name=\"(9:27:12)\">Most Merciful</a></td><td class=\"c3\"> ثُمَّ يَتُوبُ اللَّهُ مِنْ بَعْدِ ذَٰلِكَ عَلَىٰ مَنْ يَشَاءُ وَاللَّهُ غَفُورٌ <span class=\"auu\">رَحِيمٌ</span></td></tr><tr><td class=\"c1\"><span class=\"l\">(9:91:26)</span> <i class=\"ab\">raḥīmun</i></td><td class=\"c2\"><a href=\"wordmorphology.jsp?location=(9:91:26)\" name=\"(9:91:26)\">Most Merciful</a></td><td class=\"c3\"> مَا عَلَى الْمُحْسِنِينَ مِنْ سَبِيلٍ وَاللَّهُ غَفُورٌ <span class=\"auu\">رَحِيمٌ</span></td></tr><tr><td class=\"c1\"><span class=\"l\">(9:99:27)</span> <i class=\"ab\">raḥīmun</i></td><td class=\"c2\"><a href=\"wordmorphology.jsp?location=(9:99:27)\" name=\"(9:99:27)\">Most Merciful</a></td><td class=\"c3\"> سَيُدْخِلُهُمُ اللَّهُ فِي رَحْمَتِهِ إِنَّ اللَّهَ غَفُورٌ <span class=\"auu\">رَحِيمٌ</span></td></tr><tr><td class=\"c1\"><span class=\"l\">(9:102:17)</span> <i class=\"ab\">raḥīmun</i></td><td class=\"c2\"><a href=\"wordmorphology.jsp?location=(9:102:17)\" name=\"(9:102:17)\">Most Merciful</a></td><td class=\"c3\"> عَسَى اللَّهُ أَنْ يَتُوبَ عَلَيْهِمْ إِنَّ اللَّهَ غَفُورٌ <span class=\"auu\">رَحِيمٌ</span></td></tr><tr><td class=\"c1\"><span class=\"l\">(9:104:16)</span> <i class=\"ab\">l-raḥīmu</i></td><td class=\"c2\"><a href=\"wordmorphology.jsp?location=(9:104:16)\" name=\"(9:104:16)\">the Most Merciful</a></td><td class=\"c3\"> أَلَمْ يَعْلَمُوا أَنَّ اللَّهَ هُوَ يَقْبَلُ التَّوْبَةَ عَنْ عِبَادِهِ وَيَأْخُذُ الصَّدَقَاتِ وَأَنَّ اللَّهَ هُوَ التَّوَّابُ <span class=\"auu\">الرَّحِيمُ</span></td></tr><tr><td class=\"c1\"><span class=\"l\">(9:117:27)</span> <i class=\"ab\">raḥīmun</i></td><td class=\"c2\"><a href=\"wordmorphology.jsp?location=(9:117:27)\" name=\"(9:117:27)\">Most Merciful</a></td><td class=\"c3\"> ثُمَّ تَابَ عَلَيْهِمْ إِنَّهُ بِهِمْ رَءُوفٌ <span class=\"auu\">رَحِيمٌ</span></td></tr><tr><td class=\"c1\"><span class=\"l\">(9:118:31)</span> <i class=\"ab\">l-raḥīmu</i></td><td class=\"c2\"><a href=\"wordmorphology.jsp?location=(9:118:31)\" name=\"(9:118:31)\">the Most Merciful</a></td><td class=\"c3\"> ثُمَّ تَابَ عَلَيْهِمْ لِيَتُوبُوا إِنَّ اللَّهَ هُوَ التَّوَّابُ <span class=\"auu\">الرَّحِيمُ</span></td></tr><tr><td class=\"c1\"><span class=\"l\">(9:128:14)</span> <i class=\"ab\">raḥīmun</i></td><td class=\"c2\"><a href=\"wordmorphology.jsp?location=(9:128:14)\" name=\"(9:128:14)\">(and) merciful</a></td><td class=\"c3\"> حَرِيصٌ عَلَيْكُمْ بِالْمُؤْمِنِينَ رَءُوفٌ <span class=\"auu\">رَحِيمٌ</span></td></tr><tr><td class=\"c1\"><span class=\"l\">(10:107:24)</span> <i class=\"ab\">l-raḥīmu</i></td><td class=\"c2\"><a href=\"wordmorphology.jsp?location=(10:107:24)\" name=\"(10:107:24)\">the Most Merciful</a></td><td class=\"c3\"> يُصِيبُ بِهِ مَنْ يَشَاءُ مِنْ عِبَادِهِ وَهُوَ الْغَفُورُ <span class=\"auu\">الرَّحِيمُ</span></td></tr><tr><td class=\"c1\"><span class=\"l\">(11:41:11)</span> <i class=\"ab\">raḥīmun</i></td><td class=\"c2\"><a href=\"wordmorphology.jsp?location=(11:41:11)\" name=\"(11:41:11)\">Most Merciful</a></td><td class=\"c3\"> بِسْمِ اللَّهِ مَجْرَاهَا وَمُرْسَاهَا إِنَّ رَبِّي لَغَفُورٌ <span class=\"auu\">رَحِيمٌ</span></td></tr><tr><td class=\"c1\"><span class=\"l\">(11:90:8)</span> <i class=\"ab\">raḥīmun</i></td><td class=\"c2\"><a href=\"wordmorphology.jsp?location=(11:90:8)\" name=\"(11:90:8)\">(is) Most Merciful</a></td><td class=\"c3\"> وَاسْتَغْفِرُوا رَبَّكُمْ ثُمَّ تُوبُوا إِلَيْهِ إِنَّ رَبِّي <span class=\"auu\">رَحِيمٌ</span> وَدُودٌ</td></tr><tr><td class=\"c1\"><span class=\"l\">(12:53:15)</span> <i class=\"ab\">raḥīmun</i></td><td class=\"c2\"><a href=\"wordmorphology.jsp?location=(12:53:15)\" name=\"(12:53:15)\">Most Merciful</a></td><td class=\"c3\"> إِنَّ النَّفْسَ لَأَمَّارَةٌ بِالسُّوءِ إِلَّا مَا رَحِمَ رَبِّي إِنَّ رَبِّي غَفُورٌ <span class=\"auu\">رَحِيمٌ</span></td></tr><tr><td class=\"c1\"><span class=\"l\">(12:98:9)</span> <i class=\"ab\">l-raḥīmu</i></td><td class=\"c2\"><a href=\"wordmorphology.jsp?location=(12:98:9)\" name=\"(12:98:9)\">the Most Merciful</a></td><td class=\"c3\"> قَالَ سَوْفَ أَسْتَغْفِرُ لَكُمْ رَبِّي إِنَّهُ هُوَ الْغَفُورُ <span class=\"auu\">الرَّحِيمُ</span></td></tr><tr><td class=\"c1\"><span class=\"l\">(14:36:15)</span> <i class=\"ab\">raḥīmun</i></td><td class=\"c2\"><a href=\"wordmorphology.jsp?location=(14:36:15)\" name=\"(14:36:15)\">Most Merciful</a></td><td class=\"c3\"> فَمَنْ تَبِعَنِي فَإِنَّهُ مِنِّي وَمَنْ عَصَانِي فَإِنَّكَ غَفُورٌ <span class=\"auu\">رَحِيمٌ</span></td></tr><tr><td class=\"c1\"><span class=\"l\">(15:49:6)</span> <i class=\"ab\">l-raḥīmu</i></td><td class=\"c2\"><a href=\"wordmorphology.jsp?location=(15:49:6)\" name=\"(15:49:6)\">the Most Merciful</a></td><td class=\"c3\"> نَبِّئْ عِبَادِي أَنِّي أَنَا الْغَفُورُ <span class=\"auu\">الرَّحِيمُ</span></td></tr><tr><td class=\"c1\"><span class=\"l\">(16:7:14)</span> <i class=\"ab\">raḥīmun</i></td><td class=\"c2\"><a href=\"wordmorphology.jsp?location=(16:7:14)\" name=\"(16:7:14)\">Most Merciful</a></td><td class=\"c3\"> لَمْ تَكُونُوا بَالِغِيهِ إِلَّا بِشِقِّ الْأَنْفُسِ إِنَّ رَبَّكُمْ لَرَءُوفٌ <span class=\"auu\">رَحِيمٌ</span></td></tr><tr><td class=\"c1\"><span class=\"l\">(16:18:10)</span> <i class=\"ab\">raḥīmun</i></td><td class=\"c2\"><a href=\"wordmorphology.jsp?location=(16:18:10)\" name=\"(16:18:10)\">Most Merciful</a></td><td class=\"c3\"> وَإِنْ تَعُدُّوا نِعْمَةَ اللَّهِ لَا تُحْصُوهَا إِنَّ اللَّهَ لَغَفُورٌ <span class=\"auu\">رَحِيمٌ</span></td></tr><tr><td class=\"c1\"><span class=\"l\">(16:47:8)</span> <i class=\"ab\">raḥīmun</i></td><td class=\"c2\"><a href=\"wordmorphology.jsp?location=(16:47:8)\" name=\"(16:47:8)\">Most Merciful</a></td><td class=\"c3\"> أَوْ يَأْخُذَهُمْ عَلَىٰ تَخَوُّفٍ فَإِنَّ رَبَّكُمْ لَرَءُوفٌ <span class=\"auu\">رَحِيمٌ</span></td></tr><tr><td class=\"c1\"><span class=\"l\">(16:110:18)</span> <i class=\"ab\">raḥīmun</i></td><td class=\"c2\"><a href=\"wordmorphology.jsp?location=(16:110:18)\" name=\"(16:110:18)\">Most Merciful</a></td><td class=\"c3\"> ثُمَّ جَاهَدُوا وَصَبَرُوا إِنَّ رَبَّكَ مِنْ بَعْدِهَا لَغَفُورٌ <span class=\"auu\">رَحِيمٌ</span></td></tr><tr><td class=\"c1\"><span class=\"l\">(16:115:22)</span> <i class=\"ab\">raḥīmun</i></td><td class=\"c2\"><a href=\"wordmorphology.jsp?location=(16:115:22)\" name=\"(16:115:22)\">Most Merciful</a></td><td class=\"c3\"> فَمَنِ اضْطُرَّ غَيْرَ بَاغٍ وَلَا عَادٍ فَإِنَّ اللَّهَ غَفُورٌ <span class=\"auu\">رَحِيمٌ</span></td></tr><tr><td class=\"c1\"><span class=\"l\">(16:119:19)</span> <i class=\"ab\">raḥīmun</i></td><td class=\"c2\"><a href=\"wordmorphology.jsp?location=(16:119:19)\" name=\"(16:119:19)\">Most Merciful</a></td><td class=\"c3\"> إِنَّ رَبَّكَ مِنْ بَعْدِهَا لَغَفُورٌ <span class=\"auu\">رَحِيمٌ</span></td></tr><tr><td class=\"c1\"><span class=\"l\">(22:65:27)</span> <i class=\"ab\">raḥīmun</i></td><td class=\"c2\"><a href=\"wordmorphology.jsp?location=(22:65:27)\" name=\"(22:65:27)\">Most Merciful</a></td><td class=\"c3\"> إِنَّ اللَّهَ بِالنَّاسِ لَرَءُوفٌ <span class=\"auu\">رَحِيمٌ</span></td></tr><tr><td class=\"c1\"><span class=\"l\">(24:5:11)</span> <i class=\"ab\">raḥīmun</i></td><td class=\"c2\"><a href=\"wordmorphology.jsp?location=(24:5:11)\" name=\"(24:5:11)\">Most Merciful</a></td><td class=\"c3\"> إِلَّا الَّذِينَ تَابُوا مِنْ بَعْدِ ذَٰلِكَ وَأَصْلَحُوا فَإِنَّ اللَّهَ غَفُورٌ <span class=\"auu\">رَحِيمٌ</span></td></tr><tr><td class=\"c1\"><span class=\"l\">(24:20:9)</span> <i class=\"ab\">raḥīmun</i></td><td class=\"c2\"><a href=\"wordmorphology.jsp?location=(24:20:9)\" name=\"(24:20:9)\">Most Merciful</a></td><td class=\"c3\"> وَلَوْلَا فَضْلُ اللَّهِ عَلَيْكُمْ وَرَحْمَتُهُ وَأَنَّ اللَّهَ رَءُوفٌ <span class=\"auu\">رَحِيمٌ</span></td></tr><tr><td class=\"c1\"><span class=\"l\">(24:22:26)</span> <i class=\"ab\">raḥīmun</i></td><td class=\"c2\"><a href=\"wordmorphology.jsp?location=(24:22:26)\" name=\"(24:22:26)\">Most Merciful</a></td><td class=\"c3\"> أَلَا تُحِبُّونَ أَنْ يَغْفِرَ اللَّهُ لَكُمْ وَاللَّهُ غَفُورٌ <span class=\"auu\">رَحِيمٌ</span></td></tr><tr><td class=\"c1\"><span class=\"l\">(24:33:48)</span> <i class=\"ab\">raḥīmun</i></td><td class=\"c2\"><a href=\"wordmorphology.jsp?location=(24:33:48)\" name=\"(24:33:48)\">Most Merciful</a></td><td class=\"c3\"> وَمَنْ يُكْرِهْهُنَّ فَإِنَّ اللَّهَ مِنْ بَعْدِ إِكْرَاهِهِنَّ غَفُورٌ <span class=\"auu\">رَحِيمٌ</span></td></tr><tr><td class=\"c1\"><span class=\"l\">(24:62:39)</span> <i class=\"ab\">raḥīmun</i></td><td class=\"c2\"><a href=\"wordmorphology.jsp?location=(24:62:39)\" name=\"(24:62:39)\">Most Merciful</a></td><td class=\"c3\"> فَأْذَنْ لِمَنْ شِئْتَ مِنْهُمْ وَاسْتَغْفِرْ لَهُمُ اللَّهَ إِنَّ اللَّهَ غَفُورٌ <span class=\"auu\">رَحِيمٌ</span></td></tr><tr><td class=\"c1\"><span class=\"l\">(25:6:12)</span> <i class=\"ab\">raḥīman</i></td><td class=\"c2\"><a href=\"wordmorphology.jsp?location=(25:6:12)\" name=\"(25:6:12)\">Most Merciful</a></td><td class=\"c3\"> قُلْ أَنْزَلَهُ الَّذِي يَعْلَمُ السِّرَّ فِي السَّمَاوَاتِ وَالْأَرْضِ إِنَّهُ كَانَ غَفُورًا <span class=\"auu\">رَحِيمًا</span></td></tr><tr><td class=\"c1\"><span class=\"l\">(25:70:16)</span> <i class=\"ab\">raḥīman</i></td><td class=\"c2\"><a href=\"wordmorphology.jsp?location=(25:70:16)\" name=\"(25:70:16)\">Most Merciful</a></td><td class=\"c3\"> فَأُولَٰئِكَ يُبَدِّلُ اللَّهُ سَيِّئَاتِهِمْ حَسَنَاتٍ وَكَانَ اللَّهُ غَفُورًا <span class=\"auu\">رَحِيمًا</span></td></tr><tr><td class=\"c1\"><span class=\"l\">(26:9:5)</span> <i class=\"ab\">l-raḥīmu</i></td><td class=\"c2\"><a href=\"wordmorphology.jsp?location=(26:9:5)\" name=\"(26:9:5)\">the Most Merciful</a></td><td class=\"c3\"> وَإِنَّ رَبَّكَ لَهُوَ الْعَزِيزُ <span class=\"auu\">الرَّحِيمُ</span></td></tr><tr><td class=\"c1\"><span class=\"l\">(26:68:5)</span> <i class=\"ab\">l-raḥīmu</i></td><td class=\"c2\"><a href=\"wordmorphology.jsp?location=(26:68:5)\" name=\"(26:68:5)\">the Most Merciful</a></td><td class=\"c3\"> وَإِنَّ رَبَّكَ لَهُوَ الْعَزِيزُ <span class=\"auu\">الرَّحِيمُ</span></td></tr><tr><td class=\"c1\"><span class=\"l\">(26:104:5)</span> <i class=\"ab\">l-raḥīmu</i></td><td class=\"c2\"><a href=\"wordmorphology.jsp?location=(26:104:5)\" name=\"(26:104:5)\">the Most Merciful</a></td><td class=\"c3\"> وَإِنَّ رَبَّكَ لَهُوَ الْعَزِيزُ <span class=\"auu\">الرَّحِيمُ</span></td></tr><tr><td class=\"c1\"><span class=\"l\">(26:122:5)</span> <i class=\"ab\">l-raḥīmu</i></td><td class=\"c2\"><a href=\"wordmorphology.jsp?location=(26:122:5)\" name=\"(26:122:5)\">the Most Merciful</a></td><td class=\"c3\"> وَإِنَّ رَبَّكَ لَهُوَ الْعَزِيزُ <span class=\"auu\">الرَّحِيمُ</span></td></tr><tr><td class=\"c1\"><span class=\"l\">(26:140:5)</span> <i class=\"ab\">l-raḥīmu</i></td><td class=\"c2\"><a href=\"wordmorphology.jsp?location=(26:140:5)\" name=\"(26:140:5)\">the Most Merciful</a></td><td class=\"c3\"> وَإِنَّ رَبَّكَ لَهُوَ الْعَزِيزُ <span class=\"auu\">الرَّحِيمُ</span></td></tr><tr><td class=\"c1\"><span class=\"l\">(26:159:5)</span> <i class=\"ab\">l-raḥīmu</i></td><td class=\"c2\"><a href=\"wordmorphology.jsp?location=(26:159:5)\" name=\"(26:159:5)\">the Most Merciful</a></td><td class=\"c3\"> وَإِنَّ رَبَّكَ لَهُوَ الْعَزِيزُ <span class=\"auu\">الرَّحِيمُ</span></td></tr><tr><td class=\"c1\"><span class=\"l\">(26:175:5)</span> <i class=\"ab\">l-raḥīmu</i></td><td class=\"c2\"><a href=\"wordmorphology.jsp?location=(26:175:5)\" name=\"(26:175:5)\">the Most Merciful</a></td><td class=\"c3\"> وَإِنَّ رَبَّكَ لَهُوَ الْعَزِيزُ <span class=\"auu\">الرَّحِيمُ</span></td></tr><tr><td class=\"c1\"><span class=\"l\">(26:191:5)</span> <i class=\"ab\">l-raḥīmu</i></td><td class=\"c2\"><a href=\"wordmorphology.jsp?location=(26:191:5)\" name=\"(26:191:5)\">the Most Merciful</a></td><td class=\"c3\"> وَإِنَّ رَبَّكَ لَهُوَ الْعَزِيزُ <span class=\"auu\">الرَّحِيمُ</span></td></tr><tr><td class=\"c1\"><span class=\"l\">(26:217:4)</span> <i class=\"ab\">l-raḥīmi</i></td><td class=\"c2\"><a href=\"wordmorphology.jsp?location=(26:217:4)\" name=\"(26:217:4)\">the Most Merciful</a></td><td class=\"c3\"> وَتَوَكَّلْ عَلَى الْعَزِيزِ <span class=\"auu\">الرَّحِيمِ</span></td></tr><tr><td class=\"c1\"><span class=\"l\">(27:11:11)</span> <i class=\"ab\">raḥīmun</i></td><td class=\"c2\"><a href=\"wordmorphology.jsp?location=(27:11:11)\" name=\"(27:11:11)\">Most Merciful</a></td><td class=\"c3\"> إِلَّا مَنْ ظَلَمَ ثُمَّ بَدَّلَ حُسْنًا بَعْدَ سُوءٍ فَإِنِّي غَفُورٌ <span class=\"auu\">رَحِيمٌ</span></td></tr><tr><td class=\"c1\"><span class=\"l\">(27:30:8)</span> <i class=\"ab\">l-raḥīmi</i></td><td class=\"c2\"><a href=\"wordmorphology.jsp?location=(27:30:8)\" name=\"(27:30:8)\">the Most Merciful</a></td><td class=\"c3\"> إِنَّهُ مِنْ سُلَيْمَانَ وَإِنَّهُ بِسْمِ اللَّهِ الرَّحْمَٰنِ <span class=\"auu\">الرَّحِيمِ</span></td></tr><tr><td class=\"c1\"><span class=\"l\">(28:16:13)</span> <i class=\"ab\">l-raḥīmu</i></td><td class=\"c2\"><a href=\"wordmorphology.jsp?location=(28:16:13)\" name=\"(28:16:13)\">the Most Merciful</a></td><td class=\"c3\"> قَالَ رَبِّ إِنِّي ظَلَمْتُ نَفْسِي فَاغْفِرْ لِي فَغَفَرَ لَهُ إِنَّهُ هُوَ الْغَفُورُ <span class=\"auu\">الرَّحِيمُ</span></td></tr><tr><td class=\"c1\"><span class=\"l\">(30:5:8)</span> <i class=\"ab\">l-raḥīmu</i></td><td class=\"c2\"><a href=\"wordmorphology.jsp?location=(30:5:8)\" name=\"(30:5:8)\">the Most Merciful</a></td><td class=\"c3\"> بِنَصْرِ اللَّهِ يَنْصُرُ مَنْ يَشَاءُ وَهُوَ الْعَزِيزُ <span class=\"auu\">الرَّحِيمُ</span></td></tr><tr><td class=\"c1\"><span class=\"l\">(32:6:6)</span> <i class=\"ab\">l-raḥīmu</i></td><td class=\"c2\"><a href=\"wordmorphology.jsp?location=(32:6:6)\" name=\"(32:6:6)\">the Most Merciful</a></td><td class=\"c3\"> ذَٰلِكَ عَالِمُ الْغَيْبِ وَالشَّهَادَةِ الْعَزِيزُ <span class=\"auu\">الرَّحِيمُ</span></td></tr><tr><td class=\"c1\"><span class=\"l\">(33:5:28)</span> <i class=\"ab\">raḥīman</i></td><td class=\"c2\"><a href=\"wordmorphology.jsp?location=(33:5:28)\" name=\"(33:5:28)\">Most Merciful</a></td><td class=\"c3\"> وَلَٰكِنْ مَا تَعَمَّدَتْ قُلُوبُكُمْ وَكَانَ اللَّهُ غَفُورًا <span class=\"auu\">رَحِيمًا</span></td></tr><tr><td class=\"c1\"><span class=\"l\">(33:24:16)</span> <i class=\"ab\">raḥīman</i></td><td class=\"c2\"><a href=\"wordmorphology.jsp?location=(33:24:16)\" name=\"(33:24:16)\">Most Merciful</a></td><td class=\"c3\"> وَيُعَذِّبَ الْمُنَافِقِينَ إِنْ شَاءَ أَوْ يَتُوبَ عَلَيْهِمْ إِنَّ اللَّهَ كَانَ غَفُورًا <span class=\"auu\">رَحِيمًا</span></td></tr><tr><td class=\"c1\"><span class=\"l\">(33:43:13)</span> <i class=\"ab\">raḥīman</i></td><td class=\"c2\"><a href=\"wordmorphology.jsp?location=(33:43:13)\" name=\"(33:43:13)\">Merciful</a></td><td class=\"c3\"> لِيُخْرِجَكُمْ مِنَ الظُّلُمَاتِ إِلَى النُّورِ وَكَانَ بِالْمُؤْمِنِينَ <span class=\"auu\">رَحِيمًا</span></td></tr><tr><td class=\"c1\"><span class=\"l\">(33:50:61)</span> <i class=\"ab\">raḥīman</i></td><td class=\"c2\"><a href=\"wordmorphology.jsp?location=(33:50:61)\" name=\"(33:50:61)\">Most Merciful</a></td><td class=\"c3\"> لِكَيْلَا يَكُونَ عَلَيْكَ حَرَجٌ وَكَانَ اللَّهُ غَفُورًا <span class=\"auu\">رَحِيمًا</span></td></tr><tr><td class=\"c1\"><span class=\"l\">(33:59:21)</span> <i class=\"ab\">raḥīman</i></td><td class=\"c2\"><a href=\"wordmorphology.jsp?location=(33:59:21)\" name=\"(33:59:21)\">Most Merciful</a></td><td class=\"c3\"> ذَٰلِكَ أَدْنَىٰ أَنْ يُعْرَفْنَ فَلَا يُؤْذَيْنَ وَكَانَ اللَّهُ غَفُورًا <span class=\"auu\">رَحِيمًا</span></td></tr><tr><td class=\"c1\"><span class=\"l\">(33:73:15)</span> <i class=\"ab\">raḥīman</i></td><td class=\"c2\"><a href=\"wordmorphology.jsp?location=(33:73:15)\" name=\"(33:73:15)\">Most Merciful</a></td><td class=\"c3\"> وَيَتُوبَ اللَّهُ عَلَى الْمُؤْمِنِينَ وَالْمُؤْمِنَاتِ وَكَانَ اللَّهُ غَفُورًا <span class=\"auu\">رَحِيمًا</span></td></tr><tr><td class=\"c1\"><span class=\"l\">(36:5:3)</span> <i class=\"ab\">l-raḥīmi</i></td><td class=\"c2\"><a href=\"wordmorphology.jsp?location=(36:5:3)\" name=\"(36:5:3)\">the Most Merciful</a></td><td class=\"c3\"> تَنْزِيلَ الْعَزِيزِ <span class=\"auu\">الرَّحِيمِ</span></td></tr><tr><td class=\"c1\"><span class=\"l\">(36:58:5)</span> <i class=\"ab\">raḥīmin</i></td><td class=\"c2\"><a href=\"wordmorphology.jsp?location=(36:58:5)\" name=\"(36:58:5)\">Most Merciful</a></td><td class=\"c3\"> سَلَامٌ قَوْلًا مِنْ رَبٍّ <span class=\"auu\">رَحِيمٍ</span></td></tr><tr><td class=\"c1\"><span class=\"l\">(39:53:20)</span> <i class=\"ab\">l-raḥīmu</i></td><td class=\"c2\"><a href=\"wordmorphology.jsp?location=(39:53:20)\" name=\"(39:53:20)\">the Most Merciful</a></td><td class=\"c3\"> إِنَّ اللَّهَ يَغْفِرُ الذُّنُوبَ جَمِيعًا إِنَّهُ هُوَ الْغَفُورُ <span class=\"auu\">الرَّحِيمُ</span></td></tr><tr><td class=\"c1\"><span class=\"l\">(41:2:4)</span> <i class=\"ab\">l-raḥīmi</i></td><td class=\"c2\"><a href=\"wordmorphology.jsp?location=(41:2:4)\" name=\"(41:2:4)\">the Most Merciful</a></td><td class=\"c3\"> تَنْزِيلٌ مِنَ الرَّحْمَٰنِ <span class=\"auu\">الرَّحِيمِ</span></td></tr><tr><td class=\"c1\"><span class=\"l\">(41:32:4)</span> <i class=\"ab\">raḥīmin</i></td><td class=\"c2\"><a href=\"wordmorphology.jsp?location=(41:32:4)\" name=\"(41:32:4)\">(the) Most Merciful</a></td><td class=\"c3\"> نُزُلًا مِنْ غَفُورٍ <span class=\"auu\">رَحِيمٍ</span></td></tr><tr><td class=\"c1\"><span class=\"l\">(42:5:19)</span> <i class=\"ab\">l-raḥīmu</i></td><td class=\"c2\"><a href=\"wordmorphology.jsp?location=(42:5:19)\" name=\"(42:5:19)\">the Most Merciful</a></td><td class=\"c3\"> أَلَا إِنَّ اللَّهَ هُوَ الْغَفُورُ <span class=\"auu\">الرَّحِيمُ</span></td></tr><tr><td class=\"c1\"><span class=\"l\">(44:42:8)</span> <i class=\"ab\">l-raḥīmu</i></td><td class=\"c2\"><a href=\"wordmorphology.jsp?location=(44:42:8)\" name=\"(44:42:8)\">the Most Merciful</a></td><td class=\"c3\"> إِلَّا مَنْ رَحِمَ اللَّهُ إِنَّهُ هُوَ الْعَزِيزُ <span class=\"auu\">الرَّحِيمُ</span></td></tr><tr><td class=\"c1\"><span class=\"l\">(46:8:25)</span> <i class=\"ab\">l-raḥīmu</i></td><td class=\"c2\"><a href=\"wordmorphology.jsp?location=(46:8:25)\" name=\"(46:8:25)\">the Most Merciful</a></td><td class=\"c3\"> كَفَىٰ بِهِ شَهِيدًا بَيْنِي وَبَيْنَكُمْ وَهُوَ الْغَفُورُ <span class=\"auu\">الرَّحِيمُ</span></td></tr><tr><td class=\"c1\"><span class=\"l\">(48:14:14)</span> <i class=\"ab\">raḥīman</i></td><td class=\"c2\"><a href=\"wordmorphology.jsp?location=(48:14:14)\" name=\"(48:14:14)\">Most Merciful</a></td><td class=\"c3\"> يَغْفِرُ لِمَنْ يَشَاءُ وَيُعَذِّبُ مَنْ يَشَاءُ وَكَانَ اللَّهُ غَفُورًا <span class=\"auu\">رَحِيمًا</span></td></tr><tr><td class=\"c1\"><span class=\"l\">(48:29:9)</span> <i class=\"ab\">ruḥamāu</i></td><td class=\"c2\"><a href=\"wordmorphology.jsp?location=(48:29:9)\" name=\"(48:29:9)\">and merciful</a></td><td class=\"c3\"> مُحَمَّدٌ رَسُولُ اللَّهِ وَالَّذِينَ مَعَهُ أَشِدَّاءُ عَلَى الْكُفَّارِ <span class=\"auu\">رُحَمَاءُ</span> بَيْنَهُمْ</td></tr><tr><td class=\"c1\"><span class=\"l\">(49:5:12)</span> <i class=\"ab\">raḥīmun</i></td><td class=\"c2\"><a href=\"wordmorphology.jsp?location=(49:5:12)\" name=\"(49:5:12)\">Most Merciful</a></td><td class=\"c3\"> وَلَوْ أَنَّهُمْ صَبَرُوا حَتَّىٰ تَخْرُجَ إِلَيْهِمْ لَكَانَ خَيْرًا لَهُمْ وَاللَّهُ غَفُورٌ <span class=\"auu\">رَحِيمٌ</span></td></tr><tr><td class=\"c1\"><span class=\"l\">(49:12:31)</span> <i class=\"ab\">raḥīmun</i></td><td class=\"c2\"><a href=\"wordmorphology.jsp?location=(49:12:31)\" name=\"(49:12:31)\">Most Merciful</a></td><td class=\"c3\"> وَاتَّقُوا اللَّهَ إِنَّ اللَّهَ تَوَّابٌ <span class=\"auu\">رَحِيمٌ</span></td></tr><tr><td class=\"c1\"><span class=\"l\">(49:14:27)</span> <i class=\"ab\">raḥīmun</i></td><td class=\"c2\"><a href=\"wordmorphology.jsp?location=(49:14:27)\" name=\"(49:14:27)\">Most Merciful</a></td><td class=\"c3\"> لَا يَلِتْكُمْ مِنْ أَعْمَالِكُمْ شَيْئًا إِنَّ اللَّهَ غَفُورٌ <span class=\"auu\">رَحِيمٌ</span></td></tr><tr><td class=\"c1\"><span class=\"l\">(52:28:9)</span> <i class=\"ab\">l-raḥīmu</i></td><td class=\"c2\"><a href=\"wordmorphology.jsp?location=(52:28:9)\" name=\"(52:28:9)\">the Most Merciful</a></td><td class=\"c3\"> إِنَّا كُنَّا مِنْ قَبْلُ نَدْعُوهُ إِنَّهُ هُوَ الْبَرُّ <span class=\"auu\">الرَّحِيمُ</span></td></tr><tr><td class=\"c1\"><span class=\"l\">(57:9:17)</span> <i class=\"ab\">raḥīmun</i></td><td class=\"c2\"><a href=\"wordmorphology.jsp?location=(57:9:17)\" name=\"(57:9:17)\">(the) Most Merciful</a></td><td class=\"c3\"> لِيُخْرِجَكُمْ مِنَ الظُّلُمَاتِ إِلَى النُّورِ وَإِنَّ اللَّهَ بِكُمْ لَرَءُوفٌ <span class=\"auu\">رَحِيمٌ</span></td></tr><tr><td class=\"c1\"><span class=\"l\">(57:28:21)</span> <i class=\"ab\">raḥīmun</i></td><td class=\"c2\"><a href=\"wordmorphology.jsp?location=(57:28:21)\" name=\"(57:28:21)\">Most Merciful</a></td><td class=\"c3\"> وَيَجْعَلْ لَكُمْ نُورًا تَمْشُونَ بِهِ وَيَغْفِرْ لَكُمْ وَاللَّهُ غَفُورٌ <span class=\"auu\">رَحِيمٌ</span></td></tr><tr><td class=\"c1\"><span class=\"l\">(58:12:22)</span> <i class=\"ab\">raḥīmun</i></td><td class=\"c2\"><a href=\"wordmorphology.jsp?location=(58:12:22)\" name=\"(58:12:22)\">Most Merciful</a></td><td class=\"c3\"> ذَٰلِكَ خَيْرٌ لَكُمْ وَأَطْهَرُ فَإِنْ لَمْ تَجِدُوا فَإِنَّ اللَّهَ غَفُورٌ <span class=\"auu\">رَحِيمٌ</span></td></tr><tr><td class=\"c1\"><span class=\"l\">(59:10:23)</span> <i class=\"ab\">raḥīmun</i></td><td class=\"c2\"><a href=\"wordmorphology.jsp?location=(59:10:23)\" name=\"(59:10:23)\">Most Merciful</a></td><td class=\"c3\"> وَلَا تَجْعَلْ فِي قُلُوبِنَا غِلًّا لِلَّذِينَ آمَنُوا رَبَّنَا إِنَّكَ رَءُوفٌ <span class=\"auu\">رَحِيمٌ</span></td></tr><tr><td class=\"c1\"><span class=\"l\">(59:22:13)</span> <i class=\"ab\">l-raḥīmu</i></td><td class=\"c2\"><a href=\"wordmorphology.jsp?location=(59:22:13)\" name=\"(59:22:13)\">the Most Merciful</a></td><td class=\"c3\"> عَالِمُ الْغَيْبِ وَالشَّهَادَةِ هُوَ الرَّحْمَٰنُ <span class=\"auu\">الرَّحِيمُ</span></td></tr><tr><td class=\"c1\"><span class=\"l\">(60:7:15)</span> <i class=\"ab\">raḥīmun</i></td><td class=\"c2\"><a href=\"wordmorphology.jsp?location=(60:7:15)\" name=\"(60:7:15)\">Most Merciful</a></td><td class=\"c3\"> وَاللَّهُ قَدِيرٌ وَاللَّهُ غَفُورٌ <span class=\"auu\">رَحِيمٌ</span></td></tr><tr><td class=\"c1\"><span class=\"l\">(60:12:38)</span> <i class=\"ab\">raḥīmun</i></td><td class=\"c2\"><a href=\"wordmorphology.jsp?location=(60:12:38)\" name=\"(60:12:38)\">Most Merciful</a></td><td class=\"c3\"> فَبَايِعْهُنَّ وَاسْتَغْفِرْ لَهُنَّ اللَّهَ إِنَّ اللَّهَ غَفُورٌ <span class=\"auu\">رَحِيمٌ</span></td></tr><tr><td class=\"c1\"><span class=\"l\">(64:14:18)</span> <i class=\"ab\">raḥīmun</i></td><td class=\"c2\"><a href=\"wordmorphology.jsp?location=(64:14:18)\" name=\"(64:14:18)\">Most Merciful</a></td><td class=\"c3\"> وَإِنْ تَعْفُوا وَتَصْفَحُوا وَتَغْفِرُوا فَإِنَّ اللَّهَ غَفُورٌ <span class=\"auu\">رَحِيمٌ</span></td></tr><tr><td class=\"c1\"><span class=\"l\">(66:1:14)</span> <i class=\"ab\">raḥīmun</i></td><td class=\"c2\"><a href=\"wordmorphology.jsp?location=(66:1:14)\" name=\"(66:1:14)\">Most Merciful</a></td><td class=\"c3\"> تَبْتَغِي مَرْضَاتَ أَزْوَاجِكَ وَاللَّهُ غَفُورٌ <span class=\"auu\">رَحِيمٌ</span></td></tr></table><p class=\"dxt\">(2) Noun</p><table border=\"0\" cellpadding=\"0\" cellspacing=\"0\" class=\"taf\"><tr><td class=\"c1\"><span class=\"l\">(4:29:23)</span> <i class=\"ab\">raḥīman</i></td><td class=\"c2\"><a href=\"wordmorphology.jsp?location=(4:29:23)\" name=\"(4:29:23)\">Most Merciful</a></td><td class=\"c3\"> وَلَا تَقْتُلُوا أَنْفُسَكُمْ إِنَّ اللَّهَ كَانَ بِكُمْ <span class=\"auu\">رَحِيمًا</span></td></tr><tr><td class=\"c1\"><span class=\"l\">(17:66:14)</span> <i class=\"ab\">raḥīman</i></td><td class=\"c2\"><a href=\"wordmorphology.jsp?location=(17:66:14)\" name=\"(17:66:14)\">Ever Merciful</a></td><td class=\"c3\"> رَبُّكُمُ الَّذِي يُزْجِي لَكُمُ الْفُلْكَ فِي الْبَحْرِ لِتَبْتَغُوا مِنْ فَضْلِهِ إِنَّهُ كَانَ بِكُمْ <span class=\"auu\">رَحِيمًا</span></td></tr><tr><td class=\"c1\"><span class=\"l\">(34:2:17)</span> <i class=\"ab\">l-raḥīmu</i></td><td class=\"c2\"><a href=\"wordmorphology.jsp?location=(34:2:17)\" name=\"(34:2:17)\">(is) the Most Merciful</a></td><td class=\"c3\"> وَمَا يَنْزِلُ مِنَ السَّمَاءِ وَمَا يَعْرُجُ فِيهَا وَهُوَ <span class=\"auu\">الرَّحِيمُ</span> الْغَفُورُ</td></tr><tr><td class=\"c1\"><span class=\"l\">(73:20:78)</span> <i class=\"ab\">raḥīmun</i></td><td class=\"c2\"><a href=\"wordmorphology.jsp?location=(73:20:78)\" name=\"(73:20:78)\">Most Merciful</a></td><td class=\"c3\"> وَاسْتَغْفِرُوا اللَّهَ إِنَّ اللَّهَ غَفُورٌ <span class=\"auu\">رَحِيمٌ</span></td></tr></table><h4 class=\"dxe\">Noun</h4><table border=\"0\" cellpadding=\"0\" cellspacing=\"0\" class=\"taf\"><tr><td class=\"c1\"><span class=\"l\">(90:17:9)</span> <i class=\"ab\">bil-marḥamati</i></td><td class=\"c2\"><a href=\"wordmorphology.jsp?location=(90:17:9)\" name=\"(90:17:9)\">to compassion</a></td><td class=\"c3\"> وَتَوَاصَوْا بِالصَّبْرِ وَتَوَاصَوْا <span class=\"auu\">بِالْمَرْحَمَةِ</span></td></tr></table><h4 class=\"dxe\">Active participle</h4><table border=\"0\" cellpadding=\"0\" cellspacing=\"0\" class=\"taf\"><tr><td class=\"c1\"><span class=\"l\">(7:151:11)</span> <i class=\"ab\">l-rāḥimīna</i></td><td class=\"c2\"><a href=\"wordmorphology.jsp?location=(7:151:11)\" name=\"(7:151:11)\">(of) the merciful</a></td><td class=\"c3\"> وَأَدْخِلْنَا فِي رَحْمَتِكَ وَأَنْتَ أَرْحَمُ <span class=\"auu\">الرَّاحِمِينَ</span></td></tr><tr><td class=\"c1\"><span class=\"l\">(12:64:17)</span> <i class=\"ab\">l-rāḥimīna</i></td><td class=\"c2\"><a href=\"wordmorphology.jsp?location=(12:64:17)\" name=\"(12:64:17)\">(of) the merciful</a></td><td class=\"c3\"> فَاللَّهُ خَيْرٌ حَافِظًا وَهُوَ أَرْحَمُ <span class=\"auu\">الرَّاحِمِينَ</span></td></tr><tr><td class=\"c1\"><span class=\"l\">(12:92:11)</span> <i class=\"ab\">l-rāḥimīna</i></td><td class=\"c2\"><a href=\"wordmorphology.jsp?location=(12:92:11)\" name=\"(12:92:11)\">(of) those who show mercy</a></td><td class=\"c3\"> قَالَ لَا تَثْرِيبَ عَلَيْكُمُ الْيَوْمَ يَغْفِرُ اللَّهُ لَكُمْ وَهُوَ أَرْحَمُ <span class=\"auu\">الرَّاحِمِينَ</span></td></tr><tr><td class=\"c1\"><span class=\"l\">(21:83:10)</span> <i class=\"ab\">l-rāḥimīna</i></td><td class=\"c2\"><a href=\"wordmorphology.jsp?location=(21:83:10)\" name=\"(21:83:10)\">(of) the Merciful</a></td><td class=\"c3\"> وَأَيُّوبَ إِذْ نَادَىٰ رَبَّهُ أَنِّي مَسَّنِيَ الضُّرُّ وَأَنْتَ أَرْحَمُ <span class=\"auu\">الرَّاحِمِينَ</span></td></tr><tr><td class=\"c1\"><span class=\"l\">(23:109:14)</span> <i class=\"ab\">l-rāḥimīna</i></td><td class=\"c2\"><a href=\"wordmorphology.jsp?location=(23:109:14)\" name=\"(23:109:14)\">(of) those who show mercy</a></td><td class=\"c3\"> رَبَّنَا آمَنَّا فَاغْفِرْ لَنَا وَارْحَمْنَا وَأَنْتَ خَيْرُ <span class=\"auu\">الرَّاحِمِينَ</span></td></tr><tr><td class=\"c1\"><span class=\"l\">(23:118:7)</span> <i class=\"ab\">l-rāḥimīna</i></td><td class=\"c2\"><a href=\"wordmorphology.jsp?location=(23:118:7)\" name=\"(23:118:7)\">(of) those who show mercy</a></td><td class=\"c3\"> وَقُلْ رَبِّ اغْفِرْ وَارْحَمْ وَأَنْتَ خَيْرُ <span class=\"auu\">الرَّاحِمِينَ</span></td></tr></table>\n",
       "<h4>See Also</h4><ul class=\"also\"><li><a href=\"http://www.tyndalearchive.com/tabs/lane\" target=\"blank\">Lane's Lexicon</a> <img src=\"/images/link.gif\"/> - Classical Arabic dictionary</li></ul>\n",
       "<div class=\"navigationPane\"><a href=\"?q=rHl\"><img src=\"/images/nav-previous.png\"/></a> <a href=\"?q=rjm\">ر ج م</a> | <a href=\"?q=rjw\">ر ج و</a> | <a href=\"?q=rHb\">ر ح ب</a> | <a href=\"?q=rHq\">ر ح ق</a> | <a href=\"?q=rHl\">ر ح ل</a> | <b>ر ح م</b> | <a href=\"?q=rxw\">ر خ و</a> | <a href=\"?q=rdA\">ر د أ</a> | <a href=\"?q=rdd\">ر د د</a> | <a href=\"?q=rdf\">ر د ف</a> | <a href=\"?q=rdm\">ر د م</a> <a href=\"?q=rxw\"><img src=\"/images/nav-next.png\"/></a></div>\n",
       "</div>\n",
       "</td>"
      ]
     },
     "execution_count": 206,
     "metadata": {},
     "output_type": "execute_result"
    }
   ],
   "source": [
    "tblReq"
   ]
  },
  {
   "cell_type": "code",
   "execution_count": null,
   "metadata": {},
   "outputs": [
    {
     "data": {
      "text/plain": [
       "<h4 class=\"dxe\">Verb (form I) - to have mercy</h4>"
      ]
     },
     "execution_count": 204,
     "metadata": {},
     "output_type": "execute_result"
    }
   ],
   "source": [
    "# soup = BeautifulSoup(\n",
    "#     tblReq,\n",
    "#     'lxml',\n",
    "#     # 'html.parser',\n",
    "# )\n",
    "head4 = tblReq.find_all(\n",
    "    \"h4\",\n",
    "    {\"class\":\"dxe\"}\n",
    ")[0]\n",
    "\n",
    "head4"
   ]
  },
  {
   "cell_type": "code",
   "execution_count": null,
   "metadata": {},
   "outputs": [],
   "source": [
    "def find_grm(pos,soup):\n",
    "    posRow = soup.find(\n",
    "        # \"h4\",\n",
    "        string=f\"({pos})\"\n",
    "    )\n",
    "    \n",
    "    tblReq = posRow.parent.parent.parent.parent\n",
    "\n",
    "    headReq = tblReq.find_all(\n",
    "        \"h4\",\n",
    "        {\"class\":\"dxe\"}\n",
    "    )[0]\n",
    "    tblInfo = headReq.text.split('-')\n",
    "    tblGrm = tblInfo[0]\n",
    "    tblMean = None if ( len(tblInfo) < 1 ) else tblInfo[1]\n",
    "    tblForms = re.findall('\\(form (.*?)\\)', tblGrm)\n",
    "    if len(tblForms) == 0:\n",
    "        tblForm = 'All'\n",
    "    else:\n",
    "        # print(tempForms[0])\n",
    "        tblForm = tblForms[0]\n",
    "    tblPoSps = re.findall(f'(^[^\\(\\)]*?(?=\\s*$|\\s*\\())', tblGrm)\n",
    "    if len(tblPoSps) == 0:\n",
    "        tblPoSp = 'All'\n",
    "    else:\n",
    "        # print(tempPtSps[0])\n",
    "        tblPoSp = tblPoSps[0]\n",
    "\n",
    "    if tblForm == 'All':\n",
    "        if tblPoSp != 'All':\n",
    "            tblForm = 'I'"
   ]
  },
  {
   "cell_type": "code",
   "execution_count": null,
   "metadata": {},
   "outputs": [],
   "source": [
    "def tbling(soup):\n",
    "    headTbls = re.findall('(<h4 class=\"dxe\">.*?(?=<h4))',grabhtml,re.DOTALL)\n",
    "\n",
    "    # print(len(headTbls))\n",
    "\n",
    "    for headTbl in headTbls:\n",
    "        tblAgg = []\n",
    "        soup = BeautifulSoup(\n",
    "            headTbl,\n",
    "            'lxml',\n",
    "            # 'html.parser',\n",
    "        )\n",
    "        head4 = soup.find_all(\n",
    "            \"h4\",\n",
    "            {\"class\":\"dxe\"}\n",
    "        )[0]\n",
    "\n",
    "        # if len(tblsRet) > 0:\n",
    "            # print(len(tblsRet) > 0)\n",
    "            # print(len(tblsRet))\n",
    "            # if len(tblsRet) == len(head4s):\n",
    "            # print(len(tblsRet) == len(head4s))\n",
    "        # for i in range(len(head4s)):\n",
    "            # print(head4s[i].text)\n",
    "\n",
    "        tblGrm = head4.text.split('-')[0]\n",
    "        tblForms = re.findall('\\(form (.*?)\\)', tblGrm)\n",
    "        if len(tblForms) == 0:\n",
    "            tblForm = 'All'\n",
    "        else:\n",
    "            # print(tempForms[0])\n",
    "            tblForm = tblForms[0]\n",
    "        tblPoSps = re.findall(f'(^[^\\(\\)]*?(?=\\s*$|\\s*\\())', tblGrm)\n",
    "        if len(tblPoSps) == 0:\n",
    "            tblPoSp = 'All'\n",
    "        else:\n",
    "            # print(tempPtSps[0])\n",
    "            tblPoSp = tblPoSps[0]\n",
    "\n",
    "        if tblForm == 'All':\n",
    "            if tblPoSp != 'All':\n",
    "                tblForm = 'I'\n",
    "        print(\n",
    "            # grm, \n",
    "            tblForm, \n",
    "            tblPoSp\n",
    "        )\n",
    "\n",
    "        tbls = soup.find_all(\n",
    "            \"table\",\n",
    "            {\"class\":\"taf\"}\n",
    "        )\n",
    "\n",
    "        # tblAgg = [ tbl for tbl in tbls ]\n",
    "\n",
    "        # print(tblsRet)\n",
    "        for tbl in tbls:\n",
    "            if tblPoSp == poSp and tblForm == frm:\n",
    "                tblAgg += tbl\n",
    "        print(\"tblAgg length\", len(tblAgg))\n",
    "        tblCumul,instDct = tblUp(tblCumul,tblAgg,instDct,\n",
    "                                #  tempForm,tempPtSp\n",
    "                                stri,lnk\n",
    "                                    )\n"
   ]
  },
  {
   "cell_type": "markdown",
   "metadata": {},
   "source": [
    "# html"
   ]
  },
  {
   "cell_type": "code",
   "execution_count": 187,
   "metadata": {},
   "outputs": [],
   "source": [
    "def recFinished(pos,lnkQry=''):\n",
    "    flPth = f'data/htmlCompleted.tsv'\n",
    "    import csv\n",
    "    list_header=[\"position\",\"link_query\"]\n",
    "    # print('entered recFinished')\n",
    "    with open(flPth) as f:\n",
    "        finishedOld = csv.DictReader(f, delimiter='\\t')\n",
    "        areHeaders = len(finishedOld.fieldnames) > 0\n",
    "        finisheds = [finished[list_header[0]] for finished in finishedOld]\n",
    "        # print('read for ', pos)\n",
    "    with open(flPth,'a+') as f:\n",
    "        writer = csv.DictWriter(f, delimiter='\\t', fieldnames=list_header)\n",
    "        # if len(finisheds)==0:\n",
    "        if not areHeaders:\n",
    "            writer.writeheader()\n",
    "        if pos not in finisheds:\n",
    "            writer.writerow({\n",
    "                list_header[0] : pos,\n",
    "                list_header[1]: lnkQry\n",
    "            })\n",
    "            # print(\"finished:\", pos)\n",
    "        else:\n",
    "            # print(pos, \"already in htmlCompleted\")\n",
    "            pass"
   ]
  },
  {
   "cell_type": "code",
   "execution_count": 188,
   "metadata": {},
   "outputs": [],
   "source": [
    "def recError(pos,lnkQry=''):\n",
    "    flPth = f'data/htmlError.tsv'\n",
    "    import csv\n",
    "    list_header=[\"position\",\"link_query\"]\n",
    "    with open(flPth) as f:\n",
    "        # print(f\"loading posPthLnksOld\")\n",
    "        errRecOld = csv.DictReader(f, delimiter='\\t')\n",
    "        areHeaders = len(errRecOld.fieldnames) > 0\n",
    "        errs = [err[list_header[0]] for err in errRecOld]\n",
    "    with open(flPth,'a+') as f:\n",
    "        writer = csv.DictWriter(f, delimiter='\\t', fieldnames=list_header)\n",
    "        # if len(errs)==0:\n",
    "        if not areHeaders:\n",
    "            writer.writeheader()\n",
    "        if pos not in errs:\n",
    "            writer.writerow({\n",
    "                list_header[0] : pos,\n",
    "                list_header[1]: lnkQry\n",
    "            })\n",
    "            # print(\"error:\", pos)\n",
    "        else:\n",
    "            pass\n",
    "            # print(pos, \"still in htmlError\")\n",
    "        from pathlib import Path\n",
    "        import os\n",
    "        qrFlPth = f'data/html/{lnkQry}.html'\n",
    "        if Path(qrFlPth).is_file():\n",
    "            os.remove(qrFlPth)"
   ]
  },
  {
   "cell_type": "code",
   "execution_count": 189,
   "metadata": {},
   "outputs": [],
   "source": [
    "def writeHtml(contnt,lnkQry):\n",
    "    print('entered writing')\n",
    "    from pathlib import Path\n",
    "    flPth = f'data/html/{lnkQry}.html'\n",
    "    if not Path(flPth).is_file():\n",
    "        print(flPth, 'not already present')\n",
    "        with open(flPth, 'w+') as f:\n",
    "            # f.write(\"\\n\".join(contnt))\n",
    "            f.write(contnt)\n",
    "            # print(\"wrote\", pos, lnkQry)\n",
    "            print(\"wrote\", lnkQry)\n",
    "    else:\n",
    "        pass\n",
    "        # print('already', lnkQry)"
   ]
  },
  {
   "cell_type": "code",
   "execution_count": null,
   "metadata": {},
   "outputs": [],
   "source": [
    "# import csv\n",
    "# flPth='data/htmlError.tsv'\n",
    "# list_header=[\"position\",\"link_query\"]\n",
    "# with open(flPth) as f:\n",
    "#     errorsOld = csv.DictReader(f, delimiter='\\t')\n",
    "#     errors = [error[list_header[0]] for error in errorsOld]\n",
    "#     # print(finishedOld.fieldnames)\n",
    "    "
   ]
  },
  {
   "cell_type": "code",
   "execution_count": null,
   "metadata": {},
   "outputs": [],
   "source": [
    "# import json\n",
    "# with open('posSerDict.json') as f:\n",
    "#     posOrd = json.loads(f.read())\n",
    "# poss = list(posOrd.keys())"
   ]
  },
  {
   "cell_type": "code",
   "execution_count": null,
   "metadata": {},
   "outputs": [
    {
     "data": {
      "text/plain": [
       "(68868, 77438, 0)"
      ]
     },
     "execution_count": 17,
     "metadata": {},
     "output_type": "execute_result"
    }
   ],
   "source": [
    "# len(finisheds), len(poss), len(errors)"
   ]
  },
  {
   "cell_type": "code",
   "execution_count": null,
   "metadata": {},
   "outputs": [],
   "source": [
    "# left = [pos for pos in poss if (pos not in finisheds and pos not in errors)]"
   ]
  },
  {
   "cell_type": "code",
   "execution_count": null,
   "metadata": {},
   "outputs": [
    {
     "data": {
      "text/plain": [
       "8570"
      ]
     },
     "execution_count": 19,
     "metadata": {},
     "output_type": "execute_result"
    }
   ],
   "source": [
    "# len(left)"
   ]
  },
  {
   "cell_type": "code",
   "execution_count": null,
   "metadata": {},
   "outputs": [
    {
     "data": {
      "text/plain": [
       "'96:2:3'"
      ]
     },
     "execution_count": 498,
     "metadata": {},
     "output_type": "execute_result"
    }
   ],
   "source": [
    "# left[0]"
   ]
  },
  {
   "cell_type": "code",
   "execution_count": null,
   "metadata": {},
   "outputs": [],
   "source": [
    "# flPth='data/htmlCompleted.tsv'\n",
    "# list_header=[\"position\",\"link_query\"]\n",
    "# with open(flPth) as f:\n",
    "#     finishedOld = csv.DictReader(f, delimiter='\\t')\n",
    "#     finisheds = [finished[list_header[0]] for finished in finishedOld]\n",
    "#     # print(finishedOld.fieldnames)\n",
    "    "
   ]
  },
  {
   "cell_type": "code",
   "execution_count": null,
   "metadata": {},
   "outputs": [],
   "source": [
    "# def posGet(pos,lnkQry=None,strlnks=[]):\n",
    "#     import requests\n",
    "#     from bs4 import BeautifulSoup\n",
    "#     # for pos in poss:\n",
    "#     # if pos == \"1:1:1\":\n",
    "#     if pos not in finisheds:\n",
    "#         if lnkQry == None:\n",
    "#             wrdLnk = f\"https://corpus.quran.com/wordmorphology.jsp?location=({pos})\"\n",
    "#             grabhtml = requests.get(wrdLnk).text\n",
    "#             # print(type(grabhtml))\n",
    "\n",
    "#             import re\n",
    "\n",
    "#             soup = BeautifulSoup(\n",
    "#                 grabhtml,\n",
    "#                 'lxml',\n",
    "#                 # 'html.parser',\n",
    "#             )\n",
    "#             # tknCells = soup.find_all(\n",
    "#             #     \"td\",\n",
    "#             #     {\"class\":\"tokenCell\"}\n",
    "#             # )\n",
    "\n",
    "#             # if len(tknCells) > 0:\n",
    "#             #     tknCell = tknCells[0]\n",
    "#             #     tknCell.find_all(\n",
    "#             #         \"a\"\n",
    "#             #     )\n",
    "\n",
    "#             lnkQrys = re.findall(\n",
    "#                 'qurandictionary.jsp\\?q=([^#]*(?=#))',\n",
    "#                 # soup.text\n",
    "#                 grabhtml\n",
    "#             )\n",
    "\n",
    "#             if len(lnkQrys) == 0:\n",
    "#                 # print(\"string not found for\", pos)\n",
    "#                 recError(pos,)\n",
    "#                 # print('failed while lnkQrys length')\n",
    "#             else:\n",
    "#                 lnkQry = lnkQrys[0]\n",
    "#                 strlnks = [f\"https://corpus.quran.com/qurandictionary.jsp?q={lnkQry}\"]\n",
    "                \n",
    "#     if strlnks != [] and lnkQry != None:\n",
    "#         contntLs = []\n",
    "#         for strlnk in strlnks:\n",
    "#             # strlnk = f\"https://corpus.quran.com/qurandictionary.jsp?q={lnkQry}#({pos})\"\n",
    "#             grabhtml = requests.get(strlnk).text\n",
    "#             soup = BeautifulSoup(\n",
    "#                 grabhtml,\n",
    "#                 'lxml',\n",
    "#                 # 'html.parser',\n",
    "#             )\n",
    "#             tbls = soup.select(\n",
    "#                 \"table.taf\"\n",
    "#                 # \"ul\",\n",
    "#                 # {\"class\":\"also\"}\n",
    "#             )\n",
    "\n",
    "#             if len(tbls)>0:\n",
    "#                 firstTbl= tbls[0]\n",
    "#                 firstRow = list(list(list(firstTbl.children)[0].children)[0])[2].text\n",
    "\n",
    "#                 if firstRow != 'ādama':\n",
    "#                     contnt = soup.select(\n",
    "#                         \"ul.also>li, h4.dxe, table.taf\"\n",
    "#                         # \"ul\",\n",
    "#                         # {\"class\":\"also\"}\n",
    "#                     )\n",
    "\n",
    "#                     contntLs += [ str(cont) for cont in contnt ]\n",
    "\n",
    "        \n",
    "#         # if len(contntLs) == 0 or contnt == None:\n",
    "#         if len(contntLs) == 0 or contntLs == None:\n",
    "#             recError(pos,lnkQry)\n",
    "#             print('failed while content lenght')\n",
    "#         else:\n",
    "#             try:\n",
    "#                 contntHtml = \"\\n\".join(contntLs)\n",
    "#                 writeHtml(contntHtml,lnkQry)\n",
    "#                 recFinished(pos,lnkQry)\n",
    "#             except:\n",
    "#                 recError(pos,lnkQry)\n",
    "#                 print('failed while writing')\n",
    "#         # poSp, frm = find_grm(pos,soup)\n",
    "\n",
    "#         # tbling(soup,pos,lnkQry)"
   ]
  },
  {
   "cell_type": "code",
   "execution_count": 214,
   "metadata": {},
   "outputs": [
    {
     "data": {
      "text/plain": [
       "False"
      ]
     },
     "execution_count": 214,
     "metadata": {},
     "output_type": "execute_result"
    }
   ],
   "source": [
    "# # firstRow = 'jjb'\n",
    "# firstRow = 'ādama'\n",
    "# lnkQry = 'A^dam'\n",
    "# # lnkQry = 'bbl'\n",
    "# firstRow != 'ādama' and lnkQry != 'A^dam'"
   ]
  },
  {
   "cell_type": "code",
   "execution_count": 234,
   "metadata": {},
   "outputs": [],
   "source": [
    "flPth='data/html'\n",
    "import os\n",
    "# subdirs = ['root','lem','stem']\n",
    "subdirs = []\n",
    "striDownloadeds = [flnm.replace('.html','') for flnm in os.listdir(flPth) if flnm not in subdirs]"
   ]
  },
  {
   "cell_type": "code",
   "execution_count": null,
   "metadata": {},
   "outputs": [],
   "source": [
    "# striDownloadeds"
   ]
  },
  {
   "cell_type": "code",
   "execution_count": 172,
   "metadata": {},
   "outputs": [],
   "source": [
    "import requests\n",
    "from qChronolyze import rtTrns\n",
    "from bs4 import BeautifulSoup\n",
    "from urllib.parse import quote\n",
    "\n",
    "def lemGet(lnkQry,arbStri,poSp=None):\n",
    "    # arbStri = rtTrns(lnkQry,\"arb\",\"bkwSch\",\"arbSch\")\n",
    "    # for pos in poss:\n",
    "    # if pos == \"1:1:1\":\n",
    "    if arbStri not in striDownloadeds:\n",
    "        # if pos not in finisheds:\n",
    "            lnkStrQuote = quote(lnkQry)\n",
    "            # if lnkQry == None:\n",
    "            strlnks = []\n",
    "            # lnk = f\"https://corpus.quran.com/search.jsp?q=root:{lnkStrQuote}\"\n",
    "            # lnk = f\"https://corpus.quran.com/search.jsp?q=pos:{poSp} lem:{lnkStrQuote}\"\n",
    "            lnk = f\"https://corpus.quran.com/search.jsp?q=pos:{poSp} stem:{lnkStrQuote}\"\n",
    "            strlnks.append(lnk)\n",
    "            print(\"for\", lnkQry,arbStri)\n",
    "            print(\"for\", lnkQry,arbStri, lnk)\n",
    "            grabhtml = requests.get(lnk).text\n",
    "            # print(type(grabhtml))\n",
    "\n",
    "            import re\n",
    "\n",
    "            soup = BeautifulSoup(\n",
    "                grabhtml,\n",
    "                'lxml',\n",
    "                # 'html.parser',\n",
    "            )\n",
    "            # tknCells = soup.find_all(\n",
    "            #     \"td\",\n",
    "            #     {\"class\":\"tokenCell\"}\n",
    "            # )\n",
    "\n",
    "            # if len(tknCells) > 0:\n",
    "            #     tknCell = tknCells[0]\n",
    "            #     tknCell.find_all(\n",
    "            #         \"a\"\n",
    "            #     )\n",
    "            if 'Results' in grabhtml:\n",
    "                matches = re.findall(\">[\\n\\s]*Results[\\s\\n]*<b>\\d*</b>[\\s\\n]*to[\\s\\n]*<b>\\d*</b>[\\s\\n]*of[\\s\\n]*<b>(\\d*)</b>\", grabhtml, re.DOTALL)\n",
    "                print('\\nmatches: ', matches)\n",
    "                if len(matches) > 0:\n",
    "                    pgFlt = int(matches[0])/50\n",
    "                    pgCount = int(pgFlt) + 1 if int(matches[0]) % 50 != 0 else int(pgFlt)\n",
    "                    print(f\"page count in {lnk} is: {pgCount}\")\n",
    "                    # print(type(pgCount), pgCount)\n",
    "                    pgs = list(map(lambda x : f'&page={x}', list(range(2,pgCount+1))))\n",
    "                \n",
    "                for pg in pgs:\n",
    "                    # print(f'\\nin pg {pg}')\n",
    "                    # grabhtml = requests.get(f\"{lnk}{pg}\").text\n",
    "                    strlnks.append(f\"{lnk}{pg}\")\n",
    "            else:\n",
    "                print('results not in grabhtml')\n",
    "\n",
    "            # lnkQrys = re.findall(\n",
    "            #     'qurandictionary.jsp\\?q=([^#]*(?=#))',\n",
    "            #     # soup.text\n",
    "            #     grabhtml\n",
    "            # )\n",
    "\n",
    "            # if len(lnkQrys) == 0:\n",
    "            #     # print(\"string not found for\", pos)\n",
    "            #     recError(pos,)\n",
    "            #     # print('failed while lnkQrys length')\n",
    "            # else:\n",
    "            #   lnkQry = lnkQrys[0]\n",
    "            # strlnks.append(f\"https://corpus.quran.com/qurandictionary.jsp?q={lnkStrQuote}\")\n",
    "            \n",
    "                \n",
    "            # if strlnks != [] and lnkQry != None:\n",
    "            # if True:\n",
    "            contntLs = []\n",
    "            for strlnk in strlnks:\n",
    "                # strlnk = f\"https://corpus.quran.com/qurandictionary.jsp?q={lnkQry}#({pos})\"\n",
    "                grabhtml = requests.get(strlnk).text\n",
    "                soup = BeautifulSoup(\n",
    "                    grabhtml,\n",
    "                    'lxml',\n",
    "                    # 'html.parser',\n",
    "                )\n",
    "                tbls = soup.select(\n",
    "                    \"table.taf\"\n",
    "                    # \"ul\",\n",
    "                    # {\"class\":\"also\"}\n",
    "                )\n",
    "\n",
    "                # print('table length', len(tbls))\n",
    "\n",
    "                if len(tbls)>0:\n",
    "                    firstTbl= tbls[0]\n",
    "                    firstRow = list(list(list(firstTbl.children)[0].children)[0])[2].text\n",
    "\n",
    "                    if firstRow == 'ādama' and lnkQry != 'A^dam':\n",
    "                        pass\n",
    "                    else:\n",
    "                    # if firstRow != 'ādama' and lnkQry != 'A^dam':\n",
    "                        contnt = soup.select(\n",
    "                            \"h4.dxe, p.dxt, table.taf\"\n",
    "                            # \"ul.also>li, h4.dxe, table.taf\"\n",
    "                            # \"ul\",\n",
    "                            # {\"class\":\"also\"}\n",
    "                        )\n",
    "\n",
    "                        contntLs += [ str(cont) for cont in contnt ]\n",
    "\n",
    "            # print(\"length of contentLs\", len(contntLs))\n",
    "            if len(contntLs) == 0 or contntLs == None:\n",
    "            # if len(contntLs) == 0 or contnt == None:\n",
    "                recError(0,lnkQry)\n",
    "                print('failed while content lenght')\n",
    "            else:\n",
    "                try:\n",
    "                    contntHtml = \"\\n\".join(contntLs)\n",
    "                    print(\"contntHtml\", type(contntHtml))\n",
    "                    writeHtml(contntHtml,arbStri)\n",
    "                    # recFinished(pos,arbStri)\n",
    "                except:\n",
    "                    recError(0,arbStri)\n",
    "                    print('failed while writing')\n",
    "                    pass\n",
    "            # poSp, frm = find_grm(pos,soup)\n",
    "\n",
    "            # tbling(soup,pos,lnkQry)\n",
    "            # print()"
   ]
  },
  {
   "cell_type": "code",
   "execution_count": null,
   "metadata": {},
   "outputs": [],
   "source": [
    "# from qChronolyze import rtTrns\n",
    "# import json\n",
    "# with open('data/lemmata.json') as f:\n",
    "#     lemmataRows = json.loads(f.read())\n",
    "# # lemmata = [(lemmaBkw[0], lemmaBkw[1]) for lemmaBkw in lemmataRows]\n",
    "# lemmataD = {rtTrns(lemmaBkw[1],'arb','bkwSch','arbSch') : lemmaBkw for lemmaBkw in lemmataRows}"
   ]
  },
  {
   "cell_type": "code",
   "execution_count": 21,
   "metadata": {},
   "outputs": [],
   "source": [
    "import json\n",
    "with open('data/roots.json') as f:\n",
    "    rootD = json.loads(f.read())"
   ]
  },
  {
   "cell_type": "code",
   "execution_count": 243,
   "metadata": {},
   "outputs": [],
   "source": [
    "import csv\n",
    "flPth='data/stems.tsv'\n",
    "list_header=[\"Stem\",\"Buckwalter\", \"Part-of-speech\"]\n",
    "with open(flPth) as f:\n",
    "    stemDLs = list(csv.DictReader(f, delimiter='\\t'))"
   ]
  },
  {
   "cell_type": "code",
   "execution_count": 22,
   "metadata": {},
   "outputs": [
    {
     "data": {
      "text/plain": [
       "('قول',\n",
       " {'I': {'Verb': 'تَنِيَ', 'Frequency': '1', 'Translation': 'to slacken'},\n",
       "  'V': {'Verb': 'تَنِيَ', 'Frequency': '1', 'Translation': 'to slacken'}})"
      ]
     },
     "execution_count": 22,
     "metadata": {},
     "output_type": "execute_result"
    }
   ],
   "source": [
    "list(rootD.items())[0]\n",
    "# stemDLs[0]"
   ]
  },
  {
   "cell_type": "code",
   "execution_count": 23,
   "metadata": {},
   "outputs": [],
   "source": [
    "roots = list(rootD.keys())"
   ]
  },
  {
   "cell_type": "code",
   "execution_count": null,
   "metadata": {},
   "outputs": [
    {
     "data": {
      "text/plain": [
       "660"
      ]
     },
     "execution_count": 292,
     "metadata": {},
     "output_type": "execute_result"
    }
   ],
   "source": [
    "# 33+54+10+4+1+3+383+70+1+5+2+3+14+17+5+1+2+1+10+3+1+37"
   ]
  },
  {
   "cell_type": "code",
   "execution_count": 24,
   "metadata": {},
   "outputs": [
    {
     "data": {
      "text/plain": [
       "943"
      ]
     },
     "execution_count": 24,
     "metadata": {},
     "output_type": "execute_result"
    }
   ],
   "source": [
    "# roots[0]\n",
    "len(roots)"
   ]
  },
  {
   "cell_type": "code",
   "execution_count": null,
   "metadata": {},
   "outputs": [],
   "source": [
    "# poSpCountD = {}\n",
    "# for lemma in lemmataRows:\n",
    "#     poSp = lemma[3]\n",
    "#     if poSp not in poSpCountD:\n",
    "#         poSpCountD[poSp] = 1\n",
    "#     else:\n",
    "#         poSpCountD[poSp] += 1"
   ]
  },
  {
   "cell_type": "code",
   "execution_count": null,
   "metadata": {},
   "outputs": [],
   "source": [
    "# poSpAllowed = [ poSp for poSp in poSpCountD.keys() if poSpCountD[poSp] < 30 ]"
   ]
  },
  {
   "cell_type": "code",
   "execution_count": null,
   "metadata": {},
   "outputs": [],
   "source": [
    "# remainingLemma = [\n",
    "#     lemma for lemma in lemmataRows\n",
    "#     if lemma[0] not in striDownloadeds\n",
    "#     # and lemma[3] in poSpAllowed\n",
    "# ]\n",
    "# remainingLemma[0]\n",
    "# len(remainingLemma)"
   ]
  },
  {
   "cell_type": "code",
   "execution_count": 247,
   "metadata": {},
   "outputs": [],
   "source": [
    "from qChronolyze import rtTrns\n",
    "flPth='data/html'\n",
    "import os\n",
    "# subdirs = ['root','lem','stem']\n",
    "subdirs = ['stem']\n",
    "# subdirs = []\n",
    "flnms = os.listdir(f\"{flPth}/stem\")\n",
    "# flnms = []\n",
    "striDownloadeds = [flnm.replace('.html','') for flnm in flnms ]\n",
    "# striDownloadeds = [flnm.replace('.html','') for flnm in os.listdir(flPth) if flnm not in subdirs]\n",
    "\n",
    "# remainingLemma = [\n",
    "#     lemD\n",
    "#     for lemD in lemmataRows\n",
    "#     if \n",
    "#     rtTrns(lemD[1],\"arb\",\"bkwSch\",\"arbSch\")\n",
    "#     not in striDownloadeds\n",
    "# ]\n",
    "remainingStems = [\n",
    "    stemD[\"Stem\"]\n",
    "    for stemD in stemDLs\n",
    "    if stemD[\"Stem\"] not in striDownloadeds\n",
    "]\n",
    "# remainingRoots = [\n",
    "#     root for root in roots\n",
    "#     if root not in striDownloadeds\n",
    "#     # and lemma[3] in poSpAllowed\n",
    "# ]\n",
    "# len(remainingRoots)\n",
    "# remainingRoots[0]"
   ]
  },
  {
   "cell_type": "code",
   "execution_count": 248,
   "metadata": {},
   "outputs": [
    {
     "data": {
      "text/plain": [
       "(34, 34, 1, 35)"
      ]
     },
     "execution_count": 248,
     "metadata": {},
     "output_type": "execute_result"
    }
   ],
   "source": [
    "# len(flnms), len(striDownloadeds), len(remainingLemma), len(lemmataRows)\n",
    "# len(flnms), len(striDownloadeds), len(remainingRoots), len(roots)\n",
    "len(flnms), len(striDownloadeds), len(remainingStems), len(stemDLs)"
   ]
  },
  {
   "cell_type": "code",
   "execution_count": 56,
   "metadata": {},
   "outputs": [
    {
     "name": "stdout",
     "output_type": "stream",
     "text": [
      "arbSch\n",
      "arb bkwSch arbSch\n",
      "True\n",
      "بَعْل2\n"
     ]
    },
    {
     "data": {
      "text/plain": [
       "(False, False, True)"
      ]
     },
     "execution_count": 56,
     "metadata": {},
     "output_type": "execute_result"
    }
   ],
   "source": [
    "from qChronolyze import rtTrns\n",
    "stri = 'baEol2'\n",
    "arbStri = rtTrns(stri,\"arb\",\"bkwSch\",\"arbSch\")\n",
    "print(arbStri)\n",
    "arbStri in striDownloadeds, arbStri in remainingLemma, arbStri in lemmataD.keys()"
   ]
  },
  {
   "cell_type": "code",
   "execution_count": 218,
   "metadata": {},
   "outputs": [
    {
     "data": {
      "text/plain": [
       "'Al%5Em%5ES%5E'"
      ]
     },
     "execution_count": 218,
     "metadata": {},
     "output_type": "execute_result"
    }
   ],
   "source": [
    "quote(\"Al^m^S^\")"
   ]
  },
  {
   "cell_type": "code",
   "execution_count": 249,
   "metadata": {},
   "outputs": [
    {
     "data": {
      "text/plain": [
       "[{'Stem': 'يَاسِينَ',\n",
       "  'Buckwalter': 'yaAsiyna',\n",
       "  'Part-of-speech': 'Quranic initials'}]"
      ]
     },
     "execution_count": 249,
     "metadata": {},
     "output_type": "execute_result"
    }
   ],
   "source": [
    "[\n",
    "    stemD \n",
    "    for stemD in stemDLs \n",
    "    if stemD[\"Stem\"] in remainingStems \n",
    "] "
   ]
  },
  {
   "cell_type": "code",
   "execution_count": 250,
   "metadata": {},
   "outputs": [
    {
     "name": "stdout",
     "output_type": "stream",
     "text": [
      "for yaAsiyna يَاسِينَ\n",
      "for yaAsiyna يَاسِينَ https://corpus.quran.com/search.jsp?q=pos:INL stem:yaAsiyna\n",
      "results not in grabhtml\n",
      "failed while content lenght\n",
      "يَاسِينَ\n"
     ]
    }
   ],
   "source": [
    "from qChronolyze import poSpD\n",
    "from qChronolyze import rtTrns\n",
    "# for root in remainingRoots:\n",
    "#     lemGet(rtTrns(root,\"arb\",\"arbSch\",\"bkwSch\"), root)\n",
    "# for lem in remainingLemma:\n",
    "    # lemGet(lem[1], lem[0])\n",
    "    # lemGet(lem[1], rtTrns(lem[1],\"arb\",\"bkwSch\",\"arbSch\"), lem[3])\n",
    "# for root in remainingRoots:\n",
    "#     lemGet(rtTrns(root,\"arb\",\"arbSch\",\"bkwSch\"), root)\n",
    "for stemD in stemDLs:\n",
    "    stem = stemD[\"Stem\"]\n",
    "    if stem in remainingStems:\n",
    "        bkw = stemD[\"Buckwalter\"]\n",
    "        poSp = poSpD[stemD[\"Part-of-speech\"]]\n",
    "        # try:\n",
    "        if True:\n",
    "            lemGet(bkw, stem, poSp)\n",
    "        # except:\n",
    "            print(stem)"
   ]
  },
  {
   "cell_type": "code",
   "execution_count": 35,
   "metadata": {},
   "outputs": [
    {
     "data": {
      "text/plain": [
       "(635, 'ابب')"
      ]
     },
     "execution_count": 35,
     "metadata": {},
     "output_type": "execute_result"
    }
   ],
   "source": [
    "from qChronolyze import rtTrns\n",
    "flPth='data/html'\n",
    "import os\n",
    "# subdirs = ['root','lem','stem']\n",
    "# subdirs = ['lem',]\n",
    "# subdirs = []\n",
    "roots_BAK = os.listdir(f\"{flPth}/root_BAK\")\n",
    "root_BAK_strngs = [flnm.replace('.html','') for flnm in roots_BAK ]\n",
    "roots = os.listdir(f\"{flPth}/root\")\n",
    "root_strngs = [flnm.replace('.html','') for flnm in roots ]\n",
    "i = 0\n",
    "remainingRoots = [root_BAK for root_BAK in root_BAK_strngs if root_BAK not in root_strngs ]\n",
    "# for root_BAK in root_BAK_strngs:\n",
    "#     if root_BAK not in root_strngs:\n",
    "#         i += 1\n",
    "#         print(i,root_BAK)\n",
    "len(remainingRoots), remainingRoots[0]"
   ]
  },
  {
   "cell_type": "code",
   "execution_count": null,
   "metadata": {},
   "outputs": [
    {
     "data": {
      "text/plain": [
       "'96:1:1'"
      ]
     },
     "execution_count": 244,
     "metadata": {},
     "output_type": "execute_result"
    }
   ],
   "source": [
    "poss[0]"
   ]
  },
  {
   "cell_type": "code",
   "execution_count": null,
   "metadata": {},
   "outputs": [
    {
     "name": "stdout",
     "output_type": "stream",
     "text": [
      "wrote 64:9:7 gbn\n",
      "wrote 61:8:2 TfA\n",
      "wrote 5:1:16 Syd\n",
      "wrote 5:26:7 tyh\n",
      "wrote 5:31:4 bHv\n",
      "wrote 5:33:22 nfy\n",
      "wrote 5:48:29 nhj\n",
      "wrote 5:83:11 dmE\n",
      "wrote 5:94:11 rmH\n",
      "wrote 5:103:7 syb\n",
      "wrote 9:8:8 All\n",
      "wrote 9:24:13 ksd\n",
      "wrote 9:28:6 njs\n",
      "wrote 9:30:14 DhA\n",
      "wrote 9:35:7 kwy\n",
      "wrote 9:35:9 jbh\n",
      "wrote 9:57:11 jmH\n",
      "wrote 9:108:6 Ass\n",
      "wrote 9:109:16 jrf\n",
      "wrote 5:3:12 xnq\n",
      "wrote 5:3:13 wq*\n",
      "wrote 5:3:15 nTH\n",
      "wrote 5:3:21 *kw\n"
     ]
    }
   ],
   "source": [
    "# # for pos in [\"1:1:1\"]:\n",
    "# for pos in left:\n",
    "#     # print(pos)\n",
    "#     posGet(pos)"
   ]
  },
  {
   "cell_type": "code",
   "execution_count": null,
   "metadata": {},
   "outputs": [],
   "source": [
    "list_header = [\"surah_ayah_position\",\"meaning\",\"string_paths_links\"]\n",
    "import csv\n",
    "start_time=time.time()\n",
    "# for pos in poss:\n",
    "with open('data/posPthLnks.tsv', 'a') as f:\n",
    "    # with open('data/posPthLnks.tsv', 'w+') as f:\n",
    "        # print(f\"writing {stri} to '{filepath}'\")\n",
    "    writer = csv.DictWriter(f, delimiter='\\t', fieldnames=list_header)\n",
    "    writer.writeheader()\n",
    "        # for datum in instLst:\n",
    "        # for k, datum in instDct.items():\n",
    "    # for pos, datum in posPthLnksNew.items():\n",
    "    for pos in poss:\n",
    "        if pos not in posPthLnksOld.keys():\n",
    "            writer.writerow({\n",
    "                list_header[0] : pos,\n",
    "                # list_header[1] : datum.stri,\n",
    "                # list_header[2] : datum.flt,\n",
    "                # list_header[3] : datum.strTyp,\n",
    "                # list_header[4] : datum.poSp,\n",
    "                # list_header[5] : datum.frm,\n",
    "                # list_header[6] : datum.lnkPths,\n",
    "            })\n",
    "end_time=time.time()"
   ]
  },
  {
   "cell_type": "code",
   "execution_count": null,
   "metadata": {},
   "outputs": [
    {
     "name": "stdout",
     "output_type": "stream",
     "text": [
      "time_taken:  0.09699058532714844\n"
     ]
    }
   ],
   "source": [
    "time_taken = end_time-start_time\n",
    "print(f\"time_taken: \", time_taken)"
   ]
  },
  {
   "cell_type": "markdown",
   "metadata": {},
   "source": [
    "# stats"
   ]
  },
  {
   "cell_type": "markdown",
   "metadata": {},
   "source": [
    "# error lem"
   ]
  },
  {
   "cell_type": "code",
   "execution_count": null,
   "metadata": {},
   "outputs": [],
   "source": []
  },
  {
   "cell_type": "markdown",
   "metadata": {},
   "source": [
    "# html completed"
   ]
  },
  {
   "cell_type": "code",
   "execution_count": null,
   "metadata": {},
   "outputs": [],
   "source": [
    "flPth='data/htmlCompleted.tsv'\n",
    "list_header=[\"position\",\"link_query\"]\n",
    "with open(flPth) as f:\n",
    "    finishedOld = csv.DictReader(f, delimiter='\\t')\n",
    "    finisheds = [finished[list_header[0]] for finished in finishedOld]\n",
    "    # print(finishedOld.fieldnames)\n",
    "    "
   ]
  },
  {
   "cell_type": "markdown",
   "metadata": {},
   "source": [
    "# rename buckwalter to arabic"
   ]
  },
  {
   "cell_type": "code",
   "execution_count": null,
   "metadata": {},
   "outputs": [],
   "source": [
    "flPth='data/html'\n",
    "import os\n",
    "subdirs = ['root','lem','stem']\n",
    "flNms = [flnm for flnm in os.listdir(flPth) if flnm not in subdirs]"
   ]
  },
  {
   "cell_type": "code",
   "execution_count": null,
   "metadata": {},
   "outputs": [
    {
     "data": {
      "text/plain": [
       "1523"
      ]
     },
     "execution_count": 80,
     "metadata": {},
     "output_type": "execute_result"
    }
   ],
   "source": [
    "len(flNms)"
   ]
  },
  {
   "cell_type": "code",
   "execution_count": null,
   "metadata": {},
   "outputs": [],
   "source": [
    "from urllib.parse import quote"
   ]
  },
  {
   "cell_type": "code",
   "execution_count": null,
   "metadata": {},
   "outputs": [
    {
     "data": {
      "text/plain": [
       "True"
      ]
     },
     "execution_count": 136,
     "metadata": {},
     "output_type": "execute_result"
    }
   ],
   "source": [
    "'~' in arbCharD.keys()"
   ]
  },
  {
   "cell_type": "code",
   "execution_count": null,
   "metadata": {},
   "outputs": [],
   "source": [
    "arbCharDLeft = arbCharD.copy()"
   ]
  },
  {
   "cell_type": "code",
   "execution_count": null,
   "metadata": {},
   "outputs": [],
   "source": [
    "uriQuoteDict = {}\n",
    "for bkw in arbCharD.keys():\n",
    "    # print(quote(bkw))\n",
    "    if quote(bkw) == bkw:\n",
    "        arbCharDLeft.pop(bkw)\n",
    "    if quote(bkw) != bkw:\n",
    "        uriQuoteDict[quote(bkw)] = bkw"
   ]
  },
  {
   "cell_type": "code",
   "execution_count": null,
   "metadata": {},
   "outputs": [
    {
     "data": {
      "text/plain": [
       "(True, '~')"
      ]
     },
     "execution_count": 143,
     "metadata": {},
     "output_type": "execute_result"
    }
   ],
   "source": [
    "# quote('%7E') == '%7E'\n",
    "quote('~') == '~', quote('~')"
   ]
  },
  {
   "cell_type": "code",
   "execution_count": null,
   "metadata": {},
   "outputs": [],
   "source": [
    "uriQuoteDict[\"%7E\"] = '~'"
   ]
  },
  {
   "cell_type": "code",
   "execution_count": null,
   "metadata": {},
   "outputs": [
    {
     "data": {
      "text/plain": [
       "(True, True)"
      ]
     },
     "execution_count": 196,
     "metadata": {},
     "output_type": "execute_result"
    }
   ],
   "source": [
    "'%7E'in uriQuoteDict.keys(), '~' in uriQuoteDict.values()"
   ]
  },
  {
   "cell_type": "code",
   "execution_count": null,
   "metadata": {},
   "outputs": [],
   "source": [
    "# uriQuoteDict\n",
    "uriQuoteLs = uriQuoteDict.keys()"
   ]
  },
  {
   "cell_type": "code",
   "execution_count": null,
   "metadata": {},
   "outputs": [
    {
     "name": "stdout",
     "output_type": "stream",
     "text": [
      "{'%27': \"'\", '%3E': '>', '%26': '&', '%3C': '<', '%7D': '}', '%2A': '*', '%24': '$', '%5E': '^', '%23': '#', '%60': '`', '%7B': '{', '%3A': ':', '%40': '@', '%22': '\"', '%5B': '[', '%3B': ';', '%2C': ',', '%21': '!', '%2B': '+', '%25': '%', '%5D': ']'}\n"
     ]
    },
    {
     "data": {
      "text/plain": [
       "(None, 21, 21)"
      ]
     },
     "execution_count": 139,
     "metadata": {},
     "output_type": "execute_result"
    }
   ],
   "source": [
    "print(uriQuoteDict), len(arbCharDLeft), len(uriQuoteDict)"
   ]
  },
  {
   "cell_type": "code",
   "execution_count": null,
   "metadata": {},
   "outputs": [],
   "source": [
    "print(arbCharD)"
   ]
  },
  {
   "cell_type": "code",
   "execution_count": null,
   "metadata": {},
   "outputs": [
    {
     "data": {
      "text/plain": [
       "('$Am', '$Am.html')"
      ]
     },
     "execution_count": 85,
     "metadata": {},
     "output_type": "execute_result"
    }
   ],
   "source": [
    "# flNm = flNms[0]\n",
    "# flNm.replace('.html',''), flNm"
   ]
  },
  {
   "cell_type": "code",
   "execution_count": null,
   "metadata": {},
   "outputs": [],
   "source": [
    "renameLfts = set(flNms)"
   ]
  },
  {
   "cell_type": "code",
   "execution_count": null,
   "metadata": {},
   "outputs": [],
   "source": [
    "for flNm in flNms:\n",
    "    if flNm[0] in arbChars:\n",
    "        arbStr = flNm.replace('.html','')\n",
    "        os.rename(os.path.join(flPth,flNm),os.path.join(\"data/htmlArb\",f\"{arbStr}.html\"))\n",
    "        renameLfts.remove(flNm)\n"
   ]
  },
  {
   "cell_type": "code",
   "execution_count": null,
   "metadata": {},
   "outputs": [
    {
     "name": "stdout",
     "output_type": "stream",
     "text": [
      "bkwStr %3Cil%7EaA\n",
      "bkwStr replace <il~aA\n",
      "arbstr إِلَّا\n",
      "bkwStr %3Eam%7EaA\n",
      "bkwStr replace >am~aA\n",
      "arbstr أَمَّا\n",
      "bkwStr %7Bl%7Ea*iY\n",
      "bkwStr replace {l~a*iY\n",
      "arbstr ٱلَّذِى\n"
     ]
    }
   ],
   "source": [
    "for flNm in flNms:\n",
    "    if flNm[0] not in arbChars:\n",
    "        try:\n",
    "            bkwStr = flNm.replace('.html','')\n",
    "            print(\"bkwStr\",bkwStr)\n",
    "            for uriQuote in uriQuoteLs:\n",
    "                if uriQuote in bkwStr:\n",
    "                    bkwStr = bkwStr.replace(uriQuote, uriQuoteDict[uriQuote])\n",
    "            print(\"bkwStr replace\",bkwStr)\n",
    "            arbStr = ''\n",
    "            for bkwChr in bkwStr:\n",
    "                arbStr += arbCharD[bkwChr]\n",
    "            print(\"arbstr\",arbStr,'\\n')\n",
    "            os.rename(os.path.join(flPth,flNm),os.path.join(\"data/htmlArb\",f\"{arbStr}.html\"))\n",
    "            renameLfts.remove(flNm)\n",
    "        except:\n",
    "            # renameLfts.add(flNm)\n",
    "            pass"
   ]
  },
  {
   "cell_type": "code",
   "execution_count": null,
   "metadata": {},
   "outputs": [
    {
     "data": {
      "text/plain": [
       "4"
      ]
     },
     "execution_count": 108,
     "metadata": {},
     "output_type": "execute_result"
    }
   ],
   "source": [
    "len(renameLfts)"
   ]
  },
  {
   "cell_type": "markdown",
   "metadata": {},
   "source": [
    "# sep files by string type"
   ]
  },
  {
   "cell_type": "code",
   "execution_count": null,
   "metadata": {},
   "outputs": [],
   "source": [
    "flPth='data/html'\n",
    "import os\n",
    "subdirs = ['root','lem','stem']\n",
    "flNms = [flnm for flnm in os.listdir(flPth) if flnm not in subdirs]\n",
    "for flNm in flNms:\n",
    "    stri = flNm.replace('.html','')\n",
    "    strTyp = 'root'\n",
    "    for char in stri:\n",
    "        if char in arbVwlsDict.values():\n",
    "            strTyp = 'lem'\n",
    "            break\n",
    "    os.rename(os.path.join(flPth,flNm),os.path.join(f\"{flPth}/{strTyp}\",f\"{stri}.html\"))"
   ]
  },
  {
   "cell_type": "markdown",
   "metadata": {},
   "source": [
    "# posStr"
   ]
  },
  {
   "cell_type": "code",
   "execution_count": null,
   "metadata": {},
   "outputs": [],
   "source": [
    "flPth='data/htmlCompleted.tsv'\n",
    "list_header=[\"position\",\"link_query\"]\n",
    "with open(flPth) as f:\n",
    "    finishedOld = csv.DictReader(f, delimiter='\\t')\n",
    "    posStriFinishedDict1 = {finished[list_header[0]] : finished[list_header[1]]  for finished in finishedOld}\n",
    "    # print(finishedOld.fieldnames)\n",
    "    "
   ]
  },
  {
   "cell_type": "code",
   "execution_count": null,
   "metadata": {},
   "outputs": [],
   "source": [
    "# posStriFinishedDict = {}\n",
    "# for pos, stri in posStriFinishedDict1.items():\n",
    "#     if pos in posDic:\n",
    "#         if stri[0] not in arbChars:\n",
    "#             try:\n",
    "#                 # bkwStr = flNm.replace('.html','')\n",
    "#                 # print(\"stri\",stri)\n",
    "#                 for uriQuote in uriQuoteLs:\n",
    "#                     if uriQuote in stri:\n",
    "#                         stri = stri.replace(uriQuote, uriQuoteDict[uriQuote])\n",
    "#                 # print(\"bkwStr replace\",bkwStr)\n",
    "#                 arbStr = ''\n",
    "#                 for striChr in stri:\n",
    "#                     arbStr += arbCharD[striChr]\n",
    "#                 # isLem = False\n",
    "#                 # for arbChr in arbStr:\n",
    "#                 #     if arbChr in arbVwlsDict.values():\n",
    "#                 #         isLem = True\n",
    "#                 # strTyp = \"lem\" if isLem else \"root\"\n",
    "#                 posStriFinishedDict[pos] = arbStr\n",
    "#                 # posStriFinishedDict[pos] = [\n",
    "#                 #     {\n",
    "#                 #         \"strTyp\": strTyp,\n",
    "#                 #         \"stri\": arbStr\n",
    "#                 #     }\n",
    "\n",
    "#                 # ]\n",
    "#                 # print(\"arbstr\",arbStr,'\\n')\n",
    "#                 # os.rename(os.path.join(flPth,flNm),os.path.join(\"data/htmlArb\",f\"{arbStr}.html\"))\n",
    "#                 # renameLfts.remove(flNm)\n",
    "#             except:\n",
    "#                 # renameLfts.add(flNm)\n",
    "#                 print(stri)\n",
    "#                 # pass"
   ]
  },
  {
   "cell_type": "code",
   "execution_count": null,
   "metadata": {},
   "outputs": [],
   "source": [
    "# import csv\n",
    "# flPth='data/htmlCompleted.tsv'\n",
    "# list_header=[\"position\",\"link_query\"]\n",
    "# with open(flPth, 'w+') as f:\n",
    "#     writer = csv.DictWriter(f, delimiter='\\t', fieldnames=list_header)\n",
    "#     writer.writeheader()\n",
    "#     # for datum in instLst:\n",
    "#     # for k, datum in instDct.items():\n",
    "#     for k,v in posStriFinishedDict1.items():\n",
    "#         writer.writerow({\n",
    "#             list_header[0] : k,\n",
    "#             list_header[1] : v,\n",
    "#         })\n",
    "    "
   ]
  },
  {
   "cell_type": "code",
   "execution_count": null,
   "metadata": {},
   "outputs": [],
   "source": [
    "flPth='data/htmlCompleted.tsv'\n",
    "list_header=[\"position\",\"link_query\"]\n",
    "with open(flPth) as f:\n",
    "    finishedOld = csv.DictReader(f, delimiter='\\t')\n",
    "    posStriFinishedDict = {finished[list_header[0]] : finished[list_header[1]]  for finished in finishedOld}\n",
    "    # print(finishedOld.fieldnames)\n",
    "    "
   ]
  },
  {
   "cell_type": "code",
   "execution_count": null,
   "metadata": {},
   "outputs": [
    {
     "data": {
      "text/plain": [
       "(68868,)"
      ]
     },
     "execution_count": 604,
     "metadata": {},
     "output_type": "execute_result"
    }
   ],
   "source": [
    "len(posStriFinishedDict), \n",
    "# len(posStriFinishedDict1)"
   ]
  },
  {
   "cell_type": "code",
   "execution_count": null,
   "metadata": {},
   "outputs": [],
   "source": [
    "posFinishedDict = posStriFinishedDict.keys()"
   ]
  },
  {
   "cell_type": "code",
   "execution_count": null,
   "metadata": {},
   "outputs": [
    {
     "data": {
      "text/plain": [
       "68868"
      ]
     },
     "execution_count": 611,
     "metadata": {},
     "output_type": "execute_result"
    }
   ],
   "source": [
    "len(posStriFinishedDict)"
   ]
  },
  {
   "cell_type": "code",
   "execution_count": null,
   "metadata": {},
   "outputs": [
    {
     "data": {
      "text/plain": [
       "'ٱقْرَأْ'"
      ]
     },
     "execution_count": 613,
     "metadata": {},
     "output_type": "execute_result"
    }
   ],
   "source": [
    "posDic[\"96:1:1\"]"
   ]
  },
  {
   "cell_type": "code",
   "execution_count": null,
   "metadata": {},
   "outputs": [],
   "source": [
    "# arbCharD"
   ]
  },
  {
   "cell_type": "code",
   "execution_count": null,
   "metadata": {},
   "outputs": [
    {
     "data": {
      "text/plain": [
       "('96:1:1', 'قرا')"
      ]
     },
     "execution_count": 615,
     "metadata": {},
     "output_type": "execute_result"
    }
   ],
   "source": [
    "list(posStriFinishedDict.items())[0]"
   ]
  },
  {
   "cell_type": "code",
   "execution_count": null,
   "metadata": {},
   "outputs": [],
   "source": []
  },
  {
   "cell_type": "code",
   "execution_count": null,
   "metadata": {},
   "outputs": [
    {
     "data": {
      "text/plain": [
       "(77438, '96:1:1')"
      ]
     },
     "execution_count": 616,
     "metadata": {},
     "output_type": "execute_result"
    }
   ],
   "source": [
    "len(posSer), posSer[0]"
   ]
  },
  {
   "cell_type": "markdown",
   "metadata": {},
   "source": [
    "# posStriFirstDict"
   ]
  },
  {
   "cell_type": "code",
   "execution_count": null,
   "metadata": {},
   "outputs": [],
   "source": [
    "posStrFirstDict = {}\n",
    "strPosDict = {}\n",
    "for pos in posSer:\n",
    "    if pos in posFinishedDict:\n",
    "        stri = posStriFinishedDict[pos]\n",
    "        if stri not in strPosDict:\n",
    "            strPosDict[stri] = pos\n",
    "            posStrFirstDict[pos] = stri"
   ]
  },
  {
   "cell_type": "code",
   "execution_count": null,
   "metadata": {},
   "outputs": [
    {
     "data": {
      "text/plain": [
       "(1766,)"
      ]
     },
     "execution_count": 619,
     "metadata": {},
     "output_type": "execute_result"
    }
   ],
   "source": [
    "len(posStrFirstDict), \n",
    "# posStrFirstDict"
   ]
  },
  {
   "cell_type": "markdown",
   "metadata": {},
   "source": [
    "# surStriFirstDict"
   ]
  },
  {
   "cell_type": "code",
   "execution_count": null,
   "metadata": {},
   "outputs": [],
   "source": [
    "surStriFirstsDict = {}\n",
    "\n",
    "for pos, stri in posStrFirstDict.items():\n",
    "    sur = pos.split(':')[0]\n",
    "    if sur not in surStriFirstsDict:\n",
    "        surStriFirstsDict[sur] = {pos : stri}\n",
    "    else:\n",
    "        surStriFirstsDict[sur][pos] = stri"
   ]
  },
  {
   "cell_type": "code",
   "execution_count": null,
   "metadata": {},
   "outputs": [
    {
     "data": {
      "text/plain": [
       "106"
      ]
     },
     "execution_count": 621,
     "metadata": {},
     "output_type": "execute_result"
    }
   ],
   "source": [
    "len(surStriFirstsDict)"
   ]
  },
  {
   "cell_type": "code",
   "execution_count": null,
   "metadata": {},
   "outputs": [],
   "source": [
    "import json\n",
    "with open('data/surah_strings_firsts.json', 'w+') as f:\n",
    "    f.write(json.dumps(surStriFirstsDIct))"
   ]
  },
  {
   "cell_type": "code",
   "execution_count": null,
   "metadata": {},
   "outputs": [],
   "source": [
    "import json\n",
    "with open('data/surah_strings_firsts.json') as f:\n",
    "    surStriFirstsDIct = json.loads(f.read())"
   ]
  },
  {
   "cell_type": "code",
   "execution_count": null,
   "metadata": {},
   "outputs": [],
   "source": [
    "with open('qdict.json') as f:\n",
    "    qDict = json.loads(f.read())"
   ]
  },
  {
   "cell_type": "code",
   "execution_count": null,
   "metadata": {},
   "outputs": [
    {
     "data": {
      "text/plain": [
       "(114, 105)"
      ]
     },
     "execution_count": 380,
     "metadata": {},
     "output_type": "execute_result"
    }
   ],
   "source": [
    "len(qDict), len(surStriFirstsDIct)"
   ]
  },
  {
   "cell_type": "code",
   "execution_count": null,
   "metadata": {},
   "outputs": [
    {
     "data": {
      "text/plain": [
       "['48', '57', '62', '65', '82', '98', '99', '109', '110']"
      ]
     },
     "execution_count": 381,
     "metadata": {},
     "output_type": "execute_result"
    }
   ],
   "source": [
    "[sur for sur in qDict.keys() if sur not in surStriFirstsDIct.keys()]"
   ]
  },
  {
   "cell_type": "code",
   "execution_count": null,
   "metadata": {},
   "outputs": [],
   "source": [
    "for sur in surStriFirstsDIct:\n",
    "    print(sur)\n",
    "    print(surStriFirstsDIct[sur])\n",
    "    print('\\n')"
   ]
  },
  {
   "cell_type": "code",
   "execution_count": null,
   "metadata": {},
   "outputs": [],
   "source": [
    "import pandas as pd\n",
    "pd.set_option('display.max_rows', None)\n",
    "df = pd.DataFrame([[k,v,len(v)] for k,v in surStriFirstsDIct.items()],columns=[\"surah\",\"positions_new_strings\",\"new_string_count\"])"
   ]
  },
  {
   "cell_type": "markdown",
   "metadata": {},
   "source": [
    "# errors"
   ]
  },
  {
   "cell_type": "code",
   "execution_count": 140,
   "metadata": {},
   "outputs": [],
   "source": [
    "import json\n",
    "flPth='posDict.json'\n",
    "with open(flPth) as f:\n",
    "    posDict = json.loads(f.read())\n",
    "    "
   ]
  },
  {
   "cell_type": "code",
   "execution_count": null,
   "metadata": {},
   "outputs": [
    {
     "data": {
      "text/plain": [
       "(77438, dict)"
      ]
     },
     "execution_count": 123,
     "metadata": {},
     "output_type": "execute_result"
    }
   ],
   "source": [
    "# len(posDict), type(posDict)"
   ]
  },
  {
   "cell_type": "code",
   "execution_count": null,
   "metadata": {},
   "outputs": [],
   "source": [
    "# flPth='data/htmlCompleted.tsv'\n",
    "# list_header=[\"position\",\"link_query\"]\n",
    "# with open(flPth) as f:\n",
    "#     finishedOld = csv.DictReader(f, delimiter='\\t')\n",
    "#     posStriFinishedDict1 = {finished[list_header[0]] : finished[list_header[1]]  for finished in finishedOld}\n",
    "#     # print(finishedOld.fieldnames)\n",
    "    "
   ]
  },
  {
   "cell_type": "code",
   "execution_count": null,
   "metadata": {},
   "outputs": [
    {
     "data": {
      "text/plain": [
       "('96:1:1', 'ٱقْرَأْ')"
      ]
     },
     "execution_count": 125,
     "metadata": {},
     "output_type": "execute_result"
    }
   ],
   "source": [
    "# list(posDict.items())[0]"
   ]
  },
  {
   "cell_type": "code",
   "execution_count": null,
   "metadata": {},
   "outputs": [],
   "source": [
    "# errors = []\n",
    "# errStrings = {}\n",
    "# for pos, stri in posDict.items():\n",
    "#     if pos not in posStriFinishedDict1:\n",
    "#         errStrings[pos] = stri\n",
    "#         errors.append(pos)"
   ]
  },
  {
   "cell_type": "code",
   "execution_count": null,
   "metadata": {},
   "outputs": [
    {
     "data": {
      "text/plain": [
       "(8570, 68868, 77438)"
      ]
     },
     "execution_count": 127,
     "metadata": {},
     "output_type": "execute_result"
    }
   ],
   "source": [
    "# len(errStrings), len(posStriFinishedDict1), len(posDict),"
   ]
  },
  {
   "cell_type": "code",
   "execution_count": null,
   "metadata": {},
   "outputs": [],
   "source": [
    "# import csv\n",
    "# flPth='data/htmlError.tsv'\n",
    "# list_header=[\"position\",\"link_query\"]\n",
    "# with open(flPth) as f:\n",
    "#     errorsOld = csv.DictReader(f, delimiter='\\t')\n",
    "#     errors = [error[list_header[0]] for error in errorsOld]\n",
    "#     # print(finishedOld.fieldnames)\n",
    "    "
   ]
  },
  {
   "cell_type": "code",
   "execution_count": null,
   "metadata": {},
   "outputs": [],
   "source": [
    "# errStrings = []\n",
    "# for err in errors:\n",
    "#     errStrings.append(posDict[err])"
   ]
  },
  {
   "cell_type": "code",
   "execution_count": null,
   "metadata": {},
   "outputs": [
    {
     "data": {
      "text/plain": [
       "23507"
      ]
     },
     "metadata": {},
     "output_type": "display_data"
    }
   ],
   "source": [
    "# len(errStrings)"
   ]
  },
  {
   "cell_type": "code",
   "execution_count": null,
   "metadata": {},
   "outputs": [],
   "source": [
    "# # errStrUniq = set(errStrings)\n",
    "# errStrUniq = set(errStrings.values())"
   ]
  },
  {
   "cell_type": "code",
   "execution_count": null,
   "metadata": {},
   "outputs": [
    {
     "data": {
      "text/plain": [
       "519"
      ]
     },
     "execution_count": 129,
     "metadata": {},
     "output_type": "execute_result"
    }
   ],
   "source": [
    "# len(errStrUniq)"
   ]
  },
  {
   "cell_type": "code",
   "execution_count": null,
   "metadata": {},
   "outputs": [
    {
     "data": {
      "text/plain": [
       "('96:15:2', 'بِسْمِ')"
      ]
     },
     "execution_count": 100,
     "metadata": {},
     "output_type": "execute_result"
    }
   ],
   "source": [
    "# errors[0],posDict[\"1:1:1\"]"
   ]
  },
  {
   "cell_type": "code",
   "execution_count": 74,
   "metadata": {},
   "outputs": [
    {
     "data": {
      "text/plain": [
       "False"
      ]
     },
     "execution_count": 74,
     "metadata": {},
     "output_type": "execute_result"
    }
   ],
   "source": [
    "\"مُحَمَّد\" in \"مُّحَمَّدٌ\""
   ]
  },
  {
   "cell_type": "code",
   "execution_count": 75,
   "metadata": {},
   "outputs": [
    {
     "data": {
      "text/plain": [
       "True"
      ]
     },
     "execution_count": 75,
     "metadata": {},
     "output_type": "execute_result"
    }
   ],
   "source": [
    "\"47:2:9\" in errors"
   ]
  },
  {
   "cell_type": "code",
   "execution_count": null,
   "metadata": {},
   "outputs": [],
   "source": [
    "# errDict = {}\n",
    "# for errPos in errors:\n",
    "#     if posDict[errPos] not in errDict.keys():\n",
    "#         errDict[posDict[errPos]] = [errPos]\n",
    "#     else:\n",
    "#         errDict[posDict[errPos]].append(errPos)"
   ]
  },
  {
   "cell_type": "code",
   "execution_count": null,
   "metadata": {},
   "outputs": [],
   "source": [
    "# errDict"
   ]
  },
  {
   "cell_type": "code",
   "execution_count": null,
   "metadata": {},
   "outputs": [],
   "source": [
    "# import pandas as pd\n",
    "# pd.set_option('display.max_rows', None)\n",
    "# df = pd.DataFrame([[k,v,len(v)] for k,v in errDict.items()],columns=[\"string\",\"positions\",\"frequency\"])"
   ]
  },
  {
   "cell_type": "code",
   "execution_count": null,
   "metadata": {},
   "outputs": [],
   "source": [
    "# df2 = df[:2]"
   ]
  },
  {
   "cell_type": "code",
   "execution_count": null,
   "metadata": {},
   "outputs": [
    {
     "data": {
      "text/html": [
       "<div>\n",
       "<style scoped>\n",
       "    .dataframe tbody tr th:only-of-type {\n",
       "        vertical-align: middle;\n",
       "    }\n",
       "\n",
       "    .dataframe tbody tr th {\n",
       "        vertical-align: top;\n",
       "    }\n",
       "\n",
       "    .dataframe thead th {\n",
       "        text-align: right;\n",
       "    }\n",
       "</style>\n",
       "<table border=\"1\" class=\"dataframe\">\n",
       "  <thead>\n",
       "    <tr style=\"text-align: right;\">\n",
       "      <th></th>\n",
       "      <th>string</th>\n",
       "      <th>positions</th>\n",
       "    </tr>\n",
       "  </thead>\n",
       "  <tbody>\n",
       "    <tr>\n",
       "      <th>0</th>\n",
       "      <td>بِسْمِ</td>\n",
       "      <td>[1:1:1]</td>\n",
       "    </tr>\n",
       "    <tr>\n",
       "      <th>1</th>\n",
       "      <td>مِنْ</td>\n",
       "      <td>[96:2:3, 53:18:3, 53:28:4, 80:18:1, 80:34:4, 3...</td>\n",
       "    </tr>\n",
       "  </tbody>\n",
       "</table>\n",
       "</div>"
      ],
      "text/plain": [
       "   string                                          positions\n",
       "0  بِسْمِ                                            [1:1:1]\n",
       "1    مِنْ  [96:2:3, 53:18:3, 53:28:4, 80:18:1, 80:34:4, 3..."
      ]
     },
     "metadata": {},
     "output_type": "display_data"
    }
   ],
   "source": [
    "# df2"
   ]
  },
  {
   "cell_type": "code",
   "execution_count": null,
   "metadata": {},
   "outputs": [
    {
     "data": {
      "text/plain": [
       "list"
      ]
     },
     "metadata": {},
     "output_type": "display_data"
    }
   ],
   "source": [
    "type(df.positions[0])"
   ]
  },
  {
   "cell_type": "code",
   "execution_count": null,
   "metadata": {},
   "outputs": [
    {
     "data": {
      "text/plain": [
       "''"
      ]
     },
     "metadata": {},
     "output_type": "display_data"
    }
   ],
   "source": [
    "# posDict[\"68:39:9\"]"
   ]
  },
  {
   "cell_type": "code",
   "execution_count": null,
   "metadata": {},
   "outputs": [],
   "source": [
    "# df.sort_values(\n",
    "#     by=\"positions\", \n",
    "#     key= lambda x : x.apply(len),\n",
    "#     ascending=False\n",
    "# )"
   ]
  },
  {
   "cell_type": "code",
   "execution_count": 150,
   "metadata": {},
   "outputs": [],
   "source": [
    "import json\n",
    "flPth='data/lemmata.json'\n",
    "with open(flPth) as f:\n",
    "    lemmataRows = json.loads(f.read())\n",
    "lemmata = [(lemmaBkw[0], lemmaBkw[1]) for lemmaBkw in lemmataRows]"
   ]
  },
  {
   "cell_type": "code",
   "execution_count": null,
   "metadata": {},
   "outputs": [
    {
     "data": {
      "text/plain": [
       "(3680, 519)"
      ]
     },
     "execution_count": 132,
     "metadata": {},
     "output_type": "execute_result"
    }
   ],
   "source": [
    "# len(lemmata), len(errStrUniq)"
   ]
  },
  {
   "cell_type": "code",
   "execution_count": null,
   "metadata": {},
   "outputs": [
    {
     "data": {
      "text/plain": [
       "(('مِن', 'min'), False, False, False, False)"
      ]
     },
     "execution_count": 554,
     "metadata": {},
     "output_type": "execute_result"
    }
   ],
   "source": [
    "# lemmata[0], 'فِى' in lemmata, 'جِبْرِيل' in lemmata, 'جِبْرِيل' in errStrUniq, 'جِبْرِيل' in posStriFinishedDict.values()"
   ]
  },
  {
   "cell_type": "code",
   "execution_count": null,
   "metadata": {},
   "outputs": [
    {
     "name": "stdout",
     "output_type": "stream",
     "text": [
      "طه\n",
      "ۜ\n"
     ]
    }
   ],
   "source": [
    "# for stri in errStrUniq:\n",
    "#     strTyp = 'root'\n",
    "#     for char in stri:\n",
    "#         if char in arbVwlsDict.values():\n",
    "#             strTyp = 'lem'\n",
    "#             break\n",
    "#     if strTyp == 'root':\n",
    "#         print(stri)"
   ]
  },
  {
   "cell_type": "code",
   "execution_count": null,
   "metadata": {},
   "outputs": [
    {
     "data": {
      "text/plain": [
       "'%D9%85%D9%8F%D9%88%D8%B3%D9%8E%D9%89%D9%B0'"
      ]
     },
     "execution_count": 533,
     "metadata": {},
     "output_type": "execute_result"
    }
   ],
   "source": [
    "# lem = 'مُوسَىٰ'\n",
    "# lemQuote = quote(lem)\n",
    "# lemQuote"
   ]
  },
  {
   "cell_type": "code",
   "execution_count": null,
   "metadata": {},
   "outputs": [
    {
     "data": {
      "text/plain": [
       "'muwsaY%60'"
      ]
     },
     "execution_count": 535,
     "metadata": {},
     "output_type": "execute_result"
    }
   ],
   "source": [
    "# lem = 'muwsaY`'\n",
    "# lemQuote = quote(lem)\n",
    "# lemQuote"
   ]
  },
  {
   "cell_type": "code",
   "execution_count": null,
   "metadata": {},
   "outputs": [
    {
     "data": {
      "text/plain": [
       "True"
      ]
     },
     "execution_count": 54,
     "metadata": {},
     "output_type": "execute_result"
    }
   ],
   "source": [
    "# import re\n",
    "# str1 = \"مُّحَمَّدٌ\"\n",
    "# str2 = \"مُحَمَّد\"\n",
    "# str1 == str2\n",
    "\n",
    "# str1Srp = re.sub(\n",
    "#     f'[{\"\".join(arbVwlsDict.values())}]',\n",
    "#     '',\n",
    "#     str1\n",
    "# )\n",
    "\n",
    "# str2Srp = re.sub(\n",
    "#     f'[{\"\".join(arbVwlsDict.values())}]',\n",
    "#     '',\n",
    "#     str1\n",
    "# )\n",
    "\n",
    "# str1Srp == str2Srp"
   ]
  },
  {
   "cell_type": "code",
   "execution_count": null,
   "metadata": {},
   "outputs": [],
   "source": [
    "# flPth='data/htmlCompleted.tsv'\n",
    "# list_header=[\"position\",\"link_query\"]\n",
    "# with open(flPth) as f:\n",
    "#     finishedOld = csv.DictReader(f, delimiter='\\t')\n",
    "#     posStriFinishedDict = {finished[list_header[0]] : finished[list_header[1]]  for finished in finishedOld}\n",
    "#     # print(finishedOld.fieldnames)"
   ]
  },
  {
   "cell_type": "code",
   "execution_count": null,
   "metadata": {},
   "outputs": [],
   "source": [
    "# import json\n",
    "# with open(\"data/striPosD.json\") as f:\n",
    "#     striPosD = json.loads(f.read())"
   ]
  },
  {
   "cell_type": "code",
   "execution_count": null,
   "metadata": {},
   "outputs": [
    {
     "data": {
      "text/plain": [
       "1766"
      ]
     },
     "execution_count": 135,
     "metadata": {},
     "output_type": "execute_result"
    }
   ],
   "source": [
    "# len(striPosD)"
   ]
  },
  {
   "cell_type": "code",
   "execution_count": null,
   "metadata": {},
   "outputs": [],
   "source": [
    "# stri_completed = list(striPosD.keys())\n",
    "# # flPth='data/html/lem'\n",
    "# # import os\n",
    "# # subdirs = ['root','lem','stem']\n",
    "# # stri_completed = [flnm.replace('.html','') for flnm in os.listdir(flPth) if flnm not in subdirs ]"
   ]
  },
  {
   "cell_type": "code",
   "execution_count": null,
   "metadata": {},
   "outputs": [
    {
     "data": {
      "text/plain": [
       "1766"
      ]
     },
     "execution_count": 141,
     "metadata": {},
     "output_type": "execute_result"
    }
   ],
   "source": [
    "# len(stri_completed)"
   ]
  },
  {
   "cell_type": "code",
   "execution_count": null,
   "metadata": {},
   "outputs": [],
   "source": [
    "import csv\n",
    "import json\n",
    "flPth='data/posStrAdvD.tsv'\n",
    "list_header=[\"position\",\"strings_dictionary\"]\n",
    "with open(flPth) as f:\n",
    "    posStrAdvDictRws = csv.DictReader(f, delimiter='\\t')\n",
    "    posStrAdvDict = {posStrAdv[list_header[0]] : json.loads(posStrAdv[list_header[1]])  for posStrAdv in posStrAdvDictRws}"
   ]
  },
  {
   "cell_type": "code",
   "execution_count": 138,
   "metadata": {},
   "outputs": [],
   "source": [
    "posStrAdvDictIncomp = {\n",
    "    pos: strD\n",
    "    for pos, strD in posStrAdvDict.items()\n",
    "    if len(strD) == 0\n",
    "}"
   ]
  },
  {
   "cell_type": "code",
   "execution_count": 139,
   "metadata": {},
   "outputs": [
    {
     "data": {
      "text/plain": [
       "22396"
      ]
     },
     "execution_count": 139,
     "metadata": {},
     "output_type": "execute_result"
    }
   ],
   "source": [
    "len(posStrAdvDictIncomp)"
   ]
  },
  {
   "cell_type": "code",
   "execution_count": 143,
   "metadata": {},
   "outputs": [],
   "source": [
    "strIncLs = list(set([posDict[pos] for pos in posStrAdvDictIncomp.keys()]))"
   ]
  },
  {
   "cell_type": "code",
   "execution_count": 144,
   "metadata": {},
   "outputs": [
    {
     "data": {
      "text/plain": [
       "1493"
      ]
     },
     "execution_count": 144,
     "metadata": {},
     "output_type": "execute_result"
    }
   ],
   "source": [
    "len(strIncLs)"
   ]
  },
  {
   "cell_type": "code",
   "execution_count": null,
   "metadata": {},
   "outputs": [],
   "source": [
    "missingStriComp = []"
   ]
  },
  {
   "cell_type": "code",
   "execution_count": null,
   "metadata": {},
   "outputs": [],
   "source": [
    "\n",
    "from qChronolyze import arbVwlsDict\n",
    "from urllib.parse import quote\n",
    "# errStrings2 = errStrings.copy()\n",
    "for pos, striD in posStrAdvDictIncomp.items():\n",
    "# for striD in strIncLs.items():\n",
    "    if pos not in missingStriComp:\n",
    "    # if pos not in posStriFinishedDict:\n",
    "        lem = ''\n",
    "        bkw = ''\n",
    "        striStrp = re.sub(\n",
    "            f'[{\"\".join(arbVwlsDict.values())}]',\n",
    "            '',\n",
    "            stri\n",
    "        )\n",
    "        for lemmaBkw in lemmata:\n",
    "            lemma = lemmaBkw[0]\n",
    "            lemStrp = re.sub(\n",
    "                f'[{\"\".join(arbVwlsDict.values())}]',\n",
    "                '',\n",
    "                lemma\n",
    "            )\n",
    "            # if stri == lemma:\n",
    "            #     bkw = lemmaBkw[1]\n",
    "            #     lem = lemma\n",
    "            #     break\n",
    "            # else:\n",
    "            #     if lemma in stri and len(lemma)> len(lem):\n",
    "            #         bkw = lemmaBkw[1]\n",
    "            #         lem = lemma\n",
    "            if striStrp == lemStrp:\n",
    "                bkw = lemmaBkw[1]\n",
    "                lem = lemma\n",
    "                break\n",
    "            else:\n",
    "                if lemStrp in striStrp and len(lemStrp)> len(lem):\n",
    "                    bkw = lemmaBkw[1]\n",
    "                    lem = lemma\n",
    "        if lem != '':\n",
    "            if lem not in stri_completed:\n",
    "                bkwQuote = quote(bkw)\n",
    "                posGet(pos,lnkQry=lem,strlnks=[\n",
    "                    f\"https://corpus.quran.com/search.jsp?q=lem:{bkwQuote}\",\n",
    "                    f\"https://corpus.quran.com/qurandictionary.jsp?q={bkwQuote}\",\n",
    "                ])\n",
    "            # posStriFinishedDict[pos] = \n",
    "            missingStriComp.append(lem)\n",
    "            # del errStrings[pos]\n",
    "            # stri_completed.append(stri)"
   ]
  },
  {
   "cell_type": "code",
   "execution_count": null,
   "metadata": {},
   "outputs": [],
   "source": [
    "posStrAdvDict = {\n",
    "    **posStrAdvDict,\n",
    "    **posStrAdvDictIncomp,\n",
    "}"
   ]
  },
  {
   "cell_type": "code",
   "execution_count": null,
   "metadata": {},
   "outputs": [
    {
     "data": {
      "text/plain": [
       "(69023, 77438, 8415)"
      ]
     },
     "execution_count": 559,
     "metadata": {},
     "output_type": "execute_result"
    }
   ],
   "source": [
    "# len(posStriFinishedDict), len(posDic), len(errStrings),"
   ]
  },
  {
   "cell_type": "code",
   "execution_count": null,
   "metadata": {},
   "outputs": [
    {
     "data": {
      "text/plain": [
       "'96:1:1'"
      ]
     },
     "execution_count": 357,
     "metadata": {},
     "output_type": "execute_result"
    }
   ],
   "source": [
    "# list(posDic.keys())[0]"
   ]
  },
  {
   "cell_type": "code",
   "execution_count": null,
   "metadata": {},
   "outputs": [
    {
     "data": {
      "text/plain": [
       "(77438, 73596)"
      ]
     },
     "execution_count": 358,
     "metadata": {},
     "output_type": "execute_result"
    }
   ],
   "source": [
    "# len(posDic), len(posStriFinishedDict)"
   ]
  },
  {
   "cell_type": "code",
   "execution_count": null,
   "metadata": {},
   "outputs": [
    {
     "data": {
      "text/plain": [
       "('يَسْطُرُونَ', [{'strTyp': 'root', 'stri': 'سمو'}])"
      ]
     },
     "execution_count": 364,
     "metadata": {},
     "output_type": "execute_result"
    }
   ],
   "source": [
    "# posDic[\"68:1:4\"], posStriFinishedDict[\"68:1:5\"]"
   ]
  },
  {
   "cell_type": "code",
   "execution_count": null,
   "metadata": {},
   "outputs": [],
   "source": [
    "# for k in posStriFinishedDict.keys():\n",
    "#     if k not in posDic.keys():\n",
    "#         print(k)"
   ]
  },
  {
   "cell_type": "code",
   "execution_count": null,
   "metadata": {},
   "outputs": [],
   "source": [
    "# import csv\n",
    "# flPth='data/htmlCompleted.tsv'\n",
    "# list_header=[\"position\",\"link_query\"]\n",
    "# with open(flPth, 'w+') as f:\n",
    "#     writer = csv.DictWriter(f, delimiter='\\t', fieldnames=list_header)\n",
    "#     writer.writeheader()\n",
    "#     # for datum in instLst:\n",
    "#     # for k, datum in instDct.items():\n",
    "#     for k,v in posStriFinishedDict.items():\n",
    "#         writer.writerow({\n",
    "#             list_header[0] : k,\n",
    "#             list_header[1] : v,\n",
    "#         })\n",
    "    "
   ]
  },
  {
   "cell_type": "markdown",
   "metadata": {},
   "source": [
    "# check new pos_strings"
   ]
  },
  {
   "cell_type": "code",
   "execution_count": null,
   "metadata": {},
   "outputs": [],
   "source": [
    "# import csv\n",
    "# flPth='data/htmlCompleted_Check.tsv'\n",
    "# list_header=[\"position\",\"link_query\"]\n",
    "# with open(flPth) as f:\n",
    "#     finishedOld = csv.DictReader(f, delimiter='\\t')\n",
    "#     posStriFinishedDict = {finished[list_header[0]] : finished[list_header[1]]  for finished in finishedOld}\n",
    "#     # print(finishedOld.fieldnames)\n",
    "    "
   ]
  },
  {
   "cell_type": "code",
   "execution_count": null,
   "metadata": {},
   "outputs": [],
   "source": [
    "# striPosCheckD = {}\n",
    "# for pos, stri in posStriFinishedDict.items():\n",
    "#     if stri not in striPosCheckD:\n",
    "#         striPosCheckD[stri] = [pos]\n",
    "#     else:\n",
    "#         striPosCheckD[stri].append(pos)"
   ]
  },
  {
   "cell_type": "code",
   "execution_count": 175,
   "metadata": {},
   "outputs": [],
   "source": [
    "import json\n",
    "flPth='posDict.json'\n",
    "with open(flPth) as f:\n",
    "    posDict = json.loads(f.read())"
   ]
  },
  {
   "cell_type": "code",
   "execution_count": 84,
   "metadata": {},
   "outputs": [
    {
     "data": {
      "text/plain": [
       "77430"
      ]
     },
     "execution_count": 84,
     "metadata": {},
     "output_type": "execute_result"
    }
   ],
   "source": [
    "len(posDict)"
   ]
  },
  {
   "cell_type": "code",
   "execution_count": null,
   "metadata": {},
   "outputs": [],
   "source": [
    "# striPosCheckSortedD = {\n",
    "#     stri : {\n",
    "#         pos: posDict[pos]\n",
    "#         for pos in\n",
    "#         posD\n",
    "#     }\n",
    "#     for stri, posD in\n",
    "#     sorted(striPosCheckD.items(), key=lambda item: len(item[1]), reverse=False)\n",
    "# }"
   ]
  },
  {
   "cell_type": "code",
   "execution_count": null,
   "metadata": {},
   "outputs": [],
   "source": [
    "# striPosCheckSortedD"
   ]
  },
  {
   "cell_type": "code",
   "execution_count": null,
   "metadata": {},
   "outputs": [],
   "source": [
    "# isWrong=input(\"is it seen\")"
   ]
  },
  {
   "cell_type": "code",
   "execution_count": null,
   "metadata": {},
   "outputs": [
    {
     "name": "stdout",
     "output_type": "stream",
     "text": [
      "1 2 3\n"
     ]
    }
   ],
   "source": [
    "# for a,b,c in [[1,2,3]]:\n",
    "#     print(a,b,c)"
   ]
  },
  {
   "cell_type": "code",
   "execution_count": 219,
   "metadata": {},
   "outputs": [],
   "source": [
    "import csv\n",
    "import json\n",
    "flPth='data/posStrAdvWrdD.tsv'\n",
    "list_header=[\"position\",\"word\",\"strings_dictionary\"]\n",
    "with open(flPth) as f:\n",
    "    posStrAdvWrdDictRws = list(csv.DictReader(f, delimiter='\\t'))\n",
    "posStrAdvWrdRws = [ \n",
    "    # posStrAdv[list_header[0]] : json.loads(posStrAdv[list_header[1]])  \n",
    "    [pos, wrd, json.loads(strD),]\n",
    "    # [ rw[0], rw[1], json.loads(rw[2]) ]\n",
    "    for posStrAdvWrd in posStrAdvWrdDictRws\n",
    "    for pos, wrd, strD in [posStrAdvWrd.values()]\n",
    "    # if (pos, wrd, strD := posStrAdvWrd.values())\n",
    "    # if (rw := posStrAdvWrd.values())\n",
    "]"
   ]
  },
  {
   "cell_type": "code",
   "execution_count": 136,
   "metadata": {},
   "outputs": [
    {
     "data": {
      "text/plain": [
       "{'position': '96:1:1',\n",
       " 'word': 'ٱقْرَأْ',\n",
       " 'strings_dictionary': '[{\"stri\": \"\\\\u0642\\\\u0631\\\\u0627\", \"strTyp\": \"root\", \"poSp\": \"V\", \"frm\": \"i\"}]'}"
      ]
     },
     "execution_count": 136,
     "metadata": {},
     "output_type": "execute_result"
    }
   ],
   "source": [
    "posStrAdvWrdDictRws[0]"
   ]
  },
  {
   "cell_type": "code",
   "execution_count": null,
   "metadata": {},
   "outputs": [],
   "source": [
    "# for rw in posStrAdvWrdDictRws:\n",
    "#     if \"word\" not in rw or \"strings_dictionary\" not in rw or \"position\" not in rw:\n",
    "#         print(rw)\n",
    "#     elif rw[\"word\"] == None or rw[\"strings_dictionary\"] == None or rw[\"position\"] == None:\n",
    "#         print(rw)\n",
    "    "
   ]
  },
  {
   "cell_type": "code",
   "execution_count": 56,
   "metadata": {},
   "outputs": [
    {
     "data": {
      "text/plain": [
       "['96:1:1',\n",
       " 'ٱقْرَأْ',\n",
       " [{'stri': 'قرا', 'strTyp': 'root', 'poSp': 'V', 'frm': 'i'}]]"
      ]
     },
     "execution_count": 56,
     "metadata": {},
     "output_type": "execute_result"
    }
   ],
   "source": [
    "posStrAdvWrdRws[0]"
   ]
  },
  {
   "cell_type": "code",
   "execution_count": 220,
   "metadata": {},
   "outputs": [],
   "source": [
    "# posStrAdvDictInComp = {\n",
    "#     pos: strD\n",
    "#     for pos, strD in posStrAdvDict.items()\n",
    "#     if len(strD) == 0\n",
    "# }\n",
    "posStrAdvWrdRwsIncomp = [\n",
    "    posStrAdvWrd\n",
    "    for posStrAdvWrd in posStrAdvWrdRws\n",
    "    if len(posStrAdvWrd[2]) == 0\n",
    "]"
   ]
  },
  {
   "cell_type": "code",
   "execution_count": 221,
   "metadata": {},
   "outputs": [
    {
     "data": {
      "text/plain": [
       "687"
      ]
     },
     "execution_count": 221,
     "metadata": {},
     "output_type": "execute_result"
    }
   ],
   "source": [
    "# len(posStrAdvDictInComp)\n",
    "len(posStrAdvWrdRwsIncomp)"
   ]
  },
  {
   "cell_type": "code",
   "execution_count": 222,
   "metadata": {},
   "outputs": [],
   "source": [
    "import json\n",
    "flPth='data/lemmata.json'\n",
    "with open(flPth) as f:\n",
    "    lemmataRows = json.loads(f.read())\n",
    "lemmata = [(lemmaBkw[0], lemmaBkw[1]) for lemmaBkw in lemmataRows]\n",
    "# lemmataD = [{lemmaBkw[0]: lemmaBkw[1]} for lemmaBkw in lemmataRows]"
   ]
  },
  {
   "cell_type": "code",
   "execution_count": 223,
   "metadata": {},
   "outputs": [],
   "source": [
    "poSpCountD = {}\n",
    "for lemma in lemmataRows:\n",
    "    poSp = lemma[3]\n",
    "    if poSp not in poSpCountD:\n",
    "        poSpCountD[poSp] = 1\n",
    "    else:\n",
    "        poSpCountD[poSp] += 1"
   ]
  },
  {
   "cell_type": "code",
   "execution_count": 224,
   "metadata": {},
   "outputs": [],
   "source": [
    "poSpAllowed = [ poSp for poSp in poSpCountD.keys() if poSpCountD[poSp] < 100 ]"
   ]
  },
  {
   "cell_type": "code",
   "execution_count": 87,
   "metadata": {},
   "outputs": [
    {
     "data": {
      "text/plain": [
       "['Preposition',\n",
       " 'Accusative particle',\n",
       " 'Relative pronoun',\n",
       " 'Negative particle',\n",
       " 'Conditional particle',\n",
       " 'Subordinating conjunction',\n",
       " 'Restriction particle',\n",
       " 'Demonstrative pronoun',\n",
       " 'Particle of certainty',\n",
       " 'Coordinating conjunction',\n",
       " 'Prohibition particle',\n",
       " 'Location adverb',\n",
       " 'Retraction particle',\n",
       " 'Exceptive particle',\n",
       " 'Interogative particle',\n",
       " 'Amendment particle',\n",
       " 'Particle of interpretation',\n",
       " 'Inceptive particle',\n",
       " 'Explanation particle',\n",
       " 'Future particle',\n",
       " 'Exhortation particle',\n",
       " 'Aversion particle',\n",
       " 'Personal pronoun',\n",
       " 'Answer particle',\n",
       " 'Surprise particle',\n",
       " 'Supplemental particle',\n",
       " 'Imperative verbal noun']"
      ]
     },
     "execution_count": 87,
     "metadata": {},
     "output_type": "execute_result"
    }
   ],
   "source": [
    "poSpAllowed"
   ]
  },
  {
   "cell_type": "code",
   "execution_count": 225,
   "metadata": {},
   "outputs": [],
   "source": [
    "lemmataAllowed = [lemma for lemma in lemmataRows if lemma[3] in poSpAllowed ]\n",
    "# lemmataAllowed = lemmataRows"
   ]
  },
  {
   "cell_type": "code",
   "execution_count": 226,
   "metadata": {},
   "outputs": [
    {
     "data": {
      "text/plain": [
       "167"
      ]
     },
     "execution_count": 226,
     "metadata": {},
     "output_type": "execute_result"
    }
   ],
   "source": [
    "len(lemmataAllowed)"
   ]
  },
  {
   "cell_type": "code",
   "execution_count": null,
   "metadata": {},
   "outputs": [
    {
     "name": "stdout",
     "output_type": "stream",
     "text": [
      "['banana', 'cherry', 'apple', 'grape']\n"
     ]
    }
   ],
   "source": [
    "# # creating a list\n",
    "# fruit = [\"banana\",\"cherry\",\"grape\"]\n",
    "# fruit.insert(-1,\"apple\")\n",
    "# print(fruit)"
   ]
  },
  {
   "cell_type": "code",
   "execution_count": 227,
   "metadata": {},
   "outputs": [],
   "source": [
    "from qChronolyze import arPoSpD\n",
    "from qChronolyze import arbVwlsDict"
   ]
  },
  {
   "cell_type": "code",
   "execution_count": null,
   "metadata": {},
   "outputs": [
    {
     "data": {
      "text/plain": [
       "[{'a': 'abd', 'b': 'a'}, {'a': 'abc', 'b': 'defg'}]"
      ]
     },
     "execution_count": 115,
     "metadata": {},
     "output_type": "execute_result"
    }
   ],
   "source": [
    "# dictiLs = [\n",
    "#     {\"a\": \"abc\", \"b\": \"defg\"},\n",
    "#     {\"a\": \"abd\", \"b\": \"a\"},\n",
    "# ]\n",
    "\n",
    "# dictiLsSorted = sorted(dictiLs, key=lambda dicti: len(dicti[\"b\"]), reverse=False)\n",
    "# dictiLsSorted"
   ]
  },
  {
   "cell_type": "code",
   "execution_count": null,
   "metadata": {},
   "outputs": [],
   "source": [
    "# flPth='data/stems.tsv'\n",
    "# list_header=[\"Stem\",\"Buckwalter\", \"Part-of-speech\"]\n",
    "# with open(flPth) as f:\n",
    "#     stemDLs = list(csv.DictReader(f, delimiter='\\t'))\n",
    "    # finisheds = [finished[list_header[0]] for finished in finishedOld]\n",
    "    # print(finishedOld.fieldnames)"
   ]
  },
  {
   "cell_type": "code",
   "execution_count": 105,
   "metadata": {},
   "outputs": [
    {
     "data": {
      "text/plain": [
       "[{'Stem': 'أَنتَ', 'Buckwalter': '>anta', 'Part-of-speech': 'PRON'},\n",
       " {'Stem': 'أَنتُمْ', 'Buckwalter': '>antumo', 'Part-of-speech': 'PRON'},\n",
       " {'Stem': 'كَ', 'Buckwalter': 'ka', 'Part-of-speech': 'PRON'},\n",
       " {'Stem': 'كُمْ', 'Buckwalter': 'kumo', 'Part-of-speech': 'PRON'},\n",
       " {'Stem': 'هُوَ', 'Buckwalter': 'huwa', 'Part-of-speech': 'PRON'},\n",
       " {'Stem': 'هُ', 'Buckwalter': 'hu', 'Part-of-speech': 'PRON'},\n",
       " {'Stem': 'هِىَ', 'Buckwalter': 'hiYa', 'Part-of-speech': 'PRON'},\n",
       " {'Stem': 'هَا', 'Buckwalter': 'haA', 'Part-of-speech': 'PRON'},\n",
       " {'Stem': 'هُمْ', 'Buckwalter': 'humo', 'Part-of-speech': 'PRON'},\n",
       " {'Stem': 'ىَ', 'Buckwalter': 'Ya', 'Part-of-speech': 'PRON'},\n",
       " {'Stem': 'نَحْنُ', 'Buckwalter': 'naHonu', 'Part-of-speech': 'PRON'},\n",
       " {'Stem': 'نَا', 'Buckwalter': 'naA', 'Part-of-speech': 'PRON'},\n",
       " {'Stem': 'عٓسٓقٓ', 'Buckwalter': 'E^s^q^', 'Part-of-speech': 'INL'},\n",
       " {'Stem': 'حمٓ', 'Buckwalter': 'Hm^', 'Part-of-speech': 'INL'},\n",
       " {'Stem': 'الٓر', 'Buckwalter': 'Al^r', 'Part-of-speech': 'INL'},\n",
       " {'Stem': 'الٓمٓ', 'Buckwalter': 'Al^m^', 'Part-of-speech': 'INL'},\n",
       " {'Stem': 'نٓ', 'Buckwalter': 'n^', 'Part-of-speech': 'INL'},\n",
       " {'Stem': 'قٓ', 'Buckwalter': 'q^', 'Part-of-speech': 'INL'},\n",
       " {'Stem': 'صٓ', 'Buckwalter': 'S^', 'Part-of-speech': 'INL'},\n",
       " {'Stem': 'يسٓ', 'Buckwalter': 'ys^', 'Part-of-speech': 'INL'},\n",
       " {'Stem': 'طه', 'Buckwalter': 'Th', 'Part-of-speech': 'INL'},\n",
       " {'Stem': 'طسٓمٓ', 'Buckwalter': 'Ts^m^', 'Part-of-speech': 'INL'},\n",
       " {'Stem': 'يَاسِينَ', 'Buckwalter': 'yaAsiyna', 'Part-of-speech': 'INL'},\n",
       " {'Stem': 'طس', 'Buckwalter': 'Ts', 'Part-of-speech': 'INL'},\n",
       " {'Stem': '#مَعَ', 'Buckwalter': 'maEa', 'Part-of-speech': 'PRON'},\n",
       " {'Stem': '#إِذَا', 'Buckwalter': '<i*aA', 'Part-of-speech': 'PRON'}]"
      ]
     },
     "execution_count": 105,
     "metadata": {},
     "output_type": "execute_result"
    }
   ],
   "source": [
    "stemDLs"
   ]
  },
  {
   "cell_type": "code",
   "execution_count": null,
   "metadata": {},
   "outputs": [],
   "source": [
    "# list_header = [\"Stem\",\"Buckwalter\", \"Part-of-speech\"]\n",
    "# import csv\n",
    "# start_time=time.time()\n",
    "# # for pos in poss:\n",
    "# with open('data/stems.tsv', 'a') as f:\n",
    "#     # with open('data/posPthLnks.tsv', 'w+') as f:\n",
    "#         # print(f\"writing {stri} to '{filepath}'\")\n",
    "#     writer = csv.DictWriter(f, delimiter='\\t', fieldnames=list_header)\n",
    "#     writer.writeheader()\n",
    "#         # for datum in instLst:\n",
    "#         # for k, datum in instDct.items():\n",
    "#     # for pos, datum in posPthLnksNew.items():\n",
    "#     for stemD in stemDLs:\n",
    "#         # if pos not in posPthLnksOld.keys():\n",
    "#             writer.writerow({\n",
    "#                 list_header[0] : stemD[0],\n",
    "#                 list_header[1] : stemD[1],\n",
    "#                 list_header[2] : stemD[2],\n",
    "#                 # list_header[1] : datum.stri,\n",
    "#                 # list_header[2] : datum.flt,\n",
    "#                 # list_header[3] : datum.strTyp,\n",
    "#                 # list_header[4] : datum.poSp,\n",
    "#                 # list_header[5] : datum.frm,\n",
    "#                 # list_header[6] : datum.lnkPths,\n",
    "#             })"
   ]
  },
  {
   "cell_type": "code",
   "execution_count": 228,
   "metadata": {},
   "outputs": [],
   "source": [
    "def findClosestLemmata(stri):\n",
    "    import re\n",
    "    lemLs = []\n",
    "    # bkw = []\n",
    "    striStrp = re.sub(\n",
    "        f'[{\"\".join(arbVwlsDict.values())}]',\n",
    "        '',\n",
    "        stri\n",
    "    )\n",
    "    # for lemmaRw in lemmataRows:\n",
    "    for lemmaRw in lemmataAllowed:\n",
    "        lemma = lemmaRw[0]\n",
    "        lemmaD = {\"stri\": lemma, \"strTyp\": \"lem\", \"poSp\": arPoSpD[lemmaRw[3]], \"frm\": \"All\"}\n",
    "        if stri == lemma:\n",
    "            # bkw = lemmaBkw[1]\n",
    "            lemLs.append(lemmaD)\n",
    "            break\n",
    "        else:\n",
    "            lemStrp = re.sub(\n",
    "                f'[{\"\".join(arbVwlsDict.values())}]',\n",
    "                '',\n",
    "                lemma\n",
    "            )\n",
    "            if lemma in stri:\n",
    "                # if len(lemLs) > 0:\n",
    "                #     if len(lemma)> len(lemLs[-1][\"stri\"]):\n",
    "                #         # bkw = lemmaBkw[1]\n",
    "                #         lemLs.insert(-1,lemmaD)\n",
    "                #     else:\n",
    "                #         lemLs.append(lemmaD)\n",
    "                # else:\n",
    "                    lemLs.append(lemmaD)\n",
    "            elif striStrp == lemStrp:\n",
    "                # if len(lemLs) > 0:\n",
    "                #     if len(lemma)> len(lemLs[-1][\"stri\"]):\n",
    "                #         lemLs.insert(-1,lemmaD)\n",
    "                #     else:\n",
    "                #         # bkw = lemmaBkw[1]\n",
    "                #         lemLs.append(lemmaD)\n",
    "                # else:\n",
    "                #     # bkw = lemmaBkw[1]\n",
    "                    lemLs.append(lemmaD)\n",
    "                # break\n",
    "            elif lemStrp in striStrp:\n",
    "                # if len(lemLs) > 0:\n",
    "                #     if len(lemStrp)> len(lemLs[-1][\"stri\"]):\n",
    "                #         # bkw[-2] = lemmaBkw[1]\n",
    "                #         lemLs.insert(-1,lemmaD)\n",
    "                #     else:\n",
    "                #         lemLs.append(lemmaD)\n",
    "                # else:\n",
    "                    lemLs.append(lemmaD)\n",
    "            else:\n",
    "                pass\n",
    "    LemLsSorted = sorted(lemLs, key=lambda dicti: len(dicti[\"stri\"]), reverse=True)\n",
    "    return LemLsSorted"
   ]
  },
  {
   "cell_type": "code",
   "execution_count": 99,
   "metadata": {},
   "outputs": [
    {
     "data": {
      "text/plain": [
       "3327"
      ]
     },
     "execution_count": 99,
     "metadata": {},
     "output_type": "execute_result"
    }
   ],
   "source": [
    "len(posStrAdvWrdRwsIncomp)"
   ]
  },
  {
   "cell_type": "code",
   "execution_count": 109,
   "metadata": {},
   "outputs": [],
   "source": [
    "stemToDonwload = [stemD[\"Stem\"] for stemD in stemDLs] "
   ]
  },
  {
   "cell_type": "code",
   "execution_count": null,
   "metadata": {},
   "outputs": [],
   "source": [
    "stemToDonwload"
   ]
  },
  {
   "cell_type": "code",
   "execution_count": null,
   "metadata": {},
   "outputs": [],
   "source": [
    "from qChronolyze import rtTrns, remVwls\n",
    "import csv\n",
    "list_header = [\"Stem\",\"Buckwalter\", \"Part-of-speech\"]\n",
    "# from IPython.display import clear_output\n",
    "def checkStriPosD(lmtLow=0,lmtUp=10):\n",
    "    # striPosDShow = {\n",
    "    #     stri : posD\n",
    "    #     for stri, posD in posStrAdvDictInComp.items() \n",
    "    #     if lmtLow < len(posD) <= lmtUp \n",
    "    # }\n",
    "\n",
    "        # for pos, actualStri in posDict.items():\n",
    "        # posStrAdvDictInComp = {\n",
    "        #     pos: strD\n",
    "        #     for pos, strD in posStrAdvDict.items()\n",
    "        #     if len(strD) == 0\n",
    "        # }\n",
    "        # posStrAdvWrdRwsIncomp = [\n",
    "        #     posStrAdvWrd\n",
    "        #     for posStrAdvWrd in posStrAdvWrdRws\n",
    "        #     if len(posStrAdvWrd[2]) == 0\n",
    "        # ]\n",
    "        # for pos in posStrAdvDictInComp.keys():\n",
    "            # actualStri = posDict[pos]\n",
    "        for i in range(len(posStrAdvWrdRwsIncomp)):\n",
    "            posStrAdvWrd = posStrAdvWrdRwsIncomp[i]\n",
    "            pos = posStrAdvWrd[0]\n",
    "            actualStri = posStrAdvWrd[1]\n",
    "            alreadyInStems = False\n",
    "            for stem in stemToDonwload:\n",
    "                 stemVwlLess = remVwls(stem)\n",
    "                 actualStriVwlLess = remVwls(actualStri)\n",
    "                 if stemVwlLess in actualStriVwlLess:\n",
    "            # for stemD in stemDLs:\n",
    "            #      stem = stemD[0]\n",
    "            #      if stem in actualStri:\n",
    "                    alreadyInStems = True\n",
    "            if not alreadyInStems:\n",
    "                #  else:\n",
    "                    print()\n",
    "                    print(f\"{pos}, actual: {actualStri}\")\n",
    "                    # print(f\"for {pos}, {actualStri}, {actualStriVwlLess}\")\n",
    "                    # isWrong=input()\n",
    "                    # if isWrong=='x':\n",
    "                    #     return\n",
    "                    # elif isWrong != '':\n",
    "                    if True:\n",
    "                        closeLems = findClosestLemmata(actualStri)\n",
    "                        print(\",\\n\".join([\n",
    "                            f\"{i+1}. {closeLems[i]['stri']} ({closeLems[i]['poSp']})\"\n",
    "                            for i in\n",
    "                            range(len(closeLems))\n",
    "                        ]\n",
    "                        ))\n",
    "                        corStrNums=input().strip()\n",
    "                        if corStrNums=='x':\n",
    "                            return\n",
    "                        elif corStrNums == '':\n",
    "                            pass\n",
    "                        # else:\n",
    "                        #     with open('data/stems.tsv', 'a') as f:\n",
    "                        #         writer = csv.DictWriter(f, delimiter='\\t', fieldnames=list_header)\n",
    "                        #         writer.writerow({\n",
    "                        #             list_header[0] : corStrNums,\n",
    "                        #             list_header[1] : rtTrns(corStrNums,\"arb\",\"arbSch\",\"bkwSch\"),\n",
    "                        #             list_header[2] : \"PRON\",   \n",
    "                        #         })\n",
    "                        #     stemToDonwload.append(corStrNums)\n",
    "                        #     print(\"wrote\", corStrNums)\n",
    "                        else:\n",
    "                            repStri=[ closeLems[ int(num)-1] for num in corStrNums.split(\",\") ]\n",
    "                            # clear_output()\n",
    "                            # posStrAdvDict[pos] = repStri\n",
    "                            posStrAdvWrdRwsIncomp[i][2] = repStri\n",
    "                            print(f\"{', '.join([lemD['stri'] for lemD in repStri])} chosen for {actualStri}\")\n"
   ]
  },
  {
   "cell_type": "code",
   "execution_count": null,
   "metadata": {},
   "outputs": [],
   "source": [
    "stemToDonwload"
   ]
  },
  {
   "cell_type": "code",
   "execution_count": 133,
   "metadata": {},
   "outputs": [
    {
     "data": {
      "text/plain": [
       "[{'stri': 'مِن', 'strTyp': 'lem', 'poSp': 'P', 'frm': 'All'}]"
      ]
     },
     "execution_count": 133,
     "metadata": {},
     "output_type": "execute_result"
    }
   ],
   "source": [
    "posStrAdvDict[\"96:2:3\"]"
   ]
  },
  {
   "cell_type": "code",
   "execution_count": 230,
   "metadata": {},
   "outputs": [],
   "source": [
    "checkStriPosD()"
   ]
  },
  {
   "cell_type": "code",
   "execution_count": 90,
   "metadata": {},
   "outputs": [
    {
     "data": {
      "text/plain": [
       "[]"
      ]
     },
     "execution_count": 90,
     "metadata": {},
     "output_type": "execute_result"
    }
   ],
   "source": [
    "[\n",
    "    posStrAdvWrdRw \n",
    "    for posStrAdvWrdRw in posStrAdvWrdRwsIncomp\n",
    "    if len(posStrAdvWrdRw[2]) > 0\n",
    "]"
   ]
  },
  {
   "cell_type": "code",
   "execution_count": 97,
   "metadata": {},
   "outputs": [
    {
     "data": {
      "text/plain": [
       "24"
      ]
     },
     "execution_count": 97,
     "metadata": {},
     "output_type": "execute_result"
    }
   ],
   "source": [
    "len([\n",
    "    posStrAdvWrdRw \n",
    "    for posStrAdvWrdRw in posStrAdvWrdRws\n",
    "    # if len(posStrAdvWrdRw[2]) > 0\n",
    "    if len(posStrAdvWrdRw[2]) > 0\n",
    "    for strD in posStrAdvWrdRw[2]\n",
    "    if strD[\"poSp\"] == \"PRON\"\n",
    "])"
   ]
  },
  {
   "cell_type": "code",
   "execution_count": 86,
   "metadata": {},
   "outputs": [
    {
     "data": {
      "text/plain": [
       "(False, False)"
      ]
     },
     "execution_count": 86,
     "metadata": {},
     "output_type": "execute_result"
    }
   ],
   "source": [
    "'أَنتَ' in [ lemma[0] for lemma in lemmataAllowed ], 'أَنتَ' in [ lemma[0] for lemma in lemmata]"
   ]
  },
  {
   "cell_type": "code",
   "execution_count": 19,
   "metadata": {},
   "outputs": [
    {
     "data": {
      "text/plain": [
       "['2:181:14', '8:6:10', '13:37:13']"
      ]
     },
     "execution_count": 19,
     "metadata": {},
     "output_type": "execute_result"
    }
   ],
   "source": [
    "# falseStrPoss = \"36:52:13 18:1:12 75:27:4 83:14:9 2:181:14 8:6:10 13:37:13 13:37:20\"\n",
    "falseStrPoss = \"2:181:14 8:6:10 13:37:13\"\n",
    "falseStrsPosLs = falseStrPoss.split(' ')\n",
    "falseStrsPosLs"
   ]
  },
  {
   "cell_type": "code",
   "execution_count": 21,
   "metadata": {},
   "outputs": [],
   "source": [
    "import csv\n",
    "import json\n",
    "flPth='data/surAyPosStrAdvWrdDict.tsv'\n",
    "list_header=[\"surah\",\"ayah\",\"position\",\"word\",\"strings_dictionary\"]\n",
    "with open(flPth) as f:\n",
    "    surAyPosStrAdvWrdDictRws = list(csv.DictReader(f, delimiter='\\t'))\n",
    "surAyPosStrAdvWrdDict = {\n",
    "}\n",
    "for surAyPosStrAdvWrd in surAyPosStrAdvWrdDictRws:\n",
    "    [sur, ay, pos, stri, strDLs ] = surAyPosStrAdvWrd.values()\n",
    "    # [sur,ay,pos] = surAyPos.split(':')\n",
    "    if sur not in surAyPosStrAdvWrdDict:\n",
    "        surAyPosStrAdvWrdDict[sur] = {}\n",
    "    if ay not in surAyPosStrAdvWrdDict[sur]:\n",
    "        surAyPosStrAdvWrdDict[sur][ay] = {}\n",
    "    if True:\n",
    "    # if pos not in surAyPosStrAdvWrdDict[sur][ay]:\n",
    "        surAyPosStrAdvWrdDict[sur][ay][pos] = {\n",
    "            # \"wrd\": posD[surAyPos],\n",
    "            # \"striDLs\": strDLs,\n",
    "            # \"wrd\": stri,\n",
    "            # \"striDLs\": posStrAdvDict[surAyPos],\n",
    "            \"wrd\": stri,\n",
    "            \"striDLs\": json.loads(strDLs),\n",
    "            # \"striDLs\": posStrAdvDict.get(surAyPos,['problematic pos']),\n",
    "            # \"striDLs\": posStrAdvDict.get(pos,['problematic pos']),\n",
    "        }"
   ]
  },
  {
   "cell_type": "code",
   "execution_count": 148,
   "metadata": {},
   "outputs": [
    {
     "data": {
      "text/plain": [
       "{'1': {'wrd': 'ٱقْرَأْ',\n",
       "  'striDLs': [{'stri': 'قرا', 'strTyp': 'root', 'poSp': 'V', 'frm': 'i'}]},\n",
       " '2': {'wrd': 'بِٱسْمِ',\n",
       "  'striDLs': [{'stri': 'ٱسْم', 'strTyp': 'lem', 'poSp': 'N', 'frm': 'All'},\n",
       "   {'stri': 'سمو', 'strTyp': 'root', 'poSp': 'N', 'frm': 'All'}]},\n",
       " '3': {'wrd': 'رَبِّكَ',\n",
       "  'striDLs': [{'stri': 'رَبّ', 'strTyp': 'lem', 'poSp': 'N', 'frm': 'All'},\n",
       "   {'stri': 'ربب', 'strTyp': 'root', 'poSp': 'N', 'frm': 'All'}]},\n",
       " '4': {'wrd': 'ٱلَّذِى',\n",
       "  'striDLs': [{'stri': 'ٱلَّذِى',\n",
       "    'strTyp': 'lem',\n",
       "    'poSp': 'COND',\n",
       "    'frm': 'All'},\n",
       "   {'stri': 'ٱلَّذِى', 'strTyp': 'lem', 'poSp': 'All', 'frm': 'All'}]},\n",
       " '5': {'wrd': 'خَلَقَ',\n",
       "  'striDLs': [{'stri': 'خلق', 'strTyp': 'root', 'poSp': 'V', 'frm': 'i'}]}}"
      ]
     },
     "execution_count": 148,
     "metadata": {},
     "output_type": "execute_result"
    }
   ],
   "source": [
    "# surAyPosStrAdvWrdDictRws[0]\n",
    "surAyPosStrAdvWrdDict[\"96\"][\"1\"]"
   ]
  },
  {
   "cell_type": "code",
   "execution_count": 22,
   "metadata": {},
   "outputs": [
    {
     "name": "stdout",
     "output_type": "stream",
     "text": [
      "2:181:14\n",
      "{'wrd': 'عَلِيمٌ', 'striDLs': []}\n",
      "['فَمَنۢ', 'بَدَّلَهُۥ', 'بَعْدَ', 'مَا', 'سَمِعَهُۥ', 'فَإِنَّمَآ', 'إِثْمُهُۥ', 'عَلَى', 'ٱلَّذِينَ', 'يُبَدِّلُونَهُۥٓ', 'إِنَّ', 'ٱللَّهَ', 'سَمِيعٌ', 'عَلِيمٌ']\n",
      "\n",
      "8:6:10\n",
      "{'wrd': 'ٱلْمَوْتِ', 'striDLs': []}\n",
      "['يُجَـٰدِلُونَكَ', 'فِى', 'ٱلْحَقِّ', 'بَعْدَ', 'مَا', 'تَبَيَّنَ', 'كَأَنَّمَا', 'يُسَاقُونَ', 'إِلَى', 'ٱلْمَوْتِ', 'وَهُمْ', 'يَنظُرُونَ']\n",
      "\n",
      "13:37:13\n",
      "{'wrd': 'مَا', 'striDLs': []}\n",
      "['وَكَذَٰلِكَ', 'أَنزَلْنَـٰهُ', 'حُكْمًا', 'عَرَبِيًّا', 'وَلَئِنِ', 'ٱتَّبَعْتَ', 'أَهْوَآءَهُم', 'بَعْدَ', 'مَا', 'جَآءَكَ', 'مِنَ', 'ٱلْعِلْمِ', 'مَا', 'لَكَ', 'مِنَ', 'ٱللَّهِ', 'مِن', 'وَلِىٍّ', 'وَلَا', 'وَاقٍ']\n",
      "\n"
     ]
    }
   ],
   "source": [
    "# posStrAdvWrdD = {\n",
    "#     posStrAdvWrd[\"position\"]: {\n",
    "#         \"word\": posStrAdvWrd[\"word\"],\n",
    "#         \"strings_dictionary\": posStrAdvWrd[\"strings_dictionary\"],\n",
    "#     }\n",
    "#     for posStrAdvWrd in posStrAdvWrdDictRws\n",
    "# }\n",
    "for surAyPos in falseStrsPosLs:\n",
    "    [sur, ay, pos] = surAyPos.split(':')\n",
    "    ayD = surAyPosStrAdvWrdDict[sur][ay]\n",
    "    posD = surAyPosStrAdvWrdDict[sur][ay][pos]\n",
    "    ayWrdLs = [posD[\"wrd\"] for posD in ayD.values()]\n",
    "    print(surAyPos)\n",
    "    print(posD)\n",
    "    print(ayWrdLs)\n",
    "    # print(posD)\n",
    "    print()"
   ]
  },
  {
   "cell_type": "code",
   "execution_count": 23,
   "metadata": {},
   "outputs": [
    {
     "data": {
      "text/plain": [
       "77433"
      ]
     },
     "execution_count": 23,
     "metadata": {},
     "output_type": "execute_result"
    }
   ],
   "source": [
    "len(posDict)"
   ]
  },
  {
   "cell_type": "code",
   "execution_count": null,
   "metadata": {},
   "outputs": [],
   "source": [
    "posStrAdvDictInComp = {\n",
    "    posStrAdvWrdRw[0]: \n",
    "         posStrAdvWrdRw[1]\n",
    "    \n",
    "    for posStrAdvWrdRw in posStrAdvWrdRwsIncomp\n",
    "}"
   ]
  },
  {
   "cell_type": "code",
   "execution_count": null,
   "metadata": {},
   "outputs": [],
   "source": [
    "posStrAdvDict = {\n",
    "    **posStrAdvDict,\n",
    "    **posStrAdvDictInComp,\n",
    "}"
   ]
  },
  {
   "cell_type": "code",
   "execution_count": null,
   "metadata": {},
   "outputs": [],
   "source": [
    "import csv\n",
    "import json\n",
    "flPth = 'data/posStrAdvD.tsv'\n",
    "list_header=[\"position\",\"strings_dictionary\"]\n",
    "with open(flPth, 'w+') as f:\n",
    "    writer = csv.DictWriter(f, delimiter='\\t', fieldnames=list_header)\n",
    "    writer.writeheader()\n",
    "    # for datum in instLst:\n",
    "    # for k, datum in instDct.items():\n",
    "    for k,v in posStrAdvDict.items():\n",
    "        writer.writerow({\n",
    "            list_header[0] : k,\n",
    "            list_header[1] : json.dumps(v),\n",
    "        })"
   ]
  },
  {
   "cell_type": "markdown",
   "metadata": {},
   "source": [
    "# posStrAdvWrdMeanD from local html"
   ]
  },
  {
   "cell_type": "code",
   "execution_count": 59,
   "metadata": {},
   "outputs": [],
   "source": [
    "import json\n",
    "flPth='posDict.json'\n",
    "with open(flPth) as f:\n",
    "    posDict = json.loads(f.read())"
   ]
  },
  {
   "cell_type": "code",
   "execution_count": 60,
   "metadata": {},
   "outputs": [],
   "source": [
    "posStrAdvWrdMD = {\n",
    "    pos: {\n",
    "        \"wrd\": stri,\n",
    "        # \"striDLs\": posStrAdvDict[pos],\n",
    "        \"striDLs\": [],\n",
    "        # \"meaning\": '',\n",
    "        \"mean\": \"\",\n",
    "    }\n",
    "    for pos, stri in posDict.items()\n",
    "}"
   ]
  },
  {
   "cell_type": "code",
   "execution_count": null,
   "metadata": {},
   "outputs": [],
   "source": [
    "# posStrAdvDict = {\n",
    "#     pos: []\n",
    "#     for pos in posDict.keys()\n",
    "# }"
   ]
  },
  {
   "cell_type": "code",
   "execution_count": null,
   "metadata": {},
   "outputs": [],
   "source": [
    "# import csv\n",
    "# flPth='data/posStrAdvD.tsv'\n",
    "# list_header=[\"position\",\"strings_dictionary\"]\n",
    "# with open(flPth) as f:\n",
    "#     posStrAdvDictRws = csv.DictReader(f, delimiter='\\t')\n",
    "#     posStrAdvDict = {posStrAdv[list_header[0]] : posStrAdv[list_header[1]]  for posStrAdv in posStrAdvDictRws}"
   ]
  },
  {
   "cell_type": "code",
   "execution_count": 61,
   "metadata": {},
   "outputs": [],
   "source": [
    "flPth='data/html'\n",
    "import os\n",
    "striNmTyps = []\n",
    "subdirs = ['root','lem','stem']\n",
    "for subdir in subdirs:\n",
    "    striNmTyps += [\n",
    "        (flnm.replace('.html',''), subdir) \n",
    "        for flnm in os.listdir(f\"{flPth}/{subdir}\") \n",
    "        # if flnm not in subdirs\n",
    "    ]\n",
    "# striNmTyps1 = list(set(striNmTyps))\n",
    "# len(striNmTyps1), len(striNmTyps)"
   ]
  },
  {
   "cell_type": "code",
   "execution_count": 62,
   "metadata": {},
   "outputs": [
    {
     "data": {
      "text/plain": [
       "(('ابب', 'root'), 4973)"
      ]
     },
     "execution_count": 62,
     "metadata": {},
     "output_type": "execute_result"
    }
   ],
   "source": [
    "# len(striNmTyps)\n",
    "striNmTyps[0], len(striNmTyps)"
   ]
  },
  {
   "cell_type": "code",
   "execution_count": 63,
   "metadata": {},
   "outputs": [],
   "source": [
    "arPoSpD = {\n",
    "    'All': 'All',\n",
    "    # '': 'All',\n",
    "    \n",
    "    'Active participle': 'N',\n",
    "    'Passive participle': 'N',\n",
    "    'Verbal noun': 'N',\n",
    "\n",
    "    'Noun': 'N',\n",
    "    'Proper noun': 'PN',\n",
    "    'Adjective': 'ADJ',\n",
    "    'Imperative verbal noun': 'IMPN',\n",
    "    'Verb': 'V',\n",
    "    'Personal pronoun': 'PRON',\n",
    "    'Demonstrative pronoun': 'DEM',\n",
    "    'Relative pronoun': 'REL',\n",
    "    'Time adverb': 'T',\n",
    "    'Location adverb': 'LOC',\n",
    "    \"Preposition\": \"P\", \n",
    "    \"Emphatic lām prefix\": \"EMPH\", \n",
    "    \"Imperative lām prefix\": \"IMPV\", \n",
    "    \"Purpose lām prefix\": \"PRP\", \n",
    "    \"Coordinating conjunction\": \"CONJ\", \n",
    "    \"Subordinating conjunction\": \"SUB\", \n",
    "    \"Accusative particle\": \"ACC\", \n",
    "    \"Amendment particle\": \"AMD\", \n",
    "    \"Answer particle\": \"ANS\", \n",
    "    \"Aversion particle\": \"AVR\", \n",
    "    \"Particle of cause\": \"CAUS\", \n",
    "    \"Particle of certainty\": \"CERT\", \n",
    "    \"Circumstantial particle\": \"CIRC\", \n",
    "    \"Comitative particle\": \"COM\", \n",
    "    \"Conditional particle\": \"COND\", \n",
    "    \"Equalization particle\": \"EQ\", \n",
    "    \"Exhortation particle\": \"EXH\", \n",
    "    \"Explanation particle\": \"EXL\", \n",
    "    \"Exceptive particle\": \"EXP\", \n",
    "    \"Future particle\": \"FUT\", \n",
    "    \"Inceptive particle\": \"INC\", \n",
    "    \"Particle of interpretation\": \"INT\", \n",
    "    \"Interogative particle\": \"INTG\", \n",
    "    \"Negative particle\": \"NEG\", \n",
    "    \"Preventive particle\": \"PREV\", \n",
    "    \"Prohibition particle\": \"PRO\", \n",
    "    \"Resumption particle\": \"REM\", \n",
    "    \"Restriction particle\": \"RES\", \n",
    "    \"Retraction particle\": \"RET\", \n",
    "    \"Result particle\": \"RSLT\", \n",
    "    \"Supplemental particle\": \"SUP\", \n",
    "    \"Surprise particle\": \"SUR\", \n",
    "    \"Vocative particle\": \"VOC\", \n",
    "    \"Quranic initials\": \"INL\", \n",
    "}\n",
    "\n",
    "arPoSpEx = list(arPoSpD.keys()) + [\"Nominal\",\"Particle\",\"Verb\",\"Active participle\",\"Passive participle\"]\n",
    "\n",
    "# arFrmL = [\n",
    "#     # \"All\",\n",
    "#     \"i\",\"ii\",\"iii\",\"iv\",\"v\",\"vi\",\"vii\",\"viii\",\"ix\",\"x\",\"xi\",\"xii\",\n",
    "# ]\n",
    "\n",
    "arFrmDict = {\n",
    "    'All': 'All',\n",
    "    # '': 'All',\n",
    "    '(form I)': 'i',\n",
    "    '(form II)': 'ii',\n",
    "    '(form III)': 'iii',\n",
    "    '(form IV)': 'iv',\n",
    "    '(form V)': 'v',\n",
    "    '(form VI)': 'vi',\n",
    "    '(form VII)': 'vii',\n",
    "    '(form VIII)': 'viii',\n",
    "    '(form IX)': 'ix',\n",
    "    '(form X)': 'x',\n",
    "    '(form XI)': 'xi',\n",
    "    '(form XII)': 'xii'\n",
    " }"
   ]
  },
  {
   "cell_type": "code",
   "execution_count": 214,
   "metadata": {},
   "outputs": [],
   "source": [
    "# {f\"(form {frm.upper()})\": frm for frm in  arFrmL}"
   ]
  },
  {
   "cell_type": "code",
   "execution_count": 215,
   "metadata": {},
   "outputs": [],
   "source": [
    "# \"|\".join(arFrmL).upper()"
   ]
  },
  {
   "cell_type": "code",
   "execution_count": 216,
   "metadata": {},
   "outputs": [],
   "source": [
    "# list([re.escape(frm1) for frm1 in arFrmDict.keys()])"
   ]
  },
  {
   "cell_type": "code",
   "execution_count": null,
   "metadata": {},
   "outputs": [],
   "source": [
    "# import re\n",
    "# poSpStr, frmStr, meaningStr = re.findall(\n",
    "#     f'(?:\\(\\d*\\)\\s*)*'\n",
    "#     +f'({\"|\".join(list(arPoSpD.keys()))}|)'\n",
    "#     +'\\s*'\n",
    "#     +f'({\"|\".join(list([re.escape(frm1) for frm1 in arFrmDict.keys()]))}|)'\n",
    "#     +'(?:\\s*\\-\\s*)*'\n",
    "#     +f'([\\w\\s]*|)'\n",
    "#     ,\n",
    "#     # 'Verb (form III) - to be a partner',\n",
    "#     '(2) Adjective',\n",
    "# )[0]"
   ]
  },
  {
   "cell_type": "code",
   "execution_count": null,
   "metadata": {},
   "outputs": [
    {
     "data": {
      "text/plain": [
       "('Adjective', '', '')"
      ]
     },
     "execution_count": 177,
     "metadata": {},
     "output_type": "execute_result"
    }
   ],
   "source": [
    "# poSpStr, frmStr, meaningStr"
   ]
  },
  {
   "cell_type": "code",
   "execution_count": null,
   "metadata": {},
   "outputs": [
    {
     "data": {
      "text/plain": [
       "'iii'"
      ]
     },
     "execution_count": 219,
     "metadata": {},
     "output_type": "execute_result"
    }
   ],
   "source": [
    "# arFrmDict[frmStr]"
   ]
  },
  {
   "cell_type": "code",
   "execution_count": null,
   "metadata": {},
   "outputs": [
    {
     "data": {
      "text/plain": [
       "77438"
      ]
     },
     "execution_count": 220,
     "metadata": {},
     "output_type": "execute_result"
    }
   ],
   "source": [
    "# len(posDict)"
   ]
  },
  {
   "cell_type": "code",
   "execution_count": 64,
   "metadata": {},
   "outputs": [],
   "source": [
    "from qChronolyze import rtTrns\n",
    "with open(\"data/lemmata.json\") as f:\n",
    "    lemmataRows = json.loads(f.read())\n",
    "# lemmataD = {(rtTrns(lemma[1],'arb','bkwSch','arbSch'),lemma[3]): lemma for lemma in lemmataRows }\n",
    "lemmataD = {rtTrns(lemma[1],'arb','bkwSch','arbSch'): lemma for lemma in lemmataRows }\n",
    "# lemmata = [lemma[0] for lemma in lemmataRows]\n",
    "lemmata = list(lemmataD.keys())"
   ]
  },
  {
   "cell_type": "code",
   "execution_count": 65,
   "metadata": {},
   "outputs": [],
   "source": [
    "lemPoSpD = {}\n",
    "for lemR in lemmataRows:\n",
    "    stri = rtTrns(lemR[1],'arb','bkwSch','arbSch')\n",
    "    if stri not in lemPoSpD:\n",
    "        lemPoSpD[stri] = []\n",
    "    lemPoSpD[stri].append(lemR[3])"
   ]
  },
  {
   "cell_type": "code",
   "execution_count": 66,
   "metadata": {},
   "outputs": [],
   "source": [
    "import csv\n",
    "flPth='data/stems.tsv'\n",
    "list_header=[\"Stem\",\"Buckwalter\", \"Part-of-speech\"]\n",
    "with open(flPth) as f:\n",
    "    stemDLs = list(csv.DictReader(f, delimiter='\\t'))\n",
    "stemsD = {stemD[\"Stem\"]: stemD for stemD in stemDLs}"
   ]
  },
  {
   "cell_type": "code",
   "execution_count": 67,
   "metadata": {},
   "outputs": [
    {
     "data": {
      "text/plain": [
       "(False, 3680, 3357, 3357)"
      ]
     },
     "execution_count": 67,
     "metadata": {},
     "output_type": "execute_result"
    }
   ],
   "source": [
    "len(lemmataD) == len(lemmataRows), len(lemmataRows), len(lemmataD), len(lemPoSpD)"
   ]
  },
  {
   "cell_type": "code",
   "execution_count": 68,
   "metadata": {},
   "outputs": [
    {
     "data": {
      "text/plain": [
       "['مِن', 'min', '3226', 'Preposition']"
      ]
     },
     "execution_count": 68,
     "metadata": {},
     "output_type": "execute_result"
    }
   ],
   "source": [
    "lemmataRows[0]"
   ]
  },
  {
   "cell_type": "code",
   "execution_count": 69,
   "metadata": {},
   "outputs": [
    {
     "data": {
      "text/plain": [
       "True"
      ]
     },
     "execution_count": 69,
     "metadata": {},
     "output_type": "execute_result"
    }
   ],
   "source": [
    "\"أَنتَ\" in list(stemsD.keys())"
   ]
  },
  {
   "cell_type": "code",
   "execution_count": null,
   "metadata": {},
   "outputs": [
    {
     "name": "stdout",
     "output_type": "stream",
     "text": [
      "<class 'str'>\n"
     ]
    }
   ],
   "source": [
    "# flpth = 'data/html/root/ابب.html'\n",
    "# with open(flpth) as f:\n",
    "#     txt = f.read()\n",
    "\n",
    "# from bs4 import BeautifulSoup as bs\n",
    "\n",
    "# soup = bs(\n",
    "#     txt,\n",
    "#     'lxml'\n",
    "# )\n",
    "\n",
    "# hdsRows = soup.select(\n",
    "#     \"h4.dxe, p.dxt, tr\"\n",
    "#     # \"ul\",\n",
    "#     # {\"class\":\"also\"}\n",
    "# )\n",
    "\n",
    "# # print(hdsRows)\n",
    "# # poSpStr = lemmataD[stri][3] if strTyp == 'lem' and stri in lemmata else stemsD[stri][\"Part-of-speech\"] if strTyp == 'stem' and stri in stemsD.keys() else ''\n",
    "# # frmStr = ''\n",
    "# # meaningStr = ''\n",
    "\n",
    "# for rw in hdsRows:\n",
    "#     tag = rw.name\n",
    "#     if tag == 'h4':\n",
    "#         headTxt = rw.text\n",
    "#         # global poSpStr\n",
    "#         # global frmStr\n",
    "#         # global meaningStr\n",
    "#         # poSpStr, frmStr, meaningStr = re.findall(\n",
    "#         #     f'(?:\\(\\d*\\)\\s*)*'\n",
    "#         #     +f'({\"|\".join(list(arPoSpD.keys()))}|)'\n",
    "#         #     +'\\s*'\n",
    "#         #     +f'({\"|\".join(list([re.escape(frm1) for frm1 in arFrmDict.keys()]))}|)'\n",
    "#         #     +'(?:\\s*\\-\\s*)*'\n",
    "#         #     +f'([\\w\\s]*|)'\n",
    "#         #     ,\n",
    "#         #     headTxt,\n",
    "#         # )[0] \n",
    "#     elif tag == 'tr':\n",
    "#         # if poSpStr != '' or frmStr != '' or meaningStr != '':\n",
    "#         # if frmStr != '':\n",
    "#         #     print(poSpStr, frmStr, meaningStr)\n",
    "#         # poSp = \"All\" if poSpStr == '' else arPoSpD[poSpStr]\n",
    "#         # frm = \"All\" if frmStr == '' else arFrmDict[frmStr]\n",
    "#         fields = list(rw.children)\n",
    "#         sur,ay,pos = list(fields[0].children)[0].text.strip('()').split(':')\n",
    "#         print(type(fields[1].text))"
   ]
  },
  {
   "cell_type": "code",
   "execution_count": 70,
   "metadata": {},
   "outputs": [],
   "source": [
    "import re\n",
    "from bs4 import BeautifulSoup as bs\n",
    "# for stri, strTyp in [('مدن','root'),(\"سفل\",\"root\")]:\n",
    "# for stri, strTyp in [('قرا','root')]:\n",
    "for stri, strTyp in striNmTyps:\n",
    "    # print(stri,strTyp)\n",
    "    with open(f\"data/html/{strTyp}/{stri}.html\") as f:\n",
    "        htmlTx = f.read()\n",
    "    soup = bs(htmlTx)\n",
    "    # print(soup)\n",
    "    hdsRows = soup.select(\n",
    "        \"h4.dxe, p.dxt, tr\"\n",
    "        # \"ul\",\n",
    "        # {\"class\":\"also\"}\n",
    "    )\n",
    "\n",
    "    # print(hdsRows)\n",
    "    poSpStr = stemsD[stri][\"Part-of-speech\"] if strTyp == 'stem' and stri in stemsD.keys() else lemPoSpD[stri][0] if strTyp == 'lem' and stri in lemPoSpD.keys() else ''\n",
    "    # poSpStr = lemmataD[stri][3] if strTyp == 'lem' and stri in lemmata else stemsD[stri][\"Part-of-speech\"] if strTyp == 'stem' and stri in stemsD.keys() else ''\n",
    "    frmStr = ''\n",
    "    meaningStr = ''\n",
    "\n",
    "    if len(hdsRows) > 0:\n",
    "\n",
    "        lastRwI = len(hdsRows)-1\n",
    "        strEnd = [0,lastRwI]\n",
    "\n",
    "        # print(strEnd)\n",
    "\n",
    "        hdIs = [i for i in range(lastRwI) if hdsRows[i].name == \"h4\" ] + [ len(hdsRows) ]\n",
    "        # print(hdIs)\n",
    "        hdRngs = [strEnd] if len(hdIs) == 1 else [ [hdIs[j],hdIs[j+1]-1] for j in range(len(hdIs)-1) ]\n",
    "        # print(hdRngs)\n",
    "        for hdRng in hdRngs:\n",
    "            subHdsRws = hdsRows[hdRng[0]:hdRng[1]+1]\n",
    "            # print(subHdsRws[0])\n",
    "            hdRngRw1 = hdsRows[hdRng[0]]\n",
    "            isHd = hdRngRw1.name == \"h4\"\n",
    "            ####### TODO #####\n",
    "            if isHd:\n",
    "                headTxt = hdRngRw1.text\n",
    "                poSpStrHd, frmStrHd, meaningStrHd = re.findall(\n",
    "                    # f'(?:\\(\\d*\\)\\s*)*'\n",
    "                    # +\n",
    "                    f'({\"|\".join(arPoSpEx)}|)'\n",
    "                    # +f'({\"|\".join(list(arPoSpD.keys()))}|)'\n",
    "                    +\n",
    "                    '\\s*'\n",
    "                    +\n",
    "                    f'({\"|\".join(list([re.escape(frm1) for frm1 in arFrmDict.keys()]))}|)'\n",
    "                    +\n",
    "                    '(?:\\s*\\-\\s*)*'\n",
    "                    +\n",
    "                    f'([\\w\\s]*|)'\n",
    "                    ,\n",
    "                    headTxt,\n",
    "                )[0]\n",
    "\n",
    "                meaningStr = meaningStr if meaningStrHd == '' else meaningStrHd\n",
    "                # poSpStr = poSpStr if poSpStrHd not in arPoSpD.keys() else poSpStrHd\n",
    "                # frmStr = frmStr if frmStrHd == '' else frmStrHd\n",
    "                # poSpStr = (\"Noun\" if poSpStr == '' else poSpStr) if poSpStrHd not in arPoSpD.keys() else poSpStrHd\n",
    "                # frmStr = (\"(form I)\" if frmStr == '' else frmStr) if frmStrHd not in arFrmDict.keys() else frmStrHd\n",
    "                poSpStr = (\"Noun\" if strTyp == \"root\" else poSpStr) if poSpStrHd not in arPoSpD.keys() else poSpStrHd\n",
    "                frmStr = \"(form I)\" if frmStrHd not in arFrmDict.keys() else frmStrHd\n",
    "\n",
    "                subHdsRws = subHdsRws[1:]\n",
    "\n",
    "            HdlastRwI = len(subHdsRws)-1\n",
    "            \n",
    "            # if HdstrEnd != None:\n",
    "            if len(subHdsRws) > 0:\n",
    "                HdstrEnd = [0,HdlastRwI] if HdlastRwI != -1 else None\n",
    "                subHdIs = [l for l in range(HdlastRwI) if (subHdsRws[l][\"class\"][0] == \"dxt\" if subHdsRws[l].has_attr(\"class\") else False) ]  + [ len(subHdsRws) ]\n",
    "                # print(subHdIs)\n",
    "                subHdRngs = [HdstrEnd] if len(subHdIs) == 1 else [ [subHdIs[k],subHdIs[k+1]-1] for k in range(len(subHdIs)-1) ]\n",
    "                # print(subHdRngs)\n",
    "                for subHdRng in subHdRngs:\n",
    "                    rws = subHdsRws[subHdRng[0]:subHdRng[1]+1]\n",
    "                    subHdRngRw1 = subHdsRws[\n",
    "                        subHdRng[\n",
    "                            0\n",
    "                        ]\n",
    "                    ]\n",
    "                    isSubHd = subHdRngRw1[\"class\"][0] == \"dxt\" if subHdRngRw1.has_attr(\"class\") else False\n",
    "                    if isSubHd:\n",
    "                        # print(subHdRngRw1[\"class\"])\n",
    "                        # print(subHdRngRw1)\n",
    "                        subHdTxt = subHdRngRw1.text\n",
    "                        # poSpStrSubHd, frmStrSubHd, meaningStrSubHd = re.findall(\n",
    "                        poSpStrSubHd = re.findall(\n",
    "                            f'(?:\\(\\d*\\)\\s*)*'\n",
    "                            +\n",
    "                            f'({\"|\".join(list(arPoSpD.keys()))}|)'\n",
    "                            # +\n",
    "                            # '\\s*'\n",
    "                            # +\n",
    "                            # f'({\"|\".join(list([re.escape(frm1) for frm1 in arFrmDict.keys()]))}|)'\n",
    "                            # +\n",
    "                            # '(?:\\s*\\-\\s*)*'\n",
    "                            # +\n",
    "                            # f'([\\w\\s]*|)'\n",
    "                            ,\n",
    "                            subHdTxt,\n",
    "                        )[0]\n",
    "                        # print(stri,strTyp,'\\n',\n",
    "                        #     poSpStrSubHd, '\\n',\n",
    "                        #     # poSpStrSubHd, frmStrSubHd, meaningStrSubHd, '\\n',\n",
    "                        #     poSpStrHd, frmStrHd, meaningStrHd, '\\n',\n",
    "                        # )\n",
    "                    \n",
    "                    # print(hdsRows[subHdRng[0]:subHdRng[1]])\n",
    "\n",
    "                        poSpStr = poSpStrSubHd if poSpStrSubHd in arPoSpD.keys() else (\"Noun\" if strTyp == \"root\" else poSpStr)\n",
    "                        # meaningStr = meaningStr if meaningStrSubHd == '' else meaningStrSubHd\n",
    "                        # frmStr = frmStr if frmStrSubHd == '' else frmStrSubHd\n",
    "\n",
    "                        rws = rws[1:]\n",
    "                    for rw in rws:\n",
    "                    # elif tag == 'tr':\n",
    "                        # if poSpStr != '' or frmStr != '' or meaningStr != '':\n",
    "                        # if frmStr != '':\n",
    "                        #     print(poSpStr, frmStr, meaningStr)\n",
    "                        poSp = \"All\" if poSpStr == '' else arPoSpD[poSpStr]\n",
    "                        frm = \"All\" if frmStr == '' else arFrmDict[frmStr]\n",
    "                        # try:\n",
    "                        if True:\n",
    "                            fields = list(rw.children)\n",
    "                            # print(stri, strTyp, '\\n', rw)\n",
    "                            sur,ay,pos = list(fields[0].children)[0].text.strip('()').split(':')\n",
    "                            flt = fields[1].text\n",
    "                            surAyPos = f\"{sur}:{ay}:{pos}\"\n",
    "                            # if surAyPos == \"96:1:1\":\n",
    "                            # if True:\n",
    "                            #     print(surAyPos)\n",
    "                            # print(surAyPos)\n",
    "                            if strTyp == \"lem\":\n",
    "                                if surAyPos in posStrAdvWrdMD:\n",
    "                                    if len(posStrAdvWrdMD[surAyPos][\"striDLs\"]) > 0:\n",
    "                                        for i in range(len(posStrAdvWrdMD[surAyPos][\"striDLs\"])):\n",
    "                                            if posStrAdvWrdMD[surAyPos][\"striDLs\"][i][\"strTyp\"] == \"root\":\n",
    "                                                poSp = posStrAdvWrdMD[surAyPos][\"striDLs\"][i][\"poSp\"]\n",
    "                                                frm = posStrAdvWrdMD[surAyPos][\"striDLs\"][i][\"frm\"]\n",
    "                            strD = {\n",
    "                                    # \"stri\": stri,\n",
    "                                    \"stri\": rtTrns(stri,'arb','arbSch','bkwSch'),\n",
    "                                    # \"flt\": flt,\n",
    "                                    \"strTyp\": strTyp,\n",
    "                                    \"poSp\": poSp,\n",
    "                                    \"frm\": frm,\n",
    "                                }\n",
    "                            if surAyPos not in posStrAdvWrdMD:\n",
    "                                print(surAyPos, \"was not in posDict\")\n",
    "                                posStrAdvWrdMD[surAyPos] = {\n",
    "                                    # \"wrd\": stri,\n",
    "                                    \"wrd\": rtTrns(stri,'arb','arbSch','bkwSch'),\n",
    "                                    \"striDLs\": [strD],\n",
    "                                    \"mean\": flt,\n",
    "                                }\n",
    "                            else:\n",
    "                                posStrAdvWrdMD[surAyPos][\"mean\"] = flt\n",
    "                                if strD not in posStrAdvWrdMD[surAyPos][\"striDLs\"]:\n",
    "                                    posStrAdvWrdMD[surAyPos][\"striDLs\"].append(\n",
    "                                        strD\n",
    "                                    )\n",
    "                        # except:\n",
    "                            # print(stri, strTyp, '\\n', rw)"
   ]
  },
  {
   "cell_type": "code",
   "execution_count": 72,
   "metadata": {},
   "outputs": [
    {
     "data": {
      "text/plain": [
       "{'wrd': 'كَذِبًا',\n",
       " 'striDLs': [{'stri': 'k*b', 'strTyp': 'root', 'poSp': 'N', 'frm': 'i'},\n",
       "  {'stri': 'ka*ib', 'strTyp': 'lem', 'poSp': 'N', 'frm': 'i'}],\n",
       " 'mean': 'a lie'}"
      ]
     },
     "execution_count": 72,
     "metadata": {},
     "output_type": "execute_result"
    }
   ],
   "source": [
    "posStrAdvWrdMD[\"7:37:7\"]"
   ]
  },
  {
   "cell_type": "code",
   "execution_count": 259,
   "metadata": {},
   "outputs": [
    {
     "data": {
      "text/plain": [
       "77430"
      ]
     },
     "execution_count": 259,
     "metadata": {},
     "output_type": "execute_result"
    }
   ],
   "source": [
    "len(posStrAdvWrdMD)"
   ]
  },
  {
   "cell_type": "code",
   "execution_count": 76,
   "metadata": {},
   "outputs": [],
   "source": [
    "# import csv\n",
    "# import json\n",
    "# flPth = 'data/posStrAdvD.tsv'\n",
    "# list_header=[\"position\",\"strings_dictionary\"]\n",
    "# with open(flPth, 'w+') as f:\n",
    "#     writer = csv.DictWriter(f, delimiter='\\t', fieldnames=list_header)\n",
    "#     writer.writeheader()\n",
    "#     # for datum in instLst:\n",
    "#     # for k, datum in instDct.items():\n",
    "#     for k,v in posStrAdvDict.items():\n",
    "#         writer.writerow({\n",
    "#             list_header[0] : k,\n",
    "#             list_header[1] : json.dumps(v),\n",
    "#         })\n",
    "import csv\n",
    "import json\n",
    "flPth = 'data/posStrAdvWrdMD.tsv'\n",
    "list_header=[\"position\",\"word\",\"meaning\",\"strings_dictionary\"]\n",
    "list_header=[\"position\",\"word\",\"meaning\",\"strings_dictionary\"]\n",
    "with open(flPth, 'w+') as f:\n",
    "    writer = csv.DictWriter(f, delimiter='\\t', fieldnames=list_header)\n",
    "    writer.writeheader()\n",
    "    # for datum in instLst:\n",
    "    # for k, datum in instDct.items():\n",
    "    for k,v in posStrAdvWrdMD.items():\n",
    "        strD = v[\"striDLs\"]\n",
    "        wrd = v[\"wrd\"]\n",
    "        mean = v[\"mean\"]\n",
    "        writer.writerow({\n",
    "            list_header[0] : k,\n",
    "            list_header[1] : wrd,\n",
    "            list_header[2] : mean,\n",
    "            list_header[3] : json.dumps(strD),\n",
    "        })"
   ]
  },
  {
   "cell_type": "code",
   "execution_count": null,
   "metadata": {},
   "outputs": [],
   "source": [
    "# {\n",
    "#     pos: strsD\n",
    "#     # pos: strD\n",
    "#     for pos, strsD in posStrAdvDict.items()\n",
    "#     # for strD in strsD\n",
    "#     # if strD[\"poSp\"] != 'All'\n",
    "#     if len(strsD) > 1\n",
    "# }"
   ]
  },
  {
   "cell_type": "code",
   "execution_count": 74,
   "metadata": {},
   "outputs": [],
   "source": [
    "posStrAdvDictComp = {\n",
    "    pos: strD\n",
    "    for pos, strD in posStrAdvWrdMD.items()\n",
    "    # if len(strD) > 0\n",
    "    # if len(strD[\"striDLs\"]) > 0\n",
    "    if strD[\"mean\"] != ''\n",
    "}"
   ]
  },
  {
   "cell_type": "code",
   "execution_count": 75,
   "metadata": {},
   "outputs": [
    {
     "data": {
      "text/plain": [
       "76805"
      ]
     },
     "execution_count": 75,
     "metadata": {},
     "output_type": "execute_result"
    }
   ],
   "source": [
    "len(posStrAdvDictComp)"
   ]
  },
  {
   "cell_type": "markdown",
   "metadata": {},
   "source": [
    "# incompletes"
   ]
  },
  {
   "cell_type": "code",
   "execution_count": 264,
   "metadata": {},
   "outputs": [],
   "source": [
    "import csv\n",
    "import json\n",
    "flPth='data/posStrAdvWrdMD.tsv'\n",
    "list_header=[\"position\",\"word\",\"strings_dictionary\"]\n",
    "with open(flPth) as f:\n",
    "    posStrAdvDictRws = list(csv.DictReader(f, delimiter='\\t'))\n",
    "posStrAdvDict = {\n",
    "    posStrAdv[list_header[0]] : {\n",
    "        \"word\": posStrAdv[list_header[1]],\n",
    "        \"striDLs\": json.loads(posStrAdv[list_header[2]]),\n",
    "    } \n",
    "    for posStrAdv in posStrAdvDictRws\n",
    "}"
   ]
  },
  {
   "cell_type": "code",
   "execution_count": null,
   "metadata": {},
   "outputs": [],
   "source": [
    "list_header=[\"position\",\"word\",\"strings_dictionary\"]\n",
    "posStrAdvWDict = {posStrAdv[list_header[0]] : posStrAdv[list_header[1]]  for posStrAdv in posStrAdvDictRws}"
   ]
  },
  {
   "cell_type": "code",
   "execution_count": 265,
   "metadata": {},
   "outputs": [],
   "source": [
    "posStrAdvDictInComp = {\n",
    "    pos: {\n",
    "        \"word\": D[\"word\"],\n",
    "        \"striDLs\": D[\"striDLs\"]\n",
    "    }\n",
    "      \n",
    "    for pos, D in posStrAdvDict.items()\n",
    "    if len(D[\"striDLs\"]) == 0\n",
    "}"
   ]
  },
  {
   "cell_type": "code",
   "execution_count": 162,
   "metadata": {},
   "outputs": [
    {
     "data": {
      "text/plain": [
       "('73:18:3', {'word': 'بِهِۦ', 'striDLs': []})"
      ]
     },
     "execution_count": 162,
     "metadata": {},
     "output_type": "execute_result"
    }
   ],
   "source": [
    "list(posStrAdvDictInComp.items())[0]"
   ]
  },
  {
   "cell_type": "code",
   "execution_count": 266,
   "metadata": {},
   "outputs": [
    {
     "data": {
      "text/plain": [
       "625"
      ]
     },
     "execution_count": 266,
     "metadata": {},
     "output_type": "execute_result"
    }
   ],
   "source": [
    "len(posStrAdvDictInComp)"
   ]
  },
  {
   "cell_type": "code",
   "execution_count": 267,
   "metadata": {},
   "outputs": [],
   "source": [
    "striIncompD = {}\n",
    "\n",
    "for pos, D in posStrAdvDictInComp.items():\n",
    "    wrd = D[\"word\"]\n",
    "    if wrd not in striIncompD:\n",
    "        striIncompD[wrd] = []\n",
    "    striIncompD[wrd].append(pos)"
   ]
  },
  {
   "cell_type": "code",
   "execution_count": 268,
   "metadata": {},
   "outputs": [
    {
     "data": {
      "text/plain": [
       "16"
      ]
     },
     "execution_count": 268,
     "metadata": {},
     "output_type": "execute_result"
    }
   ],
   "source": [
    "len(striIncompD)"
   ]
  },
  {
   "cell_type": "code",
   "execution_count": 269,
   "metadata": {},
   "outputs": [],
   "source": [
    "import pandas as pd\n",
    "pd.set_option('display.max_rows', None)\n",
    "df = pd.DataFrame([[k,v,len(v)] for k,v in striIncompD.items()],columns=[\"string\",\"positions\",\"frequency\"])"
   ]
  },
  {
   "cell_type": "code",
   "execution_count": 270,
   "metadata": {},
   "outputs": [
    {
     "data": {
      "text/html": [
       "<div>\n",
       "<style scoped>\n",
       "    .dataframe tbody tr th:only-of-type {\n",
       "        vertical-align: middle;\n",
       "    }\n",
       "\n",
       "    .dataframe tbody tr th {\n",
       "        vertical-align: top;\n",
       "    }\n",
       "\n",
       "    .dataframe thead th {\n",
       "        text-align: right;\n",
       "    }\n",
       "</style>\n",
       "<table border=\"1\" class=\"dataframe\">\n",
       "  <thead>\n",
       "    <tr style=\"text-align: right;\">\n",
       "      <th></th>\n",
       "      <th>string</th>\n",
       "      <th>positions</th>\n",
       "      <th>frequency</th>\n",
       "    </tr>\n",
       "  </thead>\n",
       "  <tbody>\n",
       "    <tr>\n",
       "      <th>0</th>\n",
       "      <td>بِهِۦ</td>\n",
       "      <td>[73:18:3, 100:4:2, 100:5:2, 53:28:3, 75:16:3, ...</td>\n",
       "      <td>258</td>\n",
       "    </tr>\n",
       "    <tr>\n",
       "      <th>1</th>\n",
       "      <td>لَهُۥ</td>\n",
       "      <td>[74:12:2, 74:14:2, 80:6:2, 85:9:2, 50:37:7, 86...</td>\n",
       "      <td>184</td>\n",
       "    </tr>\n",
       "    <tr>\n",
       "      <th>2</th>\n",
       "      <td>أَنَا۠</td>\n",
       "      <td>[109:4:2, 50:29:6, 38:65:3, 38:70:6, 38:76:2, ...</td>\n",
       "      <td>44</td>\n",
       "    </tr>\n",
       "    <tr>\n",
       "      <th>3</th>\n",
       "      <td>لَّهُۥ</td>\n",
       "      <td>[112:4:3, 90:8:3, 7:148:10, 25:2:11, 19:7:9, 2...</td>\n",
       "      <td>33</td>\n",
       "    </tr>\n",
       "    <tr>\n",
       "      <th>4</th>\n",
       "      <td>بِهِۦٓ</td>\n",
       "      <td>[75:16:6, 72:20:7, 20:31:2, 20:53:15, 26:31:3,...</td>\n",
       "      <td>39</td>\n",
       "    </tr>\n",
       "    <tr>\n",
       "      <th>5</th>\n",
       "      <td>لَّهُۥٓ</td>\n",
       "      <td>[38:19:4]</td>\n",
       "      <td>1</td>\n",
       "    </tr>\n",
       "    <tr>\n",
       "      <th>6</th>\n",
       "      <td>لَهُۥٓ</td>\n",
       "      <td>[38:43:2, 36:69:6, 19:49:9, 28:16:9, 10:107:7,...</td>\n",
       "      <td>24</td>\n",
       "    </tr>\n",
       "    <tr>\n",
       "      <th>7</th>\n",
       "      <td>بِّهِۦ</td>\n",
       "      <td>[38:44:5]</td>\n",
       "      <td>1</td>\n",
       "    </tr>\n",
       "    <tr>\n",
       "      <th>8</th>\n",
       "      <td>وَأَنَا۠</td>\n",
       "      <td>[7:68:4, 7:143:39, 26:20:4, 10:41:12, 10:90:25...</td>\n",
       "      <td>16</td>\n",
       "    </tr>\n",
       "    <tr>\n",
       "      <th>9</th>\n",
       "      <td>وَبِهِۦ</td>\n",
       "      <td>[7:159:7, 7:181:6]</td>\n",
       "      <td>2</td>\n",
       "    </tr>\n",
       "    <tr>\n",
       "      <th>10</th>\n",
       "      <td>وَلَهُۥ</td>\n",
       "      <td>[7:206:10, 27:91:10, 6:13:1, 16:52:1, 21:19:1,...</td>\n",
       "      <td>8</td>\n",
       "    </tr>\n",
       "    <tr>\n",
       "      <th>11</th>\n",
       "      <td>فَلَهُۥ</td>\n",
       "      <td>[27:89:4, 28:84:4, 6:160:4, 18:88:6, 2:178:35,...</td>\n",
       "      <td>7</td>\n",
       "    </tr>\n",
       "    <tr>\n",
       "      <th>12</th>\n",
       "      <td>يَاسِينَ</td>\n",
       "      <td>[37:130:4]</td>\n",
       "      <td>1</td>\n",
       "    </tr>\n",
       "    <tr>\n",
       "      <th>13</th>\n",
       "      <td>فَأَنَا۠</td>\n",
       "      <td>[43:81:6]</td>\n",
       "      <td>1</td>\n",
       "    </tr>\n",
       "    <tr>\n",
       "      <th>14</th>\n",
       "      <td>فَلَهُۥٓ</td>\n",
       "      <td>[2:112:8, 22:34:17]</td>\n",
       "      <td>2</td>\n",
       "    </tr>\n",
       "    <tr>\n",
       "      <th>15</th>\n",
       "      <td>وَلَهُۥٓ</td>\n",
       "      <td>[3:83:5, 4:12:57, 4:176:13, 57:11:10]</td>\n",
       "      <td>4</td>\n",
       "    </tr>\n",
       "  </tbody>\n",
       "</table>\n",
       "</div>"
      ],
      "text/plain": [
       "      string                                          positions  frequency\n",
       "0      بِهِۦ  [73:18:3, 100:4:2, 100:5:2, 53:28:3, 75:16:3, ...        258\n",
       "1      لَهُۥ  [74:12:2, 74:14:2, 80:6:2, 85:9:2, 50:37:7, 86...        184\n",
       "2     أَنَا۠  [109:4:2, 50:29:6, 38:65:3, 38:70:6, 38:76:2, ...         44\n",
       "3     لَّهُۥ  [112:4:3, 90:8:3, 7:148:10, 25:2:11, 19:7:9, 2...         33\n",
       "4     بِهِۦٓ  [75:16:6, 72:20:7, 20:31:2, 20:53:15, 26:31:3,...         39\n",
       "5    لَّهُۥٓ                                          [38:19:4]          1\n",
       "6     لَهُۥٓ  [38:43:2, 36:69:6, 19:49:9, 28:16:9, 10:107:7,...         24\n",
       "7     بِّهِۦ                                          [38:44:5]          1\n",
       "8   وَأَنَا۠  [7:68:4, 7:143:39, 26:20:4, 10:41:12, 10:90:25...         16\n",
       "9    وَبِهِۦ                                 [7:159:7, 7:181:6]          2\n",
       "10   وَلَهُۥ  [7:206:10, 27:91:10, 6:13:1, 16:52:1, 21:19:1,...          8\n",
       "11   فَلَهُۥ  [27:89:4, 28:84:4, 6:160:4, 18:88:6, 2:178:35,...          7\n",
       "12  يَاسِينَ                                         [37:130:4]          1\n",
       "13  فَأَنَا۠                                          [43:81:6]          1\n",
       "14  فَلَهُۥٓ                                [2:112:8, 22:34:17]          2\n",
       "15  وَلَهُۥٓ              [3:83:5, 4:12:57, 4:176:13, 57:11:10]          4"
      ]
     },
     "execution_count": 270,
     "metadata": {},
     "output_type": "execute_result"
    }
   ],
   "source": [
    "df"
   ]
  },
  {
   "cell_type": "code",
   "execution_count": 171,
   "metadata": {},
   "outputs": [
    {
     "data": {
      "text/plain": [
       "'k^hyE^S^'"
      ]
     },
     "execution_count": 171,
     "metadata": {},
     "output_type": "execute_result"
    }
   ],
   "source": [
    "from qChronolyze import rtTrns\n",
    "rtTrns(\"كٓهيعٓصٓ\",\"arb\",\"arbSch\",\"bkwSch\")"
   ]
  },
  {
   "cell_type": "code",
   "execution_count": 75,
   "metadata": {},
   "outputs": [],
   "source": [
    "import json\n",
    "with open(\"data/lemmata.json\") as f:\n",
    "    lemmataRows = json.loads(f.read())\n",
    "lemmataD = {lemma[0]: lemma for lemma in lemmataRows }\n",
    "lemmata = [lemma[0] for lemma in lemmataRows]"
   ]
  },
  {
   "cell_type": "code",
   "execution_count": 76,
   "metadata": {},
   "outputs": [],
   "source": [
    "poSpCountD = {}\n",
    "for lemma in lemmataRows:\n",
    "    poSp = lemma[3]\n",
    "    if poSp not in poSpCountD:\n",
    "        poSpCountD[poSp] = 1\n",
    "    else:\n",
    "        poSpCountD[poSp] += 1"
   ]
  },
  {
   "cell_type": "code",
   "execution_count": 77,
   "metadata": {},
   "outputs": [
    {
     "data": {
      "text/plain": [
       "{'Restriction particle': 1,\n",
       " 'Prohibition particle': 1,\n",
       " 'Retraction particle': 1,\n",
       " 'Amendment particle': 1,\n",
       " 'Particle of interpretation': 1,\n",
       " 'Future particle': 1,\n",
       " 'Exhortation particle': 1,\n",
       " 'Aversion particle': 1,\n",
       " 'Personal pronoun': 1,\n",
       " 'Supplemental particle': 1,\n",
       " 'Exceptive particle': 2,\n",
       " 'Explanation particle': 2,\n",
       " 'Imperative verbal noun': 2,\n",
       " 'Particle of certainty': 3,\n",
       " 'Inceptive particle': 3,\n",
       " 'Surprise particle': 3,\n",
       " 'Subordinating conjunction': 4,\n",
       " 'Coordinating conjunction': 4,\n",
       " 'Answer particle': 4,\n",
       " 'Relative pronoun': 6,\n",
       " 'Preposition': 7,\n",
       " 'Negative particle': 7,\n",
       " 'Accusative particle': 9,\n",
       " 'Demonstrative pronoun': 11,\n",
       " 'Interogative particle': 11,\n",
       " 'Conditional particle': 15,\n",
       " 'Location adverb': 22,\n",
       " 'Time adverb': 42,\n",
       " 'Proper noun': 107,\n",
       " 'Adjective': 435,\n",
       " 'Noun': 2971}"
      ]
     },
     "execution_count": 77,
     "metadata": {},
     "output_type": "execute_result"
    }
   ],
   "source": [
    "poSpCountDSorted = { k: v for k,v in sorted(poSpCountD.items(), key = lambda item: item[1])}\n",
    "poSpCountDSorted"
   ]
  },
  {
   "cell_type": "code",
   "execution_count": 78,
   "metadata": {},
   "outputs": [],
   "source": [
    "poSpAllowed = [ poSp for poSp in poSpCountD.keys() if poSpCountD[poSp] < 30 ]"
   ]
  },
  {
   "cell_type": "code",
   "execution_count": 79,
   "metadata": {},
   "outputs": [],
   "source": [
    "# lemmataAllowed = [lemma for lemma in lemmataRows if lemma[3] in poSpAllowed ]\n",
    "lemmataAllowed = [lemma for lemma in lemmataRows if lemma[3] in [\"Personal pronoun\"] ]"
   ]
  },
  {
   "cell_type": "code",
   "execution_count": 89,
   "metadata": {},
   "outputs": [
    {
     "data": {
      "text/plain": [
       "[['إِيَّا', '<iy~aA', '24', 'Personal pronoun']]"
      ]
     },
     "execution_count": 89,
     "metadata": {},
     "output_type": "execute_result"
    }
   ],
   "source": [
    "lemmataAllowed"
   ]
  },
  {
   "cell_type": "code",
   "execution_count": 58,
   "metadata": {},
   "outputs": [
    {
     "data": {
      "text/plain": [
       "['مِن', 'min', '3226', 'Preposition']"
      ]
     },
     "execution_count": 58,
     "metadata": {},
     "output_type": "execute_result"
    }
   ],
   "source": [
    "lemmataRows[0]"
   ]
  },
  {
   "cell_type": "code",
   "execution_count": null,
   "metadata": {},
   "outputs": [],
   "source": [
    "lemmataAllowed = [{} for lemma in lemmataRows if lemma[3] in poSpAllowed ]"
   ]
  },
  {
   "cell_type": "code",
   "execution_count": 80,
   "metadata": {},
   "outputs": [],
   "source": [
    "def findClosestLemmata(stri):\n",
    "    import re\n",
    "    lemLs = []\n",
    "    # bkw = []\n",
    "    striStrp = re.sub(\n",
    "        f'[{\"\".join(arbVwlsDict.values())}]',\n",
    "        '',\n",
    "        stri\n",
    "    )\n",
    "    for lemmaBkw in lemmata:\n",
    "        lemma = lemmaBkw[0]\n",
    "        if stri == lemma:\n",
    "            # bkw = lemmaBkw[1]\n",
    "            lemLs.append(lemma)\n",
    "            break\n",
    "        else:\n",
    "            lemStrp = re.sub(\n",
    "                f'[{\"\".join(arbVwlsDict.values())}]',\n",
    "                '',\n",
    "                lemma\n",
    "            )\n",
    "            if lemma in stri:\n",
    "                if len(lemLs) > 0:\n",
    "                    if len(lemma)> len(lemLs[-1]):\n",
    "                        # bkw = lemmaBkw[1]\n",
    "                        lemLs.insert(-1,lemma)\n",
    "                    else:\n",
    "                        lemLs.append(lemma)\n",
    "                else:\n",
    "                    lemLs.append(lemma)\n",
    "            elif striStrp == lemStrp:\n",
    "                if len(lemLs) > 0:\n",
    "                    if len(lemma)> len(lemLs[-1]):\n",
    "                        lemLs.insert(-1,lemma)\n",
    "                    else:\n",
    "                        # bkw = lemmaBkw[1]\n",
    "                        lemLs.append(lemma)\n",
    "                else:\n",
    "                    # bkw = lemmaBkw[1]\n",
    "                    lemLs.append(lemma)\n",
    "                # break\n",
    "            elif lemStrp in striStrp:\n",
    "                if len(lemLs) > 0:\n",
    "                    if len(lemStrp)> len(lemLs[-1]):\n",
    "                        # bkw[-2] = lemmaBkw[1]\n",
    "                        lemLs.insert(-1,lemma)\n",
    "                    else:\n",
    "                        lemLs.append(lemma)\n",
    "                else:\n",
    "                    lemLs.append(lemma)\n",
    "            else:\n",
    "                pass\n",
    "    return lemLs"
   ]
  },
  {
   "cell_type": "code",
   "execution_count": 81,
   "metadata": {},
   "outputs": [],
   "source": [
    "import json\n",
    "with open('posDict.json') as f:\n",
    "    posD = json.loads(f.read())"
   ]
  },
  {
   "cell_type": "code",
   "execution_count": null,
   "metadata": {},
   "outputs": [],
   "source": [
    "for pos, stri in posD.items():\n",
    "    # if stri in lemmata or stri in roots:\n",
    "        if not (stri in lemmata and lemmataD[stri] not in [\n",
    "            \"Noun\", \"Adjective\", \"Proper Noun\", \n",
    "            # \"Verb\", \n",
    "            \"Time adverb\", \n",
    "            \"Location adverb\",\n",
    "        ]):\n",
    "            for pos in poss:\n",
    "                sur = pos.split(\":\")[0]\n",
    "                if sur not in posStrAdvDictInComp:\n",
    "                    posStrAdvDictInComp[pos] = {}\n",
    "                if stri not in posStrAdvDictInComp[pos]:\n",
    "                    # surHighestStri[sur][stri] = [pos]\n",
    "                    posStrAdvDictInComp[pos][stri] = 1\n",
    "                else:\n",
    "                    # surHighestStri[sur][stri].append(pos)\n",
    "                    posStrAdvDictInComp[pos][stri] += 1"
   ]
  },
  {
   "cell_type": "markdown",
   "metadata": {},
   "source": []
  },
  {
   "cell_type": "markdown",
   "metadata": {},
   "source": [
    "# posStrAdvWrdDict"
   ]
  },
  {
   "cell_type": "code",
   "execution_count": null,
   "metadata": {},
   "outputs": [],
   "source": [
    "# import csv\n",
    "# import json\n",
    "# flPth='data/posStrAdvD.tsv'\n",
    "# list_header=[\"position\",\"strings_dictionary\"]\n",
    "# with open(flPth) as f:\n",
    "#     posStrAdvDictRws = list(csv.DictReader(f, delimiter='\\t'))\n",
    "# posStrAdvDict = {posStrAdv[list_header[0]] : json.loads(posStrAdv[list_header[1]])  for posStrAdv in posStrAdvDictRws}"
   ]
  },
  {
   "cell_type": "code",
   "execution_count": null,
   "metadata": {},
   "outputs": [],
   "source": [
    "# import json\n",
    "# with open('posDict.json') as f:\n",
    "#     posD = json.loads(f.read())"
   ]
  },
  {
   "cell_type": "code",
   "execution_count": null,
   "metadata": {},
   "outputs": [],
   "source": [
    "# posStrAdvWrdDict = {\n",
    "#     pos: {\n",
    "#         \"wrd\": stri,\n",
    "#         \"striDLs\": posStrAdvDict[pos],\n",
    "\n",
    "#     }\n",
    "#     for pos, stri in posD.items()\n",
    "# }"
   ]
  },
  {
   "cell_type": "code",
   "execution_count": null,
   "metadata": {},
   "outputs": [],
   "source": [
    "# import csv\n",
    "# import json\n",
    "# flPth = 'data/posStrAdvWrdD.tsv'\n",
    "# list_header=[\"position\",\"word\",\"strings_dictionary\"]\n",
    "# with open(flPth, 'w+') as f:\n",
    "#     writer = csv.DictWriter(f, delimiter='\\t', fieldnames=list_header)\n",
    "#     writer.writeheader()\n",
    "#     # for datum in instLst:\n",
    "#     # for k, datum in instDct.items():\n",
    "#     for k,v in posStrAdvWrdDict.items():\n",
    "#         strD = v[\"striDLs\"]\n",
    "#         wrd = v[\"wrd\"]\n",
    "#         writer.writerow({\n",
    "#             list_header[0] : k,\n",
    "#             list_header[1] : wrd,\n",
    "#             list_header[2] : json.dumps(strD),\n",
    "#         })"
   ]
  },
  {
   "cell_type": "code",
   "execution_count": null,
   "metadata": {},
   "outputs": [],
   "source": [
    "# import csv\n",
    "# import json\n",
    "# flPth='data/posStrAdvWrdD.tsv'\n",
    "# list_header=[\"position\",\"strings_dictionary\"]\n",
    "# with open(flPth) as f:\n",
    "#     posStrAdvWrdDictRws = list(csv.DictReader(f, delimiter='\\t'))\n",
    "# posStrAdvWrdDict = {posStrAdvWrd[list_header[0]] : json.loads(posStrAdvWrd[list_header[1]])  for posStrAdvWrd in posStrAdvWrdDictRws}"
   ]
  },
  {
   "cell_type": "markdown",
   "metadata": {},
   "source": [
    "# surAyPosAdvStrWrdDic"
   ]
  },
  {
   "cell_type": "code",
   "execution_count": 77,
   "metadata": {},
   "outputs": [],
   "source": [
    "import csv\n",
    "import json\n",
    "# flPth='data/posStrAdvD.tsv'\n",
    "flPth='data/posStrAdvWrdMD.tsv'\n",
    "list_header=[\"position\",\"word\",\"meaning\",\"strings_dictionary\"]\n",
    "list_header2=[\"position\",\"wrd\",\"mean\",\"striDLs\"]\n",
    "with open(flPth) as f:\n",
    "    posStrAdvWrdMDRws = list(csv.DictReader(f, delimiter='\\t'))\n",
    "posStrAdvWrdMD = {\n",
    "    posStrAdv[list_header[0]] : {\n",
    "        # list_header[1]: posStrAdv[list_header[1]],\n",
    "        # list_header[2]: posStrAdv[list_header[2]],\n",
    "        # list_header[3]: json.loads(posStrAdv[list_header[3]]),\n",
    "        list_header2[1]: posStrAdv[list_header[1]],\n",
    "        list_header2[2]: posStrAdv[list_header[2]],\n",
    "        list_header2[3]: json.loads(posStrAdv[list_header[3]]),\n",
    "\n",
    "    }\n",
    "    for posStrAdv in posStrAdvWrdMDRws\n",
    "}"
   ]
  },
  {
   "cell_type": "code",
   "execution_count": null,
   "metadata": {},
   "outputs": [],
   "source": [
    "# import json\n",
    "# with open('posDict.json') as f:\n",
    "#     posDict = json.loads(f.read())"
   ]
  },
  {
   "cell_type": "code",
   "execution_count": null,
   "metadata": {},
   "outputs": [
    {
     "data": {
      "text/plain": [
       "['96', '1', '1']"
      ]
     },
     "execution_count": 55,
     "metadata": {},
     "output_type": "execute_result"
    }
   ],
   "source": [
    "# list(posDict.items())[0][0].split(':')"
   ]
  },
  {
   "cell_type": "code",
   "execution_count": null,
   "metadata": {},
   "outputs": [],
   "source": [
    "# surAyPosStrAdvWrdDict = {\n",
    "#     # print(surAyPos,surAyPos.split(':'))\n",
    "#     # if sur not in surAyPosStrAdvWrdDict:\n",
    "#     #     surAyPosStrAdvWrdDict[sur] = {}\n",
    "#     # if ay not in surAyPosStrAdvWrdDict[sur]:\n",
    "#     #     surAyPosStrAdvWrdDict[sur][ay] = {}\n",
    "#     # if pos not in surAyPosStrAdvWrdDict[sur][ay]:\n",
    "#     sur: {\n",
    "#         ay: {\n",
    "#             pos: {\n",
    "#         # surAyPosStrAdvWrdDict[sur][ay][pos] = {\n",
    "#             # \"wrd\": posD[surAyPos],\n",
    "#             # \"striDLs\": strDLs,\n",
    "#             \"wrd\": stri,\n",
    "#             \"striDLs\": posStrAdvDict[surAyPos],\n",
    "#             # \"striDLs\": posStrAdvDict.get(surAyPos,['problematic pos']),\n",
    "#             # \"striDLs\": posStrAdvDict.get(pos,['problematic pos']),\n",
    "#             }\n",
    "#         }\n",
    "#     }\n",
    "#     for surAyPos, stri in posDict.items()\n",
    "#     for sur,ay,pos in [surAyPos.split(':')]\n",
    "        \n",
    "# }\n",
    "#     #     surAyPos[sur][ay]\n",
    "#     # for surAyPos, strDLs in posStrAdvDict.items()\n",
    "#     # if (sur,ay,pos := surAyPos.split(':'))"
   ]
  },
  {
   "cell_type": "code",
   "execution_count": 22,
   "metadata": {},
   "outputs": [
    {
     "data": {
      "text/plain": [
       "6236"
      ]
     },
     "execution_count": 22,
     "metadata": {},
     "output_type": "execute_result"
    }
   ],
   "source": [
    "len(sorter)"
   ]
  },
  {
   "cell_type": "code",
   "execution_count": 55,
   "metadata": {},
   "outputs": [],
   "source": [
    "with open(f'sorter.json',) as f:\n",
    "   sorter = json.loads(f.read())\n",
    "\n",
    "# with open(f'posDict.json') as f:\n",
    "#     posDict = json.loads(f.read())\n",
    "\n",
    "posSerDict = {\n",
    "\n",
    "}\n",
    "\n",
    "ser = 0\n",
    "for i in range(len(sorter)):\n",
    "    surAy = sorter[i]\n",
    "    sur,ay = surAy.split(\":\")\n",
    "    posLs = list(surAyPosStrAdvWrdMD[sur][ay].keys())\n",
    "    for j in range(len(posLs)):\n",
    "        ser += 1\n",
    "        surAyPos = \":\".join([sur,ay,posLs[j]])\n",
    "        posSerDict[surAyPos] = ser\n",
    "\n",
    "# with open(f'posSerDict.json', 'w+') as f:\n",
    "#     f.write(json.dumps(posSerDict))"
   ]
  },
  {
   "cell_type": "code",
   "execution_count": 29,
   "metadata": {},
   "outputs": [
    {
     "data": {
      "text/plain": [
       "('96:1:1', 1)"
      ]
     },
     "execution_count": 29,
     "metadata": {},
     "output_type": "execute_result"
    }
   ],
   "source": [
    "list(posSerDict.items())[0]"
   ]
  },
  {
   "cell_type": "code",
   "execution_count": 78,
   "metadata": {},
   "outputs": [],
   "source": [
    "surAyPosStrAdvWrdMD = {\n",
    "}\n",
    "for surAyPos, striWMD in posStrAdvWrdMD.items():\n",
    "    # print(surAyPos,surAyPos.split(':'))\n",
    "    [sur,ay,pos] = surAyPos.split(':')\n",
    "    if sur not in surAyPosStrAdvWrdMD:\n",
    "        surAyPosStrAdvWrdMD[sur] = {}\n",
    "    if ay not in surAyPosStrAdvWrdMD[sur]:\n",
    "        surAyPosStrAdvWrdMD[sur][ay] = {}\n",
    "    # if pos not in surAyPosStrAdvWrdDict[sur][ay]:\n",
    "    surAyPosStrAdvWrdMD[sur][ay][pos] = striWMD\n",
    "    # surAyPosStrAdvWrdDict[sur][ay][pos] = {\n",
    "        # \"wrd\": posD[surAyPos],\n",
    "        # \"striDLs\": strDLs,\n",
    "        # \"wrd\": stri,\n",
    "        # \"striDLs\": posStrAdvDict[surAyPos],\n",
    "        # \"striDLs\": posStrAdvDict.get(surAyPos,['problematic pos']),\n",
    "        # \"striDLs\": posStrAdvDict.get(pos,['problematic pos']),\n",
    "    # }\n",
    "        \n",
    "    #     surAyPos[sur][ay]\n",
    "    # sur: {\n",
    "    #     ay: {\n",
    "    #         pos: \n",
    "    #     }\n",
    "    # }\n",
    "    # for surAyPos, strDLs in posStrAdvDict.items()\n",
    "    # if (sur,ay,pos := surAyPos.split(':'))"
   ]
  },
  {
   "cell_type": "code",
   "execution_count": 79,
   "metadata": {},
   "outputs": [],
   "source": [
    "import csv\n",
    "import json\n",
    "flPth = 'data/surAyPosStrAdvWrdMD.json'\n",
    "with open(flPth, 'w+') as f:\n",
    "    f.write(json.dumps(surAyPosStrAdvWrdMD))"
   ]
  },
  {
   "cell_type": "code",
   "execution_count": null,
   "metadata": {},
   "outputs": [],
   "source": [
    "# for sur, ayDic in surAyPosStrAdvWrdDict.items():\n",
    "#     for ay, posDic in ayDic.items():\n",
    "#         for pos, d in posDic.items():\n",
    "#             if d[\"striDLs\"] == ['problematic pos']:\n",
    "#                 print(sur,ay,pos)"
   ]
  },
  {
   "cell_type": "code",
   "execution_count": 80,
   "metadata": {},
   "outputs": [],
   "source": [
    "import csv\n",
    "import json\n",
    "flPth = 'data/surAyPosStrAdvWrdMD.tsv'\n",
    "# list_header=[\"surah\",\"ayah\",\"position\",\"word\",\"meaning\",\"strings_dictionary\"]\n",
    "list_header=[\"surah\",\"ayah\",\"position\",\"wrd\",\"mean\",\"striDLs\"]\n",
    "with open(flPth, 'w+') as f:\n",
    "    writer = csv.DictWriter(f, delimiter='\\t', fieldnames=list_header)\n",
    "    writer.writeheader()\n",
    "    # for datum in instLst:\n",
    "    # for k, datum in instDct.items():\n",
    "    for sur,ayD in surAyPosStrAdvWrdMD.items():\n",
    "        for ay, posD in ayD.items():\n",
    "            for pos, v in posD.items():\n",
    "                strD = v[\"striDLs\"]\n",
    "                wrd = v[\"wrd\"]\n",
    "                mean = v[\"mean\"]\n",
    "                writer.writerow({\n",
    "                    list_header[0] : sur,\n",
    "                    list_header[1] : ay,\n",
    "                    list_header[2] : pos,\n",
    "                    list_header[3] : wrd,\n",
    "                    list_header[4] : mean,\n",
    "                    list_header[5] : json.dumps(strD),\n",
    "                })"
   ]
  },
  {
   "cell_type": "code",
   "execution_count": 35,
   "metadata": {},
   "outputs": [],
   "source": [
    "import csv\n",
    "import json\n",
    "flPth='data/surAyPosStrAdvWrdMD.tsv'\n",
    "# list_header=[\"surah\",\"ayah\",\"position\",\"word\",\"meaning\",\"strings_dictionary\"]\n",
    "list_header=[\"surah\",\"ayah\",\"position\",\"wrd\",\"mean\",\"striDLs\"]\n",
    "with open(flPth) as f:\n",
    "    surAyPosStrAdvWrdMDRws = list(csv.DictReader(f, delimiter='\\t'))\n",
    "surAyPosStrAdvWrdMD = {\n",
    "}\n",
    "for surAyPosStrAdvWrd in surAyPosStrAdvWrdMDRws:\n",
    "    [sur, ay, pos, stri, mean, strDLs ] = surAyPosStrAdvWrd.values()\n",
    "    # [sur,ay,pos] = surAyPos.split(':')\n",
    "    if sur not in surAyPosStrAdvWrdMD:\n",
    "        surAyPosStrAdvWrdMD[sur] = {}\n",
    "    if ay not in surAyPosStrAdvWrdMD[sur]:\n",
    "        surAyPosStrAdvWrdMD[sur][ay] = {}\n",
    "    if pos not in surAyPosStrAdvWrdMD[sur][ay]:\n",
    "        surAyPosStrAdvWrdMD[sur][ay][pos] = {\n",
    "            # \"wrd\": posD[surAyPos],\n",
    "            # \"striDLs\": strDLs,\n",
    "            # \"wrd\": stri,\n",
    "            # \"striDLs\": posStrAdvDict[surAyPos],\n",
    "            \"wrd\": stri,\n",
    "            \"mean\": mean,\n",
    "            \"striDLs\": json.loads(strDLs),\n",
    "            # \"striDLs\": posStrAdvDict.get(surAyPos,['problematic pos']),\n",
    "            # \"striDLs\": posStrAdvDict.get(pos,['problematic pos']),\n",
    "        }"
   ]
  },
  {
   "cell_type": "code",
   "execution_count": 3,
   "metadata": {},
   "outputs": [
    {
     "data": {
      "text/plain": [
       "['1:2:3', '1:2:4', '5:6:7', '5:6:8']"
      ]
     },
     "execution_count": 3,
     "metadata": {},
     "output_type": "execute_result"
    }
   ],
   "source": [
    "ls = [\n",
    "    ['1','2',['3','4']],\n",
    "    ['5','6',['7','8']],\n",
    "\n",
    "]\n",
    "newLs = [\n",
    "    \":\".join([sur,ay,pos])\n",
    "    for sup in ls\n",
    "    for sur, ay, poss in [sup]\n",
    "    for pos in poss\n",
    "]\n",
    "\n",
    "newLs"
   ]
  },
  {
   "cell_type": "code",
   "execution_count": 339,
   "metadata": {},
   "outputs": [
    {
     "data": {
      "text/plain": [
       "['ٱقْرَأْ', 'بِٱسْمِ', 'رَبِّكَ', 'ٱلَّذِى', 'خَلَقَ']"
      ]
     },
     "execution_count": 339,
     "metadata": {},
     "output_type": "execute_result"
    }
   ],
   "source": [
    "surah = '96'\n",
    "ayah = '1'\n",
    "[\n",
    "    possD['word']\n",
    "    # posD\n",
    "    # posD[\"wrd\"] \n",
    "    for possD in surAyPosStrAdvWrdMD[surah][ayah].values()\n",
    "    # for posD in possD\n",
    "]"
   ]
  },
  {
   "cell_type": "code",
   "execution_count": 329,
   "metadata": {},
   "outputs": [
    {
     "data": {
      "text/plain": [
       "{'word': 'ٱقْرَأْ',\n",
       " 'meaning': 'Read',\n",
       " 'strings_dictionary': [{'stri': 'قرا',\n",
       "   'strTyp': 'root',\n",
       "   'poSp': 'V',\n",
       "   'frm': 'i'}]}"
      ]
     },
     "execution_count": 329,
     "metadata": {},
     "output_type": "execute_result"
    }
   ],
   "source": [
    "surAyPosStrAdvWrdMD[\"96\"][\"1\"][\"1\"]"
   ]
  },
  {
   "cell_type": "code",
   "execution_count": 341,
   "metadata": {},
   "outputs": [
    {
     "data": {
      "text/plain": [
       "1"
      ]
     },
     "execution_count": 341,
     "metadata": {},
     "output_type": "execute_result"
    }
   ],
   "source": [
    "# for [sur,ay,pos,wrd,strDLs] in [[1,2,3,'a',{}]]:\n",
    "#     print(sur,ay,pos,wrd,strDLs)\n",
    "min([1,2,3])"
   ]
  },
  {
   "cell_type": "code",
   "execution_count": 322,
   "metadata": {},
   "outputs": [
    {
     "data": {
      "text/plain": [
       "77430"
      ]
     },
     "execution_count": 322,
     "metadata": {},
     "output_type": "execute_result"
    }
   ],
   "source": [
    "len(surAyPosStrAdvWrdMDRws)"
   ]
  },
  {
   "cell_type": "code",
   "execution_count": null,
   "metadata": {},
   "outputs": [],
   "source": [
    "surAyPosStrAdvWrdDictRws"
   ]
  },
  {
   "cell_type": "code",
   "execution_count": 72,
   "metadata": {},
   "outputs": [
    {
     "data": {
      "text/plain": [
       "(2621536, 2621536, 2621536, 632824, 4696, 632824)"
      ]
     },
     "execution_count": 72,
     "metadata": {},
     "output_type": "execute_result"
    }
   ],
   "source": [
    "from sys import getsizeof\n",
    "getsizeof(posDict,), getsizeof(posStrAdvDict), getsizeof(posStrAdvWrdDict,), getsizeof(posStrAdvWrdDictRws,), getsizeof(surAyPosStrAdvWrdDict), getsizeof(surAyPosStrAdvWrdDictRws)\n",
    "# help(getsizeof)\n",
    "# getsizeof(posDict)\n",
    "# getsizeof(posStrAdvDict)\n",
    "# getsizeof(posStrAdvDictRws)\n",
    "# getsizeof(surAyPosStrAdvWrdDict)\n",
    "# getsizeof(surAyPosStrAdvWrdDictRws)"
   ]
  },
  {
   "cell_type": "code",
   "execution_count": null,
   "metadata": {},
   "outputs": [],
   "source": [
    "surAyPosStrAdvWrdDict[\"96\"]"
   ]
  },
  {
   "cell_type": "code",
   "execution_count": null,
   "metadata": {},
   "outputs": [],
   "source": [
    "from time import time\n",
    "start_time = time()\n",
    "\n",
    "end_time = time()"
   ]
  },
  {
   "cell_type": "markdown",
   "metadata": {},
   "source": [
    "# striPosDic from local html"
   ]
  },
  {
   "cell_type": "code",
   "execution_count": null,
   "metadata": {},
   "outputs": [],
   "source": [
    "import json\n",
    "flPth='posDict.json'\n",
    "with open(flPth) as f:\n",
    "    posDict = json.loads(f.read())"
   ]
  },
  {
   "cell_type": "markdown",
   "metadata": {},
   "source": [
    "# html to tsv"
   ]
  },
  {
   "cell_type": "code",
   "execution_count": null,
   "metadata": {},
   "outputs": [],
   "source": [
    "import csv\n",
    "import json\n",
    "flPth='data/posStrAdvD.tsv'\n",
    "list_header=[\"position\",\"strings_dictionary\"]\n",
    "with open(flPth) as f:\n",
    "    posStrAdvDictRws = csv.DictReader(f, delimiter='\\t')\n",
    "    posStrAdvDict = {posStrAdv[list_header[0]] : json.loads(posStrAdv[list_header[1]])  for posStrAdv in posStrAdvDictRws}"
   ]
  },
  {
   "cell_type": "code",
   "execution_count": 30,
   "metadata": {},
   "outputs": [],
   "source": [
    "import os\n",
    "import json\n",
    "from qChronolyze import filecheck\n",
    "striPosAdvD = {\n",
    "    \"lem\": {},\n",
    "    \"root\": {},\n",
    "}\n",
    "for surAyPos, strDctLs in posStrAdvDict.items():\n",
    "    sur,ay,pos = surAyPos.split(':')\n",
    "    for strD in strDctLs:\n",
    "        strTyp = strD[\"strTyp\"]\n",
    "        stri = strD[\"stri\"]\n",
    "        poSp = strD[\"poSp\"]\n",
    "        frm = strD[\"frm\"]\n",
    "\n",
    "        if stri not in striPosAdvD[strTyp]:\n",
    "            striPosAdvD[strTyp][stri] = {}\n",
    "        if frm not in striPosAdvD[strTyp][stri]:\n",
    "            striPosAdvD[strTyp][stri][frm] = {}\n",
    "        if poSp not in striPosAdvD[strTyp][stri][frm]:\n",
    "            striPosAdvD[strTyp][stri][frm][poSp] = []\n",
    "        # if pos not in striPosAdvD[strTyp][stri][frm][poSp]:\n",
    "        #     striPosAdvD[strTyp][stri][frm][poSp] = [pos]\n",
    "        # else:\n",
    "        striPosAdvD[strTyp][stri][frm][poSp].append((sur,ay,pos))\n",
    "\n",
    "            \n",
    "        # flpth = os.path.join('data','cache','arb',strTyp,stri,poSp,frm)\n",
    "        # filecheck(flpth)\n",
    "        # with open(flpth, 'x') as f:\n",
    "        #     f.write(json)"
   ]
  },
  {
   "cell_type": "code",
   "execution_count": null,
   "metadata": {},
   "outputs": [],
   "source": [
    "import json\n",
    "with open(\"data/striPosAdvD.json\", \"w+\") as f:\n",
    "    f.write(json.dumps(striPosAdvD))"
   ]
  },
  {
   "cell_type": "code",
   "execution_count": 32,
   "metadata": {},
   "outputs": [],
   "source": [
    "import json\n",
    "with open(\"data/striPosAdvD.json\") as f:\n",
    "    striPosAdvD = json.loads(f.read())"
   ]
  },
  {
   "cell_type": "code",
   "execution_count": null,
   "metadata": {},
   "outputs": [],
   "source": [
    "len([])"
   ]
  },
  {
   "cell_type": "markdown",
   "metadata": {},
   "source": [
    "# surAyPosDic"
   ]
  },
  {
   "cell_type": "code",
   "execution_count": 4,
   "metadata": {},
   "outputs": [],
   "source": [
    "import json\n",
    "flPth='posDict.json'\n",
    "with open(flPth) as f:\n",
    "    posDict = json.loads(f.read())\n",
    "    "
   ]
  },
  {
   "cell_type": "code",
   "execution_count": 5,
   "metadata": {},
   "outputs": [
    {
     "data": {
      "text/plain": [
       "('96:1:1', 'ٱقْرَأْ')"
      ]
     },
     "execution_count": 5,
     "metadata": {},
     "output_type": "execute_result"
    }
   ],
   "source": [
    "list(posDict.items())[0]"
   ]
  },
  {
   "cell_type": "code",
   "execution_count": null,
   "metadata": {},
   "outputs": [],
   "source": [
    "import json\n",
    "flPth='qdict.json'\n",
    "with open(flPth) as f:\n",
    "    qDict = json.loads(f.read())\n",
    "    "
   ]
  },
  {
   "cell_type": "code",
   "execution_count": 3,
   "metadata": {},
   "outputs": [
    {
     "data": {
      "text/plain": [
       "[1, 2]"
      ]
     },
     "execution_count": 3,
     "metadata": {},
     "output_type": "execute_result"
    }
   ],
   "source": [
    "ls = [1,2,3]\n",
    "list(range(1,len(ls)))"
   ]
  },
  {
   "cell_type": "code",
   "execution_count": null,
   "metadata": {},
   "outputs": [
    {
     "data": {
      "text/plain": [
       "True"
      ]
     },
     "execution_count": 586,
     "metadata": {},
     "output_type": "execute_result"
    }
   ],
   "source": [
    "\"abc\".startswith(\"ab\")"
   ]
  },
  {
   "cell_type": "code",
   "execution_count": null,
   "metadata": {},
   "outputs": [],
   "source": [
    "surAyPosDic = {}\n",
    "for sur, surDict in qDict.items():\n",
    "    surAyPosDic[sur] = {}\n",
    "    for ay in range(1,surDict[\"verse_count\"]+1):\n",
    "        surAy = f\"{sur}:{ay}\"\n",
    "        # print(surAy)\n",
    "        # poss = []\n",
    "        surAyPosDic[sur][ay] = {}\n",
    "        for surAyPos in posDict.keys():\n",
    "            if surAyPos.startswith(f\"{surAy}:\"):\n",
    "                pos = surAyPos.split(':')[2]\n",
    "                # poss.append(pos)\n",
    "                surAyPosDic[sur][ay][pos] = posDict[surAyPos]\n"
   ]
  },
  {
   "cell_type": "code",
   "execution_count": null,
   "metadata": {},
   "outputs": [],
   "source": [
    "posDic3 = {\n",
    "    f\"{s}:{ay}:{pos}\": posDic\n",
    "    for s, sDic in surAyPosDic.items()\n",
    "    for ay, ayDic in sDic.items()\n",
    "    for pos, posDic in ayDic.items()\n",
    "}"
   ]
  },
  {
   "cell_type": "code",
   "execution_count": null,
   "metadata": {},
   "outputs": [
    {
     "data": {
      "text/plain": [
       "77438"
      ]
     },
     "execution_count": 595,
     "metadata": {},
     "output_type": "execute_result"
    }
   ],
   "source": [
    "len(posDic3)"
   ]
  },
  {
   "cell_type": "code",
   "execution_count": null,
   "metadata": {},
   "outputs": [],
   "source": [
    "import json\n",
    "with open(\"data/surAyPosDic.json\", 'w+') as f:\n",
    "    f.write(json.dumps(surAyPosDic))"
   ]
  },
  {
   "cell_type": "code",
   "execution_count": null,
   "metadata": {},
   "outputs": [],
   "source": [
    "import json\n",
    "with open(\"data/test.json\", 'w+') as f:\n",
    "    f.write(json.dumps([1,2,3]))"
   ]
  },
  {
   "cell_type": "code",
   "execution_count": null,
   "metadata": {},
   "outputs": [],
   "source": [
    "import json\n",
    "flPth='data/test.json'\n",
    "with open(flPth) as f:\n",
    "    test = json.loads(f.read())\n",
    "    "
   ]
  },
  {
   "cell_type": "code",
   "execution_count": null,
   "metadata": {},
   "outputs": [
    {
     "data": {
      "text/plain": [
       "[1, 2, 3]"
      ]
     },
     "execution_count": 593,
     "metadata": {},
     "output_type": "execute_result"
    }
   ],
   "source": [
    "test"
   ]
  },
  {
   "cell_type": "markdown",
   "metadata": {},
   "source": [
    "# surayposfirstdic"
   ]
  },
  {
   "cell_type": "code",
   "execution_count": 139,
   "metadata": {},
   "outputs": [],
   "source": [
    "import json\n",
    "flPth='posDict.json'\n",
    "with open(flPth) as f:\n",
    "    posDic = json.loads(f.read())\n",
    "    "
   ]
  },
  {
   "cell_type": "code",
   "execution_count": 140,
   "metadata": {},
   "outputs": [],
   "source": [
    "import csv\n",
    "flPth='data/htmlCompleted.tsv'\n",
    "list_header=[\"position\",\"link_query\"]\n",
    "with open(flPth) as f:\n",
    "    finishedOld = csv.DictReader(f, delimiter='\\t')\n",
    "    posStriFinishedDict = {finished[list_header[0]] : finished[list_header[1]]  for finished in finishedOld}\n",
    "    # print(finishedOld.fieldnames)\n",
    "    "
   ]
  },
  {
   "cell_type": "code",
   "execution_count": 141,
   "metadata": {},
   "outputs": [
    {
     "data": {
      "text/plain": [
       "(68868,)"
      ]
     },
     "execution_count": 141,
     "metadata": {},
     "output_type": "execute_result"
    }
   ],
   "source": [
    "len(posStriFinishedDict), \n",
    "# len(posStriFinishedDict1)"
   ]
  },
  {
   "cell_type": "code",
   "execution_count": 142,
   "metadata": {},
   "outputs": [],
   "source": [
    "posFinishedDict = posStriFinishedDict.keys()"
   ]
  },
  {
   "cell_type": "code",
   "execution_count": 143,
   "metadata": {},
   "outputs": [
    {
     "data": {
      "text/plain": [
       "68868"
      ]
     },
     "execution_count": 143,
     "metadata": {},
     "output_type": "execute_result"
    }
   ],
   "source": [
    "len(posStriFinishedDict)"
   ]
  },
  {
   "cell_type": "code",
   "execution_count": 144,
   "metadata": {},
   "outputs": [
    {
     "data": {
      "text/plain": [
       "'ٱقْرَأْ'"
      ]
     },
     "execution_count": 144,
     "metadata": {},
     "output_type": "execute_result"
    }
   ],
   "source": [
    "posDic[\"96:1:1\"]"
   ]
  },
  {
   "cell_type": "code",
   "execution_count": null,
   "metadata": {},
   "outputs": [],
   "source": [
    "# arbCharD"
   ]
  },
  {
   "cell_type": "code",
   "execution_count": 145,
   "metadata": {},
   "outputs": [
    {
     "data": {
      "text/plain": [
       "('96:1:1', 'قرا')"
      ]
     },
     "execution_count": 145,
     "metadata": {},
     "output_type": "execute_result"
    }
   ],
   "source": [
    "list(posStriFinishedDict.items())[0]"
   ]
  },
  {
   "cell_type": "code",
   "execution_count": null,
   "metadata": {},
   "outputs": [],
   "source": []
  },
  {
   "cell_type": "code",
   "execution_count": 146,
   "metadata": {},
   "outputs": [],
   "source": [
    "import json\n",
    "with open(\"posOrd.json\") as f:\n",
    "    posSer = json.loads(f.read())"
   ]
  },
  {
   "cell_type": "code",
   "execution_count": 147,
   "metadata": {},
   "outputs": [
    {
     "data": {
      "text/plain": [
       "(77438, '96:1:1')"
      ]
     },
     "execution_count": 147,
     "metadata": {},
     "output_type": "execute_result"
    }
   ],
   "source": [
    "len(posSer), posSer[0]"
   ]
  },
  {
   "cell_type": "code",
   "execution_count": 148,
   "metadata": {},
   "outputs": [],
   "source": [
    "posStrFirstDict = {}\n",
    "strPosDict = {}\n",
    "for pos in posSer:\n",
    "    if pos in posFinishedDict:\n",
    "        stri = posStriFinishedDict[pos]\n",
    "        if stri not in strPosDict:\n",
    "            strPosDict[stri] = pos\n",
    "            posStrFirstDict[pos] = stri"
   ]
  },
  {
   "cell_type": "code",
   "execution_count": 149,
   "metadata": {},
   "outputs": [
    {
     "data": {
      "text/plain": [
       "(1766,)"
      ]
     },
     "execution_count": 149,
     "metadata": {},
     "output_type": "execute_result"
    }
   ],
   "source": [
    "len(posStrFirstDict), \n",
    "# posStrFirstDict"
   ]
  },
  {
   "cell_type": "code",
   "execution_count": 145,
   "metadata": {},
   "outputs": [],
   "source": [
    "with open(\"data/lemmata.json\") as f:\n",
    "    lemmataRows = json.loads(f.read())\n",
    "lemmataD = {lemma[0]: lemma[1:] for lemma in lemmataRows }\n",
    "lemmata = [lemma[0] for lemma in lemmataRows]"
   ]
  },
  {
   "cell_type": "code",
   "execution_count": 152,
   "metadata": {},
   "outputs": [],
   "source": [
    "surStriFirstsDIct = {}\n",
    "\n",
    "for pos, stri in posStrFirstDict.items():\n",
    "    if not (stri in lemmata and lemmataD[stri] not in [\n",
    "        \"Noun\", \"Adjective\", \"Proper Noun\", \n",
    "        # \"Verb\", \n",
    "        \"Time adverb\", \n",
    "        \"Location adverb\",\n",
    "    ]):\n",
    "        sur = pos.split(':')[0]\n",
    "        if sur not in surStriFirstsDIct:\n",
    "            surStriFirstsDIct[sur] = {pos : stri}\n",
    "        else:\n",
    "            surStriFirstsDIct[sur][pos] = stri"
   ]
  },
  {
   "cell_type": "code",
   "execution_count": 153,
   "metadata": {},
   "outputs": [],
   "source": [
    "import json\n",
    "with open('posSerDict.json') as f:\n",
    "    posOrdD = json.loads(f.read())\n",
    "posCount = len(posOrdD)"
   ]
  },
  {
   "cell_type": "code",
   "execution_count": 154,
   "metadata": {},
   "outputs": [],
   "source": [
    "mdTxt = ''\n",
    "for sur, firsStrDict in surStriFirstsDIct.items():\n",
    "    mdTxt += f\"# {sur}\\n\"\n",
    "    oldSurAy =f\"{sur}:?\"\n",
    "    for surAyPos, stri in firsStrDict.items():\n",
    "        # if not (stri in lemmata and lemmataD[stri] not in [\n",
    "        #     \"Noun\", \"Adjective\", \"Proper Noun\", \n",
    "        #     # \"Verb\", \n",
    "        #     \"Time adverb\", \n",
    "        #     \"Location adverb\",\n",
    "        # ]):\n",
    "            newSurAy = \":\".join(surAyPos.split(\":\")[:2])\n",
    "            if newSurAy != oldSurAy:\n",
    "                mdTxt += f\"## {newSurAy}\\n\"\n",
    "                mdTxt += f\"![[Qtf#{newSurAy}]]\\n\"\n",
    "                oldSurAy = newSurAy\n",
    "            posOrd = posOrdD[surAyPos]\n",
    "            mdTxt += f\"### {surAyPos} {posOrd} {round((posOrd+1)/posCount*100,3)}\\n\"\n",
    "            mdTxt += f\"#### {stri}\\n\"\n",
    "\n",
    "    # mdTxt += '\\n'"
   ]
  },
  {
   "cell_type": "code",
   "execution_count": 155,
   "metadata": {},
   "outputs": [],
   "source": [
    "with open(\"data/compare/sAPFS.md\", \"w+\") as f:\n",
    "    f.write(mdTxt)"
   ]
  },
  {
   "cell_type": "markdown",
   "metadata": {},
   "source": [
    "# striPosDict"
   ]
  },
  {
   "cell_type": "code",
   "execution_count": null,
   "metadata": {},
   "outputs": [],
   "source": [
    "# import csv\n",
    "# flPth='data/htmlCompleted.tsv'\n",
    "# list_header=[\"position\",\"link_query\"]\n",
    "# with open(flPth) as f:\n",
    "#     finishedOld = csv.DictReader(f, delimiter='\\t')\n",
    "#     posStriFinishedDict = {finished[list_header[0]] : finished[list_header[1]]  for finished in finishedOld}\n",
    "#     # print(finishedOld.fieldnames)\n",
    "    "
   ]
  },
  {
   "cell_type": "code",
   "execution_count": null,
   "metadata": {},
   "outputs": [],
   "source": [
    "# striPosD = {}\n",
    "# for pos, stri in posStriFinishedDict.items():\n",
    "#     if stri not in striPosD:\n",
    "#         striPosD[stri] = [pos]\n",
    "#     else:\n",
    "#         striPosD[stri].append(pos)"
   ]
  },
  {
   "cell_type": "code",
   "execution_count": null,
   "metadata": {},
   "outputs": [],
   "source": [
    "# import json\n",
    "# with open(\"data/striPosD.json\", \"w+\") as f:\n",
    "#     f.write(json.dumps(striPosD))"
   ]
  },
  {
   "cell_type": "code",
   "execution_count": null,
   "metadata": {},
   "outputs": [],
   "source": [
    "# import json\n",
    "# with open(\"data/striPosD.json\") as f:\n",
    "#     striPosD = json.loads(f.read())"
   ]
  },
  {
   "cell_type": "code",
   "execution_count": 81,
   "metadata": {},
   "outputs": [],
   "source": [
    "import csv\n",
    "import json\n",
    "flPth='data/surAyPosStrAdvWrdMD.tsv'\n",
    "list_header=[\"surah\",\"ayah\",\"position\",\"word\",\"strings_dictionary\"]\n",
    "with open(flPth) as f:\n",
    "    surAyPosStrAdvWrdMDs = list(csv.DictReader(f, delimiter='\\t'))\n",
    "surAyPosStrAdvWrdMDRws = [list(surAyPosStrAdvWrdMD.values()) for surAyPosStrAdvWrdMD in surAyPosStrAdvWrdMDs]"
   ]
  },
  {
   "cell_type": "code",
   "execution_count": 276,
   "metadata": {},
   "outputs": [
    {
     "data": {
      "text/plain": [
       "'qrA'"
      ]
     },
     "execution_count": 276,
     "metadata": {},
     "output_type": "execute_result"
    }
   ],
   "source": [
    "json.loads(surAyPosStrAdvWrdMDRws[0][5])[0][\"stri\"]"
   ]
  },
  {
   "cell_type": "code",
   "execution_count": 82,
   "metadata": {},
   "outputs": [],
   "source": [
    "striSuAyPosWMD = {}\n",
    "for sur, ay, pos, wrd, mean, strLsJson in surAyPosStrAdvWrdMDRws:\n",
    "    strLs = json.loads(strLsJson)\n",
    "    for strD in strLs:\n",
    "        stri = strD[\"stri\"]\n",
    "        strTyp = strD[\"strTyp\"]\n",
    "        frm = strD[\"frm\"]\n",
    "        poSp = strD[\"poSp\"]\n",
    "        if strTyp not in striSuAyPosWMD:\n",
    "            striSuAyPosWMD[strTyp] = {}\n",
    "        # else:\n",
    "        if stri not in striSuAyPosWMD[strTyp]:\n",
    "            striSuAyPosWMD[strTyp][stri] = {}\n",
    "        if frm not in striSuAyPosWMD[strTyp][stri]:\n",
    "            striSuAyPosWMD[strTyp][stri][frm] = {}\n",
    "        if poSp not in striSuAyPosWMD[strTyp][stri][frm]:\n",
    "            striSuAyPosWMD[strTyp][stri][frm][poSp] = []\n",
    "        # posAlready = False\n",
    "        surAyPos = [sur,ay,pos]\n",
    "        if surAyPos not in striSuAyPosWMD[strTyp][stri][frm][poSp]:\n",
    "            striSuAyPosWMD[strTyp][stri][frm][poSp].append({\n",
    "                \"surAyPos\": [sur,ay,pos],\n",
    "                \"wrd\": wrd,\n",
    "                \"mean\": mean\n",
    "            })\n",
    "        else:\n",
    "            pass"
   ]
  },
  {
   "cell_type": "code",
   "execution_count": 278,
   "metadata": {},
   "outputs": [
    {
     "data": {
      "text/plain": [
       "(34, 1578, 3361)"
      ]
     },
     "execution_count": 278,
     "metadata": {},
     "output_type": "execute_result"
    }
   ],
   "source": [
    "len(striSuAyPosWMD[\"stem\"]), len(striSuAyPosWMD[\"root\"]), len(striSuAyPosWMD[\"lem\"])"
   ]
  },
  {
   "cell_type": "code",
   "execution_count": 83,
   "metadata": {},
   "outputs": [],
   "source": [
    "import json\n",
    "with open(\"data/striSuAyPosWMD.json\", \"w+\") as f:\n",
    "    f.write(json.dumps(striSuAyPosWMD))"
   ]
  },
  {
   "cell_type": "code",
   "execution_count": 48,
   "metadata": {},
   "outputs": [],
   "source": [
    "import json\n",
    "with open(\"data/striSuAyPosWMD.json\") as f:\n",
    "    striSuAyPosWMD = json.loads(f.read())"
   ]
  },
  {
   "cell_type": "code",
   "execution_count": 87,
   "metadata": {},
   "outputs": [
    {
     "data": {
      "text/plain": [
       "(1802, False)"
      ]
     },
     "execution_count": 87,
     "metadata": {},
     "output_type": "execute_result"
    }
   ],
   "source": [
    "len(striPosD), \"مُحَمَّد\" in striPosD.keys()"
   ]
  },
  {
   "cell_type": "markdown",
   "metadata": {},
   "source": [
    "# surahHighestStri"
   ]
  },
  {
   "cell_type": "code",
   "execution_count": null,
   "metadata": {},
   "outputs": [],
   "source": [
    "import json\n",
    "with open(\"data/striPosD.json\") as f:\n",
    "    striPosD = json.loads(f.read())"
   ]
  },
  {
   "cell_type": "code",
   "execution_count": 13,
   "metadata": {},
   "outputs": [],
   "source": [
    "import json\n",
    "with open(\"posOrd.json\") as f:\n",
    "    posOrd = json.loads(f.read())"
   ]
  },
  {
   "cell_type": "code",
   "execution_count": null,
   "metadata": {},
   "outputs": [],
   "source": [
    "with open(\"qdict.json\") as f:\n",
    "    qdict = json.loads(f.read())"
   ]
  },
  {
   "cell_type": "code",
   "execution_count": null,
   "metadata": {},
   "outputs": [],
   "source": [
    "with open(\"data/roots.json\") as f:\n",
    "    rootsD = json.loads(f.read())\n",
    "roots = rootsD.keys()"
   ]
  },
  {
   "cell_type": "code",
   "execution_count": 3,
   "metadata": {},
   "outputs": [],
   "source": [
    "import json\n",
    "with open(\"data/lemmata.json\") as f:\n",
    "    lemmataRows = json.loads(f.read())\n",
    "lemmataD = {lemma[0]: lemma[1:] for lemma in lemmataRows }\n",
    "lemmata = [lemma[0] for lemma in lemmataRows]"
   ]
  },
  {
   "cell_type": "code",
   "execution_count": null,
   "metadata": {},
   "outputs": [],
   "source": [
    "# poSps = list(set([lemma[3] for lemma in lemmataRows]))"
   ]
  },
  {
   "cell_type": "code",
   "execution_count": 4,
   "metadata": {},
   "outputs": [],
   "source": [
    "poSpCountD = {}\n",
    "for lemma in lemmataRows:\n",
    "    poSp = lemma[3]\n",
    "    if poSp not in poSpCountD:\n",
    "        poSpCountD[poSp] = 1\n",
    "    else:\n",
    "        poSpCountD[poSp] += 1"
   ]
  },
  {
   "cell_type": "code",
   "execution_count": null,
   "metadata": {},
   "outputs": [],
   "source": [
    "poSpCountDSorted = { k: v for k,v in sorted(poSpCountD.items(), key = lambda item: item[1])}\n",
    "poSpCountDSorted"
   ]
  },
  {
   "cell_type": "code",
   "execution_count": null,
   "metadata": {},
   "outputs": [],
   "source": [
    "surStriCounts = {}\n",
    "for stri, poss in striPosD.items():\n",
    "    # if stri in lemmata or stri in roots:\n",
    "        if not (stri in lemmata and lemmataD[stri] not in [\n",
    "            \"Noun\", \"Adjective\", \"Proper Noun\", \n",
    "            # \"Verb\", \n",
    "            \"Time adverb\", \n",
    "            \"Location adverb\",\n",
    "        ]):\n",
    "            for pos in poss:\n",
    "                sur = pos.split(\":\")[0]\n",
    "                if sur not in surStriCounts:\n",
    "                    surStriCounts[sur] = {}\n",
    "                if stri not in surStriCounts[sur]:\n",
    "                    # surHighestStri[sur][stri] = [pos]\n",
    "                    surStriCounts[sur][stri] = 1\n",
    "                else:\n",
    "                    # surHighestStri[sur][stri].append(pos)\n",
    "                    surStriCounts[sur][stri] += 1"
   ]
  },
  {
   "cell_type": "code",
   "execution_count": null,
   "metadata": {},
   "outputs": [],
   "source": [
    "surCountStrs = {}\n",
    "for sur, striD in surStriCounts.items():\n",
    "    if sur not in surCountStrs:\n",
    "        surCountStrs[sur] = {}\n",
    "    for stri, count in striD.items():\n",
    "        countStr = str(count)\n",
    "        if countStr not in surCountStrs[sur]:\n",
    "            surCountStrs[sur][countStr] = [stri]\n",
    "        else:\n",
    "            surCountStrs[sur][countStr].append(stri)"
   ]
  },
  {
   "cell_type": "code",
   "execution_count": null,
   "metadata": {},
   "outputs": [
    {
     "data": {
      "text/plain": [
       "(114,\n",
       " {'1': ['سمو',\n",
       "   'ربب',\n",
       "   'علم',\n",
       "   'عبد',\n",
       "   'هدي',\n",
       "   'نعم',\n",
       "   'غير',\n",
       "   'ضلل',\n",
       "   'يوم',\n",
       "   'قوم',\n",
       "   'ملك',\n",
       "   'دين',\n",
       "   'حمد',\n",
       "   'عون',\n",
       "   'غضب'],\n",
       "  '2': ['اله', 'صرط'],\n",
       "  '4': ['رحم']})"
      ]
     },
     "execution_count": 133,
     "metadata": {},
     "output_type": "execute_result"
    }
   ],
   "source": [
    "len(surCountStrs), surCountStrs[\"1\"]"
   ]
  },
  {
   "cell_type": "code",
   "execution_count": null,
   "metadata": {},
   "outputs": [],
   "source": [
    "surCountStrsSort = {\n",
    "    sur: {\n",
    "        str(count): countD[str(count)]\n",
    "        for count in sorted([int(countStr) for countStr in countD.keys()], reverse=True)\n",
    "    }\n",
    "    for sur, countD in surCountStrs.items()\n",
    "}"
   ]
  },
  {
   "cell_type": "code",
   "execution_count": null,
   "metadata": {},
   "outputs": [
    {
     "data": {
      "text/plain": [
       "{'4': ['رحم'],\n",
       " '2': ['اله', 'صرط'],\n",
       " '1': ['سمو',\n",
       "  'ربب',\n",
       "  'علم',\n",
       "  'عبد',\n",
       "  'هدي',\n",
       "  'نعم',\n",
       "  'غير',\n",
       "  'ضلل',\n",
       "  'يوم',\n",
       "  'قوم',\n",
       "  'ملك',\n",
       "  'دين',\n",
       "  'حمد',\n",
       "  'عون',\n",
       "  'غضب']}"
      ]
     },
     "execution_count": 135,
     "metadata": {},
     "output_type": "execute_result"
    }
   ],
   "source": [
    "surCountStrsSort[\"1\"]"
   ]
  },
  {
   "cell_type": "code",
   "execution_count": null,
   "metadata": {},
   "outputs": [],
   "source": [
    "import pandas as pd\n",
    "pd.set_option('display.max_rows', None)\n",
    "df = pd.DataFrame([[k,v] for k,v in surCountStrsSort.items()],columns=[\"surah\",\"count_strings\"])"
   ]
  },
  {
   "cell_type": "code",
   "execution_count": null,
   "metadata": {},
   "outputs": [],
   "source": [
    "df"
   ]
  },
  {
   "cell_type": "code",
   "execution_count": null,
   "metadata": {},
   "outputs": [],
   "source": [
    "# df.sort_values(\n",
    "#     by=\"positions\", \n",
    "#     key= lambda x : x.apply(len),\n",
    "#     ascending=False\n",
    "# )"
   ]
  },
  {
   "cell_type": "code",
   "execution_count": null,
   "metadata": {},
   "outputs": [],
   "source": [
    "surStriCounts = {\n",
    "    sur : {\n",
    "        str(count) : striD[str(count)]\n",
    "        for count in countOrd\n",
    "    }\n",
    "    for sur, countD in surCountStrs.items()\n",
    "    for countStr, striLs in countD.items()\n",
    "    if (countOrd := [int(countStr) for countStr in countD.keys()]).sort(reverse=True)\n",
    "}"
   ]
  },
  {
   "cell_type": "markdown",
   "metadata": {},
   "source": [
    "# striHighestSurah"
   ]
  },
  {
   "cell_type": "code",
   "execution_count": 15,
   "metadata": {},
   "outputs": [],
   "source": [
    "import json\n",
    "with open(\"data/striPosD.json\") as f:\n",
    "    striPosD = json.loads(f.read())"
   ]
  },
  {
   "cell_type": "code",
   "execution_count": 16,
   "metadata": {},
   "outputs": [],
   "source": [
    "with open(\"qdict.json\") as f:\n",
    "    qDict = json.loads(f.read())"
   ]
  },
  {
   "cell_type": "code",
   "execution_count": 17,
   "metadata": {},
   "outputs": [],
   "source": [
    "with open(\"data/roots.json\") as f:\n",
    "    rootsD = json.loads(f.read())\n",
    "roots = rootsD.keys()"
   ]
  },
  {
   "cell_type": "code",
   "execution_count": 18,
   "metadata": {},
   "outputs": [],
   "source": [
    "with open(\"data/lemmata.json\") as f:\n",
    "    lemmataRows = json.loads(f.read())\n",
    "lemmataD = {lemma[0]: lemma[1:] for lemma in lemmataRows }\n",
    "lemmata = [lemma[0] for lemma in lemmataRows]"
   ]
  },
  {
   "cell_type": "code",
   "execution_count": 19,
   "metadata": {},
   "outputs": [],
   "source": [
    "striSurCounts = {}\n",
    "for stri, poss in striPosD.items():\n",
    "    # if stri in lemmata or stri in roots:\n",
    "        if not (stri in lemmata and lemmataD[stri] not in [\n",
    "            \"Noun\", \"Adjective\", \"Proper Noun\", \n",
    "            # \"Verb\", \n",
    "            \"Time adverb\", \n",
    "            \"Location adverb\",\n",
    "        ]):\n",
    "            for pos in poss:\n",
    "                sur = pos.split(\":\")[0]\n",
    "                if stri not in striSurCounts:\n",
    "                    striSurCounts[stri] = {}\n",
    "                if stri not in striSurCounts[stri]:\n",
    "                    # surHighestStri[sur][stri] = [pos]\n",
    "                    striSurCounts[stri][sur] = 1\n",
    "                else:\n",
    "                    # surHighestStri[sur][stri].append(pos)\n",
    "                    striSurCounts[stri][sur] += 1"
   ]
  },
  {
   "cell_type": "code",
   "execution_count": 20,
   "metadata": {},
   "outputs": [],
   "source": [
    "from functools import reduce\n",
    "striSurRelFreq = {}\n",
    "totalWrdCount = len(posOrd)\n",
    "for stri, surDict in striSurCounts.items():\n",
    "    striTotCount = reduce(lambda p,q : p+q, surDict.values())\n",
    "    striSurRelFreq[stri] = {}\n",
    "    for sur, count in surDict.items():\n",
    "        surAllwrdCount = qDict[sur][\"word_count\"]\n",
    "        striRelFreq = count/striTotCount/surAllwrdCount*totalWrdCount\n",
    "        striSurRelFreq[stri][sur] = striRelFreq"
   ]
  },
  {
   "cell_type": "code",
   "execution_count": null,
   "metadata": {},
   "outputs": [],
   "source": []
  },
  {
   "cell_type": "code",
   "execution_count": null,
   "metadata": {},
   "outputs": [],
   "source": [
    "# strCountSurs = {}\n",
    "# for stri, surD in striSurCounts.items():\n",
    "#     if stri not in strCountSurs:\n",
    "#         strCountSurs[sur] = {}\n",
    "#     for stri, count in striD.items():\n",
    "#         countStr = str(count)\n",
    "#         if countStr not in surCountStrs[sur]:\n",
    "#             strCountSurs[sur][countStr] = [stri]\n",
    "#         else:\n",
    "#             strCountSurs[sur][countStr].append(stri)"
   ]
  },
  {
   "cell_type": "code",
   "execution_count": null,
   "metadata": {},
   "outputs": [],
   "source": [
    "len(surCountStrs), surCountStrs[\"1\"]"
   ]
  },
  {
   "cell_type": "code",
   "execution_count": 29,
   "metadata": {},
   "outputs": [],
   "source": [
    "striSurRelFreqSort = {\n",
    "    stri: {\n",
    "        sur: freq\n",
    "        for sur, freq in sorted(freqD.items(), key=lambda item: item[1], reverse=True)\n",
    "    }\n",
    "    for stri, freqD in striSurRelFreq.items()\n",
    "}"
   ]
  },
  {
   "cell_type": "code",
   "execution_count": null,
   "metadata": {},
   "outputs": [],
   "source": [
    "list(striSurRelFreqSort.items())[0]"
   ]
  },
  {
   "cell_type": "code",
   "execution_count": 30,
   "metadata": {},
   "outputs": [],
   "source": [
    "striSurRelFreqSort = {k:v for k,v in sorted(striSurRelFreqSort.items(), key=lambda item: len(item[1]), reverse=False)}"
   ]
  },
  {
   "cell_type": "code",
   "execution_count": null,
   "metadata": {},
   "outputs": [],
   "source": [
    "import csv\n",
    "flPth='data/stats/striSurRelFreqSort.tsv'\n",
    "list_header=[\"string\",\"surah_frequency\"]\n",
    "with open(flPth, 'w+') as f:\n",
    "    writer = csv.DictWriter(f, delimiter='\\t', fieldnames=list_header)\n",
    "    writer.writeheader()\n",
    "    # for datum in instLst:\n",
    "    # for k, datum in instDct.items():\n",
    "    for k,v in striSurRelFreqSort.items():\n",
    "        writer.writerow({\n",
    "            list_header[0] : k,\n",
    "            list_header[1] : v,\n",
    "        })\n",
    "    "
   ]
  },
  {
   "cell_type": "code",
   "execution_count": 9,
   "metadata": {},
   "outputs": [],
   "source": [
    "import csv\n",
    "flPth='data/stats/striSurRelFreqSort.tsv'\n",
    "list_header=[\"string\",\"surah_frequency\"]\n",
    "with open(flPth) as f:\n",
    "    striSurRelFreqSortLs = csv.DictReader(f, delimiter='\\t')\n",
    "    striSurRelFreqSort = {striSurRelFreq[list_header[0]] : striSurRelFreq[list_header[1]]  for striSurRelFreq  in striSurRelFreqSortLs }"
   ]
  },
  {
   "cell_type": "code",
   "execution_count": 31,
   "metadata": {},
   "outputs": [],
   "source": [
    "import pandas as pd\n",
    "pd.set_option('display.max_rows', None)\n",
    "df = pd.DataFrame([[k,v] for k,v in striSurRelFreqSort.items()],columns=[\"string\",\"surah_frequency\"])"
   ]
  },
  {
   "cell_type": "code",
   "execution_count": null,
   "metadata": {},
   "outputs": [],
   "source": [
    "# df.sort_values(\n",
    "    # by=\"surah_frequency\", \n",
    "    # key= lambda x : x.apply(len),\n",
    "    # ascending=True\n",
    "# )\n",
    "df"
   ]
  },
  {
   "cell_type": "markdown",
   "metadata": {},
   "source": [
    "# search terms"
   ]
  },
  {
   "cell_type": "code",
   "execution_count": 3,
   "metadata": {},
   "outputs": [],
   "source": [
    "import json\n",
    "flpth = 'data/striPosAdvD.json'\n",
    "with open(flpth) as f:\n",
    "    striPosAdvD = json.loads(f.read())"
   ]
  },
  {
   "cell_type": "code",
   "execution_count": 8,
   "metadata": {},
   "outputs": [],
   "source": [
    "from qChronolyze import rtTrns"
   ]
  },
  {
   "cell_type": "code",
   "execution_count": 17,
   "metadata": {},
   "outputs": [],
   "source": [
    "strD = { \n",
    "    stri \n",
    "    + ' ' +\n",
    "    rtTrns(stri,\"arb\",\"arbSch\",\"bkwSch\") \n",
    "    + ' ' +\n",
    "    rtTrns(rtTrns(stri,\"arb\",\"arbSch\",\"bkwSch\"),\"arb\",\"bkwSch\",\"alaSch\")\n",
    "    + ' ' +\n",
    "    rtTrns(rtTrns(stri,\"arb\",\"arbSch\",\"bkwSch\"),\"arb\",\"bkwSch\",\"simplSch\") : {\n",
    "        \"stri\": {\n",
    "            \"arbSch\": stri,\n",
    "            \"bkwSch\": bkw,\n",
    "            \"alaSch\": ala,\n",
    "            \"simplSch\": smp,\n",
    "        }, \n",
    "        \"typ\": typ if typ != 'lem' else 'lemma'\n",
    "    }  \n",
    "    for typ, typStrisD in striPosAdvD.items()\n",
    "    for stri in typStrisD.keys()\n",
    "    if (bkw := rtTrns(stri,\"arb\",\"arbSch\",\"bkwSch\"))\n",
    "    if (ala := rtTrns(bkw,\"arb\",\"bkwSch\",\"alaSch\"))\n",
    "    if (smp := rtTrns(bkw,\"arb\",\"bkwSch\",\"simplSch\"))\n",
    "}"
   ]
  },
  {
   "cell_type": "code",
   "execution_count": 18,
   "metadata": {},
   "outputs": [],
   "source": [
    "import json\n",
    "flpth = 'data/striD.json'\n",
    "with open(flpth, 'w+') as f:\n",
    "    f.write(json.dumps(strD))"
   ]
  }
 ],
 "metadata": {
  "kernelspec": {
   "display_name": "mlCond",
   "language": "python",
   "name": "python3"
  },
  "language_info": {
   "codemirror_mode": {
    "name": "ipython",
    "version": 3
   },
   "file_extension": ".py",
   "mimetype": "text/x-python",
   "name": "python",
   "nbconvert_exporter": "python",
   "pygments_lexer": "ipython3",
   "version": "3.9.18"
  }
 },
 "nbformat": 4,
 "nbformat_minor": 2
}
