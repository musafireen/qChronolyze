{
 "cells": [
  {
   "cell_type": "code",
   "execution_count": null,
   "metadata": {
    "vscode": {
     "languageId": "shellscript"
    }
   },
   "outputs": [],
   "source": [
    "sqlite3 qChron.db"
   ]
  },
  {
   "cell_type": "code",
   "execution_count": 1,
   "metadata": {},
   "outputs": [],
   "source": [
    "import csv\n",
    "rows = []\n",
    "with open('surAyPosStrAdvWrdMD.tsv') as f:\n",
    "    reader = csv.DictReader(f, delimiter='\\t', )\n",
    "    for row in reader:\n",
    "        rows.append(row)"
   ]
  },
  {
   "cell_type": "code",
   "execution_count": 2,
   "metadata": {},
   "outputs": [
    {
     "data": {
      "text/plain": [
       "{'surah': '96',\n",
       " 'ayah': '1',\n",
       " 'position': '1',\n",
       " 'wrd': 'ٱقْرَأْ',\n",
       " 'mean': 'Read',\n",
       " 'striDLs': '[{\"stri\": \"qrA\", \"strTyp\": \"root\", \"poSp\": \"V\", \"frm\": \"i\"}]'}"
      ]
     },
     "execution_count": 2,
     "metadata": {},
     "output_type": "execute_result"
    }
   ],
   "source": [
    "rows[0]"
   ]
  },
  {
   "cell_type": "code",
   "execution_count": 17,
   "metadata": {},
   "outputs": [
    {
     "name": "stdout",
     "output_type": "stream",
     "text": [
      "3 strings at 89:6:6, بِعَادٍ: \n",
      "[{'stri': 'Ewd', 'strTyp': 'root', 'poSp': 'PN', 'frm': 'i'}, {'stri': 'EaAd', 'strTyp': 'lem', 'poSp': 'PN', 'frm': 'i'}, {'stri': 'EaAd2', 'strTyp': 'lem', 'poSp': 'PN', 'frm': 'i'}]\n",
      "3 strings at 53:41:4, ٱلْأَوْفَىٰ: \n",
      "[{'stri': 'wfy', 'strTyp': 'root', 'poSp': 'ADJ', 'frm': 'i'}, {'stri': '>awofaY`', 'strTyp': 'lem', 'poSp': 'ADJ', 'frm': 'i'}, {'stri': '>awofaY`2', 'strTyp': 'lem', 'poSp': 'ADJ', 'frm': 'i'}]\n",
      "3 strings at 53:50:3, عَادًا: \n",
      "[{'stri': 'Ewd', 'strTyp': 'root', 'poSp': 'PN', 'frm': 'i'}, {'stri': 'EaAd', 'strTyp': 'lem', 'poSp': 'PN', 'frm': 'i'}, {'stri': 'EaAd2', 'strTyp': 'lem', 'poSp': 'PN', 'frm': 'i'}]\n",
      "3 strings at 50:13:1, وَعَادٌ: \n",
      "[{'stri': 'Ewd', 'strTyp': 'root', 'poSp': 'PN', 'frm': 'i'}, {'stri': 'EaAd', 'strTyp': 'lem', 'poSp': 'PN', 'frm': 'i'}, {'stri': 'EaAd2', 'strTyp': 'lem', 'poSp': 'PN', 'frm': 'i'}]\n",
      "3 strings at 54:18:2, عَادٌ: \n",
      "[{'stri': 'Ewd', 'strTyp': 'root', 'poSp': 'PN', 'frm': 'i'}, {'stri': 'EaAd', 'strTyp': 'lem', 'poSp': 'PN', 'frm': 'i'}, {'stri': 'EaAd2', 'strTyp': 'lem', 'poSp': 'PN', 'frm': 'i'}]\n",
      "3 strings at 38:12:5, وَعَادٌ: \n",
      "[{'stri': 'Ewd', 'strTyp': 'root', 'poSp': 'PN', 'frm': 'i'}, {'stri': 'EaAd', 'strTyp': 'lem', 'poSp': 'PN', 'frm': 'i'}, {'stri': 'EaAd2', 'strTyp': 'lem', 'poSp': 'PN', 'frm': 'i'}]\n",
      "3 strings at 7:65:2, عَادٍ: \n",
      "[{'stri': 'Ewd', 'strTyp': 'root', 'poSp': 'PN', 'frm': 'i'}, {'stri': 'EaAd', 'strTyp': 'lem', 'poSp': 'PN', 'frm': 'i'}, {'stri': 'EaAd2', 'strTyp': 'lem', 'poSp': 'PN', 'frm': 'i'}]\n",
      "3 strings at 7:74:7, عَادٍ: \n",
      "[{'stri': 'Ewd', 'strTyp': 'root', 'poSp': 'PN', 'frm': 'i'}, {'stri': 'EaAd', 'strTyp': 'lem', 'poSp': 'PN', 'frm': 'i'}, {'stri': 'EaAd2', 'strTyp': 'lem', 'poSp': 'PN', 'frm': 'i'}]\n",
      "3 strings at 7:107:2, عَصَاهُ: \n",
      "[{'stri': 'ESw', 'strTyp': 'root', 'poSp': 'N', 'frm': 'i'}, {'stri': 'EaSaA', 'strTyp': 'lem', 'poSp': 'N', 'frm': 'i'}, {'stri': 'EaSaA2', 'strTyp': 'lem', 'poSp': 'N', 'frm': 'i'}]\n",
      "3 strings at 7:117:6, عَصَاكَ: \n",
      "[{'stri': 'ESw', 'strTyp': 'root', 'poSp': 'N', 'frm': 'i'}, {'stri': 'EaSaA', 'strTyp': 'lem', 'poSp': 'N', 'frm': 'i'}, {'stri': 'EaSaA2', 'strTyp': 'lem', 'poSp': 'N', 'frm': 'i'}]\n",
      "3 strings at 7:160:14, بِّعَصَاكَ: \n",
      "[{'stri': 'ESw', 'strTyp': 'root', 'poSp': 'N', 'frm': 'i'}, {'stri': 'EaSaA', 'strTyp': 'lem', 'poSp': 'N', 'frm': 'i'}, {'stri': 'EaSaA2', 'strTyp': 'lem', 'poSp': 'N', 'frm': 'i'}]\n",
      "3 strings at 25:38:1, وَعَادًا: \n",
      "[{'stri': 'Ewd', 'strTyp': 'root', 'poSp': 'PN', 'frm': 'i'}, {'stri': 'EaAd', 'strTyp': 'lem', 'poSp': 'PN', 'frm': 'i'}, {'stri': 'EaAd2', 'strTyp': 'lem', 'poSp': 'PN', 'frm': 'i'}]\n",
      "3 strings at 20:18:3, عَصَاىَ: \n",
      "[{'stri': 'ESw', 'strTyp': 'root', 'poSp': 'N', 'frm': 'i'}, {'stri': 'EaSaA', 'strTyp': 'lem', 'poSp': 'N', 'frm': 'i'}, {'stri': 'EaSaA2', 'strTyp': 'lem', 'poSp': 'N', 'frm': 'i'}]\n",
      "3 strings at 20:94:2, يَبْنَؤُمَّ: \n",
      "[{'stri': 'Amm', 'strTyp': 'root', 'poSp': 'N', 'frm': 'i'}, {'stri': 'bny', 'strTyp': 'root', 'poSp': 'N', 'frm': 'i'}, {'stri': '{bon', 'strTyp': 'lem', 'poSp': 'N', 'frm': 'i'}]\n",
      "3 strings at 26:32:2, عَصَاهُ: \n",
      "[{'stri': 'ESw', 'strTyp': 'root', 'poSp': 'N', 'frm': 'i'}, {'stri': 'EaSaA', 'strTyp': 'lem', 'poSp': 'N', 'frm': 'i'}, {'stri': 'EaSaA2', 'strTyp': 'lem', 'poSp': 'N', 'frm': 'i'}]\n",
      "3 strings at 26:45:3, عَصَاهُ: \n",
      "[{'stri': 'ESw', 'strTyp': 'root', 'poSp': 'N', 'frm': 'i'}, {'stri': 'EaSaA', 'strTyp': 'lem', 'poSp': 'N', 'frm': 'i'}, {'stri': 'EaSaA2', 'strTyp': 'lem', 'poSp': 'N', 'frm': 'i'}]\n",
      "3 strings at 26:63:6, بِّعَصَاكَ: \n",
      "[{'stri': 'ESw', 'strTyp': 'root', 'poSp': 'N', 'frm': 'i'}, {'stri': 'EaSaA', 'strTyp': 'lem', 'poSp': 'N', 'frm': 'i'}, {'stri': 'EaSaA2', 'strTyp': 'lem', 'poSp': 'N', 'frm': 'i'}]\n",
      "3 strings at 26:123:2, عَادٌ: \n",
      "[{'stri': 'Ewd', 'strTyp': 'root', 'poSp': 'PN', 'frm': 'i'}, {'stri': 'EaAd', 'strTyp': 'lem', 'poSp': 'PN', 'frm': 'i'}, {'stri': 'EaAd2', 'strTyp': 'lem', 'poSp': 'PN', 'frm': 'i'}]\n",
      "3 strings at 27:10:2, عَصَاكَ: \n",
      "[{'stri': 'ESw', 'strTyp': 'root', 'poSp': 'N', 'frm': 'i'}, {'stri': 'EaSaA', 'strTyp': 'lem', 'poSp': 'N', 'frm': 'i'}, {'stri': 'EaSaA2', 'strTyp': 'lem', 'poSp': 'N', 'frm': 'i'}]\n",
      "3 strings at 28:31:3, عَصَاكَ: \n",
      "[{'stri': 'ESw', 'strTyp': 'root', 'poSp': 'N', 'frm': 'i'}, {'stri': 'EaSaA', 'strTyp': 'lem', 'poSp': 'N', 'frm': 'i'}, {'stri': 'EaSaA2', 'strTyp': 'lem', 'poSp': 'N', 'frm': 'i'}]\n",
      "3 strings at 11:50:2, عَادٍ: \n",
      "[{'stri': 'Ewd', 'strTyp': 'root', 'poSp': 'PN', 'frm': 'i'}, {'stri': 'EaAd', 'strTyp': 'lem', 'poSp': 'PN', 'frm': 'i'}, {'stri': 'EaAd2', 'strTyp': 'lem', 'poSp': 'PN', 'frm': 'i'}]\n",
      "3 strings at 11:59:2, عَادٌ: \n",
      "[{'stri': 'Ewd', 'strTyp': 'root', 'poSp': 'PN', 'frm': 'i'}, {'stri': 'EaAd', 'strTyp': 'lem', 'poSp': 'PN', 'frm': 'i'}, {'stri': 'EaAd2', 'strTyp': 'lem', 'poSp': 'PN', 'frm': 'i'}]\n",
      "3 strings at 11:60:10, عَادًا: \n",
      "[{'stri': 'Ewd', 'strTyp': 'root', 'poSp': 'PN', 'frm': 'i'}, {'stri': 'EaAd', 'strTyp': 'lem', 'poSp': 'PN', 'frm': 'i'}, {'stri': 'EaAd2', 'strTyp': 'lem', 'poSp': 'PN', 'frm': 'i'}]\n",
      "3 strings at 11:60:15, لِّعَادٍ: \n",
      "[{'stri': 'Ewd', 'strTyp': 'root', 'poSp': 'PN', 'frm': 'i'}, {'stri': 'EaAd', 'strTyp': 'lem', 'poSp': 'PN', 'frm': 'i'}, {'stri': 'EaAd2', 'strTyp': 'lem', 'poSp': 'PN', 'frm': 'i'}]\n",
      "3 strings at 40:31:5, وَعَادٍ: \n",
      "[{'stri': 'Ewd', 'strTyp': 'root', 'poSp': 'PN', 'frm': 'i'}, {'stri': 'EaAd', 'strTyp': 'lem', 'poSp': 'PN', 'frm': 'i'}, {'stri': 'EaAd2', 'strTyp': 'lem', 'poSp': 'PN', 'frm': 'i'}]\n",
      "3 strings at 41:13:8, عَادٍ: \n",
      "[{'stri': 'Ewd', 'strTyp': 'root', 'poSp': 'PN', 'frm': 'i'}, {'stri': 'EaAd', 'strTyp': 'lem', 'poSp': 'PN', 'frm': 'i'}, {'stri': 'EaAd2', 'strTyp': 'lem', 'poSp': 'PN', 'frm': 'i'}]\n",
      "3 strings at 41:15:2, عَادٌ: \n",
      "[{'stri': 'Ewd', 'strTyp': 'root', 'poSp': 'PN', 'frm': 'i'}, {'stri': 'EaAd', 'strTyp': 'lem', 'poSp': 'PN', 'frm': 'i'}, {'stri': 'EaAd2', 'strTyp': 'lem', 'poSp': 'PN', 'frm': 'i'}]\n",
      "3 strings at 46:21:3, عَادٍ: \n",
      "[{'stri': 'Ewd', 'strTyp': 'root', 'poSp': 'PN', 'frm': 'i'}, {'stri': 'EaAd', 'strTyp': 'lem', 'poSp': 'PN', 'frm': 'i'}, {'stri': 'EaAd2', 'strTyp': 'lem', 'poSp': 'PN', 'frm': 'i'}]\n",
      "3 strings at 51:41:2, عَادٍ: \n",
      "[{'stri': 'Ewd', 'strTyp': 'root', 'poSp': 'PN', 'frm': 'i'}, {'stri': 'EaAd', 'strTyp': 'lem', 'poSp': 'PN', 'frm': 'i'}, {'stri': 'EaAd2', 'strTyp': 'lem', 'poSp': 'PN', 'frm': 'i'}]\n",
      "3 strings at 18:12:6, أَحْصَىٰ: \n",
      "[{'stri': 'HSy', 'strTyp': 'root', 'poSp': 'N', 'frm': 'i'}, {'stri': '>aHoSaY`', 'strTyp': 'lem', 'poSp': 'N', 'frm': 'i'}, {'stri': '>aHoSaY`2', 'strTyp': 'lem', 'poSp': 'N', 'frm': 'i'}]\n",
      "3 strings at 14:9:9, وَعَادٍ: \n",
      "[{'stri': 'Ewd', 'strTyp': 'root', 'poSp': 'PN', 'frm': 'i'}, {'stri': 'EaAd', 'strTyp': 'lem', 'poSp': 'PN', 'frm': 'i'}, {'stri': 'EaAd2', 'strTyp': 'lem', 'poSp': 'PN', 'frm': 'i'}]\n",
      "3 strings at 69:4:3, وَعَادٌۢ: \n",
      "[{'stri': 'Ewd', 'strTyp': 'root', 'poSp': 'PN', 'frm': 'i'}, {'stri': 'EaAd', 'strTyp': 'lem', 'poSp': 'PN', 'frm': 'i'}, {'stri': 'EaAd2', 'strTyp': 'lem', 'poSp': 'PN', 'frm': 'i'}]\n",
      "3 strings at 69:6:2, عَادٌ: \n",
      "[{'stri': 'Ewd', 'strTyp': 'root', 'poSp': 'PN', 'frm': 'i'}, {'stri': 'EaAd', 'strTyp': 'lem', 'poSp': 'PN', 'frm': 'i'}, {'stri': 'EaAd2', 'strTyp': 'lem', 'poSp': 'PN', 'frm': 'i'}]\n",
      "3 strings at 29:38:1, وَعَادًا: \n",
      "[{'stri': 'Ewd', 'strTyp': 'root', 'poSp': 'PN', 'frm': 'i'}, {'stri': 'EaAd', 'strTyp': 'lem', 'poSp': 'PN', 'frm': 'i'}, {'stri': 'EaAd2', 'strTyp': 'lem', 'poSp': 'PN', 'frm': 'i'}]\n",
      "3 strings at 9:70:9, وَعَادٍ: \n",
      "[{'stri': 'Ewd', 'strTyp': 'root', 'poSp': 'PN', 'frm': 'i'}, {'stri': 'EaAd', 'strTyp': 'lem', 'poSp': 'PN', 'frm': 'i'}, {'stri': 'EaAd2', 'strTyp': 'lem', 'poSp': 'PN', 'frm': 'i'}]\n",
      "3 strings at 9:111:25, أَوْفَىٰ: \n",
      "[{'stri': 'wfy', 'strTyp': 'root', 'poSp': 'N', 'frm': 'i'}, {'stri': '>awofaY`', 'strTyp': 'lem', 'poSp': 'N', 'frm': 'i'}, {'stri': '>awofaY`2', 'strTyp': 'lem', 'poSp': 'N', 'frm': 'i'}]\n",
      "3 strings at 22:42:8, وَعَادٌ: \n",
      "[{'stri': 'Ewd', 'strTyp': 'root', 'poSp': 'PN', 'frm': 'i'}, {'stri': 'EaAd', 'strTyp': 'lem', 'poSp': 'PN', 'frm': 'i'}, {'stri': 'EaAd2', 'strTyp': 'lem', 'poSp': 'PN', 'frm': 'i'}]\n",
      "3 strings at 2:60:7, بِّعَصَاكَ: \n",
      "[{'stri': 'ESw', 'strTyp': 'root', 'poSp': 'N', 'frm': 'i'}, {'stri': 'EaSaA', 'strTyp': 'lem', 'poSp': 'N', 'frm': 'i'}, {'stri': 'EaSaA2', 'strTyp': 'lem', 'poSp': 'N', 'frm': 'i'}]\n",
      "3 strings at 33:33:7, ٱلْجَـٰهِلِيَّةِ: \n",
      "[{'stri': 'jhl', 'strTyp': 'root', 'poSp': 'PN', 'frm': 'i'}, {'stri': 'ja`hiliy~ap', 'strTyp': 'lem', 'poSp': 'PN', 'frm': 'i'}, {'stri': 'ja`hiliy~ap2', 'strTyp': 'lem', 'poSp': 'PN', 'frm': 'i'}]\n",
      "3 strings at 48:26:9, ٱلْجَـٰهِلِيَّةِ: \n",
      "[{'stri': 'jhl', 'strTyp': 'root', 'poSp': 'PN', 'frm': 'i'}, {'stri': 'ja`hiliy~ap', 'strTyp': 'lem', 'poSp': 'PN', 'frm': 'i'}, {'stri': 'ja`hiliy~ap2', 'strTyp': 'lem', 'poSp': 'PN', 'frm': 'i'}]\n",
      "3 strings at 5:50:2, ٱلْجَـٰهِلِيَّةِ: \n",
      "[{'stri': 'jhl', 'strTyp': 'root', 'poSp': 'PN', 'frm': 'i'}, {'stri': 'ja`hiliy~ap', 'strTyp': 'lem', 'poSp': 'PN', 'frm': 'i'}, {'stri': 'ja`hiliy~ap2', 'strTyp': 'lem', 'poSp': 'PN', 'frm': 'i'}]\n"
     ]
    }
   ],
   "source": [
    "import json\n",
    "for row in rows:\n",
    "    surah = row[\"surah\"]\n",
    "    ayah = row[\"ayah\"]\n",
    "    position = row[\"position\"]\n",
    "    wrd = row[\"wrd\"]\n",
    "    striDLs = json.loads(row[\"striDLs\"])\n",
    "    lenStriDLs = len(striDLs)\n",
    "    if lenStriDLs == 0:\n",
    "        # print(f\"at {surah}:{ayah}:{position}, {wrd} has no string\")\n",
    "        pass\n",
    "    elif lenStriDLs < 0:\n",
    "        print(f\"weird negative strings at {surah}:{ayah}:{position}, {wrd}: \\n{striDLs}\")\n",
    "    else:\n",
    "        isStem = False\n",
    "        for strD in striDLs:\n",
    "            if strD[\"strTyp\"] == \"stem\":\n",
    "                isStem = True\n",
    "        if isStem == True:\n",
    "            # print(f\"stem at {surah}:{ayah}:{position}, {wrd}: \\n{striDLs}\")\n",
    "            pass\n",
    "        else:\n",
    "            if lenStriDLs == 1:\n",
    "                pass\n",
    "            elif lenStriDLs == 2:\n",
    "                strObj1 = striDLs[0]\n",
    "                strObj2 = striDLs[1]\n",
    "                strObj1Len = len(strObj1)\n",
    "                strObj2Len = len(strObj2)\n",
    "                if strObj1Len != strObj2Len:\n",
    "                    print(f\" missing or extra info at {surah}:{ayah}:{position}, {wrd}: \\n{striDLs}\")\n",
    "                else:\n",
    "                    for k1 in [\"strTyp\"]:\n",
    "                        if strObj1[k1] == strObj2[k1]:\n",
    "                            print(f\"weird double entry at {surah}:{ayah}:{position}, {wrd}\\n{striDLs}\")\n",
    "                    for k2 in [\"frm\", \"poSp\"]:\n",
    "                        if strObj1[k2] != strObj2[k2]:\n",
    "                            print(f\"weird conflicting entry at {surah}:{ayah}:{position}, {wrd}\\n{striDLs}\")                \n",
    "            elif lenStriDLs > 2:\n",
    "                print(f\"{lenStriDLs} strings at {surah}:{ayah}:{position}, {wrd}: \\n{striDLs}\")\n",
    "                pass"
   ]
  },
  {
   "cell_type": "code",
   "execution_count": null,
   "metadata": {},
   "outputs": [],
   "source": [
    "import sqlite3\n",
    "conn = sqlite3.connect('qCrhon.db')\n",
    "cursor = conn.cursor()\n",
    "cursor.execute('''\n",
    "    CREATE TABLE IF NOT EXISTS suAyPosT (\n",
    "        suAyPos TEXT PRIMARY KEY NOT NULL,\n",
    "        surah INTEGER NOT NULL,\n",
    "        ayah INTEGER NOT NULL,\n",
    "        position INTEGER NOT NULL,\n",
    "        wrd TEXT NOT NULL,\n",
    "        mean TEXT NOT NULL DEFAULT '',\n",
    "        striDLs TEXT NOT NULL DEFAULT '[]',\n",
    "    )\n",
    "''')"
   ]
  },
  {
   "cell_type": "code",
   "execution_count": null,
   "metadata": {},
   "outputs": [],
   "source": [
    "cursor.execute('''\n",
    "    CREATE TABLE striT (\n",
    "        stri TEXT PRIMARY KEY,\n",
    "    );\n",
    "''')"
   ]
  },
  {
   "cell_type": "code",
   "execution_count": null,
   "metadata": {},
   "outputs": [],
   "source": [
    "cursor.execute('''\n",
    "    CREATE TABLE suAyPos_stri (\n",
    "        suAyPos TEXT,\n",
    "        stri TEXT,\n",
    "        PRIMARY KEY (suAyPos, stri),\n",
    "        FOREIGN KEY (suAyPos) REFERENCES suAyPosT(suAyPos),\n",
    "        FOREIGN KEY (stri) REFERENCES striT(stri)\n",
    "    );\n",
    "''')"
   ]
  },
  {
   "cell_type": "code",
   "execution_count": null,
   "metadata": {},
   "outputs": [],
   "source": [
    "# backend/database/__init__.py\n",
    "\n",
    "from sqlalchemy import Column, Integer, String, ForeignKey, Table, create_engine\n",
    "# from sqlalchemy.ext.declarative import declarative_base\n",
    "\n",
    "from sqlalchemy.orm import declarative_base, relationship, sessionmaker\n",
    "\n",
    "Base = declarative_base()\n",
    "\n",
    "from . import *"
   ]
  },
  {
   "cell_type": "code",
   "execution_count": null,
   "metadata": {},
   "outputs": [],
   "source": [
    "# Association table\n",
    "suAyPos_stri = Table(\n",
    "    'suAyPos_stri', Base.metadata,\n",
    "    Column('suAyPos', ForeignKey('suAyPosT.suAyPos'), primary_key=True),\n",
    "    Column('stri', ForeignKey('striT.stri'), primary_key=True)\n",
    ")"
   ]
  },
  {
   "cell_type": "code",
   "execution_count": null,
   "metadata": {},
   "outputs": [],
   "source": [
    "# backend/database/models/suAyPosT.py\n",
    "\n",
    "# backend/database/models/suAyPosT.py\n",
    "from backend.database.models import Column, Integer, String\n",
    "#, create_engine\n",
    "# from sqlalchemy.ext.declarative import declarative_base\n",
    "from backend.database import Base\n",
    "\n",
    "class SuAyPosT(Base):\n",
    "    __tablename__ = 'suAyPosT'\n",
    "    suAyPos = Column(String, primary_key=True)\n",
    "    stris = relationship(\"StriT\", secondary=suAyPos_stri, back_populates=\"suaypos_list\")\n",
    "\n",
    "class suAyPosTC(Base):\n",
    "    __tablename__ = 'suAyPosT'\n",
    "\n",
    "    suAyPos = Column(String, primary_key=True, nullable=False)\n",
    "    surah = Column(Integer, nullable=False)\n",
    "    ayah = Column(Integer, nullable=False)\n",
    "    position = Column(Integer, nullable=False)\n",
    "    wrd = Column(String, nullable=False)  \n",
    "    mean = Column(String, nullable=False, default='')  \n",
    "    striDLs = Column(String, nullable=False, default='[]')\n"
   ]
  },
  {
   "cell_type": "code",
   "execution_count": 2,
   "metadata": {},
   "outputs": [
    {
     "data": {
      "text/plain": [
       "__main__.suAyPosTC"
      ]
     },
     "execution_count": 2,
     "metadata": {},
     "output_type": "execute_result"
    }
   ],
   "source": [
    "suAyPosTC"
   ]
  },
  {
   "cell_type": "code",
   "execution_count": null,
   "metadata": {},
   "outputs": [],
   "source": [
    "class StriT(Base):\n",
    "    __tablename__ = 'striT'\n",
    "    stri = Column(String, primary_key=True)\n",
    "    suaypos_list = relationship(\"SuAyPosT\", secondary=suAyPos_stri, back_populates=\"stris\")\n"
   ]
  }
 ],
 "metadata": {
  "language_info": {
   "name": "python"
  }
 },
 "nbformat": 4,
 "nbformat_minor": 2
}
