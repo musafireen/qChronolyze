{
 "cells": [
  {
   "cell_type": "code",
   "execution_count": 2,
   "metadata": {},
   "outputs": [],
   "source": [
    "from qChronolyze import bkwSch2arbSch"
   ]
  },
  {
   "cell_type": "code",
   "execution_count": null,
   "metadata": {},
   "outputs": [],
   "source": [
    "# {\n",
    "#     v: k for k,v in bkwSch2arbSch.items()\n",
    "# }\n",
    "bkwSch2arbSch"
   ]
  },
  {
   "cell_type": "code",
   "execution_count": 7,
   "metadata": {},
   "outputs": [
    {
     "name": "stdout",
     "output_type": "stream",
     "text": [
      "ّ   ~\n",
      "ْ   o\n",
      "ٓ   ^\n",
      "ٔ   #\n",
      "ٰ   `\n",
      "ً   F\n",
      "ٌ   N\n",
      "ٍ   K\n"
     ]
    }
   ],
   "source": [
    "from qChronolyze import arbVwlsDict\n",
    "normVwlLs = ['a','u','i',]\n",
    "for k, v in arbVwlsDict.items():\n",
    "    if k not in normVwlLs:\n",
    "        print(v, ' ', k)"
   ]
  },
  {
   "cell_type": "code",
   "execution_count": 9,
   "metadata": {},
   "outputs": [
    {
     "name": "stdout",
     "output_type": "stream",
     "text": [
      "ء   '\n",
      "أ   >\n",
      "ؤ   &\n",
      "إ   <\n",
      "ئ   }\n",
      "ا   A\n",
      "ة   p\n",
      "ث   v\n",
      "ح   H\n",
      "خ   x\n",
      "ذ   *\n",
      "ش   $\n",
      "ص   S\n",
      "ض   D\n",
      "ط   T\n",
      "ظ   Z\n",
      "ع   E\n",
      "غ   g\n",
      "ـ   _\n",
      "ى   Y\n",
      "ٱ   {\n",
      "۟   @\n",
      "۠   \"\n",
      "ۢ   [\n",
      "ۣ   ;\n",
      "ۥ   ,\n",
      "ۦ   .\n",
      "ۨ   !\n",
      "۪   -\n",
      "۫   +\n",
      "۬   %\n",
      "ۭ   ]\n"
     ]
    }
   ],
   "source": [
    "from qChronolyze import arbConsD\n",
    "normCnsLs = ['b','f','m','t','d','n','s','z','j','k','q','h','w','l','r','y',]\n",
    "for k, v in arbConsD.items():\n",
    "    if k not in normCnsLs:\n",
    "        print(v, ' ', k)"
   ]
  },
  {
   "cell_type": "markdown",
   "metadata": {},
   "source": [
    "# bkw to ala"
   ]
  },
  {
   "cell_type": "code",
   "execution_count": 5,
   "metadata": {},
   "outputs": [],
   "source": [
    "bkw2Ala = [\n",
    "    (r\"(?<!^)[\\>\\<\\&\\}\\#]\",\"'\"),\n",
    "    (r\"(?<=^)[\\>\\<\\&\\}\\#]\",\"\"),\n",
    "    (r\"\\[\",\"m\"),\n",
    "    (\"v\",\"th\"),\n",
    "    (r\"\\*\",\"dh\"),\n",
    "    (\"T\",\"ṭ\"),\n",
    "    (\"!\",\"n\"),\n",
    "    (\"D\",\"ḍ\"),\n",
    "    (\"Z\",\"ẓ\"),\n",
    "    (\"S\",\"ṣ\"),\n",
    "    (r\"\\$\",\"sh\"),\n",
    "    (\"x\",\"kh\"),\n",
    "    (\"H\",\"ḥ\"),\n",
    "    (\"g\",\"gh\"),\n",
    "    (\"E\",\"‘\"),\n",
    "    (\"p\",\"\"),\n",
    "    (\"iy\",\"ī\"),\n",
    "    (\"uw\",\"ū\"),\n",
    "    (r\"(.)\\~\",\"\\\\1\\\\1\"),\n",
    "    (r\"(?:aY\\`|a\\,\\`|a\\.`|aY|a\\,|a\\.|\\^A|aA|\\`|\\^)\",\"ā\"),\n",
    "    # (r\"(?:aY\\`|a\\,\\`|a\\.`)\",\"ā\"),\n",
    "    # (r\"(?:aY|a\\,|a\\.|\\^A|aA)\",\"ā\"),\n",
    "    # (r\"(?:\\`|\\^)\",\"ā\"),\n",
    "    (\"o\",\"\"),\n",
    "    (\"F\",\"an\"),\n",
    "    (\"N\",\"un\"),\n",
    "    (\"K\",\"in\"),\n",
    "    (r\"[\\%\\+\\-]\",\"\"),\n",
    "    (r\"(?<=^)\\{(?!l)\",\"i\"),\n",
    "    (r\"(?<=^)\\{(?=l)\",\"a\"),\n",
    "    (r\"(?<=^)A(?!l)\",\"i\"),\n",
    "    (r\"(?<=^)A(?=l)\",\"a\"),\n",
    "    # (\"A\",\"\"),\n",
    "]"
   ]
  },
  {
   "cell_type": "code",
   "execution_count": null,
   "metadata": {},
   "outputs": [],
   "source": [
    "rt = 'muwsaY`'\n",
    "for pair in bkw2Ala:\n",
    "    rt = pair"
   ]
  },
  {
   "cell_type": "code",
   "execution_count": 4,
   "metadata": {},
   "outputs": [
    {
     "data": {
      "text/plain": [
       "True"
      ]
     },
     "execution_count": 4,
     "metadata": {},
     "output_type": "execute_result"
    }
   ],
   "source": [
    "from qChronolyze import rtTrns, remVwls\n",
    "\n",
    "# rtTrns(\n",
    "#     # \"{bn\",\n",
    "#     # \"Al~`h\",\n",
    "#     # \"muwsaY`\",\n",
    "#     \"saAmiriy~\",\n",
    "#     \"arb\",\n",
    "#     \"bkwSch\",\n",
    "#     \"alaSch\"\n",
    "# )\n",
    "\n",
    "stri1 = \"madiynap\"\n",
    "\n",
    "stri1Arb = rtTrns(stri1,\"arb\",\"bkwSch\",\"arbSch\",)\n",
    "\n",
    "str1NV = remVwls(stri1Arb)\n",
    "\n",
    "stri2 = \"ٱلْمَدِينَةِ\"\n",
    "str2NV = remVwls(stri2)\n",
    "\n",
    "str1NV in str2NV"
   ]
  },
  {
   "cell_type": "code",
   "execution_count": 1,
   "metadata": {},
   "outputs": [
    {
     "data": {
      "text/plain": [
       "'mirīy`'"
      ]
     },
     "execution_count": 1,
     "metadata": {},
     "output_type": "execute_result"
    }
   ],
   "source": [
    "\n",
    "\n",
    "import re\n",
    "# pair = (r\"(?:aY\\`|a\\,\\`|a\\.`|aY|a\\,|a\\.|\\^A|aA|\\`|\\^)\",\"ā\")\n",
    "# pair = (r\"(?<!^)(.)(\\1)\\~\",\"\\\\1\\\\1\")\n",
    "pair = (\"iy\",\"ī\")\n",
    "re.sub(\n",
    "    pair[0],\n",
    "    pair[1],\n",
    "    # \"muwsaY`\",\n",
    "    \"miriyy`\",\n",
    ")\n",
    "\n"
   ]
  },
  {
   "cell_type": "code",
   "execution_count": 1,
   "metadata": {},
   "outputs": [
    {
     "name": "stdout",
     "output_type": "stream",
     "text": [
      "qyArLegSch is  ALA_Scheme\n",
      "args in str init:  stri:  ruwH flt:  strTyp: lem frm: None poSp: None inpLng: None inpSch: None\n",
      "props set in str init:  stri:  ruwH flt:  strTyp: lem frm: All poSp: All inpLng: arabic inpSch: buckwalter_Scheme\n",
      "args in str init:  stri:  qudus flt:  strTyp: lem frm: None poSp: None inpLng: None inpSch: None\n",
      "props set in str init:  stri:  qudus flt:  strTyp: lem frm: All poSp: All inpLng: arabic inpSch: buckwalter_Scheme\n",
      "qyArLegSch is  ALA_Scheme\n",
      "args in str init:  stri:  ruwH flt:  strTyp: lem frm: None poSp: None inpLng: None inpSch: None\n",
      "props set in str init:  stri:  ruwH flt:  strTyp: lem frm: All poSp: All inpLng: arabic inpSch: buckwalter_Scheme\n",
      "args in str init:  stri:  qudus flt:  strTyp: lem frm: None poSp: None inpLng: None inpSch: None\n",
      "props set in str init:  stri:  qudus flt:  strTyp: lem frm: All poSp: All inpLng: arabic inpSch: buckwalter_Scheme\n",
      "qyArLegSch is  ALA_Scheme\n",
      "args in str init:  stri:  ruwH flt:  strTyp: lem frm: None poSp: None inpLng: None inpSch: None\n",
      "props set in str init:  stri:  ruwH flt:  strTyp: lem frm: All poSp: All inpLng: arabic inpSch: buckwalter_Scheme\n",
      "ruwH lem All  All False arb bkwSch\n",
      "qudus lem All  All False arb bkwSch\n",
      "ruwH lem All  All False arb bkwSch\n",
      "qudus lem All  All False arb bkwSch\n",
      "ruwH lem All  All False arb bkwSch\n"
     ]
    },
    {
     "data": {
      "text/plain": [
       "([['16', '102', ['3', '4']],\n",
       "  ['2', '87', ['15', '16']],\n",
       "  ['2', '253', ['20', '21']],\n",
       "  ['5', '110', ['14', '15']]],\n",
       " [['97', '4', ['3']],\n",
       "  ['38', '72', ['6']],\n",
       "  ['19', '17', ['7']],\n",
       "  ['26', '193', ['3']],\n",
       "  ['17', '85', ['3', '5']],\n",
       "  ['15', '29', ['6']],\n",
       "  ['40', '15', ['6']],\n",
       "  ['42', '52', ['4']],\n",
       "  ['16', '2', ['3']],\n",
       "  ['21', '91', ['7']],\n",
       "  ['32', '9', ['6']],\n",
       "  ['70', '4', ['3']],\n",
       "  ['78', '38', ['3']],\n",
       "  ['4', '171', ['24']],\n",
       "  ['58', '22', ['28']],\n",
       "  ['66', '12', ['10']]],\n",
       " [['97', '4', ['3']],\n",
       "  ['38', '72', ['6']],\n",
       "  ['19', '17', ['7']],\n",
       "  ['26', '193', ['3']],\n",
       "  ['17', '85', ['3', '5']],\n",
       "  ['15', '29', ['6']],\n",
       "  ['40', '15', ['6']],\n",
       "  ['42', '52', ['4']],\n",
       "  ['16', '2', ['3']],\n",
       "  ['16', '102', ['3']],\n",
       "  ['21', '91', ['7']],\n",
       "  ['32', '9', ['6']],\n",
       "  ['70', '4', ['3']],\n",
       "  ['78', '38', ['3']],\n",
       "  ['2', '87', ['15']],\n",
       "  ['2', '253', ['20']],\n",
       "  ['4', '171', ['24']],\n",
       "  ['58', '22', ['28']],\n",
       "  ['66', '12', ['10']],\n",
       "  ['5', '110', ['14']]])"
      ]
     },
     "execution_count": 1,
     "metadata": {},
     "output_type": "execute_result"
    }
   ],
   "source": [
    "from qChronolyze import intersct, combClass\n",
    "\n",
    "comb1 = combClass(\n",
    "    strL=[\n",
    "        {\"stri\": \"ruwH\", \"strTyp\": \"lem\"},\n",
    "        {\"stri\": \"qudus\", \"strTyp\": \"lem\"},\n",
    "    ],\n",
    ")\n",
    "comb2 = combClass(\n",
    "    strL=[\n",
    "        {\"stri\": \"ruwH\", \"strTyp\": \"lem\"},\n",
    "        {\"stri\": \"qudus\", \"strTyp\": \"lem\"},\n",
    "    ],\n",
    "    wrdDis = -1,\n",
    ")\n",
    "comb3 = combClass(\n",
    "    strL=[\n",
    "        {\"stri\": \"ruwH\", \"strTyp\": \"lem\"},\n",
    "    ],\n",
    ")\n",
    "\n",
    "intersct(comb1), intersct(comb2), intersct(comb3)"
   ]
  },
  {
   "cell_type": "markdown",
   "metadata": {},
   "source": [
    "# arb to bkw"
   ]
  },
  {
   "cell_type": "code",
   "execution_count": null,
   "metadata": {},
   "outputs": [],
   "source": [
    "{\n",
    "    'َ': 'a',\n",
    "    'ُ': 'u',\n",
    "    'ِ': 'i',\n",
    "    'ّ': '~',\n",
    "    'ْ': 'o',\n",
    "    'ٓ': '^',\n",
    "    'ٔ': '#',\n",
    "    'ٰ': '`',\n",
    "    'ً': 'F',\n",
    "    'ٌ': 'N',\n",
    "    'ٍ': 'K',\n",
    "    'ء': \"'\",\n",
    "    'أ': '>',\n",
    "    'ؤ': '&',\n",
    "    'إ': '<',\n",
    "    'ئ': '}',\n",
    "    'ا': 'A',\n",
    "    'ب': 'b',\n",
    "    'ة': 'p',\n",
    "    'ت': 't',\n",
    "    'ث': 'v',\n",
    "    'ج': 'j',\n",
    "    'ح': 'H',\n",
    "    'خ': 'x',\n",
    "    'د': 'd',\n",
    "    'ذ': '*',\n",
    "    'ر': 'r',\n",
    "    'ز': 'z',\n",
    "    'س': 's',\n",
    "    'ش': '$',\n",
    "    'ص': 'S',\n",
    "    'ض': 'D',\n",
    "    'ط': 'T',\n",
    "    'ظ': 'Z',\n",
    "    'ع': 'E',\n",
    "    'غ': 'g',\n",
    "    'ـ': '_',\n",
    "    'ف': 'f',\n",
    "    'ق': 'q',\n",
    "    'ك': 'k',\n",
    "    'ل': 'l',\n",
    "    'م': 'm',\n",
    "    'ن': 'n',\n",
    "    'ه': 'h',\n",
    "    'و': 'w',\n",
    "    'ى': 'Y',\n",
    "    'ي': 'y',\n",
    "    'ٱ': '{',\n",
    "    '۟': '@',\n",
    "    '۠': '\"',\n",
    "    'ۢ': '[',\n",
    "    'ۣ': ';',\n",
    "    'ۥ': ',',\n",
    "    'ۦ': '.',\n",
    "    'ۨ': '!',\n",
    "    '۪': '-',\n",
    "    '۫': '+',\n",
    "    '۬': '%',\n",
    "    'ۭ': ']'\n",
    "}"
   ]
  },
  {
   "cell_type": "code",
   "execution_count": null,
   "metadata": {},
   "outputs": [],
   "source": []
  },
  {
   "cell_type": "markdown",
   "metadata": {},
   "source": [
    "#"
   ]
  },
  {
   "cell_type": "code",
   "execution_count": 4,
   "metadata": {},
   "outputs": [
    {
     "data": {
      "text/plain": [
       "['lion']"
      ]
     },
     "execution_count": 4,
     "metadata": {},
     "output_type": "execute_result"
    }
   ],
   "source": [
    "import re\n",
    "wrdStrD={\n",
    "    \"mean\": \"Lions\"\n",
    "}\n",
    "stri = 'lion'\n",
    "\n",
    "engStrFound = re.findall(\n",
    "    \"(?<![a-zA-Z])\"\n",
    "    +\n",
    "    stri\n",
    "    +\n",
    "    \"(?![a-rt-zA-RT-Z])\"\n",
    "    ,\n",
    "    wrdStrD[\"mean\"].lower()\n",
    ")\n",
    "\n",
    "engStrFound"
   ]
  },
  {
   "cell_type": "code",
   "execution_count": 20,
   "metadata": {},
   "outputs": [
    {
     "name": "stdout",
     "output_type": "stream",
     "text": [
      "None\n",
      "arb bkwSch None\n",
      "True\n",
      "['بَعْل', 'baEol2', '1', 'Proper noun']\n",
      "{'Lemma': 'بَعْل', 'Buckwalter': 'baEol2', 'Frequency': '1', 'Part-of-speech': 'Proper noun'}\n"
     ]
    }
   ],
   "source": [
    "from qChronolyze import rtTrns\n",
    "rtTrns('baEol2','arb','bkwSch')\n",
    "\n",
    "import json\n",
    "with open('data/lemmata.json') as f:\n",
    "    lemm = json.loads(f.read())\n",
    "for lem in lemm:\n",
    "    if lemm[1] == 'baEol2':\n",
    "        print(lem)\n",
    "for lem in lemm:\n",
    "    if lem[1] == 'baEol2':\n",
    "        print(lem)\n",
    "import csv\n",
    "with open('data/lemmata.tsv') as f:\n",
    "    lemm2 = list(csv.DictReader(f, delimiter='\\t'))\n",
    "for lem in lemm2:\n",
    "    if lem[\"Buckwalter\"] == 'baEol2':\n",
    "        print(lem)\n"
   ]
  },
  {
   "cell_type": "code",
   "execution_count": null,
   "metadata": {},
   "outputs": [],
   "source": [
    "for i in range(1,39):\n",
    "    with open(f'/mnt/f/Documents/notes/Ref/umm.kitab/u.k.{i}.md', 'a') as f:\n",
    "        f.write('')"
   ]
  },
  {
   "cell_type": "markdown",
   "metadata": {},
   "source": [
    "# refactor"
   ]
  },
  {
   "cell_type": "code",
   "execution_count": 4,
   "metadata": {},
   "outputs": [],
   "source": [
    "import sys\n",
    "import os\n",
    "\n",
    "project_root = '/mnt/f/Documents/chhatak_companiganj/slot/sufi/Demus/qChronolyze'\n",
    "sys.path.append(project_root)"
   ]
  },
  {
   "cell_type": "code",
   "execution_count": 1,
   "metadata": {},
   "outputs": [
    {
     "name": "stdout",
     "output_type": "stream",
     "text": [
      "interactive\n"
     ]
    },
    {
     "data": {
      "application/vnd.jupyter.widget-view+json": {
       "model_id": "3ccb49dc47fa47c7bea72852ab1c2933",
       "version_major": 2,
       "version_minor": 0
      },
      "text/plain": [
       "Button(description='Finish Query', layout=Layout(width='auto'), style=ButtonStyle())"
      ]
     },
     "metadata": {},
     "output_type": "display_data"
    },
    {
     "data": {
      "application/vnd.jupyter.widget-view+json": {
       "model_id": "bab6e1e8aa394bf595bd14947bfdd3cb",
       "version_major": 2,
       "version_minor": 0
      },
      "text/plain": [
       "VBox(children=(VBox(children=(HBox(children=(Button(description='Enter Option of String Objects', style=Button…"
      ]
     },
     "metadata": {},
     "output_type": "display_data"
    }
   ],
   "source": [
    "from qChronolyze import querize\n",
    "\n",
    "querize(\n",
    "    []\n",
    ")"
   ]
  }
 ],
 "metadata": {
  "language_info": {
   "name": "python"
  }
 },
 "nbformat": 4,
 "nbformat_minor": 2
}
